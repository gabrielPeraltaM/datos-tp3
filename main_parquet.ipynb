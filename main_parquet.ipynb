{
  "cells": [
    {
      "cell_type": "code",
      "execution_count": 6,
      "metadata": {
        "id": "dWUw54M95qwB"
      },
      "outputs": [],
      "source": [
        "import numpy as np \n",
        "import pandas as pd\n",
        "import seaborn as sns\n",
        "import argparse\n",
        "import sklearn.utils.random as sk_random"
      ]
    },
    {
      "cell_type": "markdown",
      "metadata": {
        "id": "Ve-9eVZX5qwC"
      },
      "source": [
        "## Introducción al dataset"
      ]
    },
    {
      "cell_type": "markdown",
      "metadata": {
        "id": "RsUUmiGx5qwE"
      },
      "source": [
        "El dataset contiene 5531451 filas, cada una correspondiente a la información de un cliente de la empresa American Express con 190 columnas que brindan información de los clientes. Por motivos de privacidad el significado de los valores de dichas columnas no es brindado por la empresa. Sin embargo en lugar del significado de cada columna se nos proporciona las siguientes categorías según el nombre de las mismas:\n",
        "- D_* = Variables relacionadas a la delincuencia\n",
        "- S_* = Variables relacionadas a los gastos\n",
        "- P_* = Variables relacionadas a los pagos\n",
        "- B_* = Variables de balances\n",
        "- R_* = Variables de riesgo\n",
        "\n",
        "Por último se aclara que todas las variables numéricas están normalizadas y que las siguientes variables son categóricas:\n",
        "\n",
        "- ['B_30', 'B_38', 'D_114', 'D_116', 'D_117', 'D_120', 'D_126', 'D_63', 'D_64', 'D_66', 'D_68']\n"
      ]
    },
    {
      "cell_type": "markdown",
      "metadata": {
        "id": "nHQKbqev5qwF"
      },
      "source": [
        "## Reducción del dataset"
      ]
    },
    {
      "cell_type": "markdown",
      "metadata": {
        "id": "0iQZ99KV5qwG"
      },
      "source": [
        "Debido a la gran cantidad de información del dataset y por lo tanto peso del mismo, se redujo la cantidad de filas en un 5%. De esta forma y redondeando el resultado se plantea trabajar con un dataset que contenga unas 276572 filas.\n",
        "El procedimiento utilizado para la reducción del dataset es el provisto por la función sample_without_replacement de la libreria scikit-learn. Como parámetros de la misma se utilizó:\n",
        "- La cantidad de filas totales del dataset(n_population) = 5531451\n",
        "- La cantidad de filas que se desean obtener(n_samples) = 276572\n",
        "- Valor semilla (random_state) = 576\n",
        "\n",
        "*Aclaración: Este último valor se calculó como el resto obtenido al realizar la siguiente división con la multiplicación de una constante por el número del grupo (11) como numerador y a 1000 como denominador $\\frac{31416 * 11}{1000}$*"
      ]
    },
    {
      "cell_type": "markdown",
      "metadata": {
        "id": "ySCZOXcI5qwG"
      },
      "source": [
        "### a) Visualización de los datos:"
      ]
    },
    {
      "cell_type": "code",
      "execution_count": 7,
      "metadata": {
        "colab": {
          "base_uri": "https://localhost:8080/"
        },
        "id": "plEglN7J5qwH",
        "outputId": "2b1ce6a6-2126-4184-c5be-44e4fe5662e8"
      },
      "outputs": [
        {
          "name": "stdout",
          "output_type": "stream",
          "text": [
            "Mounted at /content/gdrive\n"
          ]
        }
      ],
      "source": [
        "from google.colab import drive\n",
        "drive.mount('/content/gdrive')\n",
        "df_reducido = pd.read_parquet(\"gdrive/My Drive/train_data_reducido\")"
      ]
    },
    {
      "cell_type": "code",
      "execution_count": 8,
      "metadata": {
        "colab": {
          "base_uri": "https://localhost:8080/"
        },
        "id": "aVfUN1s95qwI",
        "outputId": "8d5c848c-878b-4a76-a0aa-870e221bbd28"
      },
      "outputs": [
        {
          "data": {
            "text/plain": [
              "(276572, 191)"
            ]
          },
          "execution_count": 8,
          "metadata": {},
          "output_type": "execute_result"
        }
      ],
      "source": [
        "df_reducido.shape"
      ]
    },
    {
      "cell_type": "code",
      "execution_count": 9,
      "metadata": {
        "colab": {
          "base_uri": "https://localhost:8080/",
          "height": 661
        },
        "id": "3rJrBiwD5qwJ",
        "outputId": "f2e9b8e4-3e70-4b42-fe6d-6eb6480456e0"
      },
      "outputs": [
        {
          "data": {
            "text/html": [
              "\n",
              "  <div id=\"df-647aecc7-882f-4f04-8feb-9818787368d1\">\n",
              "    <div class=\"colab-df-container\">\n",
              "      <div>\n",
              "<style scoped>\n",
              "    .dataframe tbody tr th:only-of-type {\n",
              "        vertical-align: middle;\n",
              "    }\n",
              "\n",
              "    .dataframe tbody tr th {\n",
              "        vertical-align: top;\n",
              "    }\n",
              "\n",
              "    .dataframe thead th {\n",
              "        text-align: right;\n",
              "    }\n",
              "</style>\n",
              "<table border=\"1\" class=\"dataframe\">\n",
              "  <thead>\n",
              "    <tr style=\"text-align: right;\">\n",
              "      <th></th>\n",
              "      <th>customer_ID</th>\n",
              "      <th>S_2</th>\n",
              "      <th>P_2</th>\n",
              "      <th>D_39</th>\n",
              "      <th>B_1</th>\n",
              "      <th>B_2</th>\n",
              "      <th>R_1</th>\n",
              "      <th>S_3</th>\n",
              "      <th>D_41</th>\n",
              "      <th>B_3</th>\n",
              "      <th>...</th>\n",
              "      <th>D_137</th>\n",
              "      <th>D_138</th>\n",
              "      <th>D_139</th>\n",
              "      <th>D_140</th>\n",
              "      <th>D_141</th>\n",
              "      <th>D_142</th>\n",
              "      <th>D_143</th>\n",
              "      <th>D_144</th>\n",
              "      <th>D_145</th>\n",
              "      <th>target</th>\n",
              "    </tr>\n",
              "  </thead>\n",
              "  <tbody>\n",
              "    <tr>\n",
              "      <th>9</th>\n",
              "      <td>0000099d6bd597052cdcda90ffabf56573fe9d7c79be5f...</td>\n",
              "      <td>2017-12-04</td>\n",
              "      <td>0.868580</td>\n",
              "      <td>0.001082</td>\n",
              "      <td>0.001930</td>\n",
              "      <td>1.007504</td>\n",
              "      <td>0.001772</td>\n",
              "      <td>0.100470</td>\n",
              "      <td>0.004626</td>\n",
              "      <td>0.006073</td>\n",
              "      <td>...</td>\n",
              "      <td>NaN</td>\n",
              "      <td>NaN</td>\n",
              "      <td>0.003611</td>\n",
              "      <td>0.009607</td>\n",
              "      <td>0.007266</td>\n",
              "      <td>NaN</td>\n",
              "      <td>0.008763</td>\n",
              "      <td>0.004753</td>\n",
              "      <td>0.009068</td>\n",
              "      <td>0</td>\n",
              "    </tr>\n",
              "    <tr>\n",
              "      <th>88</th>\n",
              "      <td>000098081fde4fd64bc4d503a5d6f86a0aedc425c96f52...</td>\n",
              "      <td>2018-01-11</td>\n",
              "      <td>0.414444</td>\n",
              "      <td>0.006512</td>\n",
              "      <td>0.100998</td>\n",
              "      <td>0.055903</td>\n",
              "      <td>0.000040</td>\n",
              "      <td>0.333741</td>\n",
              "      <td>0.007850</td>\n",
              "      <td>0.174713</td>\n",
              "      <td>...</td>\n",
              "      <td>NaN</td>\n",
              "      <td>NaN</td>\n",
              "      <td>0.002959</td>\n",
              "      <td>0.006169</td>\n",
              "      <td>0.007130</td>\n",
              "      <td>NaN</td>\n",
              "      <td>0.002450</td>\n",
              "      <td>0.007935</td>\n",
              "      <td>0.009131</td>\n",
              "      <td>0</td>\n",
              "    </tr>\n",
              "    <tr>\n",
              "      <th>113</th>\n",
              "      <td>0000f99513770170a1aba690daeeb8a96da4a39f11fc27...</td>\n",
              "      <td>2017-12-17</td>\n",
              "      <td>0.408131</td>\n",
              "      <td>0.097428</td>\n",
              "      <td>0.932366</td>\n",
              "      <td>0.020943</td>\n",
              "      <td>0.008163</td>\n",
              "      <td>0.166899</td>\n",
              "      <td>0.004582</td>\n",
              "      <td>1.163413</td>\n",
              "      <td>...</td>\n",
              "      <td>NaN</td>\n",
              "      <td>NaN</td>\n",
              "      <td>1.002598</td>\n",
              "      <td>0.000091</td>\n",
              "      <td>0.870157</td>\n",
              "      <td>0.173529</td>\n",
              "      <td>1.003708</td>\n",
              "      <td>0.007586</td>\n",
              "      <td>0.733164</td>\n",
              "      <td>1</td>\n",
              "    </tr>\n",
              "    <tr>\n",
              "      <th>129</th>\n",
              "      <td>00013181a0c5fc8f1ea38cd2b90fe8ad2fa8cad9d9f13e...</td>\n",
              "      <td>2018-03-16</td>\n",
              "      <td>0.359892</td>\n",
              "      <td>0.009807</td>\n",
              "      <td>0.090679</td>\n",
              "      <td>0.818198</td>\n",
              "      <td>0.507561</td>\n",
              "      <td>0.182016</td>\n",
              "      <td>0.002933</td>\n",
              "      <td>0.009862</td>\n",
              "      <td>...</td>\n",
              "      <td>NaN</td>\n",
              "      <td>NaN</td>\n",
              "      <td>0.009808</td>\n",
              "      <td>0.002212</td>\n",
              "      <td>0.004070</td>\n",
              "      <td>NaN</td>\n",
              "      <td>0.005430</td>\n",
              "      <td>0.007106</td>\n",
              "      <td>0.006270</td>\n",
              "      <td>1</td>\n",
              "    </tr>\n",
              "    <tr>\n",
              "      <th>137</th>\n",
              "      <td>00013c6e1cec7c21bede7cb319f1e28eb994f5625257f4...</td>\n",
              "      <td>2017-07-01</td>\n",
              "      <td>0.311111</td>\n",
              "      <td>0.592908</td>\n",
              "      <td>0.096867</td>\n",
              "      <td>0.040793</td>\n",
              "      <td>0.002294</td>\n",
              "      <td>0.460324</td>\n",
              "      <td>0.009938</td>\n",
              "      <td>0.223131</td>\n",
              "      <td>...</td>\n",
              "      <td>NaN</td>\n",
              "      <td>NaN</td>\n",
              "      <td>0.001164</td>\n",
              "      <td>0.001779</td>\n",
              "      <td>0.004852</td>\n",
              "      <td>NaN</td>\n",
              "      <td>0.006252</td>\n",
              "      <td>0.008367</td>\n",
              "      <td>0.005460</td>\n",
              "      <td>1</td>\n",
              "    </tr>\n",
              "    <tr>\n",
              "      <th>...</th>\n",
              "      <td>...</td>\n",
              "      <td>...</td>\n",
              "      <td>...</td>\n",
              "      <td>...</td>\n",
              "      <td>...</td>\n",
              "      <td>...</td>\n",
              "      <td>...</td>\n",
              "      <td>...</td>\n",
              "      <td>...</td>\n",
              "      <td>...</td>\n",
              "      <td>...</td>\n",
              "      <td>...</td>\n",
              "      <td>...</td>\n",
              "      <td>...</td>\n",
              "      <td>...</td>\n",
              "      <td>...</td>\n",
              "      <td>...</td>\n",
              "      <td>...</td>\n",
              "      <td>...</td>\n",
              "      <td>...</td>\n",
              "      <td>...</td>\n",
              "    </tr>\n",
              "    <tr>\n",
              "      <th>5531343</th>\n",
              "      <td>fffec7d7e1ca804c86f1ffdaac389c33f8039ed35bf412...</td>\n",
              "      <td>2018-02-17</td>\n",
              "      <td>0.703939</td>\n",
              "      <td>0.004059</td>\n",
              "      <td>0.008331</td>\n",
              "      <td>0.811022</td>\n",
              "      <td>0.002205</td>\n",
              "      <td>NaN</td>\n",
              "      <td>0.003142</td>\n",
              "      <td>0.007565</td>\n",
              "      <td>...</td>\n",
              "      <td>NaN</td>\n",
              "      <td>NaN</td>\n",
              "      <td>0.001089</td>\n",
              "      <td>0.005771</td>\n",
              "      <td>0.000978</td>\n",
              "      <td>NaN</td>\n",
              "      <td>0.003419</td>\n",
              "      <td>0.000885</td>\n",
              "      <td>0.009094</td>\n",
              "      <td>0</td>\n",
              "    </tr>\n",
              "    <tr>\n",
              "      <th>5531392</th>\n",
              "      <td>ffff41c8a52833b56430603969b9ca48d208e7c192c6a4...</td>\n",
              "      <td>2017-09-09</td>\n",
              "      <td>0.895553</td>\n",
              "      <td>0.002237</td>\n",
              "      <td>0.028992</td>\n",
              "      <td>1.003776</td>\n",
              "      <td>0.006711</td>\n",
              "      <td>0.140112</td>\n",
              "      <td>0.007834</td>\n",
              "      <td>0.002409</td>\n",
              "      <td>...</td>\n",
              "      <td>NaN</td>\n",
              "      <td>NaN</td>\n",
              "      <td>0.009965</td>\n",
              "      <td>0.007940</td>\n",
              "      <td>0.002403</td>\n",
              "      <td>NaN</td>\n",
              "      <td>0.001129</td>\n",
              "      <td>0.008662</td>\n",
              "      <td>0.007075</td>\n",
              "      <td>0</td>\n",
              "    </tr>\n",
              "    <tr>\n",
              "      <th>5531413</th>\n",
              "      <td>ffff9984b999fccb2b6127635ed0736dda94e544e67e02...</td>\n",
              "      <td>2017-04-23</td>\n",
              "      <td>0.780039</td>\n",
              "      <td>0.001232</td>\n",
              "      <td>0.162431</td>\n",
              "      <td>0.004150</td>\n",
              "      <td>0.000303</td>\n",
              "      <td>0.086377</td>\n",
              "      <td>0.629556</td>\n",
              "      <td>0.004347</td>\n",
              "      <td>...</td>\n",
              "      <td>NaN</td>\n",
              "      <td>NaN</td>\n",
              "      <td>0.000827</td>\n",
              "      <td>0.004853</td>\n",
              "      <td>0.009224</td>\n",
              "      <td>NaN</td>\n",
              "      <td>0.007942</td>\n",
              "      <td>0.002397</td>\n",
              "      <td>0.008535</td>\n",
              "      <td>0</td>\n",
              "    </tr>\n",
              "    <tr>\n",
              "      <th>5531422</th>\n",
              "      <td>ffff9984b999fccb2b6127635ed0736dda94e544e67e02...</td>\n",
              "      <td>2018-01-11</td>\n",
              "      <td>0.794548</td>\n",
              "      <td>0.384731</td>\n",
              "      <td>0.027101</td>\n",
              "      <td>1.001420</td>\n",
              "      <td>0.005396</td>\n",
              "      <td>0.075824</td>\n",
              "      <td>0.000377</td>\n",
              "      <td>0.004891</td>\n",
              "      <td>...</td>\n",
              "      <td>NaN</td>\n",
              "      <td>NaN</td>\n",
              "      <td>NaN</td>\n",
              "      <td>0.000498</td>\n",
              "      <td>NaN</td>\n",
              "      <td>NaN</td>\n",
              "      <td>NaN</td>\n",
              "      <td>0.004904</td>\n",
              "      <td>NaN</td>\n",
              "      <td>0</td>\n",
              "    </tr>\n",
              "    <tr>\n",
              "      <th>5531442</th>\n",
              "      <td>fffff1d38b785cef84adeace64f8f83db3a0c31e8d92ea...</td>\n",
              "      <td>2017-07-20</td>\n",
              "      <td>0.965709</td>\n",
              "      <td>0.207843</td>\n",
              "      <td>0.042782</td>\n",
              "      <td>0.279508</td>\n",
              "      <td>0.001088</td>\n",
              "      <td>0.020815</td>\n",
              "      <td>0.006460</td>\n",
              "      <td>0.053584</td>\n",
              "      <td>...</td>\n",
              "      <td>NaN</td>\n",
              "      <td>NaN</td>\n",
              "      <td>0.009120</td>\n",
              "      <td>0.001992</td>\n",
              "      <td>0.004616</td>\n",
              "      <td>NaN</td>\n",
              "      <td>0.004960</td>\n",
              "      <td>0.009627</td>\n",
              "      <td>0.009150</td>\n",
              "      <td>0</td>\n",
              "    </tr>\n",
              "  </tbody>\n",
              "</table>\n",
              "<p>276572 rows × 191 columns</p>\n",
              "</div>\n",
              "      <button class=\"colab-df-convert\" onclick=\"convertToInteractive('df-647aecc7-882f-4f04-8feb-9818787368d1')\"\n",
              "              title=\"Convert this dataframe to an interactive table.\"\n",
              "              style=\"display:none;\">\n",
              "        \n",
              "  <svg xmlns=\"http://www.w3.org/2000/svg\" height=\"24px\"viewBox=\"0 0 24 24\"\n",
              "       width=\"24px\">\n",
              "    <path d=\"M0 0h24v24H0V0z\" fill=\"none\"/>\n",
              "    <path d=\"M18.56 5.44l.94 2.06.94-2.06 2.06-.94-2.06-.94-.94-2.06-.94 2.06-2.06.94zm-11 1L8.5 8.5l.94-2.06 2.06-.94-2.06-.94L8.5 2.5l-.94 2.06-2.06.94zm10 10l.94 2.06.94-2.06 2.06-.94-2.06-.94-.94-2.06-.94 2.06-2.06.94z\"/><path d=\"M17.41 7.96l-1.37-1.37c-.4-.4-.92-.59-1.43-.59-.52 0-1.04.2-1.43.59L10.3 9.45l-7.72 7.72c-.78.78-.78 2.05 0 2.83L4 21.41c.39.39.9.59 1.41.59.51 0 1.02-.2 1.41-.59l7.78-7.78 2.81-2.81c.8-.78.8-2.07 0-2.86zM5.41 20L4 18.59l7.72-7.72 1.47 1.35L5.41 20z\"/>\n",
              "  </svg>\n",
              "      </button>\n",
              "      \n",
              "  <style>\n",
              "    .colab-df-container {\n",
              "      display:flex;\n",
              "      flex-wrap:wrap;\n",
              "      gap: 12px;\n",
              "    }\n",
              "\n",
              "    .colab-df-convert {\n",
              "      background-color: #E8F0FE;\n",
              "      border: none;\n",
              "      border-radius: 50%;\n",
              "      cursor: pointer;\n",
              "      display: none;\n",
              "      fill: #1967D2;\n",
              "      height: 32px;\n",
              "      padding: 0 0 0 0;\n",
              "      width: 32px;\n",
              "    }\n",
              "\n",
              "    .colab-df-convert:hover {\n",
              "      background-color: #E2EBFA;\n",
              "      box-shadow: 0px 1px 2px rgba(60, 64, 67, 0.3), 0px 1px 3px 1px rgba(60, 64, 67, 0.15);\n",
              "      fill: #174EA6;\n",
              "    }\n",
              "\n",
              "    [theme=dark] .colab-df-convert {\n",
              "      background-color: #3B4455;\n",
              "      fill: #D2E3FC;\n",
              "    }\n",
              "\n",
              "    [theme=dark] .colab-df-convert:hover {\n",
              "      background-color: #434B5C;\n",
              "      box-shadow: 0px 1px 3px 1px rgba(0, 0, 0, 0.15);\n",
              "      filter: drop-shadow(0px 1px 2px rgba(0, 0, 0, 0.3));\n",
              "      fill: #FFFFFF;\n",
              "    }\n",
              "  </style>\n",
              "\n",
              "      <script>\n",
              "        const buttonEl =\n",
              "          document.querySelector('#df-647aecc7-882f-4f04-8feb-9818787368d1 button.colab-df-convert');\n",
              "        buttonEl.style.display =\n",
              "          google.colab.kernel.accessAllowed ? 'block' : 'none';\n",
              "\n",
              "        async function convertToInteractive(key) {\n",
              "          const element = document.querySelector('#df-647aecc7-882f-4f04-8feb-9818787368d1');\n",
              "          const dataTable =\n",
              "            await google.colab.kernel.invokeFunction('convertToInteractive',\n",
              "                                                     [key], {});\n",
              "          if (!dataTable) return;\n",
              "\n",
              "          const docLinkHtml = 'Like what you see? Visit the ' +\n",
              "            '<a target=\"_blank\" href=https://colab.research.google.com/notebooks/data_table.ipynb>data table notebook</a>'\n",
              "            + ' to learn more about interactive tables.';\n",
              "          element.innerHTML = '';\n",
              "          dataTable['output_type'] = 'display_data';\n",
              "          await google.colab.output.renderOutput(dataTable, element);\n",
              "          const docLink = document.createElement('div');\n",
              "          docLink.innerHTML = docLinkHtml;\n",
              "          element.appendChild(docLink);\n",
              "        }\n",
              "      </script>\n",
              "    </div>\n",
              "  </div>\n",
              "  "
            ],
            "text/plain": [
              "                                               customer_ID         S_2  \\\n",
              "9        0000099d6bd597052cdcda90ffabf56573fe9d7c79be5f...  2017-12-04   \n",
              "88       000098081fde4fd64bc4d503a5d6f86a0aedc425c96f52...  2018-01-11   \n",
              "113      0000f99513770170a1aba690daeeb8a96da4a39f11fc27...  2017-12-17   \n",
              "129      00013181a0c5fc8f1ea38cd2b90fe8ad2fa8cad9d9f13e...  2018-03-16   \n",
              "137      00013c6e1cec7c21bede7cb319f1e28eb994f5625257f4...  2017-07-01   \n",
              "...                                                    ...         ...   \n",
              "5531343  fffec7d7e1ca804c86f1ffdaac389c33f8039ed35bf412...  2018-02-17   \n",
              "5531392  ffff41c8a52833b56430603969b9ca48d208e7c192c6a4...  2017-09-09   \n",
              "5531413  ffff9984b999fccb2b6127635ed0736dda94e544e67e02...  2017-04-23   \n",
              "5531422  ffff9984b999fccb2b6127635ed0736dda94e544e67e02...  2018-01-11   \n",
              "5531442  fffff1d38b785cef84adeace64f8f83db3a0c31e8d92ea...  2017-07-20   \n",
              "\n",
              "              P_2      D_39       B_1       B_2       R_1       S_3      D_41  \\\n",
              "9        0.868580  0.001082  0.001930  1.007504  0.001772  0.100470  0.004626   \n",
              "88       0.414444  0.006512  0.100998  0.055903  0.000040  0.333741  0.007850   \n",
              "113      0.408131  0.097428  0.932366  0.020943  0.008163  0.166899  0.004582   \n",
              "129      0.359892  0.009807  0.090679  0.818198  0.507561  0.182016  0.002933   \n",
              "137      0.311111  0.592908  0.096867  0.040793  0.002294  0.460324  0.009938   \n",
              "...           ...       ...       ...       ...       ...       ...       ...   \n",
              "5531343  0.703939  0.004059  0.008331  0.811022  0.002205       NaN  0.003142   \n",
              "5531392  0.895553  0.002237  0.028992  1.003776  0.006711  0.140112  0.007834   \n",
              "5531413  0.780039  0.001232  0.162431  0.004150  0.000303  0.086377  0.629556   \n",
              "5531422  0.794548  0.384731  0.027101  1.001420  0.005396  0.075824  0.000377   \n",
              "5531442  0.965709  0.207843  0.042782  0.279508  0.001088  0.020815  0.006460   \n",
              "\n",
              "              B_3  ...  D_137  D_138     D_139     D_140     D_141     D_142  \\\n",
              "9        0.006073  ...    NaN    NaN  0.003611  0.009607  0.007266       NaN   \n",
              "88       0.174713  ...    NaN    NaN  0.002959  0.006169  0.007130       NaN   \n",
              "113      1.163413  ...    NaN    NaN  1.002598  0.000091  0.870157  0.173529   \n",
              "129      0.009862  ...    NaN    NaN  0.009808  0.002212  0.004070       NaN   \n",
              "137      0.223131  ...    NaN    NaN  0.001164  0.001779  0.004852       NaN   \n",
              "...           ...  ...    ...    ...       ...       ...       ...       ...   \n",
              "5531343  0.007565  ...    NaN    NaN  0.001089  0.005771  0.000978       NaN   \n",
              "5531392  0.002409  ...    NaN    NaN  0.009965  0.007940  0.002403       NaN   \n",
              "5531413  0.004347  ...    NaN    NaN  0.000827  0.004853  0.009224       NaN   \n",
              "5531422  0.004891  ...    NaN    NaN       NaN  0.000498       NaN       NaN   \n",
              "5531442  0.053584  ...    NaN    NaN  0.009120  0.001992  0.004616       NaN   \n",
              "\n",
              "            D_143     D_144     D_145  target  \n",
              "9        0.008763  0.004753  0.009068       0  \n",
              "88       0.002450  0.007935  0.009131       0  \n",
              "113      1.003708  0.007586  0.733164       1  \n",
              "129      0.005430  0.007106  0.006270       1  \n",
              "137      0.006252  0.008367  0.005460       1  \n",
              "...           ...       ...       ...     ...  \n",
              "5531343  0.003419  0.000885  0.009094       0  \n",
              "5531392  0.001129  0.008662  0.007075       0  \n",
              "5531413  0.007942  0.002397  0.008535       0  \n",
              "5531422       NaN  0.004904       NaN       0  \n",
              "5531442  0.004960  0.009627  0.009150       0  \n",
              "\n",
              "[276572 rows x 191 columns]"
            ]
          },
          "execution_count": 9,
          "metadata": {},
          "output_type": "execute_result"
        }
      ],
      "source": [
        "df_reducido"
      ]
    },
    {
      "cell_type": "code",
      "execution_count": 10,
      "metadata": {
        "colab": {
          "base_uri": "https://localhost:8080/"
        },
        "id": "abu6DkcF5qwJ",
        "outputId": "d958bfe5-186c-4678-b72d-5b8529baaff8"
      },
      "outputs": [
        {
          "data": {
            "text/plain": [
              "0    207712\n",
              "1     68860\n",
              "Name: target, dtype: int64"
            ]
          },
          "execution_count": 10,
          "metadata": {},
          "output_type": "execute_result"
        }
      ],
      "source": [
        "df_reducido['target'].value_counts()"
      ]
    },
    {
      "cell_type": "markdown",
      "metadata": {
        "id": "N61bvNBP5qwK"
      },
      "source": [
        "### Tipos de variables"
      ]
    },
    {
      "cell_type": "code",
      "execution_count": 11,
      "metadata": {
        "colab": {
          "base_uri": "https://localhost:8080/"
        },
        "id": "j7sn_rkw5qwK",
        "outputId": "20bede81-423f-4486-e154-ad2d0a54bc3c"
      },
      "outputs": [
        {
          "data": {
            "text/plain": [
              "float64    185\n",
              "object       4\n",
              "int64        2\n",
              "dtype: int64"
            ]
          },
          "execution_count": 11,
          "metadata": {},
          "output_type": "execute_result"
        }
      ],
      "source": [
        "df_reducido.dtypes.value_counts()"
      ]
    },
    {
      "cell_type": "markdown",
      "metadata": {
        "id": "4UsCV9ug5qwL"
      },
      "source": [
        "Analizamos el tipo de las variables para conocer más de las mismas y determinar si serán de utilidad, o en su defecto si se debe realizar algún procedimiento para su modificación o eliminación.\n",
        "Sabemos que las variables normalizadas pertenecen a la categoría “float64” y resulta de interés el análisis de las variables de tipo “object” u objetos y las variables “int” o enteras. \n",
        "- Las variables de tipo objeto son las columnas “customer_ID”,”S_2”,”D_63” y “D_64”\n",
        "- Las variables de tipo entero son las columnas “target” y “B_31”\n",
        "\n",
        "Se mostraran sus valores y se decidirá en base a los mismos que acciones tomar al momento de modificar el dataset."
      ]
    },
    {
      "cell_type": "code",
      "execution_count": 12,
      "metadata": {
        "colab": {
          "base_uri": "https://localhost:8080/"
        },
        "id": "40XTTLmN5qwL",
        "outputId": "0fb75435-5943-4a79-c82e-923e784cb2c4"
      },
      "outputs": [
        {
          "data": {
            "text/plain": [
              "9          2017-12-04\n",
              "88         2018-01-11\n",
              "113        2017-12-17\n",
              "129        2018-03-16\n",
              "137        2017-07-01\n",
              "              ...    \n",
              "5531343    2018-02-17\n",
              "5531392    2017-09-09\n",
              "5531413    2017-04-23\n",
              "5531422    2018-01-11\n",
              "5531442    2017-07-20\n",
              "Name: S_2, Length: 276572, dtype: object"
            ]
          },
          "execution_count": 12,
          "metadata": {},
          "output_type": "execute_result"
        }
      ],
      "source": [
        "df_reducido.loc[:,'S_2'] "
      ]
    },
    {
      "cell_type": "code",
      "execution_count": 13,
      "metadata": {
        "colab": {
          "base_uri": "https://localhost:8080/"
        },
        "id": "Qyxt7CWo5qwM",
        "outputId": "1f02aa18-0eec-47b8-8136-6a873801afa4"
      },
      "outputs": [
        {
          "data": {
            "text/plain": [
              "0"
            ]
          },
          "execution_count": 13,
          "metadata": {},
          "output_type": "execute_result"
        }
      ],
      "source": [
        "df_reducido['S_2'].isna().sum()"
      ]
    },
    {
      "cell_type": "code",
      "execution_count": 14,
      "metadata": {
        "colab": {
          "base_uri": "https://localhost:8080/"
        },
        "id": "iE_VCV505qwM",
        "outputId": "32e23097-1739-45ec-b191-5c0c6934ab16"
      },
      "outputs": [
        {
          "data": {
            "text/plain": [
              "9          1\n",
              "88         1\n",
              "113        1\n",
              "129        1\n",
              "137        1\n",
              "          ..\n",
              "5531343    1\n",
              "5531392    1\n",
              "5531413    1\n",
              "5531422    1\n",
              "5531442    1\n",
              "Name: B_31, Length: 276572, dtype: int64"
            ]
          },
          "execution_count": 14,
          "metadata": {},
          "output_type": "execute_result"
        }
      ],
      "source": [
        "df_reducido.loc[:,'B_31']"
      ]
    },
    {
      "cell_type": "code",
      "execution_count": 15,
      "metadata": {
        "colab": {
          "base_uri": "https://localhost:8080/"
        },
        "id": "44GlOLhu5qwM",
        "outputId": "f0147f68-b925-4da9-9508-3799dba0eb12"
      },
      "outputs": [
        {
          "data": {
            "text/plain": [
              "0"
            ]
          },
          "execution_count": 15,
          "metadata": {},
          "output_type": "execute_result"
        }
      ],
      "source": [
        "df_reducido['B_31'].isna().sum()"
      ]
    },
    {
      "cell_type": "code",
      "execution_count": 16,
      "metadata": {
        "colab": {
          "base_uri": "https://localhost:8080/"
        },
        "id": "QZrI4uMq5qwN",
        "outputId": "9963ce33-5329-4d7b-a007-111c825d00db"
      },
      "outputs": [
        {
          "data": {
            "text/plain": [
              "9          CR\n",
              "88         CO\n",
              "113        CO\n",
              "129        CO\n",
              "137        CO\n",
              "           ..\n",
              "5531343    CO\n",
              "5531392    CO\n",
              "5531413    CO\n",
              "5531422    CO\n",
              "5531442    CL\n",
              "Name: D_63, Length: 276572, dtype: object"
            ]
          },
          "execution_count": 16,
          "metadata": {},
          "output_type": "execute_result"
        }
      ],
      "source": [
        "df_reducido.loc[:,'D_63']"
      ]
    },
    {
      "cell_type": "code",
      "execution_count": 17,
      "metadata": {
        "colab": {
          "base_uri": "https://localhost:8080/"
        },
        "id": "uIsCSr_M5qwN",
        "outputId": "d470edd0-c48d-4a95-87c1-87a33ba7f471"
      },
      "outputs": [
        {
          "data": {
            "text/plain": [
              "0"
            ]
          },
          "execution_count": 17,
          "metadata": {},
          "output_type": "execute_result"
        }
      ],
      "source": [
        "df_reducido['D_63'].isna().sum()"
      ]
    },
    {
      "cell_type": "code",
      "execution_count": 18,
      "metadata": {
        "colab": {
          "base_uri": "https://localhost:8080/"
        },
        "id": "QRr0QUER5qwN",
        "outputId": "09d1d7e0-03cc-42b9-dc0e-7afa204edc5a"
      },
      "outputs": [
        {
          "data": {
            "text/plain": [
              "9          O\n",
              "88         R\n",
              "113        U\n",
              "129        O\n",
              "137        O\n",
              "          ..\n",
              "5531343    R\n",
              "5531392    U\n",
              "5531413    U\n",
              "5531422    U\n",
              "5531442    O\n",
              "Name: D_64, Length: 276572, dtype: object"
            ]
          },
          "execution_count": 18,
          "metadata": {},
          "output_type": "execute_result"
        }
      ],
      "source": [
        "df_reducido.loc[:,'D_64']"
      ]
    },
    {
      "cell_type": "code",
      "execution_count": 19,
      "metadata": {
        "colab": {
          "base_uri": "https://localhost:8080/"
        },
        "id": "YMSi2q0C5qwO",
        "outputId": "a6a94c48-1495-4c36-fbb2-5dd96a2bebdb"
      },
      "outputs": [
        {
          "data": {
            "text/plain": [
              "10966"
            ]
          },
          "execution_count": 19,
          "metadata": {},
          "output_type": "execute_result"
        }
      ],
      "source": [
        "df_reducido['D_64'].isna().sum()"
      ]
    },
    {
      "cell_type": "markdown",
      "metadata": {
        "id": "LOu_Q6x55qwO"
      },
      "source": [
        "### Categorias de las variables"
      ]
    },
    {
      "cell_type": "code",
      "execution_count": 20,
      "metadata": {
        "colab": {
          "base_uri": "https://localhost:8080/"
        },
        "id": "PcB6x42E5qwP",
        "outputId": "43292b26-f4e0-4e4d-bd41-2477247a2879"
      },
      "outputs": [
        {
          "data": {
            "text/plain": [
              "[96, 22, 3, 40, 28]"
            ]
          },
          "execution_count": 20,
          "metadata": {},
          "output_type": "execute_result"
        }
      ],
      "source": [
        "columns = df_reducido.columns\n",
        "\n",
        "sum_types = [0,0,0,0,0] # [type_D ,type_S,type_P,type_B, type_R ]\n",
        "\n",
        "for column in columns:\n",
        "    if (column[0] == 'D'):\n",
        "        sum_types[0] += 1\n",
        "    elif (column[0] == 'S'):\n",
        "        sum_types[1] += 1\n",
        "    elif (column[0] == 'P'):\n",
        "        sum_types[2] += 1\n",
        "    elif (column[0] == 'B'):\n",
        "        sum_types[3] += 1\n",
        "    elif (column[0] == 'R'):\n",
        "        sum_types[4] += 1\n",
        "sum_types"
      ]
    },
    {
      "cell_type": "markdown",
      "metadata": {
        "id": "6H8l8nm25qwP"
      },
      "source": [
        "Observamos que en nuestro dataset reducido tenemos cantidades significativamente diferentes de cada tipo de variable, siendo 96 variables relacionadas a la delincuencia, 22 relacionadas a los gastos, 3 relacionadas a los pagos, 40 de balances y 28 variables de riesgo. Sumando un total 189 columnas donde se excluyen a dos variables ('customer_ID' y 'target') para completar las 191 variables tal y como se mostró anteriormente al realizar shape sobre el dataset."
      ]
    },
    {
      "cell_type": "code",
      "execution_count": 21,
      "metadata": {
        "colab": {
          "base_uri": "https://localhost:8080/",
          "height": 0
        },
        "id": "OHlXiRxm5qwP",
        "outputId": "1a283a51-27f6-4f48-c120-07938dd18be7"
      },
      "outputs": [
        {
          "data": {
            "text/html": [
              "\n",
              "  <div id=\"df-5f98062a-d818-426f-9d5a-7aaf15eff64f\">\n",
              "    <div class=\"colab-df-container\">\n",
              "      <div>\n",
              "<style scoped>\n",
              "    .dataframe tbody tr th:only-of-type {\n",
              "        vertical-align: middle;\n",
              "    }\n",
              "\n",
              "    .dataframe tbody tr th {\n",
              "        vertical-align: top;\n",
              "    }\n",
              "\n",
              "    .dataframe thead th {\n",
              "        text-align: right;\n",
              "    }\n",
              "</style>\n",
              "<table border=\"1\" class=\"dataframe\">\n",
              "  <thead>\n",
              "    <tr style=\"text-align: right;\">\n",
              "      <th></th>\n",
              "      <th>B_1</th>\n",
              "      <th>B_10</th>\n",
              "      <th>B_11</th>\n",
              "      <th>B_12</th>\n",
              "      <th>B_13</th>\n",
              "      <th>B_14</th>\n",
              "      <th>B_15</th>\n",
              "      <th>B_16</th>\n",
              "      <th>B_17</th>\n",
              "      <th>B_18</th>\n",
              "      <th>...</th>\n",
              "      <th>S_26</th>\n",
              "      <th>S_27</th>\n",
              "      <th>S_3</th>\n",
              "      <th>S_5</th>\n",
              "      <th>S_6</th>\n",
              "      <th>S_7</th>\n",
              "      <th>S_8</th>\n",
              "      <th>S_9</th>\n",
              "      <th>customer_ID</th>\n",
              "      <th>target</th>\n",
              "    </tr>\n",
              "  </thead>\n",
              "  <tbody>\n",
              "    <tr>\n",
              "      <th>0</th>\n",
              "      <td>0.001930</td>\n",
              "      <td>0.431864</td>\n",
              "      <td>0.004027</td>\n",
              "      <td>0.112579</td>\n",
              "      <td>0.074886</td>\n",
              "      <td>0.009725</td>\n",
              "      <td>0.007219</td>\n",
              "      <td>0.000227</td>\n",
              "      <td>NaN</td>\n",
              "      <td>1.007369</td>\n",
              "      <td>...</td>\n",
              "      <td>0.022741</td>\n",
              "      <td>0.816651</td>\n",
              "      <td>0.100470</td>\n",
              "      <td>0.007165</td>\n",
              "      <td>0.002629</td>\n",
              "      <td>0.074646</td>\n",
              "      <td>0.759416</td>\n",
              "      <td>0.019340</td>\n",
              "      <td>0000099d6bd597052cdcda90ffabf56573fe9d7c79be5f...</td>\n",
              "      <td>0</td>\n",
              "    </tr>\n",
              "    <tr>\n",
              "      <th>1</th>\n",
              "      <td>0.100998</td>\n",
              "      <td>0.020843</td>\n",
              "      <td>0.065763</td>\n",
              "      <td>0.011516</td>\n",
              "      <td>0.011943</td>\n",
              "      <td>0.023915</td>\n",
              "      <td>0.002677</td>\n",
              "      <td>0.752512</td>\n",
              "      <td>NaN</td>\n",
              "      <td>0.245604</td>\n",
              "      <td>...</td>\n",
              "      <td>0.007319</td>\n",
              "      <td>0.003056</td>\n",
              "      <td>0.333741</td>\n",
              "      <td>0.007118</td>\n",
              "      <td>0.003323</td>\n",
              "      <td>0.449327</td>\n",
              "      <td>0.121571</td>\n",
              "      <td>NaN</td>\n",
              "      <td>000098081fde4fd64bc4d503a5d6f86a0aedc425c96f52...</td>\n",
              "      <td>0</td>\n",
              "    </tr>\n",
              "    <tr>\n",
              "      <th>2</th>\n",
              "      <td>0.932366</td>\n",
              "      <td>0.006830</td>\n",
              "      <td>0.938222</td>\n",
              "      <td>0.018259</td>\n",
              "      <td>0.011526</td>\n",
              "      <td>0.310057</td>\n",
              "      <td>0.007449</td>\n",
              "      <td>1.005576</td>\n",
              "      <td>0.958476</td>\n",
              "      <td>0.100295</td>\n",
              "      <td>...</td>\n",
              "      <td>0.005956</td>\n",
              "      <td>NaN</td>\n",
              "      <td>0.166899</td>\n",
              "      <td>0.023294</td>\n",
              "      <td>1.001347</td>\n",
              "      <td>0.195864</td>\n",
              "      <td>0.469173</td>\n",
              "      <td>NaN</td>\n",
              "      <td>0000f99513770170a1aba690daeeb8a96da4a39f11fc27...</td>\n",
              "      <td>1</td>\n",
              "    </tr>\n",
              "    <tr>\n",
              "      <th>3</th>\n",
              "      <td>0.090679</td>\n",
              "      <td>0.010080</td>\n",
              "      <td>0.061696</td>\n",
              "      <td>0.009170</td>\n",
              "      <td>0.022505</td>\n",
              "      <td>0.021193</td>\n",
              "      <td>0.005326</td>\n",
              "      <td>0.004090</td>\n",
              "      <td>NaN</td>\n",
              "      <td>0.483923</td>\n",
              "      <td>...</td>\n",
              "      <td>0.001798</td>\n",
              "      <td>0.006840</td>\n",
              "      <td>0.182016</td>\n",
              "      <td>0.054562</td>\n",
              "      <td>1.005409</td>\n",
              "      <td>0.283636</td>\n",
              "      <td>0.252979</td>\n",
              "      <td>NaN</td>\n",
              "      <td>00013181a0c5fc8f1ea38cd2b90fe8ad2fa8cad9d9f13e...</td>\n",
              "      <td>1</td>\n",
              "    </tr>\n",
              "    <tr>\n",
              "      <th>4</th>\n",
              "      <td>0.096867</td>\n",
              "      <td>0.016876</td>\n",
              "      <td>0.072356</td>\n",
              "      <td>0.015320</td>\n",
              "      <td>0.032634</td>\n",
              "      <td>0.030532</td>\n",
              "      <td>0.003829</td>\n",
              "      <td>0.500069</td>\n",
              "      <td>0.008569</td>\n",
              "      <td>0.184785</td>\n",
              "      <td>...</td>\n",
              "      <td>0.004177</td>\n",
              "      <td>0.004812</td>\n",
              "      <td>0.460324</td>\n",
              "      <td>0.042095</td>\n",
              "      <td>0.009332</td>\n",
              "      <td>0.568983</td>\n",
              "      <td>0.328557</td>\n",
              "      <td>NaN</td>\n",
              "      <td>00013c6e1cec7c21bede7cb319f1e28eb994f5625257f4...</td>\n",
              "      <td>1</td>\n",
              "    </tr>\n",
              "    <tr>\n",
              "      <th>...</th>\n",
              "      <td>...</td>\n",
              "      <td>...</td>\n",
              "      <td>...</td>\n",
              "      <td>...</td>\n",
              "      <td>...</td>\n",
              "      <td>...</td>\n",
              "      <td>...</td>\n",
              "      <td>...</td>\n",
              "      <td>...</td>\n",
              "      <td>...</td>\n",
              "      <td>...</td>\n",
              "      <td>...</td>\n",
              "      <td>...</td>\n",
              "      <td>...</td>\n",
              "      <td>...</td>\n",
              "      <td>...</td>\n",
              "      <td>...</td>\n",
              "      <td>...</td>\n",
              "      <td>...</td>\n",
              "      <td>...</td>\n",
              "      <td>...</td>\n",
              "    </tr>\n",
              "    <tr>\n",
              "      <th>276567</th>\n",
              "      <td>0.008331</td>\n",
              "      <td>0.242958</td>\n",
              "      <td>0.004117</td>\n",
              "      <td>0.003937</td>\n",
              "      <td>0.006548</td>\n",
              "      <td>0.004503</td>\n",
              "      <td>0.003287</td>\n",
              "      <td>0.003259</td>\n",
              "      <td>NaN</td>\n",
              "      <td>1.004954</td>\n",
              "      <td>...</td>\n",
              "      <td>0.002313</td>\n",
              "      <td>NaN</td>\n",
              "      <td>NaN</td>\n",
              "      <td>0.000499</td>\n",
              "      <td>1.004101</td>\n",
              "      <td>NaN</td>\n",
              "      <td>0.006319</td>\n",
              "      <td>NaN</td>\n",
              "      <td>fffec7d7e1ca804c86f1ffdaac389c33f8039ed35bf412...</td>\n",
              "      <td>0</td>\n",
              "    </tr>\n",
              "    <tr>\n",
              "      <th>276568</th>\n",
              "      <td>0.028992</td>\n",
              "      <td>0.453770</td>\n",
              "      <td>0.017547</td>\n",
              "      <td>0.224241</td>\n",
              "      <td>0.239149</td>\n",
              "      <td>0.101930</td>\n",
              "      <td>0.009882</td>\n",
              "      <td>0.002982</td>\n",
              "      <td>NaN</td>\n",
              "      <td>1.009120</td>\n",
              "      <td>...</td>\n",
              "      <td>0.055105</td>\n",
              "      <td>0.006036</td>\n",
              "      <td>0.140112</td>\n",
              "      <td>0.275520</td>\n",
              "      <td>0.009312</td>\n",
              "      <td>0.094025</td>\n",
              "      <td>0.492496</td>\n",
              "      <td>NaN</td>\n",
              "      <td>ffff41c8a52833b56430603969b9ca48d208e7c192c6a4...</td>\n",
              "      <td>0</td>\n",
              "    </tr>\n",
              "    <tr>\n",
              "      <th>276569</th>\n",
              "      <td>0.162431</td>\n",
              "      <td>0.134409</td>\n",
              "      <td>0.135216</td>\n",
              "      <td>0.023709</td>\n",
              "      <td>0.086869</td>\n",
              "      <td>0.073229</td>\n",
              "      <td>0.001598</td>\n",
              "      <td>0.335726</td>\n",
              "      <td>0.880369</td>\n",
              "      <td>0.379636</td>\n",
              "      <td>...</td>\n",
              "      <td>0.003040</td>\n",
              "      <td>0.430051</td>\n",
              "      <td>0.086377</td>\n",
              "      <td>0.133227</td>\n",
              "      <td>0.000729</td>\n",
              "      <td>0.087364</td>\n",
              "      <td>0.666838</td>\n",
              "      <td>0.035156</td>\n",
              "      <td>ffff9984b999fccb2b6127635ed0736dda94e544e67e02...</td>\n",
              "      <td>0</td>\n",
              "    </tr>\n",
              "    <tr>\n",
              "      <th>276570</th>\n",
              "      <td>0.027101</td>\n",
              "      <td>0.293564</td>\n",
              "      <td>0.010437</td>\n",
              "      <td>0.064097</td>\n",
              "      <td>0.049037</td>\n",
              "      <td>0.025647</td>\n",
              "      <td>0.005012</td>\n",
              "      <td>0.335705</td>\n",
              "      <td>NaN</td>\n",
              "      <td>1.007944</td>\n",
              "      <td>...</td>\n",
              "      <td>0.008761</td>\n",
              "      <td>0.380321</td>\n",
              "      <td>0.075824</td>\n",
              "      <td>0.060779</td>\n",
              "      <td>0.008526</td>\n",
              "      <td>0.048874</td>\n",
              "      <td>0.704418</td>\n",
              "      <td>0.022882</td>\n",
              "      <td>ffff9984b999fccb2b6127635ed0736dda94e544e67e02...</td>\n",
              "      <td>0</td>\n",
              "    </tr>\n",
              "    <tr>\n",
              "      <th>276571</th>\n",
              "      <td>0.042782</td>\n",
              "      <td>0.157152</td>\n",
              "      <td>0.026771</td>\n",
              "      <td>0.055753</td>\n",
              "      <td>0.077681</td>\n",
              "      <td>0.036595</td>\n",
              "      <td>0.024166</td>\n",
              "      <td>0.920613</td>\n",
              "      <td>0.427228</td>\n",
              "      <td>0.379839</td>\n",
              "      <td>...</td>\n",
              "      <td>0.000230</td>\n",
              "      <td>0.219747</td>\n",
              "      <td>0.020815</td>\n",
              "      <td>0.041289</td>\n",
              "      <td>0.002854</td>\n",
              "      <td>0.025815</td>\n",
              "      <td>0.665898</td>\n",
              "      <td>0.010998</td>\n",
              "      <td>fffff1d38b785cef84adeace64f8f83db3a0c31e8d92ea...</td>\n",
              "      <td>0</td>\n",
              "    </tr>\n",
              "  </tbody>\n",
              "</table>\n",
              "<p>276572 rows × 191 columns</p>\n",
              "</div>\n",
              "      <button class=\"colab-df-convert\" onclick=\"convertToInteractive('df-5f98062a-d818-426f-9d5a-7aaf15eff64f')\"\n",
              "              title=\"Convert this dataframe to an interactive table.\"\n",
              "              style=\"display:none;\">\n",
              "        \n",
              "  <svg xmlns=\"http://www.w3.org/2000/svg\" height=\"24px\"viewBox=\"0 0 24 24\"\n",
              "       width=\"24px\">\n",
              "    <path d=\"M0 0h24v24H0V0z\" fill=\"none\"/>\n",
              "    <path d=\"M18.56 5.44l.94 2.06.94-2.06 2.06-.94-2.06-.94-.94-2.06-.94 2.06-2.06.94zm-11 1L8.5 8.5l.94-2.06 2.06-.94-2.06-.94L8.5 2.5l-.94 2.06-2.06.94zm10 10l.94 2.06.94-2.06 2.06-.94-2.06-.94-.94-2.06-.94 2.06-2.06.94z\"/><path d=\"M17.41 7.96l-1.37-1.37c-.4-.4-.92-.59-1.43-.59-.52 0-1.04.2-1.43.59L10.3 9.45l-7.72 7.72c-.78.78-.78 2.05 0 2.83L4 21.41c.39.39.9.59 1.41.59.51 0 1.02-.2 1.41-.59l7.78-7.78 2.81-2.81c.8-.78.8-2.07 0-2.86zM5.41 20L4 18.59l7.72-7.72 1.47 1.35L5.41 20z\"/>\n",
              "  </svg>\n",
              "      </button>\n",
              "      \n",
              "  <style>\n",
              "    .colab-df-container {\n",
              "      display:flex;\n",
              "      flex-wrap:wrap;\n",
              "      gap: 12px;\n",
              "    }\n",
              "\n",
              "    .colab-df-convert {\n",
              "      background-color: #E8F0FE;\n",
              "      border: none;\n",
              "      border-radius: 50%;\n",
              "      cursor: pointer;\n",
              "      display: none;\n",
              "      fill: #1967D2;\n",
              "      height: 32px;\n",
              "      padding: 0 0 0 0;\n",
              "      width: 32px;\n",
              "    }\n",
              "\n",
              "    .colab-df-convert:hover {\n",
              "      background-color: #E2EBFA;\n",
              "      box-shadow: 0px 1px 2px rgba(60, 64, 67, 0.3), 0px 1px 3px 1px rgba(60, 64, 67, 0.15);\n",
              "      fill: #174EA6;\n",
              "    }\n",
              "\n",
              "    [theme=dark] .colab-df-convert {\n",
              "      background-color: #3B4455;\n",
              "      fill: #D2E3FC;\n",
              "    }\n",
              "\n",
              "    [theme=dark] .colab-df-convert:hover {\n",
              "      background-color: #434B5C;\n",
              "      box-shadow: 0px 1px 3px 1px rgba(0, 0, 0, 0.15);\n",
              "      filter: drop-shadow(0px 1px 2px rgba(0, 0, 0, 0.3));\n",
              "      fill: #FFFFFF;\n",
              "    }\n",
              "  </style>\n",
              "\n",
              "      <script>\n",
              "        const buttonEl =\n",
              "          document.querySelector('#df-5f98062a-d818-426f-9d5a-7aaf15eff64f button.colab-df-convert');\n",
              "        buttonEl.style.display =\n",
              "          google.colab.kernel.accessAllowed ? 'block' : 'none';\n",
              "\n",
              "        async function convertToInteractive(key) {\n",
              "          const element = document.querySelector('#df-5f98062a-d818-426f-9d5a-7aaf15eff64f');\n",
              "          const dataTable =\n",
              "            await google.colab.kernel.invokeFunction('convertToInteractive',\n",
              "                                                     [key], {});\n",
              "          if (!dataTable) return;\n",
              "\n",
              "          const docLinkHtml = 'Like what you see? Visit the ' +\n",
              "            '<a target=\"_blank\" href=https://colab.research.google.com/notebooks/data_table.ipynb>data table notebook</a>'\n",
              "            + ' to learn more about interactive tables.';\n",
              "          element.innerHTML = '';\n",
              "          dataTable['output_type'] = 'display_data';\n",
              "          await google.colab.output.renderOutput(dataTable, element);\n",
              "          const docLink = document.createElement('div');\n",
              "          docLink.innerHTML = docLinkHtml;\n",
              "          element.appendChild(docLink);\n",
              "        }\n",
              "      </script>\n",
              "    </div>\n",
              "  </div>\n",
              "  "
            ],
            "text/plain": [
              "             B_1      B_10      B_11      B_12      B_13      B_14      B_15  \\\n",
              "0       0.001930  0.431864  0.004027  0.112579  0.074886  0.009725  0.007219   \n",
              "1       0.100998  0.020843  0.065763  0.011516  0.011943  0.023915  0.002677   \n",
              "2       0.932366  0.006830  0.938222  0.018259  0.011526  0.310057  0.007449   \n",
              "3       0.090679  0.010080  0.061696  0.009170  0.022505  0.021193  0.005326   \n",
              "4       0.096867  0.016876  0.072356  0.015320  0.032634  0.030532  0.003829   \n",
              "...          ...       ...       ...       ...       ...       ...       ...   \n",
              "276567  0.008331  0.242958  0.004117  0.003937  0.006548  0.004503  0.003287   \n",
              "276568  0.028992  0.453770  0.017547  0.224241  0.239149  0.101930  0.009882   \n",
              "276569  0.162431  0.134409  0.135216  0.023709  0.086869  0.073229  0.001598   \n",
              "276570  0.027101  0.293564  0.010437  0.064097  0.049037  0.025647  0.005012   \n",
              "276571  0.042782  0.157152  0.026771  0.055753  0.077681  0.036595  0.024166   \n",
              "\n",
              "            B_16      B_17      B_18  ...      S_26      S_27       S_3  \\\n",
              "0       0.000227       NaN  1.007369  ...  0.022741  0.816651  0.100470   \n",
              "1       0.752512       NaN  0.245604  ...  0.007319  0.003056  0.333741   \n",
              "2       1.005576  0.958476  0.100295  ...  0.005956       NaN  0.166899   \n",
              "3       0.004090       NaN  0.483923  ...  0.001798  0.006840  0.182016   \n",
              "4       0.500069  0.008569  0.184785  ...  0.004177  0.004812  0.460324   \n",
              "...          ...       ...       ...  ...       ...       ...       ...   \n",
              "276567  0.003259       NaN  1.004954  ...  0.002313       NaN       NaN   \n",
              "276568  0.002982       NaN  1.009120  ...  0.055105  0.006036  0.140112   \n",
              "276569  0.335726  0.880369  0.379636  ...  0.003040  0.430051  0.086377   \n",
              "276570  0.335705       NaN  1.007944  ...  0.008761  0.380321  0.075824   \n",
              "276571  0.920613  0.427228  0.379839  ...  0.000230  0.219747  0.020815   \n",
              "\n",
              "             S_5       S_6       S_7       S_8       S_9  \\\n",
              "0       0.007165  0.002629  0.074646  0.759416  0.019340   \n",
              "1       0.007118  0.003323  0.449327  0.121571       NaN   \n",
              "2       0.023294  1.001347  0.195864  0.469173       NaN   \n",
              "3       0.054562  1.005409  0.283636  0.252979       NaN   \n",
              "4       0.042095  0.009332  0.568983  0.328557       NaN   \n",
              "...          ...       ...       ...       ...       ...   \n",
              "276567  0.000499  1.004101       NaN  0.006319       NaN   \n",
              "276568  0.275520  0.009312  0.094025  0.492496       NaN   \n",
              "276569  0.133227  0.000729  0.087364  0.666838  0.035156   \n",
              "276570  0.060779  0.008526  0.048874  0.704418  0.022882   \n",
              "276571  0.041289  0.002854  0.025815  0.665898  0.010998   \n",
              "\n",
              "                                              customer_ID  target  \n",
              "0       0000099d6bd597052cdcda90ffabf56573fe9d7c79be5f...       0  \n",
              "1       000098081fde4fd64bc4d503a5d6f86a0aedc425c96f52...       0  \n",
              "2       0000f99513770170a1aba690daeeb8a96da4a39f11fc27...       1  \n",
              "3       00013181a0c5fc8f1ea38cd2b90fe8ad2fa8cad9d9f13e...       1  \n",
              "4       00013c6e1cec7c21bede7cb319f1e28eb994f5625257f4...       1  \n",
              "...                                                   ...     ...  \n",
              "276567  fffec7d7e1ca804c86f1ffdaac389c33f8039ed35bf412...       0  \n",
              "276568  ffff41c8a52833b56430603969b9ca48d208e7c192c6a4...       0  \n",
              "276569  ffff9984b999fccb2b6127635ed0736dda94e544e67e02...       0  \n",
              "276570  ffff9984b999fccb2b6127635ed0736dda94e544e67e02...       0  \n",
              "276571  fffff1d38b785cef84adeace64f8f83db3a0c31e8d92ea...       0  \n",
              "\n",
              "[276572 rows x 191 columns]"
            ]
          },
          "execution_count": 21,
          "metadata": {},
          "output_type": "execute_result"
        }
      ],
      "source": [
        "df_reducido.sort_index(axis = 1, inplace = True)\n",
        "df_reducido.reset_index(drop = True, inplace = True)\n",
        "df_reducido"
      ]
    },
    {
      "cell_type": "markdown",
      "metadata": {
        "id": "kxvKrMZ05qwQ"
      },
      "source": [
        "### Correlación entre variables"
      ]
    },
    {
      "cell_type": "code",
      "execution_count": 22,
      "metadata": {
        "id": "J1XYWz015qwQ"
      },
      "outputs": [],
      "source": [
        "sns.heatmap(df_reducido.corr(method='pearson'), cmap='Reds')"
      ]
    },
    {
      "cell_type": "markdown",
      "metadata": {
        "id": "SxO42OoQ5qwQ"
      },
      "source": [
        "Del heatmap obtenido se pueden observar ciertas correlaciones, siendo muchas de estas con un color intenso (indicando un gran nivel de correlación) con variables de su mismo “tipo” según las categorías presentadas al inicio del trabajo (D, S, P, B, R). Esto nos indica que existe la posibilidad de realizar una reducción de la dimensionalidad de los datos sin perder información, lo cual será profundizado más adelante en el trabajo.\n",
        "Paralelamente observamos que existe una “Cruz” creada por una línea vertical y una horizontal de color blanco indicando que la variable D_87 no posee ninguna correlación con ninguna otra variable. Esta situación es causada por la cantidad de datos Nan que posee esta columna (mostrado a continuación), más adelante en el trabajo se trabajara sobre los datos faltantes y se tomaran acciones sobre los mismos.\n"
      ]
    },
    {
      "cell_type": "code",
      "execution_count": 23,
      "metadata": {
        "colab": {
          "base_uri": "https://localhost:8080/"
        },
        "id": "p4S4a1vY5qwQ",
        "outputId": "39aa5993-f5b3-4452-841b-e4807f3075dd"
      },
      "outputs": [
        {
          "data": {
            "text/plain": [
              "0        NaN\n",
              "1        NaN\n",
              "2        NaN\n",
              "3        NaN\n",
              "4        NaN\n",
              "          ..\n",
              "276567   NaN\n",
              "276568   NaN\n",
              "276569   NaN\n",
              "276570   NaN\n",
              "276571   NaN\n",
              "Name: D_87, Length: 276572, dtype: float64"
            ]
          },
          "execution_count": 23,
          "metadata": {},
          "output_type": "execute_result"
        }
      ],
      "source": [
        "df_reducido.loc[:,'D_87']"
      ]
    },
    {
      "cell_type": "markdown",
      "metadata": {
        "id": "7ZcTlwK45qwR"
      },
      "source": [
        "### Verificación de registros repetidos\n",
        "\n"
      ]
    },
    {
      "cell_type": "markdown",
      "metadata": {
        "id": "94e3L2x85qwR"
      },
      "source": [
        "Mediante la siguiente línea se verificamos que el dataset no posea filas filas con información repetida."
      ]
    },
    {
      "cell_type": "code",
      "execution_count": 24,
      "metadata": {
        "colab": {
          "base_uri": "https://localhost:8080/"
        },
        "id": "XrflR3xf5qwR",
        "outputId": "3cd5b028-f761-4af8-f69b-b9f9c39c8bb9"
      },
      "outputs": [
        {
          "data": {
            "text/plain": [
              "False    276572\n",
              "dtype: int64"
            ]
          },
          "execution_count": 24,
          "metadata": {},
          "output_type": "execute_result"
        }
      ],
      "source": [
        "df_reducido.duplicated().value_counts()"
      ]
    },
    {
      "cell_type": "markdown",
      "metadata": {
        "id": "hmCVqfLU5qwR"
      },
      "source": [
        "### Relacion de variables con el target"
      ]
    },
    {
      "cell_type": "code",
      "execution_count": 25,
      "metadata": {
        "id": "dgWIr9Fb5qwR"
      },
      "outputs": [],
      "source": [
        "import matplotlib.pyplot as plt"
      ]
    },
    {
      "cell_type": "code",
      "execution_count": 26,
      "metadata": {
        "colab": {
          "base_uri": "https://localhost:8080/"
        },
        "id": "J7aPBnGI5qwR",
        "outputId": "826a4a2b-424e-4dcb-cb90-ebde0278d91f"
      },
      "outputs": [
        {
          "data": {
            "text/plain": [
              "CO    205972\n",
              "CR     46499\n",
              "CL     21933\n",
              "XZ      1292\n",
              "XM       526\n",
              "XL       350\n",
              "Name: D_63, dtype: int64"
            ]
          },
          "execution_count": 26,
          "metadata": {},
          "output_type": "execute_result"
        }
      ],
      "source": [
        "df_reducido['D_63'].value_counts()"
      ]
    },
    {
      "cell_type": "code",
      "execution_count": 27,
      "metadata": {
        "colab": {
          "base_uri": "https://localhost:8080/",
          "height": 0
        },
        "id": "cktoZ7zM5qwS",
        "outputId": "d558ffd2-6c9e-4233-d592-e630258919af"
      },
      "outputs": [
        {
          "data": {
            "text/html": [
              "\n",
              "  <div id=\"df-b22824ff-97d3-4380-af7c-3cac6d61e8d0\">\n",
              "    <div class=\"colab-df-container\">\n",
              "      <div>\n",
              "<style scoped>\n",
              "    .dataframe tbody tr th:only-of-type {\n",
              "        vertical-align: middle;\n",
              "    }\n",
              "\n",
              "    .dataframe tbody tr th {\n",
              "        vertical-align: top;\n",
              "    }\n",
              "\n",
              "    .dataframe thead th {\n",
              "        text-align: right;\n",
              "    }\n",
              "</style>\n",
              "<table border=\"1\" class=\"dataframe\">\n",
              "  <thead>\n",
              "    <tr style=\"text-align: right;\">\n",
              "      <th>target</th>\n",
              "      <th>0</th>\n",
              "      <th>1</th>\n",
              "    </tr>\n",
              "    <tr>\n",
              "      <th>D_63</th>\n",
              "      <th></th>\n",
              "      <th></th>\n",
              "    </tr>\n",
              "  </thead>\n",
              "  <tbody>\n",
              "    <tr>\n",
              "      <th>CL</th>\n",
              "      <td>15652</td>\n",
              "      <td>6281</td>\n",
              "    </tr>\n",
              "    <tr>\n",
              "      <th>CO</th>\n",
              "      <td>151806</td>\n",
              "      <td>54166</td>\n",
              "    </tr>\n",
              "    <tr>\n",
              "      <th>CR</th>\n",
              "      <td>38603</td>\n",
              "      <td>7896</td>\n",
              "    </tr>\n",
              "    <tr>\n",
              "      <th>XL</th>\n",
              "      <td>224</td>\n",
              "      <td>126</td>\n",
              "    </tr>\n",
              "    <tr>\n",
              "      <th>XM</th>\n",
              "      <td>386</td>\n",
              "      <td>140</td>\n",
              "    </tr>\n",
              "    <tr>\n",
              "      <th>XZ</th>\n",
              "      <td>1041</td>\n",
              "      <td>251</td>\n",
              "    </tr>\n",
              "  </tbody>\n",
              "</table>\n",
              "</div>\n",
              "      <button class=\"colab-df-convert\" onclick=\"convertToInteractive('df-b22824ff-97d3-4380-af7c-3cac6d61e8d0')\"\n",
              "              title=\"Convert this dataframe to an interactive table.\"\n",
              "              style=\"display:none;\">\n",
              "        \n",
              "  <svg xmlns=\"http://www.w3.org/2000/svg\" height=\"24px\"viewBox=\"0 0 24 24\"\n",
              "       width=\"24px\">\n",
              "    <path d=\"M0 0h24v24H0V0z\" fill=\"none\"/>\n",
              "    <path d=\"M18.56 5.44l.94 2.06.94-2.06 2.06-.94-2.06-.94-.94-2.06-.94 2.06-2.06.94zm-11 1L8.5 8.5l.94-2.06 2.06-.94-2.06-.94L8.5 2.5l-.94 2.06-2.06.94zm10 10l.94 2.06.94-2.06 2.06-.94-2.06-.94-.94-2.06-.94 2.06-2.06.94z\"/><path d=\"M17.41 7.96l-1.37-1.37c-.4-.4-.92-.59-1.43-.59-.52 0-1.04.2-1.43.59L10.3 9.45l-7.72 7.72c-.78.78-.78 2.05 0 2.83L4 21.41c.39.39.9.59 1.41.59.51 0 1.02-.2 1.41-.59l7.78-7.78 2.81-2.81c.8-.78.8-2.07 0-2.86zM5.41 20L4 18.59l7.72-7.72 1.47 1.35L5.41 20z\"/>\n",
              "  </svg>\n",
              "      </button>\n",
              "      \n",
              "  <style>\n",
              "    .colab-df-container {\n",
              "      display:flex;\n",
              "      flex-wrap:wrap;\n",
              "      gap: 12px;\n",
              "    }\n",
              "\n",
              "    .colab-df-convert {\n",
              "      background-color: #E8F0FE;\n",
              "      border: none;\n",
              "      border-radius: 50%;\n",
              "      cursor: pointer;\n",
              "      display: none;\n",
              "      fill: #1967D2;\n",
              "      height: 32px;\n",
              "      padding: 0 0 0 0;\n",
              "      width: 32px;\n",
              "    }\n",
              "\n",
              "    .colab-df-convert:hover {\n",
              "      background-color: #E2EBFA;\n",
              "      box-shadow: 0px 1px 2px rgba(60, 64, 67, 0.3), 0px 1px 3px 1px rgba(60, 64, 67, 0.15);\n",
              "      fill: #174EA6;\n",
              "    }\n",
              "\n",
              "    [theme=dark] .colab-df-convert {\n",
              "      background-color: #3B4455;\n",
              "      fill: #D2E3FC;\n",
              "    }\n",
              "\n",
              "    [theme=dark] .colab-df-convert:hover {\n",
              "      background-color: #434B5C;\n",
              "      box-shadow: 0px 1px 3px 1px rgba(0, 0, 0, 0.15);\n",
              "      filter: drop-shadow(0px 1px 2px rgba(0, 0, 0, 0.3));\n",
              "      fill: #FFFFFF;\n",
              "    }\n",
              "  </style>\n",
              "\n",
              "      <script>\n",
              "        const buttonEl =\n",
              "          document.querySelector('#df-b22824ff-97d3-4380-af7c-3cac6d61e8d0 button.colab-df-convert');\n",
              "        buttonEl.style.display =\n",
              "          google.colab.kernel.accessAllowed ? 'block' : 'none';\n",
              "\n",
              "        async function convertToInteractive(key) {\n",
              "          const element = document.querySelector('#df-b22824ff-97d3-4380-af7c-3cac6d61e8d0');\n",
              "          const dataTable =\n",
              "            await google.colab.kernel.invokeFunction('convertToInteractive',\n",
              "                                                     [key], {});\n",
              "          if (!dataTable) return;\n",
              "\n",
              "          const docLinkHtml = 'Like what you see? Visit the ' +\n",
              "            '<a target=\"_blank\" href=https://colab.research.google.com/notebooks/data_table.ipynb>data table notebook</a>'\n",
              "            + ' to learn more about interactive tables.';\n",
              "          element.innerHTML = '';\n",
              "          dataTable['output_type'] = 'display_data';\n",
              "          await google.colab.output.renderOutput(dataTable, element);\n",
              "          const docLink = document.createElement('div');\n",
              "          docLink.innerHTML = docLinkHtml;\n",
              "          element.appendChild(docLink);\n",
              "        }\n",
              "      </script>\n",
              "    </div>\n",
              "  </div>\n",
              "  "
            ],
            "text/plain": [
              "target       0      1\n",
              "D_63                 \n",
              "CL       15652   6281\n",
              "CO      151806  54166\n",
              "CR       38603   7896\n",
              "XL         224    126\n",
              "XM         386    140\n",
              "XZ        1041    251"
            ]
          },
          "execution_count": 27,
          "metadata": {},
          "output_type": "execute_result"
        }
      ],
      "source": [
        "deuda_D_63 = df_reducido.loc[:, ['target', 'D_63']].groupby(['D_63'])['target'].value_counts().unstack()\n",
        "deuda_D_63"
      ]
    },
    {
      "cell_type": "code",
      "execution_count": 28,
      "metadata": {
        "colab": {
          "base_uri": "https://localhost:8080/",
          "height": 0
        },
        "id": "LP8bEoB-5qwS",
        "outputId": "a6ff44ec-7a49-4747-bfbc-01f2c84346ed"
      },
      "outputs": [
        {
          "data": {
            "text/plain": [
              "<matplotlib.axes._subplots.AxesSubplot at 0x7f0a1a289690>"
            ]
          },
          "execution_count": 28,
          "metadata": {},
          "output_type": "execute_result"
        },
        {
          "data": {
            "image/png": "[encoded data removed]",
            "text/plain": [
              "<Figure size 864x864 with 2 Axes>"
            ]
          },
          "metadata": {
            "needs_background": "light"
          },
          "output_type": "display_data"
        }
      ],
      "source": [
        "plt.figure(figsize=(12,12))\n",
        "plt.xlabel('Deuda', size = 14)\n",
        "plt.ylabel('D_63', size = 14)\n",
        "plt.title('Deuda segun D_63', size = 18)\n",
        "sns.heatmap(deuda_D_63, annot=True, fmt=\".1f\", linewidths=.5, square = True, cmap = 'Reds')"
      ]
    },
    {
      "cell_type": "code",
      "execution_count": 29,
      "metadata": {
        "colab": {
          "base_uri": "https://localhost:8080/"
        },
        "id": "irvjvIik5qwS",
        "outputId": "f69e94bd-071c-43cb-8a33-0ea2da8ab5a8"
      },
      "outputs": [
        {
          "data": {
            "text/plain": [
              "1    275714\n",
              "0       858\n",
              "Name: B_31, dtype: int64"
            ]
          },
          "execution_count": 29,
          "metadata": {},
          "output_type": "execute_result"
        }
      ],
      "source": [
        "df_reducido['B_31'].value_counts()"
      ]
    },
    {
      "cell_type": "code",
      "execution_count": 30,
      "metadata": {
        "colab": {
          "base_uri": "https://localhost:8080/"
        },
        "id": "YBti_tBv5qwS",
        "outputId": "cff4c8a1-c6fe-4817-98b3-b33552f9729e"
      },
      "outputs": [
        {
          "data": {
            "text/plain": [
              "O     145585\n",
              "U      76041\n",
              "R      42167\n",
              "-1      1813\n",
              "Name: D_64, dtype: int64"
            ]
          },
          "execution_count": 30,
          "metadata": {},
          "output_type": "execute_result"
        }
      ],
      "source": [
        "df_reducido['D_64'].value_counts()"
      ]
    },
    {
      "cell_type": "code",
      "execution_count": 31,
      "metadata": {
        "colab": {
          "base_uri": "https://localhost:8080/",
          "height": 0
        },
        "id": "89Ge2hqd5qwT",
        "outputId": "6ef66726-53fb-40c8-f416-f4c1eea3eb2c"
      },
      "outputs": [
        {
          "data": {
            "text/html": [
              "\n",
              "  <div id=\"df-3cc47b34-45cc-4748-a66f-1f4dbb033687\">\n",
              "    <div class=\"colab-df-container\">\n",
              "      <div>\n",
              "<style scoped>\n",
              "    .dataframe tbody tr th:only-of-type {\n",
              "        vertical-align: middle;\n",
              "    }\n",
              "\n",
              "    .dataframe tbody tr th {\n",
              "        vertical-align: top;\n",
              "    }\n",
              "\n",
              "    .dataframe thead th {\n",
              "        text-align: right;\n",
              "    }\n",
              "</style>\n",
              "<table border=\"1\" class=\"dataframe\">\n",
              "  <thead>\n",
              "    <tr style=\"text-align: right;\">\n",
              "      <th>target</th>\n",
              "      <th>0</th>\n",
              "      <th>1</th>\n",
              "    </tr>\n",
              "    <tr>\n",
              "      <th>D_64</th>\n",
              "      <th></th>\n",
              "      <th></th>\n",
              "    </tr>\n",
              "  </thead>\n",
              "  <tbody>\n",
              "    <tr>\n",
              "      <th>-1</th>\n",
              "      <td>1425</td>\n",
              "      <td>388</td>\n",
              "    </tr>\n",
              "    <tr>\n",
              "      <th>O</th>\n",
              "      <td>121041</td>\n",
              "      <td>24544</td>\n",
              "    </tr>\n",
              "    <tr>\n",
              "      <th>R</th>\n",
              "      <td>28832</td>\n",
              "      <td>13335</td>\n",
              "    </tr>\n",
              "    <tr>\n",
              "      <th>U</th>\n",
              "      <td>49999</td>\n",
              "      <td>26042</td>\n",
              "    </tr>\n",
              "  </tbody>\n",
              "</table>\n",
              "</div>\n",
              "      <button class=\"colab-df-convert\" onclick=\"convertToInteractive('df-3cc47b34-45cc-4748-a66f-1f4dbb033687')\"\n",
              "              title=\"Convert this dataframe to an interactive table.\"\n",
              "              style=\"display:none;\">\n",
              "        \n",
              "  <svg xmlns=\"http://www.w3.org/2000/svg\" height=\"24px\"viewBox=\"0 0 24 24\"\n",
              "       width=\"24px\">\n",
              "    <path d=\"M0 0h24v24H0V0z\" fill=\"none\"/>\n",
              "    <path d=\"M18.56 5.44l.94 2.06.94-2.06 2.06-.94-2.06-.94-.94-2.06-.94 2.06-2.06.94zm-11 1L8.5 8.5l.94-2.06 2.06-.94-2.06-.94L8.5 2.5l-.94 2.06-2.06.94zm10 10l.94 2.06.94-2.06 2.06-.94-2.06-.94-.94-2.06-.94 2.06-2.06.94z\"/><path d=\"M17.41 7.96l-1.37-1.37c-.4-.4-.92-.59-1.43-.59-.52 0-1.04.2-1.43.59L10.3 9.45l-7.72 7.72c-.78.78-.78 2.05 0 2.83L4 21.41c.39.39.9.59 1.41.59.51 0 1.02-.2 1.41-.59l7.78-7.78 2.81-2.81c.8-.78.8-2.07 0-2.86zM5.41 20L4 18.59l7.72-7.72 1.47 1.35L5.41 20z\"/>\n",
              "  </svg>\n",
              "      </button>\n",
              "      \n",
              "  <style>\n",
              "    .colab-df-container {\n",
              "      display:flex;\n",
              "      flex-wrap:wrap;\n",
              "      gap: 12px;\n",
              "    }\n",
              "\n",
              "    .colab-df-convert {\n",
              "      background-color: #E8F0FE;\n",
              "      border: none;\n",
              "      border-radius: 50%;\n",
              "      cursor: pointer;\n",
              "      display: none;\n",
              "      fill: #1967D2;\n",
              "      height: 32px;\n",
              "      padding: 0 0 0 0;\n",
              "      width: 32px;\n",
              "    }\n",
              "\n",
              "    .colab-df-convert:hover {\n",
              "      background-color: #E2EBFA;\n",
              "      box-shadow: 0px 1px 2px rgba(60, 64, 67, 0.3), 0px 1px 3px 1px rgba(60, 64, 67, 0.15);\n",
              "      fill: #174EA6;\n",
              "    }\n",
              "\n",
              "    [theme=dark] .colab-df-convert {\n",
              "      background-color: #3B4455;\n",
              "      fill: #D2E3FC;\n",
              "    }\n",
              "\n",
              "    [theme=dark] .colab-df-convert:hover {\n",
              "      background-color: #434B5C;\n",
              "      box-shadow: 0px 1px 3px 1px rgba(0, 0, 0, 0.15);\n",
              "      filter: drop-shadow(0px 1px 2px rgba(0, 0, 0, 0.3));\n",
              "      fill: #FFFFFF;\n",
              "    }\n",
              "  </style>\n",
              "\n",
              "      <script>\n",
              "        const buttonEl =\n",
              "          document.querySelector('#df-3cc47b34-45cc-4748-a66f-1f4dbb033687 button.colab-df-convert');\n",
              "        buttonEl.style.display =\n",
              "          google.colab.kernel.accessAllowed ? 'block' : 'none';\n",
              "\n",
              "        async function convertToInteractive(key) {\n",
              "          const element = document.querySelector('#df-3cc47b34-45cc-4748-a66f-1f4dbb033687');\n",
              "          const dataTable =\n",
              "            await google.colab.kernel.invokeFunction('convertToInteractive',\n",
              "                                                     [key], {});\n",
              "          if (!dataTable) return;\n",
              "\n",
              "          const docLinkHtml = 'Like what you see? Visit the ' +\n",
              "            '<a target=\"_blank\" href=https://colab.research.google.com/notebooks/data_table.ipynb>data table notebook</a>'\n",
              "            + ' to learn more about interactive tables.';\n",
              "          element.innerHTML = '';\n",
              "          dataTable['output_type'] = 'display_data';\n",
              "          await google.colab.output.renderOutput(dataTable, element);\n",
              "          const docLink = document.createElement('div');\n",
              "          docLink.innerHTML = docLinkHtml;\n",
              "          element.appendChild(docLink);\n",
              "        }\n",
              "      </script>\n",
              "    </div>\n",
              "  </div>\n",
              "  "
            ],
            "text/plain": [
              "target       0      1\n",
              "D_64                 \n",
              "-1        1425    388\n",
              "O       121041  24544\n",
              "R        28832  13335\n",
              "U        49999  26042"
            ]
          },
          "execution_count": 31,
          "metadata": {},
          "output_type": "execute_result"
        }
      ],
      "source": [
        "deuda_D_64 = df_reducido.loc[:, ['target', 'D_64']].groupby(['D_64'])['target'].value_counts().unstack()\n",
        "deuda_D_64"
      ]
    },
    {
      "cell_type": "code",
      "execution_count": 32,
      "metadata": {
        "colab": {
          "base_uri": "https://localhost:8080/",
          "height": 0
        },
        "id": "rfuys1vU5qwT",
        "outputId": "9240f27e-03c0-4dbd-fcd4-60f6499f25fa"
      },
      "outputs": [
        {
          "data": {
            "text/plain": [
              "<matplotlib.axes._subplots.AxesSubplot at 0x7f0a17961e10>"
            ]
          },
          "execution_count": 32,
          "metadata": {},
          "output_type": "execute_result"
        },
        {
          "data": {
            "image/png": "[encoded data removed]",
            "text/plain": [
              "<Figure size 864x864 with 2 Axes>"
            ]
          },
          "metadata": {
            "needs_background": "light"
          },
          "output_type": "display_data"
        }
      ],
      "source": [
        "plt.figure(figsize=(12,12))\n",
        "plt.xlabel('Deuda', size = 14)\n",
        "plt.ylabel('D_64', size = 14)\n",
        "plt.title('Deuda segun D_64', size = 18)\n",
        "sns.heatmap(deuda_D_64, annot=True, fmt=\".1f\", linewidths=.5, square = True, cmap = 'Reds')"
      ]
    },
    {
      "cell_type": "markdown",
      "metadata": {
        "id": "kCJ_Yl0p5qwT"
      },
      "source": [
        "Análisis de la variable \"S_2\"; Se espera poder concluir si la fecha de cada transacción se relaciona de alguna manera con el objetivo, y si aporta información relevante. De no ser así, se podrá eliminar esta columna."
      ]
    },
    {
      "cell_type": "code",
      "execution_count": 33,
      "metadata": {
        "colab": {
          "base_uri": "https://localhost:8080/"
        },
        "id": "8s3i2IbE5qwT",
        "outputId": "4a5afa6a-ce10-4c9f-c270-b82bbdd2aef3"
      },
      "outputs": [
        {
          "data": {
            "text/plain": [
              "0        2017-12-04\n",
              "1        2018-01-11\n",
              "2        2017-12-17\n",
              "3        2018-03-16\n",
              "4        2017-07-01\n",
              "            ...    \n",
              "276567   2018-02-17\n",
              "276568   2017-09-09\n",
              "276569   2017-04-23\n",
              "276570   2018-01-11\n",
              "276571   2017-07-20\n",
              "Name: S_2, Length: 276572, dtype: datetime64[ns]"
            ]
          },
          "execution_count": 33,
          "metadata": {},
          "output_type": "execute_result"
        }
      ],
      "source": [
        "df_reducido['S_2'] = pd.to_datetime(df_reducido['S_2'], format='%Y-%m-%d')\n",
        "df_reducido['S_2']"
      ]
    },
    {
      "cell_type": "code",
      "execution_count": 34,
      "metadata": {
        "colab": {
          "base_uri": "https://localhost:8080/"
        },
        "id": "f77YeOpN5qwT",
        "outputId": "fee0fd1e-490b-4204-ad5d-65e95b873a5e"
      },
      "outputs": [
        {
          "data": {
            "text/plain": [
              "0         2017\n",
              "1         2018\n",
              "2         2017\n",
              "3         2018\n",
              "4         2017\n",
              "          ... \n",
              "276567    2018\n",
              "276568    2017\n",
              "276569    2017\n",
              "276570    2018\n",
              "276571    2017\n",
              "Name: year, Length: 276572, dtype: int64"
            ]
          },
          "execution_count": 34,
          "metadata": {},
          "output_type": "execute_result"
        }
      ],
      "source": [
        "df_reducido['year'] = pd.DatetimeIndex(df_reducido['S_2']).year\n",
        "df_reducido['year']"
      ]
    },
    {
      "cell_type": "code",
      "execution_count": 35,
      "metadata": {
        "colab": {
          "base_uri": "https://localhost:8080/"
        },
        "id": "25E1u8_z5qwT",
        "outputId": "769a4f15-17fc-40e5-f91a-43277b12db81"
      },
      "outputs": [
        {
          "data": {
            "text/plain": [
              "2017    208500\n",
              "2018     68072\n",
              "Name: year, dtype: int64"
            ]
          },
          "execution_count": 35,
          "metadata": {},
          "output_type": "execute_result"
        }
      ],
      "source": [
        "df_reducido['year'].value_counts()"
      ]
    },
    {
      "cell_type": "code",
      "execution_count": 36,
      "metadata": {
        "colab": {
          "base_uri": "https://localhost:8080/",
          "height": 0
        },
        "id": "4tQagpnQ5qwU",
        "outputId": "7acd5bbf-d8f9-4653-e12e-bca70f8cc1bd"
      },
      "outputs": [
        {
          "data": {
            "text/html": [
              "\n",
              "  <div id=\"df-b7abf6ab-6c16-48e7-9a10-7c91cbc6044e\">\n",
              "    <div class=\"colab-df-container\">\n",
              "      <div>\n",
              "<style scoped>\n",
              "    .dataframe tbody tr th:only-of-type {\n",
              "        vertical-align: middle;\n",
              "    }\n",
              "\n",
              "    .dataframe tbody tr th {\n",
              "        vertical-align: top;\n",
              "    }\n",
              "\n",
              "    .dataframe thead th {\n",
              "        text-align: right;\n",
              "    }\n",
              "</style>\n",
              "<table border=\"1\" class=\"dataframe\">\n",
              "  <thead>\n",
              "    <tr style=\"text-align: right;\">\n",
              "      <th></th>\n",
              "      <th>year</th>\n",
              "      <th>target</th>\n",
              "    </tr>\n",
              "  </thead>\n",
              "  <tbody>\n",
              "    <tr>\n",
              "      <th>0</th>\n",
              "      <td>2017</td>\n",
              "      <td>51088</td>\n",
              "    </tr>\n",
              "    <tr>\n",
              "      <th>1</th>\n",
              "      <td>2018</td>\n",
              "      <td>17772</td>\n",
              "    </tr>\n",
              "  </tbody>\n",
              "</table>\n",
              "</div>\n",
              "      <button class=\"colab-df-convert\" onclick=\"convertToInteractive('df-b7abf6ab-6c16-48e7-9a10-7c91cbc6044e')\"\n",
              "              title=\"Convert this dataframe to an interactive table.\"\n",
              "              style=\"display:none;\">\n",
              "        \n",
              "  <svg xmlns=\"http://www.w3.org/2000/svg\" height=\"24px\"viewBox=\"0 0 24 24\"\n",
              "       width=\"24px\">\n",
              "    <path d=\"M0 0h24v24H0V0z\" fill=\"none\"/>\n",
              "    <path d=\"M18.56 5.44l.94 2.06.94-2.06 2.06-.94-2.06-.94-.94-2.06-.94 2.06-2.06.94zm-11 1L8.5 8.5l.94-2.06 2.06-.94-2.06-.94L8.5 2.5l-.94 2.06-2.06.94zm10 10l.94 2.06.94-2.06 2.06-.94-2.06-.94-.94-2.06-.94 2.06-2.06.94z\"/><path d=\"M17.41 7.96l-1.37-1.37c-.4-.4-.92-.59-1.43-.59-.52 0-1.04.2-1.43.59L10.3 9.45l-7.72 7.72c-.78.78-.78 2.05 0 2.83L4 21.41c.39.39.9.59 1.41.59.51 0 1.02-.2 1.41-.59l7.78-7.78 2.81-2.81c.8-.78.8-2.07 0-2.86zM5.41 20L4 18.59l7.72-7.72 1.47 1.35L5.41 20z\"/>\n",
              "  </svg>\n",
              "      </button>\n",
              "      \n",
              "  <style>\n",
              "    .colab-df-container {\n",
              "      display:flex;\n",
              "      flex-wrap:wrap;\n",
              "      gap: 12px;\n",
              "    }\n",
              "\n",
              "    .colab-df-convert {\n",
              "      background-color: #E8F0FE;\n",
              "      border: none;\n",
              "      border-radius: 50%;\n",
              "      cursor: pointer;\n",
              "      display: none;\n",
              "      fill: #1967D2;\n",
              "      height: 32px;\n",
              "      padding: 0 0 0 0;\n",
              "      width: 32px;\n",
              "    }\n",
              "\n",
              "    .colab-df-convert:hover {\n",
              "      background-color: #E2EBFA;\n",
              "      box-shadow: 0px 1px 2px rgba(60, 64, 67, 0.3), 0px 1px 3px 1px rgba(60, 64, 67, 0.15);\n",
              "      fill: #174EA6;\n",
              "    }\n",
              "\n",
              "    [theme=dark] .colab-df-convert {\n",
              "      background-color: #3B4455;\n",
              "      fill: #D2E3FC;\n",
              "    }\n",
              "\n",
              "    [theme=dark] .colab-df-convert:hover {\n",
              "      background-color: #434B5C;\n",
              "      box-shadow: 0px 1px 3px 1px rgba(0, 0, 0, 0.15);\n",
              "      filter: drop-shadow(0px 1px 2px rgba(0, 0, 0, 0.3));\n",
              "      fill: #FFFFFF;\n",
              "    }\n",
              "  </style>\n",
              "\n",
              "      <script>\n",
              "        const buttonEl =\n",
              "          document.querySelector('#df-b7abf6ab-6c16-48e7-9a10-7c91cbc6044e button.colab-df-convert');\n",
              "        buttonEl.style.display =\n",
              "          google.colab.kernel.accessAllowed ? 'block' : 'none';\n",
              "\n",
              "        async function convertToInteractive(key) {\n",
              "          const element = document.querySelector('#df-b7abf6ab-6c16-48e7-9a10-7c91cbc6044e');\n",
              "          const dataTable =\n",
              "            await google.colab.kernel.invokeFunction('convertToInteractive',\n",
              "                                                     [key], {});\n",
              "          if (!dataTable) return;\n",
              "\n",
              "          const docLinkHtml = 'Like what you see? Visit the ' +\n",
              "            '<a target=\"_blank\" href=https://colab.research.google.com/notebooks/data_table.ipynb>data table notebook</a>'\n",
              "            + ' to learn more about interactive tables.';\n",
              "          element.innerHTML = '';\n",
              "          dataTable['output_type'] = 'display_data';\n",
              "          await google.colab.output.renderOutput(dataTable, element);\n",
              "          const docLink = document.createElement('div');\n",
              "          docLink.innerHTML = docLinkHtml;\n",
              "          element.appendChild(docLink);\n",
              "        }\n",
              "      </script>\n",
              "    </div>\n",
              "  </div>\n",
              "  "
            ],
            "text/plain": [
              "   year  target\n",
              "0  2017   51088\n",
              "1  2018   17772"
            ]
          },
          "execution_count": 36,
          "metadata": {},
          "output_type": "execute_result"
        }
      ],
      "source": [
        "year_target = df_reducido.groupby(['year'])['target'].sum().reset_index()\n",
        "year_target"
      ]
    },
    {
      "cell_type": "code",
      "execution_count": 37,
      "metadata": {
        "colab": {
          "base_uri": "https://localhost:8080/",
          "height": 0
        },
        "id": "oYEisXy-5qwU",
        "outputId": "c44e214f-3b38-46e1-fc48-ad4a41ec8095"
      },
      "outputs": [
        {
          "data": {
            "text/plain": [
              "Text(0, 0.5, 'Número de pagos incumplidos')"
            ]
          },
          "execution_count": 37,
          "metadata": {},
          "output_type": "execute_result"
        },
        {
          "data": {
            "image/png": "[encoded data removed]",
            "text/plain": [
              "<Figure size 432x288 with 1 Axes>"
            ]
          },
          "metadata": {
            "needs_background": "light"
          },
          "output_type": "display_data"
        }
      ],
      "source": [
        "g = sns.barplot(x=year_target.year, y=year_target.target, palette='husl')\n",
        "g.set_title(\"Incumplimientos de pago por año\", fontsize=15)\n",
        "g.set_xlabel(\"Año\", fontsize=12)\n",
        "g.set_ylabel(\"Número de pagos incumplidos\", fontsize=12)"
      ]
    },
    {
      "cell_type": "code",
      "execution_count": 38,
      "metadata": {
        "colab": {
          "base_uri": "https://localhost:8080/",
          "height": 0
        },
        "id": "9G9rYZKm5qwU",
        "outputId": "17e06790-e3cd-4bf2-c546-0df6c983b611"
      },
      "outputs": [
        {
          "data": {
            "text/html": [
              "\n",
              "  <div id=\"df-aaeab63c-3d48-4f11-8571-ca8c72068fcf\">\n",
              "    <div class=\"colab-df-container\">\n",
              "      <div>\n",
              "<style scoped>\n",
              "    .dataframe tbody tr th:only-of-type {\n",
              "        vertical-align: middle;\n",
              "    }\n",
              "\n",
              "    .dataframe tbody tr th {\n",
              "        vertical-align: top;\n",
              "    }\n",
              "\n",
              "    .dataframe thead th {\n",
              "        text-align: right;\n",
              "    }\n",
              "</style>\n",
              "<table border=\"1\" class=\"dataframe\">\n",
              "  <thead>\n",
              "    <tr style=\"text-align: right;\">\n",
              "      <th></th>\n",
              "      <th>S_2</th>\n",
              "      <th>target</th>\n",
              "    </tr>\n",
              "  </thead>\n",
              "  <tbody>\n",
              "    <tr>\n",
              "      <th>0</th>\n",
              "      <td>2017-12-04</td>\n",
              "      <td>0</td>\n",
              "    </tr>\n",
              "    <tr>\n",
              "      <th>2</th>\n",
              "      <td>2017-12-17</td>\n",
              "      <td>1</td>\n",
              "    </tr>\n",
              "    <tr>\n",
              "      <th>4</th>\n",
              "      <td>2017-07-01</td>\n",
              "      <td>1</td>\n",
              "    </tr>\n",
              "    <tr>\n",
              "      <th>7</th>\n",
              "      <td>2017-10-15</td>\n",
              "      <td>1</td>\n",
              "    </tr>\n",
              "    <tr>\n",
              "      <th>8</th>\n",
              "      <td>2017-11-19</td>\n",
              "      <td>1</td>\n",
              "    </tr>\n",
              "    <tr>\n",
              "      <th>...</th>\n",
              "      <td>...</td>\n",
              "      <td>...</td>\n",
              "    </tr>\n",
              "    <tr>\n",
              "      <th>276565</th>\n",
              "      <td>2017-08-03</td>\n",
              "      <td>0</td>\n",
              "    </tr>\n",
              "    <tr>\n",
              "      <th>276566</th>\n",
              "      <td>2017-10-21</td>\n",
              "      <td>0</td>\n",
              "    </tr>\n",
              "    <tr>\n",
              "      <th>276568</th>\n",
              "      <td>2017-09-09</td>\n",
              "      <td>0</td>\n",
              "    </tr>\n",
              "    <tr>\n",
              "      <th>276569</th>\n",
              "      <td>2017-04-23</td>\n",
              "      <td>0</td>\n",
              "    </tr>\n",
              "    <tr>\n",
              "      <th>276571</th>\n",
              "      <td>2017-07-20</td>\n",
              "      <td>0</td>\n",
              "    </tr>\n",
              "  </tbody>\n",
              "</table>\n",
              "<p>208500 rows × 2 columns</p>\n",
              "</div>\n",
              "      <button class=\"colab-df-convert\" onclick=\"convertToInteractive('df-aaeab63c-3d48-4f11-8571-ca8c72068fcf')\"\n",
              "              title=\"Convert this dataframe to an interactive table.\"\n",
              "              style=\"display:none;\">\n",
              "        \n",
              "  <svg xmlns=\"http://www.w3.org/2000/svg\" height=\"24px\"viewBox=\"0 0 24 24\"\n",
              "       width=\"24px\">\n",
              "    <path d=\"M0 0h24v24H0V0z\" fill=\"none\"/>\n",
              "    <path d=\"M18.56 5.44l.94 2.06.94-2.06 2.06-.94-2.06-.94-.94-2.06-.94 2.06-2.06.94zm-11 1L8.5 8.5l.94-2.06 2.06-.94-2.06-.94L8.5 2.5l-.94 2.06-2.06.94zm10 10l.94 2.06.94-2.06 2.06-.94-2.06-.94-.94-2.06-.94 2.06-2.06.94z\"/><path d=\"M17.41 7.96l-1.37-1.37c-.4-.4-.92-.59-1.43-.59-.52 0-1.04.2-1.43.59L10.3 9.45l-7.72 7.72c-.78.78-.78 2.05 0 2.83L4 21.41c.39.39.9.59 1.41.59.51 0 1.02-.2 1.41-.59l7.78-7.78 2.81-2.81c.8-.78.8-2.07 0-2.86zM5.41 20L4 18.59l7.72-7.72 1.47 1.35L5.41 20z\"/>\n",
              "  </svg>\n",
              "      </button>\n",
              "      \n",
              "  <style>\n",
              "    .colab-df-container {\n",
              "      display:flex;\n",
              "      flex-wrap:wrap;\n",
              "      gap: 12px;\n",
              "    }\n",
              "\n",
              "    .colab-df-convert {\n",
              "      background-color: #E8F0FE;\n",
              "      border: none;\n",
              "      border-radius: 50%;\n",
              "      cursor: pointer;\n",
              "      display: none;\n",
              "      fill: #1967D2;\n",
              "      height: 32px;\n",
              "      padding: 0 0 0 0;\n",
              "      width: 32px;\n",
              "    }\n",
              "\n",
              "    .colab-df-convert:hover {\n",
              "      background-color: #E2EBFA;\n",
              "      box-shadow: 0px 1px 2px rgba(60, 64, 67, 0.3), 0px 1px 3px 1px rgba(60, 64, 67, 0.15);\n",
              "      fill: #174EA6;\n",
              "    }\n",
              "\n",
              "    [theme=dark] .colab-df-convert {\n",
              "      background-color: #3B4455;\n",
              "      fill: #D2E3FC;\n",
              "    }\n",
              "\n",
              "    [theme=dark] .colab-df-convert:hover {\n",
              "      background-color: #434B5C;\n",
              "      box-shadow: 0px 1px 3px 1px rgba(0, 0, 0, 0.15);\n",
              "      filter: drop-shadow(0px 1px 2px rgba(0, 0, 0, 0.3));\n",
              "      fill: #FFFFFF;\n",
              "    }\n",
              "  </style>\n",
              "\n",
              "      <script>\n",
              "        const buttonEl =\n",
              "          document.querySelector('#df-aaeab63c-3d48-4f11-8571-ca8c72068fcf button.colab-df-convert');\n",
              "        buttonEl.style.display =\n",
              "          google.colab.kernel.accessAllowed ? 'block' : 'none';\n",
              "\n",
              "        async function convertToInteractive(key) {\n",
              "          const element = document.querySelector('#df-aaeab63c-3d48-4f11-8571-ca8c72068fcf');\n",
              "          const dataTable =\n",
              "            await google.colab.kernel.invokeFunction('convertToInteractive',\n",
              "                                                     [key], {});\n",
              "          if (!dataTable) return;\n",
              "\n",
              "          const docLinkHtml = 'Like what you see? Visit the ' +\n",
              "            '<a target=\"_blank\" href=https://colab.research.google.com/notebooks/data_table.ipynb>data table notebook</a>'\n",
              "            + ' to learn more about interactive tables.';\n",
              "          element.innerHTML = '';\n",
              "          dataTable['output_type'] = 'display_data';\n",
              "          await google.colab.output.renderOutput(dataTable, element);\n",
              "          const docLink = document.createElement('div');\n",
              "          docLink.innerHTML = docLinkHtml;\n",
              "          element.appendChild(docLink);\n",
              "        }\n",
              "      </script>\n",
              "    </div>\n",
              "  </div>\n",
              "  "
            ],
            "text/plain": [
              "              S_2  target\n",
              "0      2017-12-04       0\n",
              "2      2017-12-17       1\n",
              "4      2017-07-01       1\n",
              "7      2017-10-15       1\n",
              "8      2017-11-19       1\n",
              "...           ...     ...\n",
              "276565 2017-08-03       0\n",
              "276566 2017-10-21       0\n",
              "276568 2017-09-09       0\n",
              "276569 2017-04-23       0\n",
              "276571 2017-07-20       0\n",
              "\n",
              "[208500 rows x 2 columns]"
            ]
          },
          "execution_count": 38,
          "metadata": {},
          "output_type": "execute_result"
        }
      ],
      "source": [
        "year_2017 = df_reducido.loc[df_reducido['year'] == 2017, ['S_2', 'target']]\n",
        "year_2017"
      ]
    },
    {
      "cell_type": "code",
      "execution_count": 39,
      "metadata": {
        "colab": {
          "base_uri": "https://localhost:8080/"
        },
        "id": "JFIeRsmh5qwU",
        "outputId": "a99031e3-f09d-4d18-f3df-fdf24b33efe8"
      },
      "outputs": [
        {
          "data": {
            "text/plain": [
              "12    22019\n",
              "10    21667\n",
              "11    21542\n",
              "9     21125\n",
              "8     21017\n",
              "7     20829\n",
              "6     20606\n",
              "4     20117\n",
              "5     19914\n",
              "3     19664\n",
              "Name: month, dtype: int64"
            ]
          },
          "execution_count": 39,
          "metadata": {},
          "output_type": "execute_result"
        }
      ],
      "source": [
        "year_2017['month'] = pd.DatetimeIndex(year_2017['S_2']).month\n",
        "year_2017['month'].value_counts()"
      ]
    },
    {
      "cell_type": "code",
      "execution_count": 40,
      "metadata": {
        "colab": {
          "base_uri": "https://localhost:8080/",
          "height": 0
        },
        "id": "5niASnqa5qwU",
        "outputId": "96828e5e-3a79-459a-9fd7-fc4ec5ffa891"
      },
      "outputs": [
        {
          "data": {
            "text/html": [
              "\n",
              "  <div id=\"df-d62ac68e-f726-467a-8085-c2b9f327d501\">\n",
              "    <div class=\"colab-df-container\">\n",
              "      <div>\n",
              "<style scoped>\n",
              "    .dataframe tbody tr th:only-of-type {\n",
              "        vertical-align: middle;\n",
              "    }\n",
              "\n",
              "    .dataframe tbody tr th {\n",
              "        vertical-align: top;\n",
              "    }\n",
              "\n",
              "    .dataframe thead th {\n",
              "        text-align: right;\n",
              "    }\n",
              "</style>\n",
              "<table border=\"1\" class=\"dataframe\">\n",
              "  <thead>\n",
              "    <tr style=\"text-align: right;\">\n",
              "      <th></th>\n",
              "      <th>month</th>\n",
              "      <th>target</th>\n",
              "    </tr>\n",
              "  </thead>\n",
              "  <tbody>\n",
              "    <tr>\n",
              "      <th>0</th>\n",
              "      <td>3</td>\n",
              "      <td>4606</td>\n",
              "    </tr>\n",
              "    <tr>\n",
              "      <th>1</th>\n",
              "      <td>4</td>\n",
              "      <td>4598</td>\n",
              "    </tr>\n",
              "    <tr>\n",
              "      <th>2</th>\n",
              "      <td>5</td>\n",
              "      <td>4787</td>\n",
              "    </tr>\n",
              "    <tr>\n",
              "      <th>3</th>\n",
              "      <td>6</td>\n",
              "      <td>4958</td>\n",
              "    </tr>\n",
              "    <tr>\n",
              "      <th>4</th>\n",
              "      <td>7</td>\n",
              "      <td>5099</td>\n",
              "    </tr>\n",
              "    <tr>\n",
              "      <th>5</th>\n",
              "      <td>8</td>\n",
              "      <td>5194</td>\n",
              "    </tr>\n",
              "    <tr>\n",
              "      <th>6</th>\n",
              "      <td>9</td>\n",
              "      <td>5348</td>\n",
              "    </tr>\n",
              "    <tr>\n",
              "      <th>7</th>\n",
              "      <td>10</td>\n",
              "      <td>5450</td>\n",
              "    </tr>\n",
              "    <tr>\n",
              "      <th>8</th>\n",
              "      <td>11</td>\n",
              "      <td>5390</td>\n",
              "    </tr>\n",
              "    <tr>\n",
              "      <th>9</th>\n",
              "      <td>12</td>\n",
              "      <td>5658</td>\n",
              "    </tr>\n",
              "  </tbody>\n",
              "</table>\n",
              "</div>\n",
              "      <button class=\"colab-df-convert\" onclick=\"convertToInteractive('df-d62ac68e-f726-467a-8085-c2b9f327d501')\"\n",
              "              title=\"Convert this dataframe to an interactive table.\"\n",
              "              style=\"display:none;\">\n",
              "        \n",
              "  <svg xmlns=\"http://www.w3.org/2000/svg\" height=\"24px\"viewBox=\"0 0 24 24\"\n",
              "       width=\"24px\">\n",
              "    <path d=\"M0 0h24v24H0V0z\" fill=\"none\"/>\n",
              "    <path d=\"M18.56 5.44l.94 2.06.94-2.06 2.06-.94-2.06-.94-.94-2.06-.94 2.06-2.06.94zm-11 1L8.5 8.5l.94-2.06 2.06-.94-2.06-.94L8.5 2.5l-.94 2.06-2.06.94zm10 10l.94 2.06.94-2.06 2.06-.94-2.06-.94-.94-2.06-.94 2.06-2.06.94z\"/><path d=\"M17.41 7.96l-1.37-1.37c-.4-.4-.92-.59-1.43-.59-.52 0-1.04.2-1.43.59L10.3 9.45l-7.72 7.72c-.78.78-.78 2.05 0 2.83L4 21.41c.39.39.9.59 1.41.59.51 0 1.02-.2 1.41-.59l7.78-7.78 2.81-2.81c.8-.78.8-2.07 0-2.86zM5.41 20L4 18.59l7.72-7.72 1.47 1.35L5.41 20z\"/>\n",
              "  </svg>\n",
              "      </button>\n",
              "      \n",
              "  <style>\n",
              "    .colab-df-container {\n",
              "      display:flex;\n",
              "      flex-wrap:wrap;\n",
              "      gap: 12px;\n",
              "    }\n",
              "\n",
              "    .colab-df-convert {\n",
              "      background-color: #E8F0FE;\n",
              "      border: none;\n",
              "      border-radius: 50%;\n",
              "      cursor: pointer;\n",
              "      display: none;\n",
              "      fill: #1967D2;\n",
              "      height: 32px;\n",
              "      padding: 0 0 0 0;\n",
              "      width: 32px;\n",
              "    }\n",
              "\n",
              "    .colab-df-convert:hover {\n",
              "      background-color: #E2EBFA;\n",
              "      box-shadow: 0px 1px 2px rgba(60, 64, 67, 0.3), 0px 1px 3px 1px rgba(60, 64, 67, 0.15);\n",
              "      fill: #174EA6;\n",
              "    }\n",
              "\n",
              "    [theme=dark] .colab-df-convert {\n",
              "      background-color: #3B4455;\n",
              "      fill: #D2E3FC;\n",
              "    }\n",
              "\n",
              "    [theme=dark] .colab-df-convert:hover {\n",
              "      background-color: #434B5C;\n",
              "      box-shadow: 0px 1px 3px 1px rgba(0, 0, 0, 0.15);\n",
              "      filter: drop-shadow(0px 1px 2px rgba(0, 0, 0, 0.3));\n",
              "      fill: #FFFFFF;\n",
              "    }\n",
              "  </style>\n",
              "\n",
              "      <script>\n",
              "        const buttonEl =\n",
              "          document.querySelector('#df-d62ac68e-f726-467a-8085-c2b9f327d501 button.colab-df-convert');\n",
              "        buttonEl.style.display =\n",
              "          google.colab.kernel.accessAllowed ? 'block' : 'none';\n",
              "\n",
              "        async function convertToInteractive(key) {\n",
              "          const element = document.querySelector('#df-d62ac68e-f726-467a-8085-c2b9f327d501');\n",
              "          const dataTable =\n",
              "            await google.colab.kernel.invokeFunction('convertToInteractive',\n",
              "                                                     [key], {});\n",
              "          if (!dataTable) return;\n",
              "\n",
              "          const docLinkHtml = 'Like what you see? Visit the ' +\n",
              "            '<a target=\"_blank\" href=https://colab.research.google.com/notebooks/data_table.ipynb>data table notebook</a>'\n",
              "            + ' to learn more about interactive tables.';\n",
              "          element.innerHTML = '';\n",
              "          dataTable['output_type'] = 'display_data';\n",
              "          await google.colab.output.renderOutput(dataTable, element);\n",
              "          const docLink = document.createElement('div');\n",
              "          docLink.innerHTML = docLinkHtml;\n",
              "          element.appendChild(docLink);\n",
              "        }\n",
              "      </script>\n",
              "    </div>\n",
              "  </div>\n",
              "  "
            ],
            "text/plain": [
              "   month  target\n",
              "0      3    4606\n",
              "1      4    4598\n",
              "2      5    4787\n",
              "3      6    4958\n",
              "4      7    5099\n",
              "5      8    5194\n",
              "6      9    5348\n",
              "7     10    5450\n",
              "8     11    5390\n",
              "9     12    5658"
            ]
          },
          "execution_count": 40,
          "metadata": {},
          "output_type": "execute_result"
        }
      ],
      "source": [
        "months_2017 = year_2017.groupby(['month'])['target'].sum().reset_index()\n",
        "months_2017"
      ]
    },
    {
      "cell_type": "code",
      "execution_count": 41,
      "metadata": {
        "colab": {
          "base_uri": "https://localhost:8080/",
          "height": 0
        },
        "id": "GxbMrH3q5qwU",
        "outputId": "eb906745-7bf7-4072-bab0-fd5786d52f0f"
      },
      "outputs": [
        {
          "data": {
            "text/plain": [
              "Text(0, 0.5, 'Número de pagos incumplidos')"
            ]
          },
          "execution_count": 41,
          "metadata": {},
          "output_type": "execute_result"
        },
        {
          "data": {
            "image/png": "[encoded data removed]",
            "text/plain": [
              "<Figure size 432x288 with 1 Axes>"
            ]
          },
          "metadata": {
            "needs_background": "light"
          },
          "output_type": "display_data"
        }
      ],
      "source": [
        "g = sns.barplot(x=months_2017.month, y=months_2017.target, palette='husl')\n",
        "g.set_title(\"Incumplimientos de pago por mes en 2017\", fontsize=15)\n",
        "g.set_xlabel(\"Mes\", fontsize=12)\n",
        "g.set_ylabel(\"Número de pagos incumplidos\", fontsize=12)"
      ]
    },
    {
      "cell_type": "code",
      "execution_count": 42,
      "metadata": {
        "colab": {
          "base_uri": "https://localhost:8080/",
          "height": 0
        },
        "id": "vRdtnbJa5qwV",
        "outputId": "a6dee43a-3b00-44f5-bf24-d4db2fd82f47"
      },
      "outputs": [
        {
          "data": {
            "text/html": [
              "\n",
              "  <div id=\"df-5afcb623-5359-44a0-9c0e-7ca2f29e3bda\">\n",
              "    <div class=\"colab-df-container\">\n",
              "      <div>\n",
              "<style scoped>\n",
              "    .dataframe tbody tr th:only-of-type {\n",
              "        vertical-align: middle;\n",
              "    }\n",
              "\n",
              "    .dataframe tbody tr th {\n",
              "        vertical-align: top;\n",
              "    }\n",
              "\n",
              "    .dataframe thead th {\n",
              "        text-align: right;\n",
              "    }\n",
              "</style>\n",
              "<table border=\"1\" class=\"dataframe\">\n",
              "  <thead>\n",
              "    <tr style=\"text-align: right;\">\n",
              "      <th></th>\n",
              "      <th>S_2</th>\n",
              "      <th>target</th>\n",
              "    </tr>\n",
              "  </thead>\n",
              "  <tbody>\n",
              "    <tr>\n",
              "      <th>1</th>\n",
              "      <td>2018-01-11</td>\n",
              "      <td>0</td>\n",
              "    </tr>\n",
              "    <tr>\n",
              "      <th>3</th>\n",
              "      <td>2018-03-16</td>\n",
              "      <td>1</td>\n",
              "    </tr>\n",
              "    <tr>\n",
              "      <th>5</th>\n",
              "      <td>2018-02-10</td>\n",
              "      <td>1</td>\n",
              "    </tr>\n",
              "    <tr>\n",
              "      <th>6</th>\n",
              "      <td>2018-03-13</td>\n",
              "      <td>1</td>\n",
              "    </tr>\n",
              "    <tr>\n",
              "      <th>13</th>\n",
              "      <td>2018-01-20</td>\n",
              "      <td>0</td>\n",
              "    </tr>\n",
              "    <tr>\n",
              "      <th>...</th>\n",
              "      <td>...</td>\n",
              "      <td>...</td>\n",
              "    </tr>\n",
              "    <tr>\n",
              "      <th>276551</th>\n",
              "      <td>2018-01-27</td>\n",
              "      <td>0</td>\n",
              "    </tr>\n",
              "    <tr>\n",
              "      <th>276560</th>\n",
              "      <td>2018-01-17</td>\n",
              "      <td>1</td>\n",
              "    </tr>\n",
              "    <tr>\n",
              "      <th>276563</th>\n",
              "      <td>2018-02-17</td>\n",
              "      <td>0</td>\n",
              "    </tr>\n",
              "    <tr>\n",
              "      <th>276567</th>\n",
              "      <td>2018-02-17</td>\n",
              "      <td>0</td>\n",
              "    </tr>\n",
              "    <tr>\n",
              "      <th>276570</th>\n",
              "      <td>2018-01-11</td>\n",
              "      <td>0</td>\n",
              "    </tr>\n",
              "  </tbody>\n",
              "</table>\n",
              "<p>68072 rows × 2 columns</p>\n",
              "</div>\n",
              "      <button class=\"colab-df-convert\" onclick=\"convertToInteractive('df-5afcb623-5359-44a0-9c0e-7ca2f29e3bda')\"\n",
              "              title=\"Convert this dataframe to an interactive table.\"\n",
              "              style=\"display:none;\">\n",
              "        \n",
              "  <svg xmlns=\"http://www.w3.org/2000/svg\" height=\"24px\"viewBox=\"0 0 24 24\"\n",
              "       width=\"24px\">\n",
              "    <path d=\"M0 0h24v24H0V0z\" fill=\"none\"/>\n",
              "    <path d=\"M18.56 5.44l.94 2.06.94-2.06 2.06-.94-2.06-.94-.94-2.06-.94 2.06-2.06.94zm-11 1L8.5 8.5l.94-2.06 2.06-.94-2.06-.94L8.5 2.5l-.94 2.06-2.06.94zm10 10l.94 2.06.94-2.06 2.06-.94-2.06-.94-.94-2.06-.94 2.06-2.06.94z\"/><path d=\"M17.41 7.96l-1.37-1.37c-.4-.4-.92-.59-1.43-.59-.52 0-1.04.2-1.43.59L10.3 9.45l-7.72 7.72c-.78.78-.78 2.05 0 2.83L4 21.41c.39.39.9.59 1.41.59.51 0 1.02-.2 1.41-.59l7.78-7.78 2.81-2.81c.8-.78.8-2.07 0-2.86zM5.41 20L4 18.59l7.72-7.72 1.47 1.35L5.41 20z\"/>\n",
              "  </svg>\n",
              "      </button>\n",
              "      \n",
              "  <style>\n",
              "    .colab-df-container {\n",
              "      display:flex;\n",
              "      flex-wrap:wrap;\n",
              "      gap: 12px;\n",
              "    }\n",
              "\n",
              "    .colab-df-convert {\n",
              "      background-color: #E8F0FE;\n",
              "      border: none;\n",
              "      border-radius: 50%;\n",
              "      cursor: pointer;\n",
              "      display: none;\n",
              "      fill: #1967D2;\n",
              "      height: 32px;\n",
              "      padding: 0 0 0 0;\n",
              "      width: 32px;\n",
              "    }\n",
              "\n",
              "    .colab-df-convert:hover {\n",
              "      background-color: #E2EBFA;\n",
              "      box-shadow: 0px 1px 2px rgba(60, 64, 67, 0.3), 0px 1px 3px 1px rgba(60, 64, 67, 0.15);\n",
              "      fill: #174EA6;\n",
              "    }\n",
              "\n",
              "    [theme=dark] .colab-df-convert {\n",
              "      background-color: #3B4455;\n",
              "      fill: #D2E3FC;\n",
              "    }\n",
              "\n",
              "    [theme=dark] .colab-df-convert:hover {\n",
              "      background-color: #434B5C;\n",
              "      box-shadow: 0px 1px 3px 1px rgba(0, 0, 0, 0.15);\n",
              "      filter: drop-shadow(0px 1px 2px rgba(0, 0, 0, 0.3));\n",
              "      fill: #FFFFFF;\n",
              "    }\n",
              "  </style>\n",
              "\n",
              "      <script>\n",
              "        const buttonEl =\n",
              "          document.querySelector('#df-5afcb623-5359-44a0-9c0e-7ca2f29e3bda button.colab-df-convert');\n",
              "        buttonEl.style.display =\n",
              "          google.colab.kernel.accessAllowed ? 'block' : 'none';\n",
              "\n",
              "        async function convertToInteractive(key) {\n",
              "          const element = document.querySelector('#df-5afcb623-5359-44a0-9c0e-7ca2f29e3bda');\n",
              "          const dataTable =\n",
              "            await google.colab.kernel.invokeFunction('convertToInteractive',\n",
              "                                                     [key], {});\n",
              "          if (!dataTable) return;\n",
              "\n",
              "          const docLinkHtml = 'Like what you see? Visit the ' +\n",
              "            '<a target=\"_blank\" href=https://colab.research.google.com/notebooks/data_table.ipynb>data table notebook</a>'\n",
              "            + ' to learn more about interactive tables.';\n",
              "          element.innerHTML = '';\n",
              "          dataTable['output_type'] = 'display_data';\n",
              "          await google.colab.output.renderOutput(dataTable, element);\n",
              "          const docLink = document.createElement('div');\n",
              "          docLink.innerHTML = docLinkHtml;\n",
              "          element.appendChild(docLink);\n",
              "        }\n",
              "      </script>\n",
              "    </div>\n",
              "  </div>\n",
              "  "
            ],
            "text/plain": [
              "              S_2  target\n",
              "1      2018-01-11       0\n",
              "3      2018-03-16       1\n",
              "5      2018-02-10       1\n",
              "6      2018-03-13       1\n",
              "13     2018-01-20       0\n",
              "...           ...     ...\n",
              "276551 2018-01-27       0\n",
              "276560 2018-01-17       1\n",
              "276563 2018-02-17       0\n",
              "276567 2018-02-17       0\n",
              "276570 2018-01-11       0\n",
              "\n",
              "[68072 rows x 2 columns]"
            ]
          },
          "execution_count": 42,
          "metadata": {},
          "output_type": "execute_result"
        }
      ],
      "source": [
        "year_2018 = df_reducido.loc[df_reducido['year'] == 2018, ['S_2', 'target']]\n",
        "year_2018"
      ]
    },
    {
      "cell_type": "code",
      "execution_count": 43,
      "metadata": {
        "colab": {
          "base_uri": "https://localhost:8080/"
        },
        "id": "z4mcCXpV5qwV",
        "outputId": "e3f89a2c-4b65-4732-940a-944737f344c5"
      },
      "outputs": [
        {
          "data": {
            "text/plain": [
              "3    22889\n",
              "2    22784\n",
              "1    22399\n",
              "Name: month, dtype: int64"
            ]
          },
          "execution_count": 43,
          "metadata": {},
          "output_type": "execute_result"
        }
      ],
      "source": [
        "year_2018['month'] = pd.DatetimeIndex(year_2018['S_2']).month\n",
        "year_2018['month'].value_counts()"
      ]
    },
    {
      "cell_type": "code",
      "execution_count": 44,
      "metadata": {
        "colab": {
          "base_uri": "https://localhost:8080/",
          "height": 0
        },
        "id": "CT4diLn-5qwV",
        "outputId": "074826f1-3c1e-4e9d-8bf3-3ffa1337a826"
      },
      "outputs": [
        {
          "data": {
            "text/html": [
              "\n",
              "  <div id=\"df-fbecf17a-ab16-477d-9ca1-0f93baf31c93\">\n",
              "    <div class=\"colab-df-container\">\n",
              "      <div>\n",
              "<style scoped>\n",
              "    .dataframe tbody tr th:only-of-type {\n",
              "        vertical-align: middle;\n",
              "    }\n",
              "\n",
              "    .dataframe tbody tr th {\n",
              "        vertical-align: top;\n",
              "    }\n",
              "\n",
              "    .dataframe thead th {\n",
              "        text-align: right;\n",
              "    }\n",
              "</style>\n",
              "<table border=\"1\" class=\"dataframe\">\n",
              "  <thead>\n",
              "    <tr style=\"text-align: right;\">\n",
              "      <th></th>\n",
              "      <th>month</th>\n",
              "      <th>target</th>\n",
              "    </tr>\n",
              "  </thead>\n",
              "  <tbody>\n",
              "    <tr>\n",
              "      <th>0</th>\n",
              "      <td>1</td>\n",
              "      <td>5810</td>\n",
              "    </tr>\n",
              "    <tr>\n",
              "      <th>1</th>\n",
              "      <td>2</td>\n",
              "      <td>5990</td>\n",
              "    </tr>\n",
              "    <tr>\n",
              "      <th>2</th>\n",
              "      <td>3</td>\n",
              "      <td>5972</td>\n",
              "    </tr>\n",
              "  </tbody>\n",
              "</table>\n",
              "</div>\n",
              "      <button class=\"colab-df-convert\" onclick=\"convertToInteractive('df-fbecf17a-ab16-477d-9ca1-0f93baf31c93')\"\n",
              "              title=\"Convert this dataframe to an interactive table.\"\n",
              "              style=\"display:none;\">\n",
              "        \n",
              "  <svg xmlns=\"http://www.w3.org/2000/svg\" height=\"24px\"viewBox=\"0 0 24 24\"\n",
              "       width=\"24px\">\n",
              "    <path d=\"M0 0h24v24H0V0z\" fill=\"none\"/>\n",
              "    <path d=\"M18.56 5.44l.94 2.06.94-2.06 2.06-.94-2.06-.94-.94-2.06-.94 2.06-2.06.94zm-11 1L8.5 8.5l.94-2.06 2.06-.94-2.06-.94L8.5 2.5l-.94 2.06-2.06.94zm10 10l.94 2.06.94-2.06 2.06-.94-2.06-.94-.94-2.06-.94 2.06-2.06.94z\"/><path d=\"M17.41 7.96l-1.37-1.37c-.4-.4-.92-.59-1.43-.59-.52 0-1.04.2-1.43.59L10.3 9.45l-7.72 7.72c-.78.78-.78 2.05 0 2.83L4 21.41c.39.39.9.59 1.41.59.51 0 1.02-.2 1.41-.59l7.78-7.78 2.81-2.81c.8-.78.8-2.07 0-2.86zM5.41 20L4 18.59l7.72-7.72 1.47 1.35L5.41 20z\"/>\n",
              "  </svg>\n",
              "      </button>\n",
              "      \n",
              "  <style>\n",
              "    .colab-df-container {\n",
              "      display:flex;\n",
              "      flex-wrap:wrap;\n",
              "      gap: 12px;\n",
              "    }\n",
              "\n",
              "    .colab-df-convert {\n",
              "      background-color: #E8F0FE;\n",
              "      border: none;\n",
              "      border-radius: 50%;\n",
              "      cursor: pointer;\n",
              "      display: none;\n",
              "      fill: #1967D2;\n",
              "      height: 32px;\n",
              "      padding: 0 0 0 0;\n",
              "      width: 32px;\n",
              "    }\n",
              "\n",
              "    .colab-df-convert:hover {\n",
              "      background-color: #E2EBFA;\n",
              "      box-shadow: 0px 1px 2px rgba(60, 64, 67, 0.3), 0px 1px 3px 1px rgba(60, 64, 67, 0.15);\n",
              "      fill: #174EA6;\n",
              "    }\n",
              "\n",
              "    [theme=dark] .colab-df-convert {\n",
              "      background-color: #3B4455;\n",
              "      fill: #D2E3FC;\n",
              "    }\n",
              "\n",
              "    [theme=dark] .colab-df-convert:hover {\n",
              "      background-color: #434B5C;\n",
              "      box-shadow: 0px 1px 3px 1px rgba(0, 0, 0, 0.15);\n",
              "      filter: drop-shadow(0px 1px 2px rgba(0, 0, 0, 0.3));\n",
              "      fill: #FFFFFF;\n",
              "    }\n",
              "  </style>\n",
              "\n",
              "      <script>\n",
              "        const buttonEl =\n",
              "          document.querySelector('#df-fbecf17a-ab16-477d-9ca1-0f93baf31c93 button.colab-df-convert');\n",
              "        buttonEl.style.display =\n",
              "          google.colab.kernel.accessAllowed ? 'block' : 'none';\n",
              "\n",
              "        async function convertToInteractive(key) {\n",
              "          const element = document.querySelector('#df-fbecf17a-ab16-477d-9ca1-0f93baf31c93');\n",
              "          const dataTable =\n",
              "            await google.colab.kernel.invokeFunction('convertToInteractive',\n",
              "                                                     [key], {});\n",
              "          if (!dataTable) return;\n",
              "\n",
              "          const docLinkHtml = 'Like what you see? Visit the ' +\n",
              "            '<a target=\"_blank\" href=https://colab.research.google.com/notebooks/data_table.ipynb>data table notebook</a>'\n",
              "            + ' to learn more about interactive tables.';\n",
              "          element.innerHTML = '';\n",
              "          dataTable['output_type'] = 'display_data';\n",
              "          await google.colab.output.renderOutput(dataTable, element);\n",
              "          const docLink = document.createElement('div');\n",
              "          docLink.innerHTML = docLinkHtml;\n",
              "          element.appendChild(docLink);\n",
              "        }\n",
              "      </script>\n",
              "    </div>\n",
              "  </div>\n",
              "  "
            ],
            "text/plain": [
              "   month  target\n",
              "0      1    5810\n",
              "1      2    5990\n",
              "2      3    5972"
            ]
          },
          "execution_count": 44,
          "metadata": {},
          "output_type": "execute_result"
        }
      ],
      "source": [
        "months_2018 = year_2018.groupby(['month'])['target'].sum().reset_index()\n",
        "months_2018"
      ]
    },
    {
      "cell_type": "code",
      "execution_count": 45,
      "metadata": {
        "colab": {
          "base_uri": "https://localhost:8080/",
          "height": 0
        },
        "id": "g2dg1xgC5qwV",
        "outputId": "ad283868-9002-42ed-d653-a26326267201"
      },
      "outputs": [
        {
          "data": {
            "text/plain": [
              "Text(0, 0.5, 'Número de pagos incumplidos')"
            ]
          },
          "execution_count": 45,
          "metadata": {},
          "output_type": "execute_result"
        },
        {
          "data": {
            "image/png": "[encoded data removed]",
            "text/plain": [
              "<Figure size 432x288 with 1 Axes>"
            ]
          },
          "metadata": {
            "needs_background": "light"
          },
          "output_type": "display_data"
        }
      ],
      "source": [
        "g = sns.barplot(x=months_2018.month, y=months_2018.target, palette='husl')\n",
        "g.set_title(\"Incumplimientos de pago por mes en 2018\", fontsize=15)\n",
        "g.set_xlabel(\"Mes\", fontsize=12)\n",
        "g.set_ylabel(\"Número de pagos incumplidos\", fontsize=12)"
      ]
    },
    {
      "cell_type": "markdown",
      "metadata": {
        "id": "9BW4otLc5qwV"
      },
      "source": [
        "En ambos años se ve un pequeño crecimiento de incumplimiento de pagos al pasar los meses. En enero de 2018 hubieron mas incumplimientos que en diciembre de 2017. Es decir, cada vez se cumplen menos los pagos de las deudas al pasar el tiempo. Esto también se puede deber a que aumentaron los clientes. Habría que analizar la proporción de aumento de clientes con el aumento de los incumplimientos de pago."
      ]
    },
    {
      "cell_type": "code",
      "execution_count": 46,
      "metadata": {
        "id": "A91wt9WL5qwV"
      },
      "outputs": [],
      "source": [
        "df_reducido.drop(columns=['year'], inplace=True)"
      ]
    },
    {
      "cell_type": "markdown",
      "metadata": {
        "id": "2MD3ySY05qwW"
      },
      "source": [
        "## b) Ingeniería de características"
      ]
    },
    {
      "cell_type": "markdown",
      "metadata": {
        "id": "5365Jl_x5qwW"
      },
      "source": [
        "Eliminamos la variable \"customer_ID\" ya que no aporta información relevante que ayude a predecir el target"
      ]
    },
    {
      "cell_type": "code",
      "execution_count": 47,
      "metadata": {
        "colab": {
          "base_uri": "https://localhost:8080/",
          "height": 300
        },
        "id": "STyKHxr95qwW",
        "outputId": "e606c8ac-5647-49a5-b2a6-3e1cb809570f"
      },
      "outputs": [
        {
          "data": {
            "text/html": [
              "\n",
              "  <div id=\"df-b4a344e0-7495-4bbc-8d8b-b3394f4927ed\">\n",
              "    <div class=\"colab-df-container\">\n",
              "      <div>\n",
              "<style scoped>\n",
              "    .dataframe tbody tr th:only-of-type {\n",
              "        vertical-align: middle;\n",
              "    }\n",
              "\n",
              "    .dataframe tbody tr th {\n",
              "        vertical-align: top;\n",
              "    }\n",
              "\n",
              "    .dataframe thead th {\n",
              "        text-align: right;\n",
              "    }\n",
              "</style>\n",
              "<table border=\"1\" class=\"dataframe\">\n",
              "  <thead>\n",
              "    <tr style=\"text-align: right;\">\n",
              "      <th></th>\n",
              "      <th>B_1</th>\n",
              "      <th>B_10</th>\n",
              "      <th>B_11</th>\n",
              "      <th>B_12</th>\n",
              "      <th>B_13</th>\n",
              "      <th>B_14</th>\n",
              "      <th>B_15</th>\n",
              "      <th>B_16</th>\n",
              "      <th>B_17</th>\n",
              "      <th>B_18</th>\n",
              "      <th>...</th>\n",
              "      <th>S_25</th>\n",
              "      <th>S_26</th>\n",
              "      <th>S_27</th>\n",
              "      <th>S_3</th>\n",
              "      <th>S_5</th>\n",
              "      <th>S_6</th>\n",
              "      <th>S_7</th>\n",
              "      <th>S_8</th>\n",
              "      <th>S_9</th>\n",
              "      <th>target</th>\n",
              "    </tr>\n",
              "  </thead>\n",
              "  <tbody>\n",
              "    <tr>\n",
              "      <th>0</th>\n",
              "      <td>0.001930</td>\n",
              "      <td>0.431864</td>\n",
              "      <td>0.004027</td>\n",
              "      <td>0.112579</td>\n",
              "      <td>0.074886</td>\n",
              "      <td>0.009725</td>\n",
              "      <td>0.007219</td>\n",
              "      <td>0.000227</td>\n",
              "      <td>NaN</td>\n",
              "      <td>1.007369</td>\n",
              "      <td>...</td>\n",
              "      <td>0.969777</td>\n",
              "      <td>0.022741</td>\n",
              "      <td>0.816651</td>\n",
              "      <td>0.100470</td>\n",
              "      <td>0.007165</td>\n",
              "      <td>0.002629</td>\n",
              "      <td>0.074646</td>\n",
              "      <td>0.759416</td>\n",
              "      <td>0.01934</td>\n",
              "      <td>0</td>\n",
              "    </tr>\n",
              "    <tr>\n",
              "      <th>1</th>\n",
              "      <td>0.100998</td>\n",
              "      <td>0.020843</td>\n",
              "      <td>0.065763</td>\n",
              "      <td>0.011516</td>\n",
              "      <td>0.011943</td>\n",
              "      <td>0.023915</td>\n",
              "      <td>0.002677</td>\n",
              "      <td>0.752512</td>\n",
              "      <td>NaN</td>\n",
              "      <td>0.245604</td>\n",
              "      <td>...</td>\n",
              "      <td>0.554076</td>\n",
              "      <td>0.007319</td>\n",
              "      <td>0.003056</td>\n",
              "      <td>0.333741</td>\n",
              "      <td>0.007118</td>\n",
              "      <td>0.003323</td>\n",
              "      <td>0.449327</td>\n",
              "      <td>0.121571</td>\n",
              "      <td>NaN</td>\n",
              "      <td>0</td>\n",
              "    </tr>\n",
              "    <tr>\n",
              "      <th>2</th>\n",
              "      <td>0.932366</td>\n",
              "      <td>0.006830</td>\n",
              "      <td>0.938222</td>\n",
              "      <td>0.018259</td>\n",
              "      <td>0.011526</td>\n",
              "      <td>0.310057</td>\n",
              "      <td>0.007449</td>\n",
              "      <td>1.005576</td>\n",
              "      <td>0.958476</td>\n",
              "      <td>0.100295</td>\n",
              "      <td>...</td>\n",
              "      <td>0.977311</td>\n",
              "      <td>0.005956</td>\n",
              "      <td>NaN</td>\n",
              "      <td>0.166899</td>\n",
              "      <td>0.023294</td>\n",
              "      <td>1.001347</td>\n",
              "      <td>0.195864</td>\n",
              "      <td>0.469173</td>\n",
              "      <td>NaN</td>\n",
              "      <td>1</td>\n",
              "    </tr>\n",
              "    <tr>\n",
              "      <th>3</th>\n",
              "      <td>0.090679</td>\n",
              "      <td>0.010080</td>\n",
              "      <td>0.061696</td>\n",
              "      <td>0.009170</td>\n",
              "      <td>0.022505</td>\n",
              "      <td>0.021193</td>\n",
              "      <td>0.005326</td>\n",
              "      <td>0.004090</td>\n",
              "      <td>NaN</td>\n",
              "      <td>0.483923</td>\n",
              "      <td>...</td>\n",
              "      <td>0.970850</td>\n",
              "      <td>0.001798</td>\n",
              "      <td>0.006840</td>\n",
              "      <td>0.182016</td>\n",
              "      <td>0.054562</td>\n",
              "      <td>1.005409</td>\n",
              "      <td>0.283636</td>\n",
              "      <td>0.252979</td>\n",
              "      <td>NaN</td>\n",
              "      <td>1</td>\n",
              "    </tr>\n",
              "    <tr>\n",
              "      <th>4</th>\n",
              "      <td>0.096867</td>\n",
              "      <td>0.016876</td>\n",
              "      <td>0.072356</td>\n",
              "      <td>0.015320</td>\n",
              "      <td>0.032634</td>\n",
              "      <td>0.030532</td>\n",
              "      <td>0.003829</td>\n",
              "      <td>0.500069</td>\n",
              "      <td>0.008569</td>\n",
              "      <td>0.184785</td>\n",
              "      <td>...</td>\n",
              "      <td>0.101208</td>\n",
              "      <td>0.004177</td>\n",
              "      <td>0.004812</td>\n",
              "      <td>0.460324</td>\n",
              "      <td>0.042095</td>\n",
              "      <td>0.009332</td>\n",
              "      <td>0.568983</td>\n",
              "      <td>0.328557</td>\n",
              "      <td>NaN</td>\n",
              "      <td>1</td>\n",
              "    </tr>\n",
              "  </tbody>\n",
              "</table>\n",
              "<p>5 rows × 190 columns</p>\n",
              "</div>\n",
              "      <button class=\"colab-df-convert\" onclick=\"convertToInteractive('df-b4a344e0-7495-4bbc-8d8b-b3394f4927ed')\"\n",
              "              title=\"Convert this dataframe to an interactive table.\"\n",
              "              style=\"display:none;\">\n",
              "        \n",
              "  <svg xmlns=\"http://www.w3.org/2000/svg\" height=\"24px\"viewBox=\"0 0 24 24\"\n",
              "       width=\"24px\">\n",
              "    <path d=\"M0 0h24v24H0V0z\" fill=\"none\"/>\n",
              "    <path d=\"M18.56 5.44l.94 2.06.94-2.06 2.06-.94-2.06-.94-.94-2.06-.94 2.06-2.06.94zm-11 1L8.5 8.5l.94-2.06 2.06-.94-2.06-.94L8.5 2.5l-.94 2.06-2.06.94zm10 10l.94 2.06.94-2.06 2.06-.94-2.06-.94-.94-2.06-.94 2.06-2.06.94z\"/><path d=\"M17.41 7.96l-1.37-1.37c-.4-.4-.92-.59-1.43-.59-.52 0-1.04.2-1.43.59L10.3 9.45l-7.72 7.72c-.78.78-.78 2.05 0 2.83L4 21.41c.39.39.9.59 1.41.59.51 0 1.02-.2 1.41-.59l7.78-7.78 2.81-2.81c.8-.78.8-2.07 0-2.86zM5.41 20L4 18.59l7.72-7.72 1.47 1.35L5.41 20z\"/>\n",
              "  </svg>\n",
              "      </button>\n",
              "      \n",
              "  <style>\n",
              "    .colab-df-container {\n",
              "      display:flex;\n",
              "      flex-wrap:wrap;\n",
              "      gap: 12px;\n",
              "    }\n",
              "\n",
              "    .colab-df-convert {\n",
              "      background-color: #E8F0FE;\n",
              "      border: none;\n",
              "      border-radius: 50%;\n",
              "      cursor: pointer;\n",
              "      display: none;\n",
              "      fill: #1967D2;\n",
              "      height: 32px;\n",
              "      padding: 0 0 0 0;\n",
              "      width: 32px;\n",
              "    }\n",
              "\n",
              "    .colab-df-convert:hover {\n",
              "      background-color: #E2EBFA;\n",
              "      box-shadow: 0px 1px 2px rgba(60, 64, 67, 0.3), 0px 1px 3px 1px rgba(60, 64, 67, 0.15);\n",
              "      fill: #174EA6;\n",
              "    }\n",
              "\n",
              "    [theme=dark] .colab-df-convert {\n",
              "      background-color: #3B4455;\n",
              "      fill: #D2E3FC;\n",
              "    }\n",
              "\n",
              "    [theme=dark] .colab-df-convert:hover {\n",
              "      background-color: #434B5C;\n",
              "      box-shadow: 0px 1px 3px 1px rgba(0, 0, 0, 0.15);\n",
              "      filter: drop-shadow(0px 1px 2px rgba(0, 0, 0, 0.3));\n",
              "      fill: #FFFFFF;\n",
              "    }\n",
              "  </style>\n",
              "\n",
              "      <script>\n",
              "        const buttonEl =\n",
              "          document.querySelector('#df-b4a344e0-7495-4bbc-8d8b-b3394f4927ed button.colab-df-convert');\n",
              "        buttonEl.style.display =\n",
              "          google.colab.kernel.accessAllowed ? 'block' : 'none';\n",
              "\n",
              "        async function convertToInteractive(key) {\n",
              "          const element = document.querySelector('#df-b4a344e0-7495-4bbc-8d8b-b3394f4927ed');\n",
              "          const dataTable =\n",
              "            await google.colab.kernel.invokeFunction('convertToInteractive',\n",
              "                                                     [key], {});\n",
              "          if (!dataTable) return;\n",
              "\n",
              "          const docLinkHtml = 'Like what you see? Visit the ' +\n",
              "            '<a target=\"_blank\" href=https://colab.research.google.com/notebooks/data_table.ipynb>data table notebook</a>'\n",
              "            + ' to learn more about interactive tables.';\n",
              "          element.innerHTML = '';\n",
              "          dataTable['output_type'] = 'display_data';\n",
              "          await google.colab.output.renderOutput(dataTable, element);\n",
              "          const docLink = document.createElement('div');\n",
              "          docLink.innerHTML = docLinkHtml;\n",
              "          element.appendChild(docLink);\n",
              "        }\n",
              "      </script>\n",
              "    </div>\n",
              "  </div>\n",
              "  "
            ],
            "text/plain": [
              "        B_1      B_10      B_11      B_12      B_13      B_14      B_15  \\\n",
              "0  0.001930  0.431864  0.004027  0.112579  0.074886  0.009725  0.007219   \n",
              "1  0.100998  0.020843  0.065763  0.011516  0.011943  0.023915  0.002677   \n",
              "2  0.932366  0.006830  0.938222  0.018259  0.011526  0.310057  0.007449   \n",
              "3  0.090679  0.010080  0.061696  0.009170  0.022505  0.021193  0.005326   \n",
              "4  0.096867  0.016876  0.072356  0.015320  0.032634  0.030532  0.003829   \n",
              "\n",
              "       B_16      B_17      B_18  ...      S_25      S_26      S_27       S_3  \\\n",
              "0  0.000227       NaN  1.007369  ...  0.969777  0.022741  0.816651  0.100470   \n",
              "1  0.752512       NaN  0.245604  ...  0.554076  0.007319  0.003056  0.333741   \n",
              "2  1.005576  0.958476  0.100295  ...  0.977311  0.005956       NaN  0.166899   \n",
              "3  0.004090       NaN  0.483923  ...  0.970850  0.001798  0.006840  0.182016   \n",
              "4  0.500069  0.008569  0.184785  ...  0.101208  0.004177  0.004812  0.460324   \n",
              "\n",
              "        S_5       S_6       S_7       S_8      S_9  target  \n",
              "0  0.007165  0.002629  0.074646  0.759416  0.01934       0  \n",
              "1  0.007118  0.003323  0.449327  0.121571      NaN       0  \n",
              "2  0.023294  1.001347  0.195864  0.469173      NaN       1  \n",
              "3  0.054562  1.005409  0.283636  0.252979      NaN       1  \n",
              "4  0.042095  0.009332  0.568983  0.328557      NaN       1  \n",
              "\n",
              "[5 rows x 190 columns]"
            ]
          },
          "execution_count": 47,
          "metadata": {},
          "output_type": "execute_result"
        }
      ],
      "source": [
        "df_reducido.drop(columns=['customer_ID'], inplace=True)\n",
        "df_reducido.head()"
      ]
    },
    {
      "cell_type": "markdown",
      "metadata": {
        "id": "FsBuJWUb5qwW"
      },
      "source": [
        "### Analizamos la cantidad de registros vacios"
      ]
    },
    {
      "cell_type": "markdown",
      "metadata": {
        "id": "1W_X42Fh5qwW"
      },
      "source": [
        "Para llevar a cabo el análisis de la cantidad de registros vacíos que posee cada columna utilizamos el porcentaje de los mismos, calculando la cantidad de registros vacíos sobre la cantidad total de registros que posee la columna. Decidimos que si dicho porcentaje es mayor a un 60% se eliminara dicha columna dada la falta de certeza sobre los datos."
      ]
    },
    {
      "cell_type": "code",
      "execution_count": 48,
      "metadata": {
        "id": "rcU5IFdL5qwW"
      },
      "outputs": [],
      "source": [
        "def calculate_percentage_of_null_values(df: pd.DataFrame):\n",
        "    number_of_rows = len(df)\n",
        "    count_of_nulls: pd.Series = df.isnull().sum()\n",
        "    percentages = []\n",
        "    for index, count in count_of_nulls.iteritems():\n",
        "        percentage = (count / number_of_rows) * 100\n",
        "            \n",
        "        percentages.append((index,percentage))\n",
        "            \n",
        "    return percentages"
      ]
    },
    {
      "cell_type": "code",
      "execution_count": 49,
      "metadata": {
        "id": "tozXgqES5qwX"
      },
      "outputs": [],
      "source": [
        "def eliminate_columns_with_high_percentage(percentages: list):\n",
        "    columns_to_eliminate = []\n",
        "    new_percentages = []\n",
        "    for i in percentages:\n",
        "        if(i[1] > 60):\n",
        "            columns_to_eliminate.append(i[0])\n",
        "        else:\n",
        "            new_percentages.append(i)\n",
        "        \n",
        "    df_reducido.drop(columns=columns_to_eliminate , inplace = True)\n",
        "    \n",
        "\n",
        "    return new_percentages\n"
      ]
    },
    {
      "cell_type": "code",
      "execution_count": 50,
      "metadata": {
        "id": "ajrdswK05qwX"
      },
      "outputs": [],
      "source": [
        "percentages = calculate_percentage_of_null_values(df_reducido.drop(columns=['B_31','D_63', 'D_64', 'S_2','target']))\n",
        "percentages = eliminate_columns_with_high_percentage(percentages)"
      ]
    },
    {
      "cell_type": "markdown",
      "metadata": {
        "id": "Q1O3EoGZ5qwX"
      },
      "source": [
        "Se optó por completar los datos de los registros vacios pertenecientes a las columnas restantes utilizando un método de imputación por regresión logística utilizando las columnas pertenecientes al mismo tipo, es decir, para el caso de completar los datos faltantes de una columna tipo S se utilizan pasos iterativos sobre las demás columnas del mismo tipo y de este modo poder estimar un posible valor. \n",
        "\n",
        "Dada la gran cantidad de datos se limita la cantidad de iteraciones máximas de los datos del dataset en 5. Adicionalmente se podría limitar el rango de valores posibles para dichos registros entre 0 y 1 (ya que las columnas se encuentran normalizadas), sin embargo consideramos de mayor interés el poder obtener valores fuera de dicho rango y en tal caso se evaluaría su utilidad en el análisis de outliers.\n",
        "\n",
        "Otro posible método para completar los datos faltantes es utilizar la media de cada columna sin embargo dicho procedimiento modificaría significativamente el valor del Z-score para los casos donde existan muchos datos faltantes.\n",
        "\n"
      ]
    },
    {
      "cell_type": "code",
      "execution_count": 51,
      "metadata": {
        "id": "fCVLVNw85qwX"
      },
      "outputs": [],
      "source": [
        "def columns_by_type(df: pd.DataFrame):\n",
        "    columns = df.columns\n",
        "    columns_by_type = [[],[],[],[],[]] # [D_columns ,S_columns,P_columns,B_columns,R_columns]\n",
        "    \n",
        "    \n",
        "    for column in columns:\n",
        "        if (column[0] == 'D'):\n",
        "            columns_by_type[0].append(column)\n",
        "        elif (column[0] == 'S'):\n",
        "            columns_by_type[1].append(column)\n",
        "        elif (column[0] == 'P'):\n",
        "            columns_by_type[2].append(column)\n",
        "        elif (column[0] == 'B'):\n",
        "            columns_by_type[3].append(column)\n",
        "        elif (column[0] == 'R'):\n",
        "            columns_by_type[4].append(column)\n",
        "    return columns_by_type"
      ]
    },
    {
      "cell_type": "code",
      "execution_count": 52,
      "metadata": {
        "id": "MwxS_Bm15qwY"
      },
      "outputs": [],
      "source": [
        "from sklearn.experimental import enable_iterative_imputer\n",
        "from sklearn.impute import IterativeImputer\n",
        "from sklearn.linear_model import LinearRegression\n",
        "import math\n",
        "\n",
        "columns = columns_by_type(df_reducido.drop(columns=['B_31','D_63', 'D_64', 'S_2','target']))"
      ]
    },
    {
      "cell_type": "code",
      "execution_count": 53,
      "metadata": {
        "id": "p0cp8KHw5qwY"
      },
      "outputs": [],
      "source": [
        "def imput_and_replace_nans(columns: pd.DataFrame):\n",
        "    lr = LinearRegression()\n",
        "    imp = IterativeImputer(estimator=lr,missing_values=np.nan, max_iter=10, random_state=10)\n",
        "    columns_without_nans = imp.fit_transform(columns)\n",
        "    \n",
        "    index = 0\n",
        "    k = 0\n",
        "    for column_i in columns:    \n",
        "        for new_column in columns_without_nans:\n",
        "        \n",
        "            if math.isnan(df_reducido.loc[index,column_i]):\n",
        "            \n",
        "                df_reducido.loc[index,column_i] = new_column[k]\n",
        "            index += 1 \n",
        "        \n",
        "        k += 1\n",
        "        index = 0"
      ]
    },
    {
      "cell_type": "code",
      "execution_count": 54,
      "metadata": {
        "id": "o7cTVRhv5qwY"
      },
      "outputs": [],
      "source": [
        "#imput_and_replace_nans(df_reducido[columns[2]].copy())"
      ]
    },
    {
      "cell_type": "code",
      "execution_count": 55,
      "metadata": {
        "id": "n4Idx0wp5qwY"
      },
      "outputs": [],
      "source": [
        "#imput_and_replace_nans(df_reducido[columns[1]].copy())"
      ]
    },
    {
      "cell_type": "code",
      "execution_count": 56,
      "metadata": {
        "id": "yeHSlUU15qwY"
      },
      "outputs": [],
      "source": [
        "#imput_and_replace_nans(df_reducido[columns[4]].copy())"
      ]
    },
    {
      "cell_type": "code",
      "execution_count": 57,
      "metadata": {
        "id": "6xwX9sAr5qwY"
      },
      "outputs": [],
      "source": [
        "#imput_and_replace_nans(df_reducido[columns[3]].copy())"
      ]
    },
    {
      "cell_type": "code",
      "execution_count": 58,
      "metadata": {
        "id": "NEWRbhl45qwZ"
      },
      "outputs": [],
      "source": [
        "#imput_and_replace_nans(df_reducido[columns[0]].copy())"
      ]
    },
    {
      "cell_type": "markdown",
      "metadata": {
        "id": "w5PvdWrisTJN"
      },
      "source": [
        "Verificamos que ninguna de las columnas trabajadas posea datos nulos."
      ]
    },
    {
      "cell_type": "code",
      "execution_count": 59,
      "metadata": {
        "colab": {
          "base_uri": "https://localhost:8080/"
        },
        "id": "_bVw2Qe_wzFs",
        "outputId": "00e683c6-7c76-444a-dc35-be6df5863f56"
      },
      "outputs": [
        {
          "data": {
            "text/plain": [
              "('D_50', 56.77978971117829)"
            ]
          },
          "execution_count": 59,
          "metadata": {},
          "output_type": "execute_result"
        }
      ],
      "source": [
        "percentages = calculate_percentage_of_null_values(df_reducido.drop(columns=['B_31','D_63', 'D_64', 'S_2','target']))\n",
        "max(percentages,key=lambda item:item[1])"
      ]
    },
    {
      "cell_type": "markdown",
      "metadata": {
        "id": "OsemQrR1v4lr"
      },
      "source": [
        "Guardamos el dataset obtenido con el fin de almacenar los resultados obtenidos mediante la imputación de datos. A partir de este punto se comienza a trabajar en base a este conjunto de datos modificados respecto a los originales."
      ]
    },
    {
      "cell_type": "code",
      "execution_count": 60,
      "metadata": {
        "id": "W8DxP01-5qwZ"
      },
      "outputs": [],
      "source": [
        "#df_reducido.to_parquet(\"gdrive/My Drive/train_data_reducido_sin_vacios\")\n",
        "df_reducido = pd.read_parquet(\"gdrive/My Drive/train_data_reducido_sin_vacios\")"
      ]
    },
    {
      "cell_type": "markdown",
      "metadata": {
        "id": "ilqF8JJ15qwZ"
      },
      "source": [
        "### Detección de outliers"
      ]
    },
    {
      "cell_type": "markdown",
      "metadata": {
        "id": "f9Unfe7tFcw7"
      },
      "source": [
        "Utilizamos el método de Z-score para la detección de outliers univariados, para ello creamos un nuevo dataframe que contiene el score correspondiente para cada uno de los datos. El z-score se calcula de la siguiente manera:\n",
        "- $ Z - Score = \\frac{x_{i} – \\mu}{\\sigma}$ \n",
        "\n",
        "Siendo $x_{i}$ el valor al cual se le quiere calcular su Score, $\\mu$ la media de la variable y $\\sigma$ su respectiva varianza\n"
      ]
    },
    {
      "cell_type": "code",
      "execution_count": 61,
      "metadata": {
        "colab": {
          "base_uri": "https://localhost:8080/"
        },
        "id": "WWzwWNlS5qwZ",
        "outputId": "3ce096dc-a621-48f4-d9df-23b6c7cb8367"
      },
      "outputs": [
        {
          "name": "stderr",
          "output_type": "stream",
          "text": [
            "/usr/local/lib/python3.7/dist-packages/ipykernel_launcher.py:7: PerformanceWarning: DataFrame is highly fragmented.  This is usually the result of calling `frame.insert` many times, which has poor performance.  Consider joining all columns at once using pd.concat(axis=1) instead.  To get a de-fragmented frame, use `newframe = frame.copy()`\n",
            "  import sys\n"
          ]
        }
      ],
      "source": [
        "import scipy.stats as st\n",
        "\n",
        "columns = df_reducido.drop(columns=['B_31','D_63', 'D_64', 'S_2','target']).columns\n",
        "zscore_df = pd.DataFrame()\n",
        "column_name = 'z_'\n",
        "for column in columns:\n",
        "      zscore_df[column_name + column] = st.zscore(df_reducido[column])"
      ]
    },
    {
      "cell_type": "code",
      "execution_count": 62,
      "metadata": {
        "colab": {
          "base_uri": "https://localhost:8080/",
          "height": 0
        },
        "id": "0mrkKUUT5qwa",
        "outputId": "d74b517a-271f-456c-8d8b-4fcb1d49df61"
      },
      "outputs": [
        {
          "data": {
            "text/html": [
              "\n",
              "  <div id=\"df-bff2c49d-cc2d-41e1-a730-9f98b00d00a7\">\n",
              "    <div class=\"colab-df-container\">\n",
              "      <div>\n",
              "<style scoped>\n",
              "    .dataframe tbody tr th:only-of-type {\n",
              "        vertical-align: middle;\n",
              "    }\n",
              "\n",
              "    .dataframe tbody tr th {\n",
              "        vertical-align: top;\n",
              "    }\n",
              "\n",
              "    .dataframe thead th {\n",
              "        text-align: right;\n",
              "    }\n",
              "</style>\n",
              "<table border=\"1\" class=\"dataframe\">\n",
              "  <thead>\n",
              "    <tr style=\"text-align: right;\">\n",
              "      <th></th>\n",
              "      <th>z_B_1</th>\n",
              "      <th>z_B_10</th>\n",
              "      <th>z_B_11</th>\n",
              "      <th>z_B_12</th>\n",
              "      <th>z_B_13</th>\n",
              "      <th>z_B_14</th>\n",
              "      <th>z_B_15</th>\n",
              "      <th>z_B_16</th>\n",
              "      <th>z_B_17</th>\n",
              "      <th>z_B_18</th>\n",
              "      <th>...</th>\n",
              "      <th>z_S_24</th>\n",
              "      <th>z_S_25</th>\n",
              "      <th>z_S_26</th>\n",
              "      <th>z_S_27</th>\n",
              "      <th>z_S_3</th>\n",
              "      <th>z_S_5</th>\n",
              "      <th>z_S_6</th>\n",
              "      <th>z_S_7</th>\n",
              "      <th>z_S_8</th>\n",
              "      <th>z_S_9</th>\n",
              "    </tr>\n",
              "  </thead>\n",
              "  <tbody>\n",
              "    <tr>\n",
              "      <th>0</th>\n",
              "      <td>-0.574047</td>\n",
              "      <td>0.020524</td>\n",
              "      <td>-0.513082</td>\n",
              "      <td>0.030358</td>\n",
              "      <td>-0.044905</td>\n",
              "      <td>-0.304307</td>\n",
              "      <td>-0.142573</td>\n",
              "      <td>-0.866369</td>\n",
              "      <td>-0.810010</td>\n",
              "      <td>1.124610</td>\n",
              "      <td>...</td>\n",
              "      <td>0.214011</td>\n",
              "      <td>0.204914</td>\n",
              "      <td>-0.088807</td>\n",
              "      <td>1.960135</td>\n",
              "      <td>-0.770650</td>\n",
              "      <td>-0.223435</td>\n",
              "      <td>-0.565221</td>\n",
              "      <td>-0.823186</td>\n",
              "      <td>1.427448</td>\n",
              "      <td>-0.458290</td>\n",
              "    </tr>\n",
              "    <tr>\n",
              "      <th>1</th>\n",
              "      <td>-0.107459</td>\n",
              "      <td>-0.024294</td>\n",
              "      <td>-0.216469</td>\n",
              "      <td>-0.130120</td>\n",
              "      <td>-0.155738</td>\n",
              "      <td>-0.257150</td>\n",
              "      <td>-0.156673</td>\n",
              "      <td>1.004742</td>\n",
              "      <td>1.151910</td>\n",
              "      <td>-0.960280</td>\n",
              "      <td>...</td>\n",
              "      <td>0.274080</td>\n",
              "      <td>-1.699398</td>\n",
              "      <td>-0.119719</td>\n",
              "      <td>-0.880009</td>\n",
              "      <td>0.557135</td>\n",
              "      <td>-0.223565</td>\n",
              "      <td>-0.563593</td>\n",
              "      <td>1.186040</td>\n",
              "      <td>-0.680034</td>\n",
              "      <td>-0.089852</td>\n",
              "    </tr>\n",
              "    <tr>\n",
              "      <th>2</th>\n",
              "      <td>3.808099</td>\n",
              "      <td>-0.025822</td>\n",
              "      <td>3.975275</td>\n",
              "      <td>-0.119413</td>\n",
              "      <td>-0.156472</td>\n",
              "      <td>0.693775</td>\n",
              "      <td>-0.141862</td>\n",
              "      <td>1.634171</td>\n",
              "      <td>1.348356</td>\n",
              "      <td>-1.357978</td>\n",
              "      <td>...</td>\n",
              "      <td>0.213346</td>\n",
              "      <td>0.239425</td>\n",
              "      <td>-0.122450</td>\n",
              "      <td>0.028363</td>\n",
              "      <td>-0.392531</td>\n",
              "      <td>-0.178391</td>\n",
              "      <td>1.778186</td>\n",
              "      <td>-0.173155</td>\n",
              "      <td>0.468468</td>\n",
              "      <td>0.073765</td>\n",
              "    </tr>\n",
              "    <tr>\n",
              "      <th>3</th>\n",
              "      <td>-0.156060</td>\n",
              "      <td>-0.025468</td>\n",
              "      <td>-0.236008</td>\n",
              "      <td>-0.133845</td>\n",
              "      <td>-0.137139</td>\n",
              "      <td>-0.266196</td>\n",
              "      <td>-0.148450</td>\n",
              "      <td>-0.856760</td>\n",
              "      <td>-0.207168</td>\n",
              "      <td>-0.308019</td>\n",
              "      <td>...</td>\n",
              "      <td>0.245004</td>\n",
              "      <td>0.209827</td>\n",
              "      <td>-0.130785</td>\n",
              "      <td>-0.866799</td>\n",
              "      <td>-0.306486</td>\n",
              "      <td>-0.091077</td>\n",
              "      <td>1.787718</td>\n",
              "      <td>0.297523</td>\n",
              "      <td>-0.245852</td>\n",
              "      <td>0.036613</td>\n",
              "    </tr>\n",
              "    <tr>\n",
              "      <th>4</th>\n",
              "      <td>-0.126915</td>\n",
              "      <td>-0.024727</td>\n",
              "      <td>-0.184794</td>\n",
              "      <td>-0.124079</td>\n",
              "      <td>-0.119305</td>\n",
              "      <td>-0.235161</td>\n",
              "      <td>-0.153096</td>\n",
              "      <td>0.376857</td>\n",
              "      <td>-1.310263</td>\n",
              "      <td>-1.126735</td>\n",
              "      <td>...</td>\n",
              "      <td>0.265325</td>\n",
              "      <td>-3.773975</td>\n",
              "      <td>-0.126015</td>\n",
              "      <td>-0.873879</td>\n",
              "      <td>1.277651</td>\n",
              "      <td>-0.125889</td>\n",
              "      <td>-0.549494</td>\n",
              "      <td>1.827698</td>\n",
              "      <td>0.003863</td>\n",
              "      <td>-0.031535</td>\n",
              "    </tr>\n",
              "    <tr>\n",
              "      <th>...</th>\n",
              "      <td>...</td>\n",
              "      <td>...</td>\n",
              "      <td>...</td>\n",
              "      <td>...</td>\n",
              "      <td>...</td>\n",
              "      <td>...</td>\n",
              "      <td>...</td>\n",
              "      <td>...</td>\n",
              "      <td>...</td>\n",
              "      <td>...</td>\n",
              "      <td>...</td>\n",
              "      <td>...</td>\n",
              "      <td>...</td>\n",
              "      <td>...</td>\n",
              "      <td>...</td>\n",
              "      <td>...</td>\n",
              "      <td>...</td>\n",
              "      <td>...</td>\n",
              "      <td>...</td>\n",
              "      <td>...</td>\n",
              "      <td>...</td>\n",
              "    </tr>\n",
              "    <tr>\n",
              "      <th>276567</th>\n",
              "      <td>-0.543898</td>\n",
              "      <td>-0.000075</td>\n",
              "      <td>-0.512648</td>\n",
              "      <td>-0.142154</td>\n",
              "      <td>-0.165236</td>\n",
              "      <td>-0.321663</td>\n",
              "      <td>-0.154778</td>\n",
              "      <td>-0.858828</td>\n",
              "      <td>-0.769621</td>\n",
              "      <td>1.118002</td>\n",
              "      <td>...</td>\n",
              "      <td>-0.733468</td>\n",
              "      <td>0.232300</td>\n",
              "      <td>-0.129752</td>\n",
              "      <td>-0.210670</td>\n",
              "      <td>0.258438</td>\n",
              "      <td>-0.242050</td>\n",
              "      <td>1.784647</td>\n",
              "      <td>0.123898</td>\n",
              "      <td>-1.060834</td>\n",
              "      <td>0.210059</td>\n",
              "    </tr>\n",
              "    <tr>\n",
              "      <th>276568</th>\n",
              "      <td>-0.446592</td>\n",
              "      <td>0.022913</td>\n",
              "      <td>-0.448123</td>\n",
              "      <td>0.207664</td>\n",
              "      <td>0.244332</td>\n",
              "      <td>0.002113</td>\n",
              "      <td>-0.134307</td>\n",
              "      <td>-0.859516</td>\n",
              "      <td>-0.734967</td>\n",
              "      <td>1.129404</td>\n",
              "      <td>...</td>\n",
              "      <td>0.263330</td>\n",
              "      <td>0.241655</td>\n",
              "      <td>-0.023938</td>\n",
              "      <td>-0.869606</td>\n",
              "      <td>-0.545004</td>\n",
              "      <td>0.525961</td>\n",
              "      <td>-0.549540</td>\n",
              "      <td>-0.719262</td>\n",
              "      <td>0.545526</td>\n",
              "      <td>-0.064734</td>\n",
              "    </tr>\n",
              "    <tr>\n",
              "      <th>276569</th>\n",
              "      <td>0.181879</td>\n",
              "      <td>-0.011911</td>\n",
              "      <td>0.117222</td>\n",
              "      <td>-0.110759</td>\n",
              "      <td>-0.023806</td>\n",
              "      <td>-0.093269</td>\n",
              "      <td>-0.160020</td>\n",
              "      <td>-0.031903</td>\n",
              "      <td>1.129748</td>\n",
              "      <td>-0.593444</td>\n",
              "      <td>...</td>\n",
              "      <td>0.251379</td>\n",
              "      <td>0.247101</td>\n",
              "      <td>-0.128294</td>\n",
              "      <td>0.610571</td>\n",
              "      <td>-0.850867</td>\n",
              "      <td>0.128600</td>\n",
              "      <td>-0.569680</td>\n",
              "      <td>-0.754982</td>\n",
              "      <td>1.121565</td>\n",
              "      <td>-0.344940</td>\n",
              "    </tr>\n",
              "    <tr>\n",
              "      <th>276570</th>\n",
              "      <td>-0.455496</td>\n",
              "      <td>0.005444</td>\n",
              "      <td>-0.482285</td>\n",
              "      <td>-0.046627</td>\n",
              "      <td>-0.090422</td>\n",
              "      <td>-0.251396</td>\n",
              "      <td>-0.149423</td>\n",
              "      <td>-0.031956</td>\n",
              "      <td>-0.927776</td>\n",
              "      <td>1.126185</td>\n",
              "      <td>...</td>\n",
              "      <td>0.231380</td>\n",
              "      <td>0.232527</td>\n",
              "      <td>-0.116827</td>\n",
              "      <td>0.436970</td>\n",
              "      <td>-0.910932</td>\n",
              "      <td>-0.073715</td>\n",
              "      <td>-0.551383</td>\n",
              "      <td>-0.961385</td>\n",
              "      <td>1.245730</td>\n",
              "      <td>-0.432904</td>\n",
              "    </tr>\n",
              "    <tr>\n",
              "      <th>276571</th>\n",
              "      <td>-0.381645</td>\n",
              "      <td>-0.009431</td>\n",
              "      <td>-0.403805</td>\n",
              "      <td>-0.059877</td>\n",
              "      <td>-0.039984</td>\n",
              "      <td>-0.215011</td>\n",
              "      <td>-0.089975</td>\n",
              "      <td>1.422847</td>\n",
              "      <td>-0.138514</td>\n",
              "      <td>-0.592887</td>\n",
              "      <td>...</td>\n",
              "      <td>0.241343</td>\n",
              "      <td>0.247325</td>\n",
              "      <td>-0.133927</td>\n",
              "      <td>-0.123570</td>\n",
              "      <td>-1.224045</td>\n",
              "      <td>-0.128142</td>\n",
              "      <td>-0.564693</td>\n",
              "      <td>-1.085037</td>\n",
              "      <td>1.118459</td>\n",
              "      <td>-0.518075</td>\n",
              "    </tr>\n",
              "  </tbody>\n",
              "</table>\n",
              "<p>276572 rows × 160 columns</p>\n",
              "</div>\n",
              "      <button class=\"colab-df-convert\" onclick=\"convertToInteractive('df-bff2c49d-cc2d-41e1-a730-9f98b00d00a7')\"\n",
              "              title=\"Convert this dataframe to an interactive table.\"\n",
              "              style=\"display:none;\">\n",
              "        \n",
              "  <svg xmlns=\"http://www.w3.org/2000/svg\" height=\"24px\"viewBox=\"0 0 24 24\"\n",
              "       width=\"24px\">\n",
              "    <path d=\"M0 0h24v24H0V0z\" fill=\"none\"/>\n",
              "    <path d=\"M18.56 5.44l.94 2.06.94-2.06 2.06-.94-2.06-.94-.94-2.06-.94 2.06-2.06.94zm-11 1L8.5 8.5l.94-2.06 2.06-.94-2.06-.94L8.5 2.5l-.94 2.06-2.06.94zm10 10l.94 2.06.94-2.06 2.06-.94-2.06-.94-.94-2.06-.94 2.06-2.06.94z\"/><path d=\"M17.41 7.96l-1.37-1.37c-.4-.4-.92-.59-1.43-.59-.52 0-1.04.2-1.43.59L10.3 9.45l-7.72 7.72c-.78.78-.78 2.05 0 2.83L4 21.41c.39.39.9.59 1.41.59.51 0 1.02-.2 1.41-.59l7.78-7.78 2.81-2.81c.8-.78.8-2.07 0-2.86zM5.41 20L4 18.59l7.72-7.72 1.47 1.35L5.41 20z\"/>\n",
              "  </svg>\n",
              "      </button>\n",
              "      \n",
              "  <style>\n",
              "    .colab-df-container {\n",
              "      display:flex;\n",
              "      flex-wrap:wrap;\n",
              "      gap: 12px;\n",
              "    }\n",
              "\n",
              "    .colab-df-convert {\n",
              "      background-color: #E8F0FE;\n",
              "      border: none;\n",
              "      border-radius: 50%;\n",
              "      cursor: pointer;\n",
              "      display: none;\n",
              "      fill: #1967D2;\n",
              "      height: 32px;\n",
              "      padding: 0 0 0 0;\n",
              "      width: 32px;\n",
              "    }\n",
              "\n",
              "    .colab-df-convert:hover {\n",
              "      background-color: #E2EBFA;\n",
              "      box-shadow: 0px 1px 2px rgba(60, 64, 67, 0.3), 0px 1px 3px 1px rgba(60, 64, 67, 0.15);\n",
              "      fill: #174EA6;\n",
              "    }\n",
              "\n",
              "    [theme=dark] .colab-df-convert {\n",
              "      background-color: #3B4455;\n",
              "      fill: #D2E3FC;\n",
              "    }\n",
              "\n",
              "    [theme=dark] .colab-df-convert:hover {\n",
              "      background-color: #434B5C;\n",
              "      box-shadow: 0px 1px 3px 1px rgba(0, 0, 0, 0.15);\n",
              "      filter: drop-shadow(0px 1px 2px rgba(0, 0, 0, 0.3));\n",
              "      fill: #FFFFFF;\n",
              "    }\n",
              "  </style>\n",
              "\n",
              "      <script>\n",
              "        const buttonEl =\n",
              "          document.querySelector('#df-bff2c49d-cc2d-41e1-a730-9f98b00d00a7 button.colab-df-convert');\n",
              "        buttonEl.style.display =\n",
              "          google.colab.kernel.accessAllowed ? 'block' : 'none';\n",
              "\n",
              "        async function convertToInteractive(key) {\n",
              "          const element = document.querySelector('#df-bff2c49d-cc2d-41e1-a730-9f98b00d00a7');\n",
              "          const dataTable =\n",
              "            await google.colab.kernel.invokeFunction('convertToInteractive',\n",
              "                                                     [key], {});\n",
              "          if (!dataTable) return;\n",
              "\n",
              "          const docLinkHtml = 'Like what you see? Visit the ' +\n",
              "            '<a target=\"_blank\" href=https://colab.research.google.com/notebooks/data_table.ipynb>data table notebook</a>'\n",
              "            + ' to learn more about interactive tables.';\n",
              "          element.innerHTML = '';\n",
              "          dataTable['output_type'] = 'display_data';\n",
              "          await google.colab.output.renderOutput(dataTable, element);\n",
              "          const docLink = document.createElement('div');\n",
              "          docLink.innerHTML = docLinkHtml;\n",
              "          element.appendChild(docLink);\n",
              "        }\n",
              "      </script>\n",
              "    </div>\n",
              "  </div>\n",
              "  "
            ],
            "text/plain": [
              "           z_B_1    z_B_10    z_B_11    z_B_12    z_B_13    z_B_14    z_B_15  \\\n",
              "0      -0.574047  0.020524 -0.513082  0.030358 -0.044905 -0.304307 -0.142573   \n",
              "1      -0.107459 -0.024294 -0.216469 -0.130120 -0.155738 -0.257150 -0.156673   \n",
              "2       3.808099 -0.025822  3.975275 -0.119413 -0.156472  0.693775 -0.141862   \n",
              "3      -0.156060 -0.025468 -0.236008 -0.133845 -0.137139 -0.266196 -0.148450   \n",
              "4      -0.126915 -0.024727 -0.184794 -0.124079 -0.119305 -0.235161 -0.153096   \n",
              "...          ...       ...       ...       ...       ...       ...       ...   \n",
              "276567 -0.543898 -0.000075 -0.512648 -0.142154 -0.165236 -0.321663 -0.154778   \n",
              "276568 -0.446592  0.022913 -0.448123  0.207664  0.244332  0.002113 -0.134307   \n",
              "276569  0.181879 -0.011911  0.117222 -0.110759 -0.023806 -0.093269 -0.160020   \n",
              "276570 -0.455496  0.005444 -0.482285 -0.046627 -0.090422 -0.251396 -0.149423   \n",
              "276571 -0.381645 -0.009431 -0.403805 -0.059877 -0.039984 -0.215011 -0.089975   \n",
              "\n",
              "          z_B_16    z_B_17    z_B_18  ...    z_S_24    z_S_25    z_S_26  \\\n",
              "0      -0.866369 -0.810010  1.124610  ...  0.214011  0.204914 -0.088807   \n",
              "1       1.004742  1.151910 -0.960280  ...  0.274080 -1.699398 -0.119719   \n",
              "2       1.634171  1.348356 -1.357978  ...  0.213346  0.239425 -0.122450   \n",
              "3      -0.856760 -0.207168 -0.308019  ...  0.245004  0.209827 -0.130785   \n",
              "4       0.376857 -1.310263 -1.126735  ...  0.265325 -3.773975 -0.126015   \n",
              "...          ...       ...       ...  ...       ...       ...       ...   \n",
              "276567 -0.858828 -0.769621  1.118002  ... -0.733468  0.232300 -0.129752   \n",
              "276568 -0.859516 -0.734967  1.129404  ...  0.263330  0.241655 -0.023938   \n",
              "276569 -0.031903  1.129748 -0.593444  ...  0.251379  0.247101 -0.128294   \n",
              "276570 -0.031956 -0.927776  1.126185  ...  0.231380  0.232527 -0.116827   \n",
              "276571  1.422847 -0.138514 -0.592887  ...  0.241343  0.247325 -0.133927   \n",
              "\n",
              "          z_S_27     z_S_3     z_S_5     z_S_6     z_S_7     z_S_8     z_S_9  \n",
              "0       1.960135 -0.770650 -0.223435 -0.565221 -0.823186  1.427448 -0.458290  \n",
              "1      -0.880009  0.557135 -0.223565 -0.563593  1.186040 -0.680034 -0.089852  \n",
              "2       0.028363 -0.392531 -0.178391  1.778186 -0.173155  0.468468  0.073765  \n",
              "3      -0.866799 -0.306486 -0.091077  1.787718  0.297523 -0.245852  0.036613  \n",
              "4      -0.873879  1.277651 -0.125889 -0.549494  1.827698  0.003863 -0.031535  \n",
              "...          ...       ...       ...       ...       ...       ...       ...  \n",
              "276567 -0.210670  0.258438 -0.242050  1.784647  0.123898 -1.060834  0.210059  \n",
              "276568 -0.869606 -0.545004  0.525961 -0.549540 -0.719262  0.545526 -0.064734  \n",
              "276569  0.610571 -0.850867  0.128600 -0.569680 -0.754982  1.121565 -0.344940  \n",
              "276570  0.436970 -0.910932 -0.073715 -0.551383 -0.961385  1.245730 -0.432904  \n",
              "276571 -0.123570 -1.224045 -0.128142 -0.564693 -1.085037  1.118459 -0.518075  \n",
              "\n",
              "[276572 rows x 160 columns]"
            ]
          },
          "execution_count": 62,
          "metadata": {},
          "output_type": "execute_result"
        }
      ],
      "source": [
        "zscore_df"
      ]
    },
    {
      "cell_type": "markdown",
      "metadata": {
        "id": "dUjvu5tCjg4o"
      },
      "source": [
        "Calculado el z-score para cada uno de los datos, vemos cuantas columnas presentan valores considerados outliers. Es de destacar que para que un valor sea considerado un outlier su z-score debe ser mayor en modulo que 3."
      ]
    },
    {
      "cell_type": "code",
      "execution_count": 63,
      "metadata": {
        "colab": {
          "base_uri": "https://localhost:8080/"
        },
        "id": "juctFfieFqvb",
        "outputId": "b7cc6d87-a4a7-49d4-9451-352c7a4dcb69"
      },
      "outputs": [
        {
          "name": "stdout",
          "output_type": "stream",
          "text": [
            "142\n"
          ]
        }
      ],
      "source": [
        "count = 0\n",
        "for column in zscore_df.columns:\n",
        "  if (sum(zscore_df[column].values > 3) > 0) or (sum(zscore_df[column].values < -3) > 0):\n",
        "    count += 1\n",
        "print(count)"
      ]
    },
    {
      "cell_type": "markdown",
      "metadata": {
        "id": "zEXooTQYtEoA"
      },
      "source": [
        "Al igual que se calculó la cantidad de columnas con outliers, calculamos la cantidad de filas con dichos datos."
      ]
    },
    {
      "cell_type": "code",
      "execution_count": 64,
      "metadata": {
        "colab": {
          "base_uri": "https://localhost:8080/"
        },
        "id": "VETfAVtiLNeM",
        "outputId": "5d18b5ca-023c-4e3e-8984-6e37d0783069"
      },
      "outputs": [
        {
          "name": "stderr",
          "output_type": "stream",
          "text": [
            "/usr/local/lib/python3.7/dist-packages/ipykernel_launcher.py:1: DeprecationWarning: The default dtype for empty Series will be 'object' instead of 'float64' in a future version. Specify a dtype explicitly to silence this warning.\n",
            "  \"\"\"Entry point for launching an IPython kernel.\n",
            "/usr/local/lib/python3.7/dist-packages/ipykernel_launcher.py:5: DeprecationWarning: The default dtype for empty Series will be 'object' instead of 'float64' in a future version. Specify a dtype explicitly to silence this warning.\n",
            "  \"\"\"\n",
            "/usr/local/lib/python3.7/dist-packages/ipykernel_launcher.py:4: DeprecationWarning: The default dtype for empty Series will be 'object' instead of 'float64' in a future version. Specify a dtype explicitly to silence this warning.\n",
            "  after removing the cwd from sys.path.\n"
          ]
        }
      ],
      "source": [
        "index_to_eliminate = pd.Series([])\n",
        "\n",
        "for column in zscore_df.columns:\n",
        "    positive_score_outliers = pd.Series(zscore_df.index[zscore_df[column] > 3].tolist())\n",
        "    negative_score_outliers = pd.Series(zscore_df.index[zscore_df[column] < -3].tolist())\n",
        "    index_to_eliminate = pd.concat([index_to_eliminate,positive_score_outliers,negative_score_outliers])"
      ]
    },
    {
      "cell_type": "code",
      "execution_count": 65,
      "metadata": {
        "colab": {
          "base_uri": "https://localhost:8080/"
        },
        "id": "I604WfERNJGC",
        "outputId": "cfb6f54d-290e-4599-ac2a-91e6c7156f52"
      },
      "outputs": [
        {
          "data": {
            "text/plain": [
              "178828"
            ]
          },
          "execution_count": 65,
          "metadata": {},
          "output_type": "execute_result"
        }
      ],
      "source": [
        "index_to_eliminate.drop_duplicates(inplace = True)\n",
        "len(index_to_eliminate)"
      ]
    },
    {
      "cell_type": "markdown",
      "metadata": {
        "id": "ZT1mosgFmcNU"
      },
      "source": [
        "Observamos que la cantidad de columnas que poseen outliers es 142, representando aproximadamente el 88% de las columnas del dataset. Retomando la aclaración previa realizada en el apartado de análisis de registros vacíos, se realizó el mismo procedimiento limitando el rango de valores al momento de imputar datos consiguiendo un resultado de 134 columnas con outliers.Es predecible que se detecten una menor cantidad de outliers al reducir el rango de valores válidos para ser imputados. Es importante destacar que para este análisis también se tuvo en consideración la cantidad de filas afectadas por outliers, viendo que se presenta una situación muy similar al comparar los resultados variando los métodos aplicados. \n",
        "\n",
        "Adicionalmente se realizó el procedimiento reemplazando los datos faltantes con la media de cada columna, lo cual de acuerdo con lo esperado llevo a la obtención de peores resultados.\n",
        "\n",
        "\n",
        "\n",
        "Se decidió conservar las columnas anteriormente mencionadas considerando nuestro objetivo del trabajo sobre el dataset. Como ya se explico anteriormente, se intenta predecir si un cliente pagara o no, y por ello nos interesan los datos que se encuentran separados del \"conjunto principal de valores\". Ya que son precisamente dichos valores “fuera de lo común” los cuales pueden llevar a un cliente a no pagar sus cuentas dicho mes. \n"
      ]
    },
    {
      "cell_type": "markdown",
      "metadata": {
        "id": "wByXMGVv5qwb"
      },
      "source": [
        "### Transformación de variables"
      ]
    },
    {
      "cell_type": "markdown",
      "metadata": {
        "id": "WjCA-rBY1-Db"
      },
      "source": [
        "Dada la cantidad de registros vacíos mostrada anteriormente y teniendo en cuenta que contamos con una gran cantidad de variables del tipo ‘D’, decidimos eliminar dicha columna. Con la columna categórica restante se optó por realizar una transformación hacia una variable numérica para poder trabajar con ellas en los modelos que las requieran. \n",
        "\n",
        "Paralelamente se elimina la variable ‘S_2’ cuyo análisis se realiza en profundidad en la sección inicial del trabajo. En dicho análisis se mostró una leve diferencia generada con el pasar de los años, lo cual al no contar con la información de la diferencia de la cantidad de usuarios entre dichos años, se reduce la utilidad de dicha variable y por lo cual también es descartada. \n"
      ]
    },
    {
      "cell_type": "code",
      "execution_count": 66,
      "metadata": {
        "id": "9hh1pl1T2gMi"
      },
      "outputs": [],
      "source": [
        "df_reducido = pd.read_parquet(\"gdrive/My Drive/train_data_reducido_sin_vacios\")\n",
        "df_reducido.drop(columns = ['D_64','S_2'], inplace = True)"
      ]
    },
    {
      "cell_type": "code",
      "execution_count": 67,
      "metadata": {
        "colab": {
          "base_uri": "https://localhost:8080/",
          "height": 0
        },
        "id": "2gglsKEo5qwb",
        "outputId": "86792efa-c5a6-4034-b14b-68e31b0430cc"
      },
      "outputs": [
        {
          "data": {
            "text/html": [
              "\n",
              "  <div id=\"df-3a9f33ef-b9c6-4bb0-9643-38586d29d9ca\">\n",
              "    <div class=\"colab-df-container\">\n",
              "      <div>\n",
              "<style scoped>\n",
              "    .dataframe tbody tr th:only-of-type {\n",
              "        vertical-align: middle;\n",
              "    }\n",
              "\n",
              "    .dataframe tbody tr th {\n",
              "        vertical-align: top;\n",
              "    }\n",
              "\n",
              "    .dataframe thead th {\n",
              "        text-align: right;\n",
              "    }\n",
              "</style>\n",
              "<table border=\"1\" class=\"dataframe\">\n",
              "  <thead>\n",
              "    <tr style=\"text-align: right;\">\n",
              "      <th></th>\n",
              "      <th>B_1</th>\n",
              "      <th>B_10</th>\n",
              "      <th>B_11</th>\n",
              "      <th>B_12</th>\n",
              "      <th>B_13</th>\n",
              "      <th>B_14</th>\n",
              "      <th>B_15</th>\n",
              "      <th>B_16</th>\n",
              "      <th>B_17</th>\n",
              "      <th>B_18</th>\n",
              "      <th>...</th>\n",
              "      <th>S_25</th>\n",
              "      <th>S_26</th>\n",
              "      <th>S_27</th>\n",
              "      <th>S_3</th>\n",
              "      <th>S_5</th>\n",
              "      <th>S_6</th>\n",
              "      <th>S_7</th>\n",
              "      <th>S_8</th>\n",
              "      <th>S_9</th>\n",
              "      <th>target</th>\n",
              "    </tr>\n",
              "  </thead>\n",
              "  <tbody>\n",
              "    <tr>\n",
              "      <th>0</th>\n",
              "      <td>0.001930</td>\n",
              "      <td>0.431864</td>\n",
              "      <td>0.004027</td>\n",
              "      <td>0.112579</td>\n",
              "      <td>0.074886</td>\n",
              "      <td>0.009725</td>\n",
              "      <td>0.007219</td>\n",
              "      <td>0.000227</td>\n",
              "      <td>0.187306</td>\n",
              "      <td>1.007369</td>\n",
              "      <td>...</td>\n",
              "      <td>0.969777</td>\n",
              "      <td>0.022741</td>\n",
              "      <td>0.816651</td>\n",
              "      <td>0.100470</td>\n",
              "      <td>0.007165</td>\n",
              "      <td>0.002629</td>\n",
              "      <td>0.074646</td>\n",
              "      <td>0.759416</td>\n",
              "      <td>0.019340</td>\n",
              "      <td>0</td>\n",
              "    </tr>\n",
              "    <tr>\n",
              "      <th>1</th>\n",
              "      <td>0.100998</td>\n",
              "      <td>0.020843</td>\n",
              "      <td>0.065763</td>\n",
              "      <td>0.011516</td>\n",
              "      <td>0.011943</td>\n",
              "      <td>0.023915</td>\n",
              "      <td>0.002677</td>\n",
              "      <td>0.752512</td>\n",
              "      <td>0.888287</td>\n",
              "      <td>0.245604</td>\n",
              "      <td>...</td>\n",
              "      <td>0.554076</td>\n",
              "      <td>0.007319</td>\n",
              "      <td>0.003056</td>\n",
              "      <td>0.333741</td>\n",
              "      <td>0.007118</td>\n",
              "      <td>0.003323</td>\n",
              "      <td>0.449327</td>\n",
              "      <td>0.121571</td>\n",
              "      <td>0.070750</td>\n",
              "      <td>0</td>\n",
              "    </tr>\n",
              "    <tr>\n",
              "      <th>2</th>\n",
              "      <td>0.932366</td>\n",
              "      <td>0.006830</td>\n",
              "      <td>0.938222</td>\n",
              "      <td>0.018259</td>\n",
              "      <td>0.011526</td>\n",
              "      <td>0.310057</td>\n",
              "      <td>0.007449</td>\n",
              "      <td>1.005576</td>\n",
              "      <td>0.958476</td>\n",
              "      <td>0.100295</td>\n",
              "      <td>...</td>\n",
              "      <td>0.977311</td>\n",
              "      <td>0.005956</td>\n",
              "      <td>0.263270</td>\n",
              "      <td>0.166899</td>\n",
              "      <td>0.023294</td>\n",
              "      <td>1.001347</td>\n",
              "      <td>0.195864</td>\n",
              "      <td>0.469173</td>\n",
              "      <td>0.093580</td>\n",
              "      <td>1</td>\n",
              "    </tr>\n",
              "    <tr>\n",
              "      <th>3</th>\n",
              "      <td>0.090679</td>\n",
              "      <td>0.010080</td>\n",
              "      <td>0.061696</td>\n",
              "      <td>0.009170</td>\n",
              "      <td>0.022505</td>\n",
              "      <td>0.021193</td>\n",
              "      <td>0.005326</td>\n",
              "      <td>0.004090</td>\n",
              "      <td>0.402698</td>\n",
              "      <td>0.483923</td>\n",
              "      <td>...</td>\n",
              "      <td>0.970850</td>\n",
              "      <td>0.001798</td>\n",
              "      <td>0.006840</td>\n",
              "      <td>0.182016</td>\n",
              "      <td>0.054562</td>\n",
              "      <td>1.005409</td>\n",
              "      <td>0.283636</td>\n",
              "      <td>0.252979</td>\n",
              "      <td>0.088396</td>\n",
              "      <td>1</td>\n",
              "    </tr>\n",
              "    <tr>\n",
              "      <th>4</th>\n",
              "      <td>0.096867</td>\n",
              "      <td>0.016876</td>\n",
              "      <td>0.072356</td>\n",
              "      <td>0.015320</td>\n",
              "      <td>0.032634</td>\n",
              "      <td>0.030532</td>\n",
              "      <td>0.003829</td>\n",
              "      <td>0.500069</td>\n",
              "      <td>0.008569</td>\n",
              "      <td>0.184785</td>\n",
              "      <td>...</td>\n",
              "      <td>0.101208</td>\n",
              "      <td>0.004177</td>\n",
              "      <td>0.004812</td>\n",
              "      <td>0.460324</td>\n",
              "      <td>0.042095</td>\n",
              "      <td>0.009332</td>\n",
              "      <td>0.568983</td>\n",
              "      <td>0.328557</td>\n",
              "      <td>0.078887</td>\n",
              "      <td>1</td>\n",
              "    </tr>\n",
              "    <tr>\n",
              "      <th>...</th>\n",
              "      <td>...</td>\n",
              "      <td>...</td>\n",
              "      <td>...</td>\n",
              "      <td>...</td>\n",
              "      <td>...</td>\n",
              "      <td>...</td>\n",
              "      <td>...</td>\n",
              "      <td>...</td>\n",
              "      <td>...</td>\n",
              "      <td>...</td>\n",
              "      <td>...</td>\n",
              "      <td>...</td>\n",
              "      <td>...</td>\n",
              "      <td>...</td>\n",
              "      <td>...</td>\n",
              "      <td>...</td>\n",
              "      <td>...</td>\n",
              "      <td>...</td>\n",
              "      <td>...</td>\n",
              "      <td>...</td>\n",
              "      <td>...</td>\n",
              "    </tr>\n",
              "    <tr>\n",
              "      <th>276567</th>\n",
              "      <td>0.008331</td>\n",
              "      <td>0.242958</td>\n",
              "      <td>0.004117</td>\n",
              "      <td>0.003937</td>\n",
              "      <td>0.006548</td>\n",
              "      <td>0.004503</td>\n",
              "      <td>0.003287</td>\n",
              "      <td>0.003259</td>\n",
              "      <td>0.201737</td>\n",
              "      <td>1.004954</td>\n",
              "      <td>...</td>\n",
              "      <td>0.975756</td>\n",
              "      <td>0.002313</td>\n",
              "      <td>0.194796</td>\n",
              "      <td>0.281264</td>\n",
              "      <td>0.000499</td>\n",
              "      <td>1.004101</td>\n",
              "      <td>0.251258</td>\n",
              "      <td>0.006319</td>\n",
              "      <td>0.112598</td>\n",
              "      <td>0</td>\n",
              "    </tr>\n",
              "    <tr>\n",
              "      <th>276568</th>\n",
              "      <td>0.028992</td>\n",
              "      <td>0.453770</td>\n",
              "      <td>0.017547</td>\n",
              "      <td>0.224241</td>\n",
              "      <td>0.239149</td>\n",
              "      <td>0.101930</td>\n",
              "      <td>0.009882</td>\n",
              "      <td>0.002982</td>\n",
              "      <td>0.214119</td>\n",
              "      <td>1.009120</td>\n",
              "      <td>...</td>\n",
              "      <td>0.977798</td>\n",
              "      <td>0.055105</td>\n",
              "      <td>0.006036</td>\n",
              "      <td>0.140112</td>\n",
              "      <td>0.275520</td>\n",
              "      <td>0.009312</td>\n",
              "      <td>0.094025</td>\n",
              "      <td>0.492496</td>\n",
              "      <td>0.074255</td>\n",
              "      <td>0</td>\n",
              "    </tr>\n",
              "    <tr>\n",
              "      <th>276569</th>\n",
              "      <td>0.162431</td>\n",
              "      <td>0.134409</td>\n",
              "      <td>0.135216</td>\n",
              "      <td>0.023709</td>\n",
              "      <td>0.086869</td>\n",
              "      <td>0.073229</td>\n",
              "      <td>0.001598</td>\n",
              "      <td>0.335726</td>\n",
              "      <td>0.880369</td>\n",
              "      <td>0.379636</td>\n",
              "      <td>...</td>\n",
              "      <td>0.978986</td>\n",
              "      <td>0.003040</td>\n",
              "      <td>0.430051</td>\n",
              "      <td>0.086377</td>\n",
              "      <td>0.133227</td>\n",
              "      <td>0.000729</td>\n",
              "      <td>0.087364</td>\n",
              "      <td>0.666838</td>\n",
              "      <td>0.035156</td>\n",
              "      <td>0</td>\n",
              "    </tr>\n",
              "    <tr>\n",
              "      <th>276570</th>\n",
              "      <td>0.027101</td>\n",
              "      <td>0.293564</td>\n",
              "      <td>0.010437</td>\n",
              "      <td>0.064097</td>\n",
              "      <td>0.049037</td>\n",
              "      <td>0.025647</td>\n",
              "      <td>0.005012</td>\n",
              "      <td>0.335705</td>\n",
              "      <td>0.145229</td>\n",
              "      <td>1.007944</td>\n",
              "      <td>...</td>\n",
              "      <td>0.975805</td>\n",
              "      <td>0.008761</td>\n",
              "      <td>0.380321</td>\n",
              "      <td>0.075824</td>\n",
              "      <td>0.060779</td>\n",
              "      <td>0.008526</td>\n",
              "      <td>0.048874</td>\n",
              "      <td>0.704418</td>\n",
              "      <td>0.022882</td>\n",
              "      <td>0</td>\n",
              "    </tr>\n",
              "    <tr>\n",
              "      <th>276571</th>\n",
              "      <td>0.042782</td>\n",
              "      <td>0.157152</td>\n",
              "      <td>0.026771</td>\n",
              "      <td>0.055753</td>\n",
              "      <td>0.077681</td>\n",
              "      <td>0.036595</td>\n",
              "      <td>0.024166</td>\n",
              "      <td>0.920613</td>\n",
              "      <td>0.427228</td>\n",
              "      <td>0.379839</td>\n",
              "      <td>...</td>\n",
              "      <td>0.979035</td>\n",
              "      <td>0.000230</td>\n",
              "      <td>0.219747</td>\n",
              "      <td>0.020815</td>\n",
              "      <td>0.041289</td>\n",
              "      <td>0.002854</td>\n",
              "      <td>0.025815</td>\n",
              "      <td>0.665898</td>\n",
              "      <td>0.010998</td>\n",
              "      <td>0</td>\n",
              "    </tr>\n",
              "  </tbody>\n",
              "</table>\n",
              "<p>276572 rows × 168 columns</p>\n",
              "</div>\n",
              "      <button class=\"colab-df-convert\" onclick=\"convertToInteractive('df-3a9f33ef-b9c6-4bb0-9643-38586d29d9ca')\"\n",
              "              title=\"Convert this dataframe to an interactive table.\"\n",
              "              style=\"display:none;\">\n",
              "        \n",
              "  <svg xmlns=\"http://www.w3.org/2000/svg\" height=\"24px\"viewBox=\"0 0 24 24\"\n",
              "       width=\"24px\">\n",
              "    <path d=\"M0 0h24v24H0V0z\" fill=\"none\"/>\n",
              "    <path d=\"M18.56 5.44l.94 2.06.94-2.06 2.06-.94-2.06-.94-.94-2.06-.94 2.06-2.06.94zm-11 1L8.5 8.5l.94-2.06 2.06-.94-2.06-.94L8.5 2.5l-.94 2.06-2.06.94zm10 10l.94 2.06.94-2.06 2.06-.94-2.06-.94-.94-2.06-.94 2.06-2.06.94z\"/><path d=\"M17.41 7.96l-1.37-1.37c-.4-.4-.92-.59-1.43-.59-.52 0-1.04.2-1.43.59L10.3 9.45l-7.72 7.72c-.78.78-.78 2.05 0 2.83L4 21.41c.39.39.9.59 1.41.59.51 0 1.02-.2 1.41-.59l7.78-7.78 2.81-2.81c.8-.78.8-2.07 0-2.86zM5.41 20L4 18.59l7.72-7.72 1.47 1.35L5.41 20z\"/>\n",
              "  </svg>\n",
              "      </button>\n",
              "      \n",
              "  <style>\n",
              "    .colab-df-container {\n",
              "      display:flex;\n",
              "      flex-wrap:wrap;\n",
              "      gap: 12px;\n",
              "    }\n",
              "\n",
              "    .colab-df-convert {\n",
              "      background-color: #E8F0FE;\n",
              "      border: none;\n",
              "      border-radius: 50%;\n",
              "      cursor: pointer;\n",
              "      display: none;\n",
              "      fill: #1967D2;\n",
              "      height: 32px;\n",
              "      padding: 0 0 0 0;\n",
              "      width: 32px;\n",
              "    }\n",
              "\n",
              "    .colab-df-convert:hover {\n",
              "      background-color: #E2EBFA;\n",
              "      box-shadow: 0px 1px 2px rgba(60, 64, 67, 0.3), 0px 1px 3px 1px rgba(60, 64, 67, 0.15);\n",
              "      fill: #174EA6;\n",
              "    }\n",
              "\n",
              "    [theme=dark] .colab-df-convert {\n",
              "      background-color: #3B4455;\n",
              "      fill: #D2E3FC;\n",
              "    }\n",
              "\n",
              "    [theme=dark] .colab-df-convert:hover {\n",
              "      background-color: #434B5C;\n",
              "      box-shadow: 0px 1px 3px 1px rgba(0, 0, 0, 0.15);\n",
              "      filter: drop-shadow(0px 1px 2px rgba(0, 0, 0, 0.3));\n",
              "      fill: #FFFFFF;\n",
              "    }\n",
              "  </style>\n",
              "\n",
              "      <script>\n",
              "        const buttonEl =\n",
              "          document.querySelector('#df-3a9f33ef-b9c6-4bb0-9643-38586d29d9ca button.colab-df-convert');\n",
              "        buttonEl.style.display =\n",
              "          google.colab.kernel.accessAllowed ? 'block' : 'none';\n",
              "\n",
              "        async function convertToInteractive(key) {\n",
              "          const element = document.querySelector('#df-3a9f33ef-b9c6-4bb0-9643-38586d29d9ca');\n",
              "          const dataTable =\n",
              "            await google.colab.kernel.invokeFunction('convertToInteractive',\n",
              "                                                     [key], {});\n",
              "          if (!dataTable) return;\n",
              "\n",
              "          const docLinkHtml = 'Like what you see? Visit the ' +\n",
              "            '<a target=\"_blank\" href=https://colab.research.google.com/notebooks/data_table.ipynb>data table notebook</a>'\n",
              "            + ' to learn more about interactive tables.';\n",
              "          element.innerHTML = '';\n",
              "          dataTable['output_type'] = 'display_data';\n",
              "          await google.colab.output.renderOutput(dataTable, element);\n",
              "          const docLink = document.createElement('div');\n",
              "          docLink.innerHTML = docLinkHtml;\n",
              "          element.appendChild(docLink);\n",
              "        }\n",
              "      </script>\n",
              "    </div>\n",
              "  </div>\n",
              "  "
            ],
            "text/plain": [
              "             B_1      B_10      B_11      B_12      B_13      B_14      B_15  \\\n",
              "0       0.001930  0.431864  0.004027  0.112579  0.074886  0.009725  0.007219   \n",
              "1       0.100998  0.020843  0.065763  0.011516  0.011943  0.023915  0.002677   \n",
              "2       0.932366  0.006830  0.938222  0.018259  0.011526  0.310057  0.007449   \n",
              "3       0.090679  0.010080  0.061696  0.009170  0.022505  0.021193  0.005326   \n",
              "4       0.096867  0.016876  0.072356  0.015320  0.032634  0.030532  0.003829   \n",
              "...          ...       ...       ...       ...       ...       ...       ...   \n",
              "276567  0.008331  0.242958  0.004117  0.003937  0.006548  0.004503  0.003287   \n",
              "276568  0.028992  0.453770  0.017547  0.224241  0.239149  0.101930  0.009882   \n",
              "276569  0.162431  0.134409  0.135216  0.023709  0.086869  0.073229  0.001598   \n",
              "276570  0.027101  0.293564  0.010437  0.064097  0.049037  0.025647  0.005012   \n",
              "276571  0.042782  0.157152  0.026771  0.055753  0.077681  0.036595  0.024166   \n",
              "\n",
              "            B_16      B_17      B_18  ...      S_25      S_26      S_27  \\\n",
              "0       0.000227  0.187306  1.007369  ...  0.969777  0.022741  0.816651   \n",
              "1       0.752512  0.888287  0.245604  ...  0.554076  0.007319  0.003056   \n",
              "2       1.005576  0.958476  0.100295  ...  0.977311  0.005956  0.263270   \n",
              "3       0.004090  0.402698  0.483923  ...  0.970850  0.001798  0.006840   \n",
              "4       0.500069  0.008569  0.184785  ...  0.101208  0.004177  0.004812   \n",
              "...          ...       ...       ...  ...       ...       ...       ...   \n",
              "276567  0.003259  0.201737  1.004954  ...  0.975756  0.002313  0.194796   \n",
              "276568  0.002982  0.214119  1.009120  ...  0.977798  0.055105  0.006036   \n",
              "276569  0.335726  0.880369  0.379636  ...  0.978986  0.003040  0.430051   \n",
              "276570  0.335705  0.145229  1.007944  ...  0.975805  0.008761  0.380321   \n",
              "276571  0.920613  0.427228  0.379839  ...  0.979035  0.000230  0.219747   \n",
              "\n",
              "             S_3       S_5       S_6       S_7       S_8       S_9  target  \n",
              "0       0.100470  0.007165  0.002629  0.074646  0.759416  0.019340       0  \n",
              "1       0.333741  0.007118  0.003323  0.449327  0.121571  0.070750       0  \n",
              "2       0.166899  0.023294  1.001347  0.195864  0.469173  0.093580       1  \n",
              "3       0.182016  0.054562  1.005409  0.283636  0.252979  0.088396       1  \n",
              "4       0.460324  0.042095  0.009332  0.568983  0.328557  0.078887       1  \n",
              "...          ...       ...       ...       ...       ...       ...     ...  \n",
              "276567  0.281264  0.000499  1.004101  0.251258  0.006319  0.112598       0  \n",
              "276568  0.140112  0.275520  0.009312  0.094025  0.492496  0.074255       0  \n",
              "276569  0.086377  0.133227  0.000729  0.087364  0.666838  0.035156       0  \n",
              "276570  0.075824  0.060779  0.008526  0.048874  0.704418  0.022882       0  \n",
              "276571  0.020815  0.041289  0.002854  0.025815  0.665898  0.010998       0  \n",
              "\n",
              "[276572 rows x 168 columns]"
            ]
          },
          "execution_count": 67,
          "metadata": {},
          "output_type": "execute_result"
        }
      ],
      "source": [
        "df_reducido_dummies = pd.get_dummies(df_reducido, columns=['D_63'])\n",
        "df_reducido_dummies.sort_index(axis = 1, inplace = True)\n",
        "df_reducido_dummies"
      ]
    },
    {
      "cell_type": "markdown",
      "metadata": {
        "id": "Wee6OIbw3L5M"
      },
      "source": [
        "### Reducción de dimensionalidad"
      ]
    },
    {
      "cell_type": "markdown",
      "metadata": {
        "id": "6wKmkdmr3QHZ"
      },
      "source": [
        "Dada la gran cantidad de columnas que posee el dataset consideramos que sería posible realizar una reducción de dimensionalidad con el fin de mejorar la performance de los modelos y para ello podemos utilizar nuevamente la categorización de variables dada por el dataset. La categorización nos permite asumir la existencia de una posible correlación  entre las variables de un mismo tipo y por esta misma posible correlación se decide utilizar PCA (Principal Component Analysis).\n",
        "\n",
        "Como requisito previo a la aplicación de PCA debemos escalar los valores de las variables. Si bien el dataset se encontraba escalado inicialmente, al realizar modificaciones como completar registros vacíos y transformación de datos se ve afectada dicha condición. Por este motivo se deben escalar los datos nuevamente de todas las columnas que utilizaremos del dataset."
      ]
    },
    {
      "cell_type": "code",
      "execution_count": 68,
      "metadata": {
        "id": "V97hi-oDECI1"
      },
      "outputs": [],
      "source": [
        "from sklearn.preprocessing import StandardScaler\n",
        "from sklearn.decomposition import PCA"
      ]
    },
    {
      "cell_type": "code",
      "execution_count": 69,
      "metadata": {
        "id": "p5m_k1IJ18X6"
      },
      "outputs": [],
      "source": [
        "columns = columns_by_type(df_reducido_dummies)\n",
        "df_pca = pd.DataFrame()"
      ]
    },
    {
      "cell_type": "code",
      "execution_count": 70,
      "metadata": {
        "id": "T5Y05HovIrX0"
      },
      "outputs": [],
      "source": [
        "def create_colum_names(n: int , name: str ):\n",
        "  names = []\n",
        "  for i in range(0, n):\n",
        "    names.append(name + str(i + 1))\n",
        "  return names"
      ]
    },
    {
      "cell_type": "markdown",
      "metadata": {
        "id": "jrfZ0CWqwtYk"
      },
      "source": [
        "#### Variables relacionadas a los pagos (Tipo P) "
      ]
    },
    {
      "cell_type": "code",
      "execution_count": 71,
      "metadata": {
        "id": "AA-R7CiCAL_q"
      },
      "outputs": [],
      "source": [
        "x = df_reducido_dummies.loc[:,columns[2]].values\n",
        "y = df_reducido_dummies.loc[:,['target']].values\n",
        "\n",
        "x = StandardScaler().fit_transform(x)\n"
      ]
    },
    {
      "cell_type": "code",
      "execution_count": 72,
      "metadata": {
        "id": "PJx_O0dOUjPH"
      },
      "outputs": [],
      "source": [
        "pca = PCA(n_components=2)\n",
        "x_transformada = pca.fit_transform(x)\n",
        "\n",
        "pca_df_aux_type_P = pd.DataFrame(data = x_transformada, columns = ['principal_component_1', 'principal_component_2'])"
      ]
    },
    {
      "cell_type": "code",
      "execution_count": 73,
      "metadata": {
        "id": "UjAAXV9_5YW0"
      },
      "outputs": [],
      "source": [
        "pca_df_type_P = pd.concat([pca_df_aux_type_P, df_reducido_dummies[['target']]], axis = 1)"
      ]
    },
    {
      "cell_type": "code",
      "execution_count": 74,
      "metadata": {
        "colab": {
          "base_uri": "https://localhost:8080/",
          "height": 279
        },
        "id": "KPSiVAqSU-z1",
        "outputId": "c1fd7742-9674-4d09-9ea1-a8c23e9a899b"
      },
      "outputs": [
        {
          "data": {
            "image/png": "[encoded data removed]",
            "text/plain": [
              "<Figure size 432x288 with 1 Axes>"
            ]
          },
          "metadata": {
            "needs_background": "light"
          },
          "output_type": "display_data"
        }
      ],
      "source": [
        "scatter_plot_pca = plt.figure().add_subplot(1,1,1) \n",
        "\n",
        "scatter_plot_pca.scatter(x=pca_df_type_P['principal_component_1'],y=pca_df_type_P['principal_component_2'],c=pca_df_type_P['target'])\n",
        "scatter_plot_pca.set_xlabel('Componente Principal  1')\n",
        "scatter_plot_pca.set_ylabel('Componente Principal  2')\n",
        "scatter_plot_pca.grid()\n",
        "\n",
        "plt.show()"
      ]
    },
    {
      "cell_type": "code",
      "execution_count": 75,
      "metadata": {
        "colab": {
          "base_uri": "https://localhost:8080/"
        },
        "id": "9Fi4OrNowjvC",
        "outputId": "bf8870ef-fadc-45af-d404-51143cb2779f"
      },
      "outputs": [
        {
          "data": {
            "text/plain": [
              "array([0.51896075, 0.29604798])"
            ]
          },
          "execution_count": 75,
          "metadata": {},
          "output_type": "execute_result"
        }
      ],
      "source": [
        "pca.explained_variance_ratio_"
      ]
    },
    {
      "cell_type": "markdown",
      "metadata": {
        "id": "qsyJ9lAb7pnN"
      },
      "source": [
        "En el dataset tenemos únicamente tres variables relacionadas con los pagos de los clientes y en caso de existir una correlación marcada entre las mismas seria visibles tanto en los datos como en el grafico anteriormente expuesto. \n",
        "\n",
        "Sin embargo, tanto al observar el grafico como la varianza máxima de aproximadamente 0.52 concluimos que la correlación entre variables no es lo suficientemente fuerte como para realizar una reducción de dimensionalidad para dichas variables por lo cual se conservan sin alteración en el dataset total."
      ]
    },
    {
      "cell_type": "code",
      "execution_count": 76,
      "metadata": {
        "id": "DQg3ZvJh9pRT"
      },
      "outputs": [],
      "source": [
        "df_pca = pd.concat( [df_pca ,df_reducido_dummies.loc[:,columns[2]]], axis = 1)"
      ]
    },
    {
      "cell_type": "markdown",
      "metadata": {
        "id": "6G2XtJ3FxvMB"
      },
      "source": [
        "#### Variables relacionadas a los gastos (Tipo S)"
      ]
    },
    {
      "cell_type": "code",
      "execution_count": 77,
      "metadata": {
        "id": "AaT5dTJn_FE6"
      },
      "outputs": [],
      "source": [
        "x = df_reducido_dummies.loc[:,columns[1]].values\n",
        "y = df_reducido_dummies.loc[:,['target']].values\n",
        "\n",
        "x = StandardScaler().fit_transform(x)"
      ]
    },
    {
      "cell_type": "code",
      "execution_count": 78,
      "metadata": {
        "id": "vI34yLy9_FE6"
      },
      "outputs": [],
      "source": [
        "pca = PCA(n_components=15)\n",
        "x_transformada = pca.fit_transform(x)"
      ]
    },
    {
      "cell_type": "code",
      "execution_count": 79,
      "metadata": {
        "colab": {
          "base_uri": "https://localhost:8080/"
        },
        "id": "RETPirPM_FE7",
        "outputId": "c5108e8e-f159-4ed2-dbef-f868a757e9b3"
      },
      "outputs": [
        {
          "data": {
            "text/plain": [
              "0.9138205889819414"
            ]
          },
          "execution_count": 79,
          "metadata": {},
          "output_type": "execute_result"
        }
      ],
      "source": [
        "sum(pca.explained_variance_ratio_)"
      ]
    },
    {
      "cell_type": "code",
      "execution_count": 80,
      "metadata": {
        "colab": {
          "base_uri": "https://localhost:8080/"
        },
        "id": "KYzKv5WUCB2n",
        "outputId": "8c11bc48-03ad-4c34-ba4c-6b9216df363d"
      },
      "outputs": [
        {
          "data": {
            "text/plain": [
              "array([0.17311963, 0.10663096, 0.07812148, 0.06664916, 0.06257506,\n",
              "       0.05671638, 0.04821325, 0.04641299, 0.04558999, 0.04402757,\n",
              "       0.04239725, 0.04134632, 0.03668547, 0.03481043, 0.03052465])"
            ]
          },
          "execution_count": 80,
          "metadata": {},
          "output_type": "execute_result"
        }
      ],
      "source": [
        "pca.explained_variance_ratio_"
      ]
    },
    {
      "cell_type": "markdown",
      "metadata": {
        "id": "ZGEITPZk_FE7"
      },
      "source": [
        "En el caso de las variables del tipo s poseemos 21 columnas, de las cuales se puede representar aproximadamente un 91 % de su información con 15 componentes principales. Dicha cantidad de componentes se obtuvo al comparar los resultados obtenidos al utilizar distintas cantidades, por ejemplo al utilizar 10 componentes se obtiene un 73% o mediante el uso de 14 componentes obtuvimos un 88%. Con estos resultados consideramos que es mejor utilizar n_components = 15.\n",
        "\n",
        "Al mismo tiempo, analizamos el aporte de información realizado por cada componente y dado a que ningún valor es inferior a 0.03 (3%) decidimos consérvalos a todos ellos, destacando que existe una mayor cantidad de información contenida en las 2 primeras componentes principales..\n"
      ]
    },
    {
      "cell_type": "code",
      "execution_count": 81,
      "metadata": {
        "id": "RQJJ5cZlDGW2"
      },
      "outputs": [],
      "source": [
        "columns_s = create_colum_names(15 , 'S_') \n",
        "pca_df_aux_type_S = pd.DataFrame(data = x_transformada, columns = columns_s)"
      ]
    },
    {
      "cell_type": "code",
      "execution_count": 82,
      "metadata": {
        "id": "9IQ37Tjt_FE8"
      },
      "outputs": [],
      "source": [
        "df_pca = pd.concat( [df_pca , pca_df_aux_type_S] ,axis = 1)"
      ]
    },
    {
      "cell_type": "markdown",
      "metadata": {
        "id": "BpWSB1rzx1xw"
      },
      "source": [
        "#### Variables relacionadas a los riesgos (Tipo R)"
      ]
    },
    {
      "cell_type": "code",
      "execution_count": 83,
      "metadata": {
        "id": "xMo5lE0NEWZN"
      },
      "outputs": [],
      "source": [
        "x = df_reducido_dummies.loc[:,columns[4]].values\n",
        "y = df_reducido_dummies.loc[:,['target']].values\n",
        "\n",
        "x = StandardScaler().fit_transform(x)"
      ]
    },
    {
      "cell_type": "code",
      "execution_count": 84,
      "metadata": {
        "id": "J4-wT5gDEWZN"
      },
      "outputs": [],
      "source": [
        "pca = PCA(n_components=17)\n",
        "x_transformada = pca.fit_transform(x)"
      ]
    },
    {
      "cell_type": "code",
      "execution_count": 85,
      "metadata": {
        "colab": {
          "base_uri": "https://localhost:8080/"
        },
        "id": "xbWKyOzLEWZO",
        "outputId": "43f90372-b65a-4383-d603-53ce03c96000"
      },
      "outputs": [
        {
          "data": {
            "text/plain": [
              "0.8806814504240108"
            ]
          },
          "execution_count": 85,
          "metadata": {},
          "output_type": "execute_result"
        }
      ],
      "source": [
        "sum(pca.explained_variance_ratio_)"
      ]
    },
    {
      "cell_type": "code",
      "execution_count": 86,
      "metadata": {
        "colab": {
          "base_uri": "https://localhost:8080/"
        },
        "id": "0GLEI4dYEWZO",
        "outputId": "56854484-7842-46c0-cba8-fa3f8528da2b"
      },
      "outputs": [
        {
          "data": {
            "text/plain": [
              "array([0.19247039, 0.07184423, 0.06679876, 0.05440825, 0.05089943,\n",
              "       0.04777686, 0.0392156 , 0.03892342, 0.03852623, 0.03837657,\n",
              "       0.03796886, 0.03725737, 0.03556413, 0.03394117, 0.03287575,\n",
              "       0.03229384, 0.03154059])"
            ]
          },
          "execution_count": 86,
          "metadata": {},
          "output_type": "execute_result"
        }
      ],
      "source": [
        "pca.explained_variance_ratio_"
      ]
    },
    {
      "cell_type": "markdown",
      "metadata": {
        "id": "LFQlVucsEWZO"
      },
      "source": [
        "En el caso de las variables del tipo R poseemos 26 columnas, de las cuales podemos obtener reultados porcentuales de información que para las columnas del tipo S utilizando 17 componentes principales. Al igual que en el caso anterior se optó por dicha cantidad de componentes principales al comparar los resultados modificando dicho parámetro. \n",
        "\n",
        "Al igual que para el caso anterior se toma como criterio que cada componente principal debe aportar un mínimo de 3% de información.\n",
        "\n"
      ]
    },
    {
      "cell_type": "code",
      "execution_count": 87,
      "metadata": {
        "id": "oYoNYbnLEWZP"
      },
      "outputs": [],
      "source": [
        "columns_R = create_colum_names(17 ,'R_')\n",
        "pca_df_aux_type_R = pd.DataFrame(data = x_transformada, columns = columns_R)"
      ]
    },
    {
      "cell_type": "code",
      "execution_count": 88,
      "metadata": {
        "id": "TiOLT0XuEWZP"
      },
      "outputs": [],
      "source": [
        "df_pca = pd.concat( [df_pca , pca_df_aux_type_R] ,axis = 1)"
      ]
    },
    {
      "cell_type": "markdown",
      "metadata": {
        "id": "VkDoBoD9yMY9"
      },
      "source": [
        "#### Variables relacionadas a los balances (Tipo B)"
      ]
    },
    {
      "cell_type": "code",
      "execution_count": 89,
      "metadata": {
        "id": "NVmGDFeGKWxM"
      },
      "outputs": [],
      "source": [
        "x = df_reducido_dummies.loc[:,columns[3]].values\n",
        "y = df_reducido_dummies.loc[:,['target']].values\n",
        "\n",
        "x = StandardScaler().fit_transform(x)"
      ]
    },
    {
      "cell_type": "code",
      "execution_count": 90,
      "metadata": {
        "id": "02YtNxQYKWxN"
      },
      "outputs": [],
      "source": [
        "pca = PCA(n_components=13)\n",
        "x_transformada = pca.fit_transform(x)"
      ]
    },
    {
      "cell_type": "code",
      "execution_count": 91,
      "metadata": {
        "colab": {
          "base_uri": "https://localhost:8080/"
        },
        "id": "j2bsNBnLKWxN",
        "outputId": "554635be-ac2e-4bb6-bdaf-f8500d318ded"
      },
      "outputs": [
        {
          "data": {
            "text/plain": [
              "0.796764097069967"
            ]
          },
          "execution_count": 91,
          "metadata": {},
          "output_type": "execute_result"
        }
      ],
      "source": [
        "sum(pca.explained_variance_ratio_)"
      ]
    },
    {
      "cell_type": "code",
      "execution_count": 92,
      "metadata": {
        "colab": {
          "base_uri": "https://localhost:8080/"
        },
        "id": "2mIognvOKWxO",
        "outputId": "c2917c81-9ad4-4e78-d7ca-93e10324e092"
      },
      "outputs": [
        {
          "data": {
            "text/plain": [
              "array([0.33340947, 0.11112364, 0.04869113, 0.04210543, 0.03682092,\n",
              "       0.03411325, 0.0293731 , 0.02809557, 0.02733172, 0.02689613,\n",
              "       0.02681196, 0.02611281, 0.02587895])"
            ]
          },
          "execution_count": 92,
          "metadata": {},
          "output_type": "execute_result"
        }
      ],
      "source": [
        "pca.explained_variance_ratio_"
      ]
    },
    {
      "cell_type": "markdown",
      "metadata": {
        "id": "UUG3Oq5sKWxO"
      },
      "source": [
        "En el caso de las variables del tipo B poseemos 37 columnas y utilizando 13 componentes principales se logra representar aproximadamente el 80% de su información. El análisis realizado es similar al desarrollado anteriormente para las variables de distintos tipos, sin embargo en esta ocasión observamos que únicamente una componente principal almacena aproximadamente el 33% de la información permitiendo así una gran representación de los datos con una cantidad muy reducida de variables respecto al punto de partida.\n"
      ]
    },
    {
      "cell_type": "code",
      "execution_count": 93,
      "metadata": {
        "id": "VXxVgiROKWxO"
      },
      "outputs": [],
      "source": [
        "columns_B = create_colum_names(13 ,'B_')\n",
        "pca_df_aux_type_B = pd.DataFrame(data = x_transformada, columns = columns_B)"
      ]
    },
    {
      "cell_type": "code",
      "execution_count": 94,
      "metadata": {
        "id": "D5jaI1XzKWxP"
      },
      "outputs": [],
      "source": [
        "df_pca = pd.concat( [df_pca , pca_df_aux_type_B] ,axis = 1)"
      ]
    },
    {
      "cell_type": "markdown",
      "metadata": {
        "id": "q3aPge2cyQOZ"
      },
      "source": [
        "#### Variables relacionadas a la delincuencia (Tipo D)"
      ]
    },
    {
      "cell_type": "code",
      "execution_count": 95,
      "metadata": {
        "id": "IY3gkwhsNgUA"
      },
      "outputs": [],
      "source": [
        "x = df_reducido_dummies.loc[:,columns[0]].values\n",
        "y = df_reducido_dummies.loc[:,['target']].values\n",
        "\n",
        "x = StandardScaler().fit_transform(x)"
      ]
    },
    {
      "cell_type": "code",
      "execution_count": 96,
      "metadata": {
        "id": "JXzKENdFNgUB"
      },
      "outputs": [],
      "source": [
        "pca = PCA(n_components=34)\n",
        "x_transformada = pca.fit_transform(x)"
      ]
    },
    {
      "cell_type": "code",
      "execution_count": 97,
      "metadata": {
        "colab": {
          "base_uri": "https://localhost:8080/"
        },
        "id": "OKLC37wSNgUB",
        "outputId": "bcf213d1-8503-48a1-f75d-919b9799d5df"
      },
      "outputs": [
        {
          "data": {
            "text/plain": [
              "0.7965173980568634"
            ]
          },
          "execution_count": 97,
          "metadata": {},
          "output_type": "execute_result"
        }
      ],
      "source": [
        "sum(pca.explained_variance_ratio_)"
      ]
    },
    {
      "cell_type": "code",
      "execution_count": 98,
      "metadata": {
        "colab": {
          "base_uri": "https://localhost:8080/"
        },
        "id": "o3cfRpQ2NgUB",
        "outputId": "56adfdd0-59fc-4cdf-9b6c-9d6610bd46bc"
      },
      "outputs": [
        {
          "data": {
            "text/plain": [
              "array([0.12296001, 0.07127817, 0.05529734, 0.04350324, 0.04148382,\n",
              "       0.03428334, 0.03098462, 0.02932621, 0.02575632, 0.02173536,\n",
              "       0.02104446, 0.01826108, 0.01688033, 0.01579199, 0.01542573,\n",
              "       0.014473  , 0.01427027, 0.01394842, 0.01287711, 0.01279809,\n",
              "       0.01268232, 0.01256676, 0.01253069, 0.0124672 , 0.01239051,\n",
              "       0.01223014, 0.01208561, 0.01181449, 0.01158377, 0.01138898,\n",
              "       0.01102816, 0.01066315, 0.01038582, 0.01032087])"
            ]
          },
          "execution_count": 98,
          "metadata": {},
          "output_type": "execute_result"
        }
      ],
      "source": [
        "pca.explained_variance_ratio_"
      ]
    },
    {
      "cell_type": "markdown",
      "metadata": {
        "id": "6ebVxjpONgUB"
      },
      "source": [
        "Por ultimo tenemos las variables del tipo D relacionadas a la delincuencia, tras los procedimientos realizados sobre el dataset redujimos la cantidad de variables a 80. Sin embargo, observamos que tenemos la posibilidad de obtener aproximadamente el 80% de la información que contienen mediante el uso de 34 componentes principales. Los resultados obtenidos muestran que existen componentes principales que únicamente aportan un 1% de información y pese a ello optamos conservarlos a fin de tener una mayor representación de los datos.\n"
      ]
    },
    {
      "cell_type": "code",
      "execution_count": 99,
      "metadata": {
        "id": "hxqAyiwKNgUB"
      },
      "outputs": [],
      "source": [
        "columns_D = create_colum_names(34 ,'D_')\n",
        "pca_df_aux_type_D = pd.DataFrame(data = x_transformada, columns = columns_D)"
      ]
    },
    {
      "cell_type": "code",
      "execution_count": 100,
      "metadata": {
        "id": "FgaMBaHhNgUB"
      },
      "outputs": [],
      "source": [
        "df_pca = pd.concat( [df_pca , pca_df_aux_type_D] ,axis = 1)"
      ]
    },
    {
      "cell_type": "code",
      "execution_count": 101,
      "metadata": {
        "id": "FxSTlaOzyFbx"
      },
      "outputs": [],
      "source": [
        "df_pca = pd.concat( [df_pca , df_reducido['target']] ,axis = 1)"
      ]
    },
    {
      "cell_type": "markdown",
      "metadata": {
        "id": "uPTfSeVaQuzF"
      },
      "source": [
        "#### Conclusiones"
      ]
    },
    {
      "cell_type": "markdown",
      "metadata": {
        "id": "BLApNAUNTASw"
      },
      "source": [
        "Como resultado de la reducción de dimensionalidad mediante el método de PCA, obtuvimos un dataset de 83 columnas donde para los distintos tipos de variables se procuró conservar aproximadamente un mínimo del 80% de la información. Considerando que previo al procedimiento el dataset contaba con 168 columnas, concluimos que es beneficiosa la aplicación de la reducción de dimensionalidad con el fin de obtener una mejor performance en los distintos modelos que utilicen como fuente de información dicho dataset modificado."
      ]
    },
    {
      "cell_type": "code",
      "execution_count": 102,
      "metadata": {
        "colab": {
          "base_uri": "https://localhost:8080/",
          "height": 488
        },
        "id": "Fd_g_eABQoZK",
        "outputId": "93f39d78-9df1-4b46-8cd7-a24badc2ef13"
      },
      "outputs": [
        {
          "data": {
            "text/html": [
              "\n",
              "  <div id=\"df-03ec3806-f06b-4115-a274-b30c74e5fc8d\">\n",
              "    <div class=\"colab-df-container\">\n",
              "      <div>\n",
              "<style scoped>\n",
              "    .dataframe tbody tr th:only-of-type {\n",
              "        vertical-align: middle;\n",
              "    }\n",
              "\n",
              "    .dataframe tbody tr th {\n",
              "        vertical-align: top;\n",
              "    }\n",
              "\n",
              "    .dataframe thead th {\n",
              "        text-align: right;\n",
              "    }\n",
              "</style>\n",
              "<table border=\"1\" class=\"dataframe\">\n",
              "  <thead>\n",
              "    <tr style=\"text-align: right;\">\n",
              "      <th></th>\n",
              "      <th>P_2</th>\n",
              "      <th>P_3</th>\n",
              "      <th>P_4</th>\n",
              "      <th>S_1</th>\n",
              "      <th>S_2</th>\n",
              "      <th>S_3</th>\n",
              "      <th>S_4</th>\n",
              "      <th>S_5</th>\n",
              "      <th>S_6</th>\n",
              "      <th>S_7</th>\n",
              "      <th>...</th>\n",
              "      <th>D_26</th>\n",
              "      <th>D_27</th>\n",
              "      <th>D_28</th>\n",
              "      <th>D_29</th>\n",
              "      <th>D_30</th>\n",
              "      <th>D_31</th>\n",
              "      <th>D_32</th>\n",
              "      <th>D_33</th>\n",
              "      <th>D_34</th>\n",
              "      <th>target</th>\n",
              "    </tr>\n",
              "  </thead>\n",
              "  <tbody>\n",
              "    <tr>\n",
              "      <th>0</th>\n",
              "      <td>0.868580</td>\n",
              "      <td>0.689886</td>\n",
              "      <td>0.007455</td>\n",
              "      <td>-2.898584</td>\n",
              "      <td>0.085358</td>\n",
              "      <td>0.767740</td>\n",
              "      <td>-0.560084</td>\n",
              "      <td>0.664197</td>\n",
              "      <td>-0.561271</td>\n",
              "      <td>-0.853606</td>\n",
              "      <td>...</td>\n",
              "      <td>-0.287183</td>\n",
              "      <td>0.177329</td>\n",
              "      <td>0.316125</td>\n",
              "      <td>-1.753930</td>\n",
              "      <td>-0.480730</td>\n",
              "      <td>-0.820786</td>\n",
              "      <td>0.201346</td>\n",
              "      <td>-0.317601</td>\n",
              "      <td>1.046728</td>\n",
              "      <td>0</td>\n",
              "    </tr>\n",
              "    <tr>\n",
              "      <th>1</th>\n",
              "      <td>0.414444</td>\n",
              "      <td>0.557492</td>\n",
              "      <td>0.957622</td>\n",
              "      <td>0.935086</td>\n",
              "      <td>-0.965246</td>\n",
              "      <td>-0.538334</td>\n",
              "      <td>1.703724</td>\n",
              "      <td>0.620479</td>\n",
              "      <td>0.010761</td>\n",
              "      <td>0.816514</td>\n",
              "      <td>...</td>\n",
              "      <td>0.376701</td>\n",
              "      <td>-0.149022</td>\n",
              "      <td>0.152258</td>\n",
              "      <td>0.179575</td>\n",
              "      <td>-0.005567</td>\n",
              "      <td>-0.241059</td>\n",
              "      <td>0.072231</td>\n",
              "      <td>0.111100</td>\n",
              "      <td>0.197566</td>\n",
              "      <td>0</td>\n",
              "    </tr>\n",
              "    <tr>\n",
              "      <th>2</th>\n",
              "      <td>0.408131</td>\n",
              "      <td>0.608540</td>\n",
              "      <td>0.008573</td>\n",
              "      <td>0.464833</td>\n",
              "      <td>0.871602</td>\n",
              "      <td>-0.936698</td>\n",
              "      <td>-0.434236</td>\n",
              "      <td>-0.189318</td>\n",
              "      <td>0.119886</td>\n",
              "      <td>-0.957924</td>\n",
              "      <td>...</td>\n",
              "      <td>0.534821</td>\n",
              "      <td>0.334504</td>\n",
              "      <td>0.032404</td>\n",
              "      <td>-0.111631</td>\n",
              "      <td>0.304494</td>\n",
              "      <td>0.820281</td>\n",
              "      <td>-0.183966</td>\n",
              "      <td>-0.724470</td>\n",
              "      <td>-0.570341</td>\n",
              "      <td>1</td>\n",
              "    </tr>\n",
              "    <tr>\n",
              "      <th>3</th>\n",
              "      <td>0.359892</td>\n",
              "      <td>0.374767</td>\n",
              "      <td>0.009922</td>\n",
              "      <td>1.198177</td>\n",
              "      <td>0.617719</td>\n",
              "      <td>-1.038145</td>\n",
              "      <td>-0.238809</td>\n",
              "      <td>-0.368435</td>\n",
              "      <td>0.346914</td>\n",
              "      <td>-0.093333</td>\n",
              "      <td>...</td>\n",
              "      <td>-1.003179</td>\n",
              "      <td>-3.137114</td>\n",
              "      <td>1.080425</td>\n",
              "      <td>-1.779528</td>\n",
              "      <td>4.251674</td>\n",
              "      <td>2.585711</td>\n",
              "      <td>-0.049884</td>\n",
              "      <td>2.116991</td>\n",
              "      <td>0.795107</td>\n",
              "      <td>1</td>\n",
              "    </tr>\n",
              "    <tr>\n",
              "      <th>4</th>\n",
              "      <td>0.311111</td>\n",
              "      <td>0.512139</td>\n",
              "      <td>0.963224</td>\n",
              "      <td>1.008087</td>\n",
              "      <td>-1.656863</td>\n",
              "      <td>-0.452177</td>\n",
              "      <td>2.843438</td>\n",
              "      <td>1.001564</td>\n",
              "      <td>-0.295520</td>\n",
              "      <td>0.400813</td>\n",
              "      <td>...</td>\n",
              "      <td>0.549876</td>\n",
              "      <td>0.169676</td>\n",
              "      <td>-0.041207</td>\n",
              "      <td>0.430994</td>\n",
              "      <td>-0.571204</td>\n",
              "      <td>-0.636162</td>\n",
              "      <td>0.097009</td>\n",
              "      <td>-0.192456</td>\n",
              "      <td>0.124503</td>\n",
              "      <td>1</td>\n",
              "    </tr>\n",
              "    <tr>\n",
              "      <th>...</th>\n",
              "      <td>...</td>\n",
              "      <td>...</td>\n",
              "      <td>...</td>\n",
              "      <td>...</td>\n",
              "      <td>...</td>\n",
              "      <td>...</td>\n",
              "      <td>...</td>\n",
              "      <td>...</td>\n",
              "      <td>...</td>\n",
              "      <td>...</td>\n",
              "      <td>...</td>\n",
              "      <td>...</td>\n",
              "      <td>...</td>\n",
              "      <td>...</td>\n",
              "      <td>...</td>\n",
              "      <td>...</td>\n",
              "      <td>...</td>\n",
              "      <td>...</td>\n",
              "      <td>...</td>\n",
              "      <td>...</td>\n",
              "      <td>...</td>\n",
              "    </tr>\n",
              "    <tr>\n",
              "      <th>276567</th>\n",
              "      <td>0.703939</td>\n",
              "      <td>0.619083</td>\n",
              "      <td>0.004705</td>\n",
              "      <td>2.229533</td>\n",
              "      <td>0.880567</td>\n",
              "      <td>0.060648</td>\n",
              "      <td>-0.412833</td>\n",
              "      <td>-0.168784</td>\n",
              "      <td>0.282989</td>\n",
              "      <td>-0.101462</td>\n",
              "      <td>...</td>\n",
              "      <td>-0.275261</td>\n",
              "      <td>-0.282711</td>\n",
              "      <td>0.574025</td>\n",
              "      <td>-0.429842</td>\n",
              "      <td>-0.496315</td>\n",
              "      <td>0.077999</td>\n",
              "      <td>-0.383687</td>\n",
              "      <td>-0.199867</td>\n",
              "      <td>-1.112053</td>\n",
              "      <td>0</td>\n",
              "    </tr>\n",
              "    <tr>\n",
              "      <th>276568</th>\n",
              "      <td>0.895553</td>\n",
              "      <td>0.786104</td>\n",
              "      <td>0.008739</td>\n",
              "      <td>-1.003391</td>\n",
              "      <td>0.344174</td>\n",
              "      <td>-0.390606</td>\n",
              "      <td>-0.009446</td>\n",
              "      <td>0.164462</td>\n",
              "      <td>0.428303</td>\n",
              "      <td>0.207067</td>\n",
              "      <td>...</td>\n",
              "      <td>-0.117193</td>\n",
              "      <td>-1.292950</td>\n",
              "      <td>-0.317442</td>\n",
              "      <td>3.040307</td>\n",
              "      <td>-0.790639</td>\n",
              "      <td>2.437747</td>\n",
              "      <td>2.051753</td>\n",
              "      <td>-2.777274</td>\n",
              "      <td>0.415983</td>\n",
              "      <td>0</td>\n",
              "    </tr>\n",
              "    <tr>\n",
              "      <th>276569</th>\n",
              "      <td>0.780039</td>\n",
              "      <td>0.627228</td>\n",
              "      <td>0.006754</td>\n",
              "      <td>-2.001636</td>\n",
              "      <td>0.417368</td>\n",
              "      <td>0.044487</td>\n",
              "      <td>-0.279186</td>\n",
              "      <td>0.766529</td>\n",
              "      <td>0.195224</td>\n",
              "      <td>-0.180456</td>\n",
              "      <td>...</td>\n",
              "      <td>0.294102</td>\n",
              "      <td>0.151897</td>\n",
              "      <td>-0.173116</td>\n",
              "      <td>1.272966</td>\n",
              "      <td>0.902547</td>\n",
              "      <td>-1.126424</td>\n",
              "      <td>-2.663873</td>\n",
              "      <td>0.490347</td>\n",
              "      <td>0.263348</td>\n",
              "      <td>0</td>\n",
              "    </tr>\n",
              "    <tr>\n",
              "      <th>276570</th>\n",
              "      <td>0.794548</td>\n",
              "      <td>0.625673</td>\n",
              "      <td>0.001326</td>\n",
              "      <td>-2.270228</td>\n",
              "      <td>0.670521</td>\n",
              "      <td>-0.059370</td>\n",
              "      <td>-0.160369</td>\n",
              "      <td>0.236371</td>\n",
              "      <td>-0.548114</td>\n",
              "      <td>-0.490292</td>\n",
              "      <td>...</td>\n",
              "      <td>-0.030244</td>\n",
              "      <td>0.047514</td>\n",
              "      <td>-0.024415</td>\n",
              "      <td>0.451348</td>\n",
              "      <td>0.778730</td>\n",
              "      <td>-0.440808</td>\n",
              "      <td>-2.282502</td>\n",
              "      <td>0.060832</td>\n",
              "      <td>0.150955</td>\n",
              "      <td>0</td>\n",
              "    </tr>\n",
              "    <tr>\n",
              "      <th>276571</th>\n",
              "      <td>0.965709</td>\n",
              "      <td>0.635963</td>\n",
              "      <td>0.008578</td>\n",
              "      <td>-3.116743</td>\n",
              "      <td>0.998344</td>\n",
              "      <td>0.216375</td>\n",
              "      <td>0.120543</td>\n",
              "      <td>0.319723</td>\n",
              "      <td>-0.502770</td>\n",
              "      <td>0.548535</td>\n",
              "      <td>...</td>\n",
              "      <td>0.205436</td>\n",
              "      <td>-0.576637</td>\n",
              "      <td>0.646148</td>\n",
              "      <td>-0.288552</td>\n",
              "      <td>1.474100</td>\n",
              "      <td>-0.027848</td>\n",
              "      <td>-1.785398</td>\n",
              "      <td>0.167643</td>\n",
              "      <td>-0.854948</td>\n",
              "      <td>0</td>\n",
              "    </tr>\n",
              "  </tbody>\n",
              "</table>\n",
              "<p>276572 rows × 83 columns</p>\n",
              "</div>\n",
              "      <button class=\"colab-df-convert\" onclick=\"convertToInteractive('df-03ec3806-f06b-4115-a274-b30c74e5fc8d')\"\n",
              "              title=\"Convert this dataframe to an interactive table.\"\n",
              "              style=\"display:none;\">\n",
              "        \n",
              "  <svg xmlns=\"http://www.w3.org/2000/svg\" height=\"24px\"viewBox=\"0 0 24 24\"\n",
              "       width=\"24px\">\n",
              "    <path d=\"M0 0h24v24H0V0z\" fill=\"none\"/>\n",
              "    <path d=\"M18.56 5.44l.94 2.06.94-2.06 2.06-.94-2.06-.94-.94-2.06-.94 2.06-2.06.94zm-11 1L8.5 8.5l.94-2.06 2.06-.94-2.06-.94L8.5 2.5l-.94 2.06-2.06.94zm10 10l.94 2.06.94-2.06 2.06-.94-2.06-.94-.94-2.06-.94 2.06-2.06.94z\"/><path d=\"M17.41 7.96l-1.37-1.37c-.4-.4-.92-.59-1.43-.59-.52 0-1.04.2-1.43.59L10.3 9.45l-7.72 7.72c-.78.78-.78 2.05 0 2.83L4 21.41c.39.39.9.59 1.41.59.51 0 1.02-.2 1.41-.59l7.78-7.78 2.81-2.81c.8-.78.8-2.07 0-2.86zM5.41 20L4 18.59l7.72-7.72 1.47 1.35L5.41 20z\"/>\n",
              "  </svg>\n",
              "      </button>\n",
              "      \n",
              "  <style>\n",
              "    .colab-df-container {\n",
              "      display:flex;\n",
              "      flex-wrap:wrap;\n",
              "      gap: 12px;\n",
              "    }\n",
              "\n",
              "    .colab-df-convert {\n",
              "      background-color: #E8F0FE;\n",
              "      border: none;\n",
              "      border-radius: 50%;\n",
              "      cursor: pointer;\n",
              "      display: none;\n",
              "      fill: #1967D2;\n",
              "      height: 32px;\n",
              "      padding: 0 0 0 0;\n",
              "      width: 32px;\n",
              "    }\n",
              "\n",
              "    .colab-df-convert:hover {\n",
              "      background-color: #E2EBFA;\n",
              "      box-shadow: 0px 1px 2px rgba(60, 64, 67, 0.3), 0px 1px 3px 1px rgba(60, 64, 67, 0.15);\n",
              "      fill: #174EA6;\n",
              "    }\n",
              "\n",
              "    [theme=dark] .colab-df-convert {\n",
              "      background-color: #3B4455;\n",
              "      fill: #D2E3FC;\n",
              "    }\n",
              "\n",
              "    [theme=dark] .colab-df-convert:hover {\n",
              "      background-color: #434B5C;\n",
              "      box-shadow: 0px 1px 3px 1px rgba(0, 0, 0, 0.15);\n",
              "      filter: drop-shadow(0px 1px 2px rgba(0, 0, 0, 0.3));\n",
              "      fill: #FFFFFF;\n",
              "    }\n",
              "  </style>\n",
              "\n",
              "      <script>\n",
              "        const buttonEl =\n",
              "          document.querySelector('#df-03ec3806-f06b-4115-a274-b30c74e5fc8d button.colab-df-convert');\n",
              "        buttonEl.style.display =\n",
              "          google.colab.kernel.accessAllowed ? 'block' : 'none';\n",
              "\n",
              "        async function convertToInteractive(key) {\n",
              "          const element = document.querySelector('#df-03ec3806-f06b-4115-a274-b30c74e5fc8d');\n",
              "          const dataTable =\n",
              "            await google.colab.kernel.invokeFunction('convertToInteractive',\n",
              "                                                     [key], {});\n",
              "          if (!dataTable) return;\n",
              "\n",
              "          const docLinkHtml = 'Like what you see? Visit the ' +\n",
              "            '<a target=\"_blank\" href=https://colab.research.google.com/notebooks/data_table.ipynb>data table notebook</a>'\n",
              "            + ' to learn more about interactive tables.';\n",
              "          element.innerHTML = '';\n",
              "          dataTable['output_type'] = 'display_data';\n",
              "          await google.colab.output.renderOutput(dataTable, element);\n",
              "          const docLink = document.createElement('div');\n",
              "          docLink.innerHTML = docLinkHtml;\n",
              "          element.appendChild(docLink);\n",
              "        }\n",
              "      </script>\n",
              "    </div>\n",
              "  </div>\n",
              "  "
            ],
            "text/plain": [
              "             P_2       P_3       P_4       S_1       S_2       S_3       S_4  \\\n",
              "0       0.868580  0.689886  0.007455 -2.898584  0.085358  0.767740 -0.560084   \n",
              "1       0.414444  0.557492  0.957622  0.935086 -0.965246 -0.538334  1.703724   \n",
              "2       0.408131  0.608540  0.008573  0.464833  0.871602 -0.936698 -0.434236   \n",
              "3       0.359892  0.374767  0.009922  1.198177  0.617719 -1.038145 -0.238809   \n",
              "4       0.311111  0.512139  0.963224  1.008087 -1.656863 -0.452177  2.843438   \n",
              "...          ...       ...       ...       ...       ...       ...       ...   \n",
              "276567  0.703939  0.619083  0.004705  2.229533  0.880567  0.060648 -0.412833   \n",
              "276568  0.895553  0.786104  0.008739 -1.003391  0.344174 -0.390606 -0.009446   \n",
              "276569  0.780039  0.627228  0.006754 -2.001636  0.417368  0.044487 -0.279186   \n",
              "276570  0.794548  0.625673  0.001326 -2.270228  0.670521 -0.059370 -0.160369   \n",
              "276571  0.965709  0.635963  0.008578 -3.116743  0.998344  0.216375  0.120543   \n",
              "\n",
              "             S_5       S_6       S_7  ...      D_26      D_27      D_28  \\\n",
              "0       0.664197 -0.561271 -0.853606  ... -0.287183  0.177329  0.316125   \n",
              "1       0.620479  0.010761  0.816514  ...  0.376701 -0.149022  0.152258   \n",
              "2      -0.189318  0.119886 -0.957924  ...  0.534821  0.334504  0.032404   \n",
              "3      -0.368435  0.346914 -0.093333  ... -1.003179 -3.137114  1.080425   \n",
              "4       1.001564 -0.295520  0.400813  ...  0.549876  0.169676 -0.041207   \n",
              "...          ...       ...       ...  ...       ...       ...       ...   \n",
              "276567 -0.168784  0.282989 -0.101462  ... -0.275261 -0.282711  0.574025   \n",
              "276568  0.164462  0.428303  0.207067  ... -0.117193 -1.292950 -0.317442   \n",
              "276569  0.766529  0.195224 -0.180456  ...  0.294102  0.151897 -0.173116   \n",
              "276570  0.236371 -0.548114 -0.490292  ... -0.030244  0.047514 -0.024415   \n",
              "276571  0.319723 -0.502770  0.548535  ...  0.205436 -0.576637  0.646148   \n",
              "\n",
              "            D_29      D_30      D_31      D_32      D_33      D_34  target  \n",
              "0      -1.753930 -0.480730 -0.820786  0.201346 -0.317601  1.046728       0  \n",
              "1       0.179575 -0.005567 -0.241059  0.072231  0.111100  0.197566       0  \n",
              "2      -0.111631  0.304494  0.820281 -0.183966 -0.724470 -0.570341       1  \n",
              "3      -1.779528  4.251674  2.585711 -0.049884  2.116991  0.795107       1  \n",
              "4       0.430994 -0.571204 -0.636162  0.097009 -0.192456  0.124503       1  \n",
              "...          ...       ...       ...       ...       ...       ...     ...  \n",
              "276567 -0.429842 -0.496315  0.077999 -0.383687 -0.199867 -1.112053       0  \n",
              "276568  3.040307 -0.790639  2.437747  2.051753 -2.777274  0.415983       0  \n",
              "276569  1.272966  0.902547 -1.126424 -2.663873  0.490347  0.263348       0  \n",
              "276570  0.451348  0.778730 -0.440808 -2.282502  0.060832  0.150955       0  \n",
              "276571 -0.288552  1.474100 -0.027848 -1.785398  0.167643 -0.854948       0  \n",
              "\n",
              "[276572 rows x 83 columns]"
            ]
          },
          "execution_count": 102,
          "metadata": {},
          "output_type": "execute_result"
        }
      ],
      "source": [
        "df_pca"
      ]
    },
    {
      "cell_type": "code",
      "execution_count": 103,
      "metadata": {
        "id": "ae0h-apFTAr2"
      },
      "outputs": [],
      "source": [
        "df_pca.to_parquet(\"gdrive/My Drive/train_data_apc\")"
      ]
    },
    {
      "cell_type": "markdown",
      "metadata": {
        "id": "QDC0Vqg9-N9B"
      },
      "source": [
        "### Balance del dataset"
      ]
    },
    {
      "cell_type": "markdown",
      "metadata": {
        "id": "SNFIIr_G-UHB"
      },
      "source": [
        "A continuación observamos el desbalance que presenta nuestro dataset en relación a la variable de estudio “target”, aproximadamente los casos en los que los clientes si pagan sus cuentas son tres veces más que aquellos que no, representando un 75% de los usuarios estudiados. Consideramos que dicho desbalance es una situación que representa de forma correcta a nuestro problema de estudio.\n",
        "\n",
        "Luego dividimos nuestro conjunto de datos, distribuyendo de forma balanceada los elementos de la variable target. En dicha distribución se utiliza un 30% de la información para el conjunto de datos de prueba y un 70% para el conjunto de entrenamiento. De esta forma obtuvimos dos conjuntos de datos representado un 30% y un 70% de los datos y respetando la proporción de casos de la variable target.\n"
      ]
    },
    {
      "cell_type": "code",
      "execution_count": 113,
      "metadata": {
        "colab": {
          "base_uri": "https://localhost:8080/"
        },
        "id": "yQTVL1QqxWAy",
        "outputId": "dfe0f26e-3f7f-4a97-d6b0-5b54098ab053"
      },
      "outputs": [
        {
          "data": {
            "text/plain": [
              "0    207712\n",
              "1     68860\n",
              "Name: target, dtype: int64"
            ]
          },
          "execution_count": 113,
          "metadata": {},
          "output_type": "execute_result"
        }
      ],
      "source": [
        "df_pca['target'].value_counts()"
      ]
    },
    {
      "cell_type": "code",
      "execution_count": 114,
      "metadata": {
        "id": "Hu-Dt7jGxwS1"
      },
      "outputs": [],
      "source": [
        "from sklearn.model_selection import train_test_split\n",
        "\n",
        "features = df_pca.columns.to_list()\n",
        "features.remove('target')\n",
        "\n",
        "x_train, x_test, y_train, y_test = train_test_split(df_pca[features].values, df_pca['target'].values, test_size=0.3, random_state=0, stratify = df_pca['target'].values)"
      ]
    },
    {
      "cell_type": "markdown",
      "metadata": {
        "id": "5jIYdrVMHKYs"
      },
      "source": [
        "### Normalización de valores"
      ]
    },
    {
      "cell_type": "markdown",
      "metadata": {
        "id": "FaN8lxAZZ4Dj"
      },
      "source": [
        "Teniendo en cuenta los modelos que se emplearan más adelante en el trabajo y a fin de mejorar su rendimiento procedemos a normalizar nuestro dataset. Podemos utilizar este procedimiento sobre todas las columnas del dataset gracias a que el trabajo anteriormente realizado sobre el mismo nos asegura que los valores que contiene no son un impedimento. "
      ]
    },
    {
      "cell_type": "code",
      "execution_count": 116,
      "metadata": {
        "id": "fmlYfP0AHr4_"
      },
      "outputs": [],
      "source": [
        "from sklearn.preprocessing import MinMaxScaler\n",
        "scaler = MinMaxScaler()\n",
        "x_train_normalized = scaler.fit_transform(x_train)\n",
        "x_test_normalized = scaler.fit_transform(x_test)"
      ]
    }
  ],
  "metadata": {
    "accelerator": "GPU",
    "colab": {
      "collapsed_sections": [
        "LOu_Q6x55qwO",
        "kxvKrMZ05qwQ",
        "7ZcTlwK45qwR",
        "hmCVqfLU5qwR",
        "FsBuJWUb5qwW",
        "ilqF8JJ15qwZ",
        "wByXMGVv5qwb",
        "QDC0Vqg9-N9B",
        "5jIYdrVMHKYs"
      ],
      "name": "main-prueba.ipynb",
      "provenance": []
    },
    "gpuClass": "standard",
    "kernelspec": {
      "display_name": "Python 3",
      "language": "python",
      "name": "python3"
    },
    "language_info": {
      "codemirror_mode": {
        "name": "ipython",
        "version": 3
      },
      "file_extension": ".py",
      "mimetype": "text/x-python",
      "name": "python",
      "nbconvert_exporter": "python",
      "pygments_lexer": "ipython3",
      "version": "3.7.12"
    }
  },
  "nbformat": 4,
  "nbformat_minor": 0
}
