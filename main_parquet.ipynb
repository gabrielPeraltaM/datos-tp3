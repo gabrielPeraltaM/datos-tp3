{
 "cells": [
  {
   "cell_type": "code",
   "execution_count": null,
   "outputs": [],
   "source": [
    "import numpy as np \n",
    "import pandas as pd\n",
    "import seaborn as sns\n",
    "import argparse\n",
    "import sklearn.utils.random as sk_random"
   ],
   "metadata": {
    "collapsed": false,
    "pycharm": {
     "name": "#%%\n"
    }
   }
  },
  {
   "cell_type": "markdown",
   "source": [
    "## Introducción al dataset"
   ],
   "metadata": {
    "collapsed": false,
    "pycharm": {
     "name": "#%% md\n"
    }
   }
  },
  {
   "cell_type": "markdown",
   "source": [
    "El dataset contiene 5531451 filas, cada una correspondiente a la información de un cliente de la empresa American Express con 190 columnas que brindan información de los clientes. Por motivos de privacidad el significado de los valores de dichas columnas no es brindado por la empresa. Sin embargo en lugar del significado de cada columna se nos proporciona las siguientes categorías según el nombre de las mismas:\n",
    "- D_* = Variables relacionadas a la delincuencia\n",
    "- S_* = Variables relacionadas a los gastos\n",
    "- P_* = Variables relacionadas a los pagos\n",
    "- B_* = Variables de balances\n",
    "- R_* = Variables de riesgo\n",
    "\n",
    "Por último se aclara que todas las variables numéricas están normalizadas y que las siguientes variables son categóricas:\n",
    "\n",
    "- ['B_30', 'B_38', 'D_114', 'D_116', 'D_117', 'D_120', 'D_126', 'D_63', 'D_64', 'D_66', 'D_68']\n"
   ],
   "metadata": {
    "collapsed": false,
    "pycharm": {
     "name": "#%% md\n"
    }
   }
  },
  {
   "cell_type": "markdown",
   "source": [
    "## Reducción del dataset"
   ],
   "metadata": {
    "collapsed": false,
    "pycharm": {
     "name": "#%% md\n"
    }
   }
  },
  {
   "cell_type": "markdown",
   "source": [
    "Debido a la gran cantidad de información del dataset y por lo tanto peso del mismo, se redujo la cantidad de filas en un 5%. De esta forma y redondeando el resultado se plantea trabajar con un dataset que contenga unas 276572 filas.\n",
    "El procedimiento utilizado para la reducción del dataset es el provisto por la función sample_without_replacement de la libreria scikit-learn. Como parámetros de la misma se utilizó:\n",
    "- La cantidad de filas totales del dataset(n_population) = 5531451\n",
    "- La cantidad de filas que se desean obtener(n_samples) = 276572\n",
    "- Valor semilla (random_state) = 576\n",
    "\n",
    "*Aclaración: Este último valor se calculó como el resto obtenido al realizar la siguiente división con la multiplicación de una constante por el número del grupo (11) como numerador y a 1000 como denominador $\\frac{31416 * 11}{1000}$*"
   ],
   "metadata": {
    "collapsed": false,
    "pycharm": {
     "name": "#%% md\n"
    }
   }
  },
  {
   "cell_type": "markdown",
   "source": [
    "### a) Visualización de los datos:"
   ],
   "metadata": {
    "collapsed": false,
    "pycharm": {
     "name": "#%% md\n"
    }
   }
  },
  {
   "cell_type": "code",
   "execution_count": null,
   "outputs": [],
   "source": [
    "from google.colab import drive\n",
    "drive.mount('/content/gdrive')\n",
    "df_reducido = pd.read_parquet(\"gdrive/My Drive/train_data_reducido\")"
   ],
   "metadata": {
    "collapsed": false,
    "pycharm": {
     "name": "#%%\n"
    }
   }
  },
  {
   "cell_type": "code",
   "execution_count": null,
   "outputs": [],
   "source": [
    "df_reducido.shape"
   ],
   "metadata": {
    "collapsed": false,
    "pycharm": {
     "name": "#%%\n"
    }
   }
  },
  {
   "cell_type": "code",
   "execution_count": null,
   "outputs": [],
   "source": [
    "df_reducido"
   ],
   "metadata": {
    "collapsed": false,
    "pycharm": {
     "name": "#%%\n"
    }
   }
  },
  {
   "cell_type": "code",
   "execution_count": null,
   "outputs": [],
   "source": [
    "df_reducido['target'].value_counts()"
   ],
   "metadata": {
    "collapsed": false,
    "pycharm": {
     "name": "#%%\n"
    }
   }
  },
  {
   "cell_type": "markdown",
   "source": [
    "### Tipos de variables"
   ],
   "metadata": {
    "collapsed": false,
    "pycharm": {
     "name": "#%% md\n"
    }
   }
  },
  {
   "cell_type": "code",
   "execution_count": null,
   "outputs": [],
   "source": [
    "df_reducido.dtypes.value_counts()"
   ],
   "metadata": {
    "collapsed": false,
    "pycharm": {
     "name": "#%%\n"
    }
   }
  },
  {
   "cell_type": "markdown",
   "source": [
    "Analizamos el tipo de las variables para conocer más de las mismas y determinar si serán de utilidad, o en su defecto si se debe realizar algún procedimiento para su modificación o eliminación.\n",
    "Sabemos que las variables normalizadas pertenecen a la categoría “float64” y resulta de interés el análisis de las variables de tipo “object” u objetos y las variables “int” o enteras. \n",
    "- Las variables de tipo objeto son las columnas “customer_ID”,”S_2”,”D_63” y “D_64”\n",
    "- Las variables de tipo entero son las columnas “target” y “B_31”\n",
    "\n",
    "Se mostraran sus valores y se decidirá en base a los mismos que acciones tomar al momento de modificar el dataset."
   ],
   "metadata": {
    "collapsed": false,
    "pycharm": {
     "name": "#%% md\n"
    }
   }
  },
  {
   "cell_type": "code",
   "execution_count": null,
   "outputs": [],
   "source": [
    "df_reducido.loc[:,'S_2'] "
   ],
   "metadata": {
    "collapsed": false,
    "pycharm": {
     "name": "#%%\n"
    }
   }
  },
  {
   "cell_type": "code",
   "execution_count": null,
   "outputs": [],
   "source": [
    "df_reducido['S_2'].isna().sum()"
   ],
   "metadata": {
    "collapsed": false,
    "pycharm": {
     "name": "#%%\n"
    }
   }
  },
  {
   "cell_type": "code",
   "execution_count": null,
   "outputs": [],
   "source": [
    "df_reducido.loc[:,'B_31']"
   ],
   "metadata": {
    "collapsed": false,
    "pycharm": {
     "name": "#%%\n"
    }
   }
  },
  {
   "cell_type": "code",
   "execution_count": null,
   "outputs": [],
   "source": [
    "df_reducido['B_31'].isna().sum()"
   ],
   "metadata": {
    "collapsed": false,
    "pycharm": {
     "name": "#%%\n"
    }
   }
  },
  {
   "cell_type": "code",
   "execution_count": null,
   "outputs": [],
   "source": [
    "df_reducido.loc[:,'D_63']"
   ],
   "metadata": {
    "collapsed": false,
    "pycharm": {
     "name": "#%%\n"
    }
   }
  },
  {
   "cell_type": "code",
   "execution_count": null,
   "outputs": [],
   "source": [
    "df_reducido['D_63'].isna().sum()"
   ],
   "metadata": {
    "collapsed": false,
    "pycharm": {
     "name": "#%%\n"
    }
   }
  },
  {
   "cell_type": "code",
   "execution_count": null,
   "outputs": [],
   "source": [
    "df_reducido.loc[:,'D_64']"
   ],
   "metadata": {
    "collapsed": false,
    "pycharm": {
     "name": "#%%\n"
    }
   }
  },
  {
   "cell_type": "code",
   "execution_count": null,
   "outputs": [],
   "source": [
    "df_reducido['D_64'].isna().sum()"
   ],
   "metadata": {
    "collapsed": false,
    "pycharm": {
     "name": "#%%\n"
    }
   }
  },
  {
   "cell_type": "markdown",
   "source": [
    "### Categorias de las variables"
   ],
   "metadata": {
    "collapsed": false,
    "pycharm": {
     "name": "#%% md\n"
    }
   }
  },
  {
   "cell_type": "code",
   "execution_count": null,
   "outputs": [],
   "source": [
    "columns = df_reducido.columns\n",
    "\n",
    "sum_types = [0,0,0,0,0] # [type_D ,type_S,type_P,type_B, type_R ]\n",
    "\n",
    "for column in columns:\n",
    "    if (column[0] == 'D'):\n",
    "        sum_types[0] += 1\n",
    "    elif (column[0] == 'S'):\n",
    "        sum_types[1] += 1\n",
    "    elif (column[0] == 'P'):\n",
    "        sum_types[2] += 1\n",
    "    elif (column[0] == 'B'):\n",
    "        sum_types[3] += 1\n",
    "    elif (column[0] == 'R'):\n",
    "        sum_types[4] += 1\n",
    "sum_types"
   ],
   "metadata": {
    "collapsed": false,
    "pycharm": {
     "name": "#%%\n"
    }
   }
  },
  {
   "cell_type": "markdown",
   "source": [
    "Observamos que en nuestro dataset reducido tenemos cantidades significativamente diferentes de cada tipo de variable, siendo 96 variables relacionadas a la delincuencia, 22 relacionadas a los gastos, 3 relacionadas a los pagos, 40 de balances y 28 variables de riesgo. Sumando un total 189 columnas donde se excluyen a dos variables ('customer_ID' y 'target') para completar las 191 variables tal y como se mostró anteriormente al realizar shape sobre el dataset."
   ],
   "metadata": {
    "collapsed": false,
    "pycharm": {
     "name": "#%% md\n"
    }
   }
  },
  {
   "cell_type": "code",
   "execution_count": null,
   "outputs": [],
   "source": [
    "df_reducido.sort_index(axis = 1, inplace = True)\n",
    "df_reducido.reset_index(drop = True, inplace = True)\n",
    "df_reducido"
   ],
   "metadata": {
    "collapsed": false,
    "pycharm": {
     "name": "#%%\n"
    }
   }
  },
  {
   "cell_type": "markdown",
   "source": [
    "### Correlación entre variables"
   ],
   "metadata": {
    "collapsed": false,
    "pycharm": {
     "name": "#%% md\n"
    }
   }
  },
  {
   "cell_type": "code",
   "execution_count": null,
   "outputs": [],
   "source": [
    "sns.heatmap(df_reducido.corr(method='pearson'), cmap='Reds')"
   ],
   "metadata": {
    "collapsed": false,
    "pycharm": {
     "name": "#%%\n"
    }
   }
  },
  {
   "cell_type": "markdown",
   "source": [
    "Del heatmap obtenido se pueden observar ciertas correlaciones, siendo muchas de estas con un color intenso (indicando un gran nivel de correlación) con variables de su mismo “tipo” según las categorías presentadas al inicio del trabajo (D, S, P, B, R). Esto nos indica que existe la posibilidad de realizar una reducción de la dimensionalidad de los datos sin perder información, lo cual será profundizado más adelante en el trabajo.\n",
    "Paralelamente observamos que existe una “Cruz” creada por una línea vertical y una horizontal de color blanco indicando que la variable D_87 no posee ninguna correlación con ninguna otra variable. Esta situación es causada por la cantidad de datos Nan que posee esta columna (mostrado a continuación), más adelante en el trabajo se trabajara sobre los datos faltantes y se tomaran acciones sobre los mismos.\n"
   ],
   "metadata": {
    "collapsed": false,
    "pycharm": {
     "name": "#%% md\n"
    }
   }
  },
  {
   "cell_type": "code",
   "execution_count": null,
   "outputs": [],
   "source": [
    "df_reducido.loc[:,'D_87']"
   ],
   "metadata": {
    "collapsed": false,
    "pycharm": {
     "name": "#%%\n"
    }
   }
  },
  {
   "cell_type": "markdown",
   "source": [
    "### Verificación de registros repetidos\n",
    "\n"
   ],
   "metadata": {
    "collapsed": false,
    "pycharm": {
     "name": "#%% md\n"
    }
   }
  },
  {
   "cell_type": "markdown",
   "source": [
    "Mediante la siguiente línea se verificamos que el dataset no posea filas filas con información repetida."
   ],
   "metadata": {
    "collapsed": false,
    "pycharm": {
     "name": "#%% md\n"
    }
   }
  },
  {
   "cell_type": "code",
   "execution_count": null,
   "outputs": [],
   "source": [
    "df_reducido.duplicated().value_counts()"
   ],
   "metadata": {
    "collapsed": false,
    "pycharm": {
     "name": "#%%\n"
    }
   }
  },
  {
   "cell_type": "markdown",
   "source": [
    "### Relacion de variables con el target"
   ],
   "metadata": {
    "collapsed": false,
    "pycharm": {
     "name": "#%% md\n"
    }
   }
  },
  {
   "cell_type": "code",
   "execution_count": null,
   "outputs": [],
   "source": [
    "import matplotlib.pyplot as plt"
   ],
   "metadata": {
    "collapsed": false,
    "pycharm": {
     "name": "#%%\n"
    }
   }
  },
  {
   "cell_type": "code",
   "execution_count": null,
   "outputs": [],
   "source": [
    "df_reducido['D_63'].value_counts()"
   ],
   "metadata": {
    "collapsed": false,
    "pycharm": {
     "name": "#%%\n"
    }
   }
  },
  {
   "cell_type": "code",
   "execution_count": null,
   "outputs": [],
   "source": [
    "deuda_D_63 = df_reducido.loc[:, ['target', 'D_63']].groupby(['D_63'])['target'].value_counts().unstack()\n",
    "deuda_D_63"
   ],
   "metadata": {
    "collapsed": false,
    "pycharm": {
     "name": "#%%\n"
    }
   }
  },
  {
   "cell_type": "code",
   "execution_count": null,
   "outputs": [],
   "source": [
    "plt.figure(figsize=(12,12))\n",
    "plt.xlabel('Deuda', size = 14)\n",
    "plt.ylabel('D_63', size = 14)\n",
    "plt.title('Deuda segun D_63', size = 18)\n",
    "sns.heatmap(deuda_D_63, annot=True, fmt=\".1f\", linewidths=.5, square = True, cmap = 'Reds')"
   ],
   "metadata": {
    "collapsed": false,
    "pycharm": {
     "name": "#%%\n"
    }
   }
  },
  {
   "cell_type": "code",
   "execution_count": null,
   "outputs": [],
   "source": [
    "df_reducido['B_31'].value_counts()"
   ],
   "metadata": {
    "collapsed": false,
    "pycharm": {
     "name": "#%%\n"
    }
   }
  },
  {
   "cell_type": "code",
   "execution_count": null,
   "outputs": [],
   "source": [
    "df_reducido['D_64'].value_counts()"
   ],
   "metadata": {
    "collapsed": false,
    "pycharm": {
     "name": "#%%\n"
    }
   }
  },
  {
   "cell_type": "code",
   "execution_count": null,
   "outputs": [],
   "source": [
    "deuda_D_64 = df_reducido.loc[:, ['target', 'D_64']].groupby(['D_64'])['target'].value_counts().unstack()\n",
    "deuda_D_64"
   ],
   "metadata": {
    "collapsed": false,
    "pycharm": {
     "name": "#%%\n"
    }
   }
  },
  {
   "cell_type": "code",
   "execution_count": null,
   "outputs": [],
   "source": [
    "plt.figure(figsize=(12,12))\n",
    "plt.xlabel('Deuda', size = 14)\n",
    "plt.ylabel('D_64', size = 14)\n",
    "plt.title('Deuda segun D_64', size = 18)\n",
    "sns.heatmap(deuda_D_64, annot=True, fmt=\".1f\", linewidths=.5, square = True, cmap = 'Reds')"
   ],
   "metadata": {
    "collapsed": false,
    "pycharm": {
     "name": "#%%\n"
    }
   }
  },
  {
   "cell_type": "markdown",
   "source": [
    "Análisis de la variable \"S_2\"; Se espera poder concluir si la fecha de cada transacción se relaciona de alguna manera con el objetivo, y si aporta información relevante. De no ser así, se podrá eliminar esta columna."
   ],
   "metadata": {
    "collapsed": false,
    "pycharm": {
     "name": "#%% md\n"
    }
   }
  },
  {
   "cell_type": "code",
   "execution_count": null,
   "outputs": [],
   "source": [
    "df_reducido['S_2'] = pd.to_datetime(df_reducido['S_2'], format='%Y-%m-%d')\n",
    "df_reducido['S_2']"
   ],
   "metadata": {
    "collapsed": false,
    "pycharm": {
     "name": "#%%\n"
    }
   }
  },
  {
   "cell_type": "code",
   "execution_count": null,
   "outputs": [],
   "source": [
    "df_reducido['year'] = pd.DatetimeIndex(df_reducido['S_2']).year\n",
    "df_reducido['year']"
   ],
   "metadata": {
    "collapsed": false,
    "pycharm": {
     "name": "#%%\n"
    }
   }
  },
  {
   "cell_type": "code",
   "execution_count": null,
   "outputs": [],
   "source": [
    "df_reducido['year'].value_counts()"
   ],
   "metadata": {
    "collapsed": false,
    "pycharm": {
     "name": "#%%\n"
    }
   }
  },
  {
   "cell_type": "code",
   "execution_count": null,
   "outputs": [],
   "source": [
    "year_target = df_reducido.groupby(['year'])['target'].sum().reset_index()\n",
    "year_target"
   ],
   "metadata": {
    "collapsed": false,
    "pycharm": {
     "name": "#%%\n"
    }
   }
  },
  {
   "cell_type": "code",
   "execution_count": null,
   "outputs": [],
   "source": [
    "g = sns.barplot(x=year_target.year, y=year_target.target, palette='husl')\n",
    "g.set_title(\"Incumplimientos de pago por año\", fontsize=15)\n",
    "g.set_xlabel(\"Año\", fontsize=12)\n",
    "g.set_ylabel(\"Número de pagos incumplidos\", fontsize=12)"
   ],
   "metadata": {
    "collapsed": false,
    "pycharm": {
     "name": "#%%\n"
    }
   }
  },
  {
   "cell_type": "code",
   "execution_count": null,
   "outputs": [],
   "source": [
    "year_2017 = df_reducido.loc[df_reducido['year'] == 2017, ['S_2', 'target']]\n",
    "year_2017"
   ],
   "metadata": {
    "collapsed": false,
    "pycharm": {
     "name": "#%%\n"
    }
   }
  },
  {
   "cell_type": "code",
   "execution_count": null,
   "outputs": [],
   "source": [
    "year_2017['month'] = pd.DatetimeIndex(year_2017['S_2']).month\n",
    "year_2017['month'].value_counts()"
   ],
   "metadata": {
    "collapsed": false,
    "pycharm": {
     "name": "#%%\n"
    }
   }
  },
  {
   "cell_type": "code",
   "execution_count": null,
   "outputs": [],
   "source": [
    "months_2017 = year_2017.groupby(['month'])['target'].sum().reset_index()\n",
    "months_2017"
   ],
   "metadata": {
    "collapsed": false,
    "pycharm": {
     "name": "#%%\n"
    }
   }
  },
  {
   "cell_type": "code",
   "execution_count": null,
   "outputs": [],
   "source": [
    "g = sns.barplot(x=months_2017.month, y=months_2017.target, palette='husl')\n",
    "g.set_title(\"Incumplimientos de pago por mes en 2017\", fontsize=15)\n",
    "g.set_xlabel(\"Mes\", fontsize=12)\n",
    "g.set_ylabel(\"Número de pagos incumplidos\", fontsize=12)"
   ],
   "metadata": {
    "collapsed": false,
    "pycharm": {
     "name": "#%%\n"
    }
   }
  },
  {
   "cell_type": "code",
   "execution_count": null,
   "outputs": [],
   "source": [
    "year_2018 = df_reducido.loc[df_reducido['year'] == 2018, ['S_2', 'target']]\n",
    "year_2018"
   ],
   "metadata": {
    "collapsed": false,
    "pycharm": {
     "name": "#%%\n"
    }
   }
  },
  {
   "cell_type": "code",
   "execution_count": null,
   "outputs": [],
   "source": [
    "year_2018['month'] = pd.DatetimeIndex(year_2018['S_2']).month\n",
    "year_2018['month'].value_counts()"
   ],
   "metadata": {
    "collapsed": false,
    "pycharm": {
     "name": "#%%\n"
    }
   }
  },
  {
   "cell_type": "code",
   "execution_count": null,
   "outputs": [],
   "source": [
    "months_2018 = year_2018.groupby(['month'])['target'].sum().reset_index()\n",
    "months_2018"
   ],
   "metadata": {
    "collapsed": false,
    "pycharm": {
     "name": "#%%\n"
    }
   }
  },
  {
   "cell_type": "code",
   "execution_count": null,
   "outputs": [],
   "source": [
    "g = sns.barplot(x=months_2018.month, y=months_2018.target, palette='husl')\n",
    "g.set_title(\"Incumplimientos de pago por mes en 2018\", fontsize=15)\n",
    "g.set_xlabel(\"Mes\", fontsize=12)\n",
    "g.set_ylabel(\"Número de pagos incumplidos\", fontsize=12)"
   ],
   "metadata": {
    "collapsed": false,
    "pycharm": {
     "name": "#%%\n"
    }
   }
  },
  {
   "cell_type": "markdown",
   "source": [
    "En ambos años se ve un pequeño crecimiento de incumplimiento de pagos al pasar los meses. En enero de 2018 hubieron mas incumplimientos que en diciembre de 2017. Es decir, cada vez se cumplen menos los pagos de las deudas al pasar el tiempo. Esto también se puede deber a que aumentaron los clientes. Habría que analizar la proporción de aumento de clientes con el aumento de los incumplimientos de pago."
   ],
   "metadata": {
    "collapsed": false,
    "pycharm": {
     "name": "#%% md\n"
    }
   }
  },
  {
   "cell_type": "code",
   "execution_count": null,
   "outputs": [],
   "source": [
    "df_reducido.drop(columns=['year'], inplace=True)"
   ],
   "metadata": {
    "collapsed": false,
    "pycharm": {
     "name": "#%%\n"
    }
   }
  },
  {
   "cell_type": "markdown",
   "source": [
    "## b) Ingeniería de características"
   ],
   "metadata": {
    "collapsed": false,
    "pycharm": {
     "name": "#%% md\n"
    }
   }
  },
  {
   "cell_type": "markdown",
   "source": [
    "Eliminamos la variable \"customer_ID\" ya que no aporta información relevante que ayude a predecir el target"
   ],
   "metadata": {
    "collapsed": false,
    "pycharm": {
     "name": "#%% md\n"
    }
   }
  },
  {
   "cell_type": "code",
   "execution_count": null,
   "outputs": [],
   "source": [
    "df_reducido.drop(columns=['customer_ID'], inplace=True)\n",
    "df_reducido.head()"
   ],
   "metadata": {
    "collapsed": false,
    "pycharm": {
     "name": "#%%\n"
    }
   }
  },
  {
   "cell_type": "markdown",
   "source": [
    "### Analizamos la cantidad de registros vacios"
   ],
   "metadata": {
    "collapsed": false,
    "pycharm": {
     "name": "#%% md\n"
    }
   }
  },
  {
   "cell_type": "markdown",
   "source": [
    "Para llevar a cabo el análisis de la cantidad de registros vacíos que posee cada columna utilizamos el porcentaje de los mismos, calculando la cantidad de registros vacíos sobre la cantidad total de registros que posee la columna. Decidimos que si dicho porcentaje es mayor a un 60% se eliminara dicha columna dada la falta de certeza sobre los datos."
   ],
   "metadata": {
    "collapsed": false,
    "pycharm": {
     "name": "#%% md\n"
    }
   }
  },
  {
   "cell_type": "code",
   "execution_count": null,
   "outputs": [],
   "source": [
    "def calculate_percentage_of_null_values(df: pd.DataFrame):\n",
    "    number_of_rows = len(df)\n",
    "    count_of_nulls: pd.Series = df.isnull().sum()\n",
    "    percentages = []\n",
    "    for index, count in count_of_nulls.iteritems():\n",
    "        percentage = (count / number_of_rows) * 100\n",
    "            \n",
    "        percentages.append((index,percentage))\n",
    "            \n",
    "    return percentages"
   ],
   "metadata": {
    "collapsed": false,
    "pycharm": {
     "name": "#%%\n"
    }
   }
  },
  {
   "cell_type": "code",
   "execution_count": null,
   "outputs": [],
   "source": [
    "def eliminate_columns_with_high_percentage(percentages: list):\n",
    "    columns_to_eliminate = []\n",
    "    new_percentages = []\n",
    "    for i in percentages:\n",
    "        if(i[1] > 60):\n",
    "            columns_to_eliminate.append(i[0])\n",
    "        else:\n",
    "            new_percentages.append(i)\n",
    "        \n",
    "    df_reducido.drop(columns=columns_to_eliminate , inplace = True)\n",
    "    \n",
    "\n",
    "    return new_percentages\n"
   ],
   "metadata": {
    "collapsed": false,
    "pycharm": {
     "name": "#%%\n"
    }
   }
  },
  {
   "cell_type": "code",
   "execution_count": null,
   "outputs": [],
   "source": [
    "percentages = calculate_percentage_of_null_values(df_reducido.drop(columns=['B_31','D_63', 'D_64', 'S_2','target']))\n",
    "percentages = eliminate_columns_with_high_percentage(percentages)"
   ],
   "metadata": {
    "collapsed": false,
    "pycharm": {
     "name": "#%%\n"
    }
   }
  },
  {
   "cell_type": "markdown",
   "source": [
    "Se optó por completar los datos de los registros vacios pertenecientes a las columnas restantes utilizando un método de imputación por regresión logística utilizando las columnas pertenecientes al mismo tipo, es decir, para el caso de completar los datos faltantes de una columna tipo S se utilizan pasos iterativos sobre las demás columnas del mismo tipo y de este modo poder estimar un posible valor. \n",
    "\n",
    "Dada la gran cantidad de datos se limita la cantidad de iteraciones máximas de los datos del dataset en 5. Adicionalmente se podría limitar el rango de valores posibles para dichos registros entre 0 y 1 (ya que las columnas se encuentran normalizadas), sin embargo consideramos de mayor interés el poder obtener valores fuera de dicho rango y en tal caso se evaluaría su utilidad en el análisis de outliers.\n",
    "\n",
    "Otro posible método para completar los datos faltantes es utilizar la media de cada columna sin embargo dicho procedimiento modificaría significativamente el valor del Z-score para los casos donde existan muchos datos faltantes.\n",
    "\n"
   ],
   "metadata": {
    "collapsed": false,
    "pycharm": {
     "name": "#%% md\n"
    }
   }
  },
  {
   "cell_type": "code",
   "execution_count": null,
   "outputs": [],
   "source": [
    "def columns_by_type(df: pd.DataFrame):\n",
    "    columns = df.columns\n",
    "    columns_by_type = [[],[],[],[],[]] # [D_columns ,S_columns,P_columns,B_columns,R_columns]\n",
    "    \n",
    "    \n",
    "    for column in columns:\n",
    "        if (column[0] == 'D'):\n",
    "            columns_by_type[0].append(column)\n",
    "        elif (column[0] == 'S'):\n",
    "            columns_by_type[1].append(column)\n",
    "        elif (column[0] == 'P'):\n",
    "            columns_by_type[2].append(column)\n",
    "        elif (column[0] == 'B'):\n",
    "            columns_by_type[3].append(column)\n",
    "        elif (column[0] == 'R'):\n",
    "            columns_by_type[4].append(column)\n",
    "    return columns_by_type"
   ],
   "metadata": {
    "collapsed": false,
    "pycharm": {
     "name": "#%%\n"
    }
   }
  },
  {
   "cell_type": "code",
   "execution_count": null,
   "outputs": [],
   "source": [
    "from sklearn.experimental import enable_iterative_imputer\n",
    "from sklearn.impute import IterativeImputer\n",
    "from sklearn.linear_model import LinearRegression\n",
    "import math\n",
    "\n",
    "columns = columns_by_type(df_reducido.drop(columns=['B_31','D_63', 'D_64', 'S_2','target']))"
   ],
   "metadata": {
    "collapsed": false,
    "pycharm": {
     "name": "#%%\n"
    }
   }
  },
  {
   "cell_type": "code",
   "execution_count": null,
   "outputs": [],
   "source": [
    "def imput_and_replace_nans(columns: pd.DataFrame):\n",
    "    lr = LinearRegression()\n",
    "    imp = IterativeImputer(estimator=lr,missing_values=np.nan, max_iter=10, random_state=10)\n",
    "    columns_without_nans = imp.fit_transform(columns)\n",
    "    \n",
    "    index = 0\n",
    "    k = 0\n",
    "    for column_i in columns:    \n",
    "        for new_column in columns_without_nans:\n",
    "        \n",
    "            if math.isnan(df_reducido.loc[index,column_i]):\n",
    "            \n",
    "                df_reducido.loc[index,column_i] = new_column[k]\n",
    "            index += 1 \n",
    "        \n",
    "        k += 1\n",
    "        index = 0"
   ],
   "metadata": {
    "collapsed": false,
    "pycharm": {
     "name": "#%%\n"
    }
   }
  },
  {
   "cell_type": "code",
   "execution_count": null,
   "outputs": [],
   "source": [
    "#imput_and_replace_nans(df_reducido[columns[2]].copy())"
   ],
   "metadata": {
    "collapsed": false,
    "pycharm": {
     "name": "#%%\n"
    }
   }
  },
  {
   "cell_type": "code",
   "execution_count": null,
   "outputs": [],
   "source": [
    "#imput_and_replace_nans(df_reducido[columns[1]].copy())"
   ],
   "metadata": {
    "collapsed": false,
    "pycharm": {
     "name": "#%%\n"
    }
   }
  },
  {
   "cell_type": "code",
   "execution_count": null,
   "outputs": [],
   "source": [
    "#imput_and_replace_nans(df_reducido[columns[4]].copy())"
   ],
   "metadata": {
    "collapsed": false,
    "pycharm": {
     "name": "#%%\n"
    }
   }
  },
  {
   "cell_type": "code",
   "execution_count": null,
   "outputs": [],
   "source": [
    "#imput_and_replace_nans(df_reducido[columns[3]].copy())"
   ],
   "metadata": {
    "collapsed": false,
    "pycharm": {
     "name": "#%%\n"
    }
   }
  },
  {
   "cell_type": "code",
   "execution_count": null,
   "outputs": [],
   "source": [
    "#imput_and_replace_nans(df_reducido[columns[0]].copy())"
   ],
   "metadata": {
    "collapsed": false,
    "pycharm": {
     "name": "#%%\n"
    }
   }
  },
  {
   "cell_type": "markdown",
   "source": [
    "Verificamos que ninguna de las columnas trabajadas posea datos nulos."
   ],
   "metadata": {
    "collapsed": false,
    "pycharm": {
     "name": "#%% md\n"
    }
   }
  },
  {
   "cell_type": "code",
   "execution_count": null,
   "outputs": [],
   "source": [
    "percentages = calculate_percentage_of_null_values(df_reducido.drop(columns=['B_31','D_63', 'D_64', 'S_2','target']))\n",
    "max(percentages,key=lambda item:item[1])"
   ],
   "metadata": {
    "collapsed": false,
    "pycharm": {
     "name": "#%%\n"
    }
   }
  },
  {
   "cell_type": "markdown",
   "source": [
    "Guardamos el dataset obtenido con el fin de almacenar los resultados obtenidos mediante la imputación de datos. A partir de este punto se comienza a trabajar en base a este conjunto de datos modificados respecto a los originales."
   ],
   "metadata": {
    "collapsed": false,
    "pycharm": {
     "name": "#%% md\n"
    }
   }
  },
  {
   "cell_type": "code",
   "execution_count": null,
   "outputs": [],
   "source": [
    "#df_reducido.to_parquet(\"gdrive/My Drive/train_data_reducido_sin_vacios\")\n",
    "df_reducido = pd.read_parquet(\"gdrive/My Drive/train_data_reducido_sin_vacios\")"
   ],
   "metadata": {
    "collapsed": false,
    "pycharm": {
     "name": "#%%\n"
    }
   }
  },
  {
   "cell_type": "markdown",
   "source": [
    "### Detección de outliers"
   ],
   "metadata": {
    "collapsed": false,
    "pycharm": {
     "name": "#%% md\n"
    }
   }
  },
  {
   "cell_type": "markdown",
   "source": [
    "Utilizamos el método de Z-score para la detección de outliers univariados, para ello creamos un nuevo dataframe que contiene el score correspondiente para cada uno de los datos. El z-score se calcula de la siguiente manera:\n",
    "- $ Z - Score = \\frac{x_{i} – \\mu}{\\sigma}$ \n",
    "\n",
    "Siendo $x_{i}$ el valor al cual se le quiere calcular su Score, $\\mu$ la media de la variable y $\\sigma$ su respectiva varianza\n"
   ],
   "metadata": {
    "collapsed": false,
    "pycharm": {
     "name": "#%% md\n"
    }
   }
  },
  {
   "cell_type": "code",
   "execution_count": null,
   "outputs": [],
   "source": [
    "import scipy.stats as st\n",
    "\n",
    "columns = df_reducido.drop(columns=['B_31','D_63', 'D_64', 'S_2','target']).columns\n",
    "zscore_df = pd.DataFrame()\n",
    "column_name = 'z_'\n",
    "for column in columns:\n",
    "      zscore_df[column_name + column] = st.zscore(df_reducido[column])"
   ],
   "metadata": {
    "collapsed": false,
    "pycharm": {
     "name": "#%%\n"
    }
   }
  },
  {
   "cell_type": "code",
   "execution_count": null,
   "outputs": [],
   "source": [
    "zscore_df"
   ],
   "metadata": {
    "collapsed": false,
    "pycharm": {
     "name": "#%%\n"
    }
   }
  },
  {
   "cell_type": "markdown",
   "source": [
    "Calculado el z-score para cada uno de los datos, vemos cuantas columnas presentan valores considerados outliers. Es de destacar que para que un valor sea considerado un outlier su z-score debe ser mayor en modulo que 3."
   ],
   "metadata": {
    "collapsed": false,
    "pycharm": {
     "name": "#%% md\n"
    }
   }
  },
  {
   "cell_type": "code",
   "execution_count": null,
   "outputs": [],
   "source": [
    "count = 0\n",
    "for column in zscore_df.columns:\n",
    "  if (sum(zscore_df[column].values > 3) > 0) or (sum(zscore_df[column].values < -3) > 0):\n",
    "    count += 1\n",
    "print(count)"
   ],
   "metadata": {
    "collapsed": false,
    "pycharm": {
     "name": "#%%\n"
    }
   }
  },
  {
   "cell_type": "markdown",
   "source": [
    "Al igual que se calculó la cantidad de columnas con outliers, calculamos la cantidad de filas con dichos datos."
   ],
   "metadata": {
    "collapsed": false,
    "pycharm": {
     "name": "#%% md\n"
    }
   }
  },
  {
   "cell_type": "code",
   "execution_count": null,
   "outputs": [],
   "source": [
    "index_to_eliminate = pd.Series([])\n",
    "\n",
    "for column in zscore_df.columns:\n",
    "    positive_score_outliers = pd.Series(zscore_df.index[zscore_df[column] > 3].tolist())\n",
    "    negative_score_outliers = pd.Series(zscore_df.index[zscore_df[column] < -3].tolist())\n",
    "    index_to_eliminate = pd.concat([index_to_eliminate,positive_score_outliers,negative_score_outliers])"
   ],
   "metadata": {
    "collapsed": false,
    "pycharm": {
     "name": "#%%\n"
    }
   }
  },
  {
   "cell_type": "code",
   "execution_count": null,
   "outputs": [],
   "source": [
    "index_to_eliminate.drop_duplicates(inplace = True)\n",
    "len(index_to_eliminate)"
   ],
   "metadata": {
    "collapsed": false,
    "pycharm": {
     "name": "#%%\n"
    }
   }
  },
  {
   "cell_type": "markdown",
   "source": [
    "Observamos que la cantidad de columnas que poseen outliers es 142, representando aproximadamente el 88% de las columnas del dataset. Retomando la aclaración previa realizada en el apartado de análisis de registros vacíos, se realizó el mismo procedimiento limitando el rango de valores al momento de imputar datos consiguiendo un resultado de 134 columnas con outliers.Es predecible que se detecten una menor cantidad de outliers al reducir el rango de valores válidos para ser imputados. Es importante destacar que para este análisis también se tuvo en consideración la cantidad de filas afectadas por outliers, viendo que se presenta una situación muy similar al comparar los resultados variando los métodos aplicados. \n",
    "\n",
    "Adicionalmente se realizó el procedimiento reemplazando los datos faltantes con la media de cada columna, lo cual de acuerdo con lo esperado llevo a la obtención de peores resultados.\n",
    "\n",
    "\n",
    "\n",
    "Se decidió conservar las columnas anteriormente mencionadas considerando nuestro objetivo del trabajo sobre el dataset. Como ya se explico anteriormente, se intenta predecir si un cliente pagara o no, y por ello nos interesan los datos que se encuentran separados del \"conjunto principal de valores\". Ya que son precisamente dichos valores “fuera de lo común” los cuales pueden llevar a un cliente a no pagar sus cuentas dicho mes. \n"
   ],
   "metadata": {
    "collapsed": false,
    "pycharm": {
     "name": "#%% md\n"
    }
   }
  },
  {
   "cell_type": "markdown",
   "source": [
    "### Transformación de variables"
   ],
   "metadata": {
    "collapsed": false,
    "pycharm": {
     "name": "#%% md\n"
    }
   }
  },
  {
   "cell_type": "markdown",
   "source": [
    "Dada la cantidad de registros vacíos mostrada anteriormente y teniendo en cuenta que contamos con una gran cantidad de variables del tipo ‘D’, decidimos eliminar dicha columna. Con la columna categórica restante se optó por realizar una transformación hacia una variable numérica para poder trabajar con ellas en los modelos que las requieran. \n",
    "\n",
    "Paralelamente se elimina la variable ‘S_2’ cuyo análisis se realiza en profundidad en la sección inicial del trabajo. En dicho análisis se mostró una leve diferencia generada con el pasar de los años, lo cual al no contar con la información de la diferencia de la cantidad de usuarios entre dichos años, se reduce la utilidad de dicha variable y por lo cual también es descartada. \n"
   ],
   "metadata": {
    "collapsed": false,
    "pycharm": {
     "name": "#%% md\n"
    }
   }
  },
  {
   "cell_type": "code",
   "execution_count": null,
   "outputs": [],
   "source": [
    "df_reducido = pd.read_parquet(\"gdrive/My Drive/train_data_reducido_sin_vacios\")\n",
    "df_reducido.drop(columns = ['D_64','S_2'], inplace = True)"
   ],
   "metadata": {
    "collapsed": false,
    "pycharm": {
     "name": "#%%\n"
    }
   }
  },
  {
   "cell_type": "code",
   "execution_count": null,
   "outputs": [],
   "source": [
    "df_reducido_dummies = pd.get_dummies(df_reducido, columns=['D_63'])\n",
    "df_reducido_dummies.sort_index(axis = 1, inplace = True)\n",
    "df_reducido_dummies"
   ],
   "metadata": {
    "collapsed": false,
    "pycharm": {
     "name": "#%%\n"
    }
   }
  },
  {
   "cell_type": "markdown",
   "source": [
    "### Reducción de dimensionalidad"
   ],
   "metadata": {
    "collapsed": false,
    "pycharm": {
     "name": "#%% md\n"
    }
   }
  },
  {
   "cell_type": "markdown",
   "source": [
    "Dada la gran cantidad de columnas que posee el dataset consideramos que sería posible realizar una reducción de dimensionalidad con el fin de mejorar la performance de los modelos y para ello podemos utilizar nuevamente la categorización de variables dada por el dataset. La categorización nos permite asumir la existencia de una posible correlación  entre las variables de un mismo tipo y por esta misma posible correlación se decide utilizar PCA (Principal Component Analysis).\n",
    "\n",
    "Como requisito previo a la aplicación de PCA debemos escalar los valores de las variables. Si bien el dataset se encontraba escalado inicialmente, al realizar modificaciones como completar registros vacíos y transformación de datos se ve afectada dicha condición. Por este motivo se deben escalar los datos nuevamente de todas las columnas que utilizaremos del dataset."
   ],
   "metadata": {
    "collapsed": false,
    "pycharm": {
     "name": "#%% md\n"
    }
   }
  },
  {
   "cell_type": "code",
   "execution_count": null,
   "outputs": [],
   "source": [
    "from sklearn.preprocessing import StandardScaler\n",
    "from sklearn.decomposition import PCA"
   ],
   "metadata": {
    "collapsed": false,
    "pycharm": {
     "name": "#%%\n"
    }
   }
  },
  {
   "cell_type": "code",
   "execution_count": null,
   "outputs": [],
   "source": [
    "columns = columns_by_type(df_reducido_dummies)\n",
    "df_pca = pd.DataFrame()"
   ],
   "metadata": {
    "collapsed": false,
    "pycharm": {
     "name": "#%%\n"
    }
   }
  },
  {
   "cell_type": "code",
   "execution_count": null,
   "outputs": [],
   "source": [
    "def create_colum_names(n: int , name: str ):\n",
    "  names = []\n",
    "  for i in range(0, n):\n",
    "    names.append(name + str(i + 1))\n",
    "  return names"
   ],
   "metadata": {
    "collapsed": false,
    "pycharm": {
     "name": "#%%\n"
    }
   }
  },
  {
   "cell_type": "markdown",
   "source": [
    "#### Variables relacionadas a los pagos (Tipo P) "
   ],
   "metadata": {
    "collapsed": false,
    "pycharm": {
     "name": "#%% md\n"
    }
   }
  },
  {
   "cell_type": "code",
   "execution_count": null,
   "outputs": [],
   "source": [
    "x = df_reducido_dummies.loc[:,columns[2]].values\n",
    "y = df_reducido_dummies.loc[:,['target']].values\n",
    "\n",
    "x = StandardScaler().fit_transform(x)\n"
   ],
   "metadata": {
    "collapsed": false,
    "pycharm": {
     "name": "#%%\n"
    }
   }
  },
  {
   "cell_type": "code",
   "execution_count": null,
   "outputs": [],
   "source": [
    "pca = PCA(n_components=2)\n",
    "x_transformada = pca.fit_transform(x)\n",
    "\n",
    "pca_df_aux_type_P = pd.DataFrame(data = x_transformada, columns = ['principal_component_1', 'principal_component_2'])"
   ],
   "metadata": {
    "collapsed": false,
    "pycharm": {
     "name": "#%%\n"
    }
   }
  },
  {
   "cell_type": "code",
   "execution_count": null,
   "outputs": [],
   "source": [
    "pca_df_type_P = pd.concat([pca_df_aux_type_P, df_reducido_dummies[['target']]], axis = 1)"
   ],
   "metadata": {
    "collapsed": false,
    "pycharm": {
     "name": "#%%\n"
    }
   }
  },
  {
   "cell_type": "code",
   "execution_count": null,
   "outputs": [],
   "source": [
    "scatter_plot_pca = plt.figure().add_subplot(1,1,1) \n",
    "\n",
    "scatter_plot_pca.scatter(x=pca_df_type_P['principal_component_1'],y=pca_df_type_P['principal_component_2'],c=pca_df_type_P['target'])\n",
    "scatter_plot_pca.set_xlabel('Componente Principal  1')\n",
    "scatter_plot_pca.set_ylabel('Componente Principal  2')\n",
    "scatter_plot_pca.grid()\n",
    "\n",
    "plt.show()"
   ],
   "metadata": {
    "collapsed": false,
    "pycharm": {
     "name": "#%%\n"
    }
   }
  },
  {
   "cell_type": "code",
   "execution_count": null,
   "outputs": [],
   "source": [
    "pca.explained_variance_ratio_"
   ],
   "metadata": {
    "collapsed": false,
    "pycharm": {
     "name": "#%%\n"
    }
   }
  },
  {
   "cell_type": "markdown",
   "source": [
    "En el dataset tenemos únicamente tres variables relacionadas con los pagos de los clientes y en caso de existir una correlación marcada entre las mismas seria visibles tanto en los datos como en el grafico anteriormente expuesto. \n",
    "\n",
    "Sin embargo, tanto al observar el grafico como la varianza máxima de aproximadamente 0.52 concluimos que la correlación entre variables no es lo suficientemente fuerte como para realizar una reducción de dimensionalidad para dichas variables por lo cual se conservan sin alteración en el dataset total."
   ],
   "metadata": {
    "collapsed": false,
    "pycharm": {
     "name": "#%% md\n"
    }
   }
  },
  {
   "cell_type": "code",
   "execution_count": null,
   "outputs": [],
   "source": [
    "df_pca = pd.concat( [df_pca ,df_reducido_dummies.loc[:,columns[2]]], axis = 1)"
   ],
   "metadata": {
    "collapsed": false,
    "pycharm": {
     "name": "#%%\n"
    }
   }
  },
  {
   "cell_type": "markdown",
   "source": [
    "#### Variables relacionadas a los gastos (Tipo S)"
   ],
   "metadata": {
    "collapsed": false,
    "pycharm": {
     "name": "#%% md\n"
    }
   }
  },
  {
   "cell_type": "code",
   "execution_count": null,
   "outputs": [],
   "source": [
    "x = df_reducido_dummies.loc[:,columns[1]].values\n",
    "y = df_reducido_dummies.loc[:,['target']].values\n",
    "\n",
    "x = StandardScaler().fit_transform(x)"
   ],
   "metadata": {
    "collapsed": false,
    "pycharm": {
     "name": "#%%\n"
    }
   }
  },
  {
   "cell_type": "code",
   "execution_count": null,
   "outputs": [],
   "source": [
    "pca = PCA(n_components=15)\n",
    "x_transformada = pca.fit_transform(x)"
   ],
   "metadata": {
    "collapsed": false,
    "pycharm": {
     "name": "#%%\n"
    }
   }
  },
  {
   "cell_type": "code",
   "execution_count": null,
   "outputs": [],
   "source": [
    "sum(pca.explained_variance_ratio_)"
   ],
   "metadata": {
    "collapsed": false,
    "pycharm": {
     "name": "#%%\n"
    }
   }
  },
  {
   "cell_type": "code",
   "execution_count": null,
   "outputs": [],
   "source": [
    "pca.explained_variance_ratio_"
   ],
   "metadata": {
    "collapsed": false,
    "pycharm": {
     "name": "#%%\n"
    }
   }
  },
  {
   "cell_type": "markdown",
   "source": [
    "En el caso de las variables del tipo s poseemos 21 columnas, de las cuales se puede representar aproximadamente un 91 % de su información con 15 componentes principales. Dicha cantidad de componentes se obtuvo al comparar los resultados obtenidos al utilizar distintas cantidades, por ejemplo al utilizar 10 componentes se obtiene un 73% o mediante el uso de 14 componentes obtuvimos un 88%. Con estos resultados consideramos que es mejor utilizar n_components = 15.\n",
    "\n",
    "Al mismo tiempo, analizamos el aporte de información realizado por cada componente y dado a que ningún valor es inferior a 0.03 (3%) decidimos consérvalos a todos ellos, destacando que existe una mayor cantidad de información contenida en las 2 primeras componentes principales..\n"
   ],
   "metadata": {
    "collapsed": false,
    "pycharm": {
     "name": "#%% md\n"
    }
   }
  },
  {
   "cell_type": "code",
   "execution_count": null,
   "outputs": [],
   "source": [
    "columns_s = create_colum_names(15 , 'S_') \n",
    "pca_df_aux_type_S = pd.DataFrame(data = x_transformada, columns = columns_s)"
   ],
   "metadata": {
    "collapsed": false,
    "pycharm": {
     "name": "#%%\n"
    }
   }
  },
  {
   "cell_type": "code",
   "execution_count": null,
   "outputs": [],
   "source": [
    "df_pca = pd.concat( [df_pca , pca_df_aux_type_S] ,axis = 1)"
   ],
   "metadata": {
    "collapsed": false,
    "pycharm": {
     "name": "#%%\n"
    }
   }
  },
  {
   "cell_type": "markdown",
   "source": [
    "#### Variables relacionadas a los riesgos (Tipo R)"
   ],
   "metadata": {
    "collapsed": false,
    "pycharm": {
     "name": "#%% md\n"
    }
   }
  },
  {
   "cell_type": "code",
   "execution_count": null,
   "outputs": [],
   "source": [
    "x = df_reducido_dummies.loc[:,columns[4]].values\n",
    "y = df_reducido_dummies.loc[:,['target']].values\n",
    "\n",
    "x = StandardScaler().fit_transform(x)"
   ],
   "metadata": {
    "collapsed": false,
    "pycharm": {
     "name": "#%%\n"
    }
   }
  },
  {
   "cell_type": "code",
   "execution_count": null,
   "outputs": [],
   "source": [
    "pca = PCA(n_components=17)\n",
    "x_transformada = pca.fit_transform(x)"
   ],
   "metadata": {
    "collapsed": false,
    "pycharm": {
     "name": "#%%\n"
    }
   }
  },
  {
   "cell_type": "code",
   "execution_count": null,
   "outputs": [],
   "source": [
    "sum(pca.explained_variance_ratio_)"
   ],
   "metadata": {
    "collapsed": false,
    "pycharm": {
     "name": "#%%\n"
    }
   }
  },
  {
   "cell_type": "code",
   "execution_count": null,
   "outputs": [],
   "source": [
    "pca.explained_variance_ratio_"
   ],
   "metadata": {
    "collapsed": false,
    "pycharm": {
     "name": "#%%\n"
    }
   }
  },
  {
   "cell_type": "markdown",
   "source": [
    "En el caso de las variables del tipo R poseemos 26 columnas, de las cuales podemos obtener reultados porcentuales de información que para las columnas del tipo S utilizando 17 componentes principales. Al igual que en el caso anterior se optó por dicha cantidad de componentes principales al comparar los resultados modificando dicho parámetro. \n",
    "\n",
    "Al igual que para el caso anterior se toma como criterio que cada componente principal debe aportar un mínimo de 3% de información.\n",
    "\n"
   ],
   "metadata": {
    "collapsed": false,
    "pycharm": {
     "name": "#%% md\n"
    }
   }
  },
  {
   "cell_type": "code",
   "execution_count": null,
   "outputs": [],
   "source": [
    "columns_R = create_colum_names(17 ,'R_')\n",
    "pca_df_aux_type_R = pd.DataFrame(data = x_transformada, columns = columns_R)"
   ],
   "metadata": {
    "collapsed": false,
    "pycharm": {
     "name": "#%%\n"
    }
   }
  },
  {
   "cell_type": "code",
   "execution_count": null,
   "outputs": [],
   "source": [
    "df_pca = pd.concat( [df_pca , pca_df_aux_type_R] ,axis = 1)"
   ],
   "metadata": {
    "collapsed": false,
    "pycharm": {
     "name": "#%%\n"
    }
   }
  },
  {
   "cell_type": "markdown",
   "source": [
    "#### Variables relacionadas a los balances (Tipo B)"
   ],
   "metadata": {
    "collapsed": false,
    "pycharm": {
     "name": "#%% md\n"
    }
   }
  },
  {
   "cell_type": "code",
   "execution_count": null,
   "outputs": [],
   "source": [
    "x = df_reducido_dummies.loc[:,columns[3]].values\n",
    "y = df_reducido_dummies.loc[:,['target']].values\n",
    "\n",
    "x = StandardScaler().fit_transform(x)"
   ],
   "metadata": {
    "collapsed": false,
    "pycharm": {
     "name": "#%%\n"
    }
   }
  },
  {
   "cell_type": "code",
   "execution_count": null,
   "outputs": [],
   "source": [
    "pca = PCA(n_components=13)\n",
    "x_transformada = pca.fit_transform(x)"
   ],
   "metadata": {
    "collapsed": false,
    "pycharm": {
     "name": "#%%\n"
    }
   }
  },
  {
   "cell_type": "code",
   "execution_count": null,
   "outputs": [],
   "source": [
    "sum(pca.explained_variance_ratio_)"
   ],
   "metadata": {
    "collapsed": false,
    "pycharm": {
     "name": "#%%\n"
    }
   }
  },
  {
   "cell_type": "code",
   "execution_count": null,
   "outputs": [],
   "source": [
    "pca.explained_variance_ratio_"
   ],
   "metadata": {
    "collapsed": false,
    "pycharm": {
     "name": "#%%\n"
    }
   }
  },
  {
   "cell_type": "markdown",
   "source": [
    "En el caso de las variables del tipo B poseemos 37 columnas y utilizando 13 componentes principales se logra representar aproximadamente el 80% de su información. El análisis realizado es similar al desarrollado anteriormente para las variables de distintos tipos, sin embargo en esta ocasión observamos que únicamente una componente principal almacena aproximadamente el 33% de la información permitiendo así una gran representación de los datos con una cantidad muy reducida de variables respecto al punto de partida.\n"
   ],
   "metadata": {
    "collapsed": false,
    "pycharm": {
     "name": "#%% md\n"
    }
   }
  },
  {
   "cell_type": "code",
   "execution_count": null,
   "outputs": [],
   "source": [
    "columns_B = create_colum_names(13 ,'B_')\n",
    "pca_df_aux_type_B = pd.DataFrame(data = x_transformada, columns = columns_B)"
   ],
   "metadata": {
    "collapsed": false,
    "pycharm": {
     "name": "#%%\n"
    }
   }
  },
  {
   "cell_type": "code",
   "execution_count": null,
   "outputs": [],
   "source": [
    "df_pca = pd.concat( [df_pca , pca_df_aux_type_B] ,axis = 1)"
   ],
   "metadata": {
    "collapsed": false,
    "pycharm": {
     "name": "#%%\n"
    }
   }
  },
  {
   "cell_type": "markdown",
   "source": [
    "#### Variables relacionadas a la delincuencia (Tipo D)"
   ],
   "metadata": {
    "collapsed": false,
    "pycharm": {
     "name": "#%% md\n"
    }
   }
  },
  {
   "cell_type": "code",
   "execution_count": null,
   "outputs": [],
   "source": [
    "x = df_reducido_dummies.loc[:,columns[0]].values\n",
    "y = df_reducido_dummies.loc[:,['target']].values\n",
    "\n",
    "x = StandardScaler().fit_transform(x)"
   ],
   "metadata": {
    "collapsed": false,
    "pycharm": {
     "name": "#%%\n"
    }
   }
  },
  {
   "cell_type": "code",
   "execution_count": null,
   "outputs": [],
   "source": [
    "pca = PCA(n_components=34)\n",
    "x_transformada = pca.fit_transform(x)"
   ],
   "metadata": {
    "collapsed": false,
    "pycharm": {
     "name": "#%%\n"
    }
   }
  },
  {
   "cell_type": "code",
   "execution_count": null,
   "outputs": [],
   "source": [
    "sum(pca.explained_variance_ratio_)"
   ],
   "metadata": {
    "collapsed": false,
    "pycharm": {
     "name": "#%%\n"
    }
   }
  },
  {
   "cell_type": "code",
   "execution_count": null,
   "outputs": [],
   "source": [
    "pca.explained_variance_ratio_"
   ],
   "metadata": {
    "collapsed": false,
    "pycharm": {
     "name": "#%%\n"
    }
   }
  },
  {
   "cell_type": "markdown",
   "source": [
    "Por ultimo tenemos las variables del tipo D relacionadas a la delincuencia, tras los procedimientos realizados sobre el dataset redujimos la cantidad de variables a 80. Sin embargo, observamos que tenemos la posibilidad de obtener aproximadamente el 80% de la información que contienen mediante el uso de 34 componentes principales. Los resultados obtenidos muestran que existen componentes principales que únicamente aportan un 1% de información y pese a ello optamos conservarlos a fin de tener una mayor representación de los datos.\n"
   ],
   "metadata": {
    "collapsed": false,
    "pycharm": {
     "name": "#%% md\n"
    }
   }
  },
  {
   "cell_type": "code",
   "execution_count": null,
   "outputs": [],
   "source": [
    "columns_D = create_colum_names(34 ,'D_')\n",
    "pca_df_aux_type_D = pd.DataFrame(data = x_transformada, columns = columns_D)"
   ],
   "metadata": {
    "collapsed": false,
    "pycharm": {
     "name": "#%%\n"
    }
   }
  },
  {
   "cell_type": "code",
   "execution_count": null,
   "outputs": [],
   "source": [
    "df_pca = pd.concat( [df_pca , pca_df_aux_type_D] ,axis = 1)"
   ],
   "metadata": {
    "collapsed": false,
    "pycharm": {
     "name": "#%%\n"
    }
   }
  },
  {
   "cell_type": "code",
   "execution_count": null,
   "outputs": [],
   "source": [
    "df_pca = pd.concat( [df_pca , df_reducido['target']] ,axis = 1)"
   ],
   "metadata": {
    "collapsed": false,
    "pycharm": {
     "name": "#%%\n"
    }
   }
  },
  {
   "cell_type": "markdown",
   "source": [
    "#### Conclusiones"
   ],
   "metadata": {
    "collapsed": false,
    "pycharm": {
     "name": "#%% md\n"
    }
   }
  },
  {
   "cell_type": "markdown",
   "source": [
    "Como resultado de la reducción de dimensionalidad mediante el método de PCA, obtuvimos un dataset de 83 columnas donde para los distintos tipos de variables se procuró conservar aproximadamente un mínimo del 80% de la información. Considerando que previo al procedimiento el dataset contaba con 168 columnas, concluimos que es beneficiosa la aplicación de la reducción de dimensionalidad con el fin de obtener una mejor performance en los distintos modelos que utilicen como fuente de información dicho dataset modificado."
   ],
   "metadata": {
    "collapsed": false,
    "pycharm": {
     "name": "#%% md\n"
    }
   }
  },
  {
   "cell_type": "code",
   "execution_count": null,
   "outputs": [],
   "source": [
    "df_pca"
   ],
   "metadata": {
    "collapsed": false,
    "pycharm": {
     "name": "#%%\n"
    }
   }
  },
  {
   "cell_type": "code",
   "execution_count": null,
   "outputs": [],
   "source": [
    "df_pca.to_parquet(\"gdrive/My Drive/train_data_apc\")"
   ],
   "metadata": {
    "collapsed": false,
    "pycharm": {
     "name": "#%%\n"
    }
   }
  },
  {
   "cell_type": "markdown",
   "source": [
    "### Balance del dataset"
   ],
   "metadata": {
    "collapsed": false,
    "pycharm": {
     "name": "#%% md\n"
    }
   }
  },
  {
   "cell_type": "markdown",
   "source": [
    "A continuación observamos el desbalance que presenta nuestro dataset en relación a la variable de estudio “target”, aproximadamente los casos en los que los clientes si pagan sus cuentas son tres veces más que aquellos que no, representando un 75% de los usuarios estudiados. Consideramos que dicho desbalance es una situación que representa de forma correcta a nuestro problema de estudio.\n",
    "\n",
    "Luego dividimos nuestro conjunto de datos, distribuyendo de forma balanceada los elementos de la variable target. En dicha distribución se utiliza un 30% de la información para el conjunto de datos de prueba y un 70% para el conjunto de entrenamiento. De esta forma obtuvimos dos conjuntos de datos representado un 30% y un 70% de los datos y respetando la proporción de casos de la variable target.\n"
   ],
   "metadata": {
    "collapsed": false,
    "pycharm": {
     "name": "#%% md\n"
    }
   }
  },
  {
   "cell_type": "code",
   "execution_count": null,
   "outputs": [],
   "source": [
    "df_pca['target'].value_counts()"
   ],
   "metadata": {
    "collapsed": false,
    "pycharm": {
     "name": "#%%\n"
    }
   }
  },
  {
   "cell_type": "code",
   "execution_count": null,
   "outputs": [],
   "source": [
    "from sklearn.model_selection import train_test_split\n",
    "\n",
    "features = df_pca.columns.to_list()\n",
    "features.remove('target')\n",
    "\n",
    "x_train, x_test, y_train, y_test = train_test_split(df_pca[features].values, df_pca['target'].values, test_size=0.3, random_state=0, stratify = df_pca['target'].values)"
   ],
   "metadata": {
    "collapsed": false,
    "pycharm": {
     "name": "#%%\n"
    }
   }
  },
  {
   "cell_type": "markdown",
   "source": [
    "### Normalización de valores"
   ],
   "metadata": {
    "collapsed": false,
    "pycharm": {
     "name": "#%% md\n"
    }
   }
  },
  {
   "cell_type": "markdown",
   "source": [
    "Teniendo en cuenta los modelos que se emplearan más adelante en el trabajo y a fin de mejorar su rendimiento procedemos a normalizar nuestro dataset. Podemos utilizar este procedimiento sobre todas las columnas del dataset gracias a que el trabajo anteriormente realizado sobre el mismo nos asegura que los valores que contiene no son un impedimento. "
   ],
   "metadata": {
    "collapsed": false,
    "pycharm": {
     "name": "#%% md\n"
    }
   }
  },
  {
   "cell_type": "code",
   "execution_count": null,
   "outputs": [],
   "source": [
    "from sklearn.preprocessing import MinMaxScaler\n",
    "scaler = MinMaxScaler()\n",
    "x_train_normalized = scaler.fit_transform(x_train)\n",
    "x_test_normalized = scaler.fit_transform(x_test)"
   ],
   "metadata": {
    "collapsed": false,
    "pycharm": {
     "name": "#%%\n"
    }
   }
  },
  {
   "cell_type": "markdown",
   "metadata": {
    "id": "ZT1mosgFmcNU"
   },
   "source": [
    "Observamos que la cantidad de columnas que poseen outliers es 142, representando aproximadamente el 88% de las columnas del dataset. Retomando la aclaración previa realizada en el apartado de análisis de registros vacíos, se realizó el mismo procedimiento limitando el rango de valores al momento de imputar datos consiguiendo un resultado de 134 columnas con outliers.Es predecible que se detecten una menor cantidad de outliers al reducir el rango de valores válidos para ser imputados. Es importante destacar que para este análisis también se tuvo en consideración la cantidad de filas afectadas por outliers, viendo que se presenta una situación muy similar al comparar los resultados variando los métodos aplicados. \n",
    "\n",
    "Adicionalmente se realizó el procedimiento reemplazando los datos faltantes con la media de cada columna, lo cual de acuerdo con lo esperado llevo a la obtención de peores resultados.\n",
    "\n",
    "\n",
    "\n",
    "Se decidió conservar las columnas anteriormente mencionadas considerando nuestro objetivo del trabajo sobre el dataset. Como ya se explico anteriormente, se intenta predecir si un cliente pagara o no, y por ello nos interesan los datos que se encuentran separados del \"conjunto principal de valores\". Ya que son precisamente dichos valores “fuera de lo común” los cuales pueden llevar a un cliente a no pagar sus cuentas dicho mes. \n"
   ]
  },
  {
   "cell_type": "markdown",
   "metadata": {
    "id": "wByXMGVv5qwb"
   },
   "source": [
    "### Transformación de variables"
   ]
  },
  {
   "cell_type": "markdown",
   "metadata": {
    "id": "WjCA-rBY1-Db"
   },
   "source": [
    "Dada la cantidad de registros vacíos mostrada anteriormente y teniendo en cuenta que contamos con una gran cantidad de variables del tipo ‘D’, decidimos eliminar dicha columna. Con la columna categórica restante se optó por realizar una transformación hacia una variable numérica para poder trabajar con ellas en los modelos que las requieran. \n",
    "\n",
    "Paralelamente se elimina la variable ‘S_2’ cuyo análisis se realiza en profundidad en la sección inicial del trabajo. En dicho análisis se mostró una leve diferencia generada con el pasar de los años, lo cual al no contar con la información de la diferencia de la cantidad de usuarios entre dichos años, se reduce la utilidad de dicha variable y por lo cual también es descartada. \n"
   ]
  },
  {
   "cell_type": "code",
   "execution_count": 66,
   "metadata": {
    "id": "9hh1pl1T2gMi"
   },
   "outputs": [],
   "source": [
    "df_reducido = pd.read_parquet(\"gdrive/My Drive/train_data_reducido_sin_vacios\")\n",
    "df_reducido.drop(columns = ['D_64','S_2'], inplace = True)"
   ]
  },
  {
   "cell_type": "code",
   "execution_count": 67,
   "metadata": {
    "colab": {
     "base_uri": "https://localhost:8080/",
     "height": 0
    },
    "id": "2gglsKEo5qwb",
    "outputId": "86792efa-c5a6-4034-b14b-68e31b0430cc"
   },
   "outputs": [
    {
     "data": {
      "text/html": [
       "\n",
       "  <div id=\"df-3a9f33ef-b9c6-4bb0-9643-38586d29d9ca\">\n",
       "    <div class=\"colab-df-container\">\n",
       "      <div>\n",
       "<style scoped>\n",
       "    .dataframe tbody tr th:only-of-type {\n",
       "        vertical-align: middle;\n",
       "    }\n",
       "\n",
       "    .dataframe tbody tr th {\n",
       "        vertical-align: top;\n",
       "    }\n",
       "\n",
       "    .dataframe thead th {\n",
       "        text-align: right;\n",
       "    }\n",
       "</style>\n",
       "<table border=\"1\" class=\"dataframe\">\n",
       "  <thead>\n",
       "    <tr style=\"text-align: right;\">\n",
       "      <th></th>\n",
       "      <th>B_1</th>\n",
       "      <th>B_10</th>\n",
       "      <th>B_11</th>\n",
       "      <th>B_12</th>\n",
       "      <th>B_13</th>\n",
       "      <th>B_14</th>\n",
       "      <th>B_15</th>\n",
       "      <th>B_16</th>\n",
       "      <th>B_17</th>\n",
       "      <th>B_18</th>\n",
       "      <th>...</th>\n",
       "      <th>S_25</th>\n",
       "      <th>S_26</th>\n",
       "      <th>S_27</th>\n",
       "      <th>S_3</th>\n",
       "      <th>S_5</th>\n",
       "      <th>S_6</th>\n",
       "      <th>S_7</th>\n",
       "      <th>S_8</th>\n",
       "      <th>S_9</th>\n",
       "      <th>target</th>\n",
       "    </tr>\n",
       "  </thead>\n",
       "  <tbody>\n",
       "    <tr>\n",
       "      <th>0</th>\n",
       "      <td>0.001930</td>\n",
       "      <td>0.431864</td>\n",
       "      <td>0.004027</td>\n",
       "      <td>0.112579</td>\n",
       "      <td>0.074886</td>\n",
       "      <td>0.009725</td>\n",
       "      <td>0.007219</td>\n",
       "      <td>0.000227</td>\n",
       "      <td>0.187306</td>\n",
       "      <td>1.007369</td>\n",
       "      <td>...</td>\n",
       "      <td>0.969777</td>\n",
       "      <td>0.022741</td>\n",
       "      <td>0.816651</td>\n",
       "      <td>0.100470</td>\n",
       "      <td>0.007165</td>\n",
       "      <td>0.002629</td>\n",
       "      <td>0.074646</td>\n",
       "      <td>0.759416</td>\n",
       "      <td>0.019340</td>\n",
       "      <td>0</td>\n",
       "    </tr>\n",
       "    <tr>\n",
       "      <th>1</th>\n",
       "      <td>0.100998</td>\n",
       "      <td>0.020843</td>\n",
       "      <td>0.065763</td>\n",
       "      <td>0.011516</td>\n",
       "      <td>0.011943</td>\n",
       "      <td>0.023915</td>\n",
       "      <td>0.002677</td>\n",
       "      <td>0.752512</td>\n",
       "      <td>0.888287</td>\n",
       "      <td>0.245604</td>\n",
       "      <td>...</td>\n",
       "      <td>0.554076</td>\n",
       "      <td>0.007319</td>\n",
       "      <td>0.003056</td>\n",
       "      <td>0.333741</td>\n",
       "      <td>0.007118</td>\n",
       "      <td>0.003323</td>\n",
       "      <td>0.449327</td>\n",
       "      <td>0.121571</td>\n",
       "      <td>0.070750</td>\n",
       "      <td>0</td>\n",
       "    </tr>\n",
       "    <tr>\n",
       "      <th>2</th>\n",
       "      <td>0.932366</td>\n",
       "      <td>0.006830</td>\n",
       "      <td>0.938222</td>\n",
       "      <td>0.018259</td>\n",
       "      <td>0.011526</td>\n",
       "      <td>0.310057</td>\n",
       "      <td>0.007449</td>\n",
       "      <td>1.005576</td>\n",
       "      <td>0.958476</td>\n",
       "      <td>0.100295</td>\n",
       "      <td>...</td>\n",
       "      <td>0.977311</td>\n",
       "      <td>0.005956</td>\n",
       "      <td>0.263270</td>\n",
       "      <td>0.166899</td>\n",
       "      <td>0.023294</td>\n",
       "      <td>1.001347</td>\n",
       "      <td>0.195864</td>\n",
       "      <td>0.469173</td>\n",
       "      <td>0.093580</td>\n",
       "      <td>1</td>\n",
       "    </tr>\n",
       "    <tr>\n",
       "      <th>3</th>\n",
       "      <td>0.090679</td>\n",
       "      <td>0.010080</td>\n",
       "      <td>0.061696</td>\n",
       "      <td>0.009170</td>\n",
       "      <td>0.022505</td>\n",
       "      <td>0.021193</td>\n",
       "      <td>0.005326</td>\n",
       "      <td>0.004090</td>\n",
       "      <td>0.402698</td>\n",
       "      <td>0.483923</td>\n",
       "      <td>...</td>\n",
       "      <td>0.970850</td>\n",
       "      <td>0.001798</td>\n",
       "      <td>0.006840</td>\n",
       "      <td>0.182016</td>\n",
       "      <td>0.054562</td>\n",
       "      <td>1.005409</td>\n",
       "      <td>0.283636</td>\n",
       "      <td>0.252979</td>\n",
       "      <td>0.088396</td>\n",
       "      <td>1</td>\n",
       "    </tr>\n",
       "    <tr>\n",
       "      <th>4</th>\n",
       "      <td>0.096867</td>\n",
       "      <td>0.016876</td>\n",
       "      <td>0.072356</td>\n",
       "      <td>0.015320</td>\n",
       "      <td>0.032634</td>\n",
       "      <td>0.030532</td>\n",
       "      <td>0.003829</td>\n",
       "      <td>0.500069</td>\n",
       "      <td>0.008569</td>\n",
       "      <td>0.184785</td>\n",
       "      <td>...</td>\n",
       "      <td>0.101208</td>\n",
       "      <td>0.004177</td>\n",
       "      <td>0.004812</td>\n",
       "      <td>0.460324</td>\n",
       "      <td>0.042095</td>\n",
       "      <td>0.009332</td>\n",
       "      <td>0.568983</td>\n",
       "      <td>0.328557</td>\n",
       "      <td>0.078887</td>\n",
       "      <td>1</td>\n",
       "    </tr>\n",
       "    <tr>\n",
       "      <th>...</th>\n",
       "      <td>...</td>\n",
       "      <td>...</td>\n",
       "      <td>...</td>\n",
       "      <td>...</td>\n",
       "      <td>...</td>\n",
       "      <td>...</td>\n",
       "      <td>...</td>\n",
       "      <td>...</td>\n",
       "      <td>...</td>\n",
       "      <td>...</td>\n",
       "      <td>...</td>\n",
       "      <td>...</td>\n",
       "      <td>...</td>\n",
       "      <td>...</td>\n",
       "      <td>...</td>\n",
       "      <td>...</td>\n",
       "      <td>...</td>\n",
       "      <td>...</td>\n",
       "      <td>...</td>\n",
       "      <td>...</td>\n",
       "      <td>...</td>\n",
       "    </tr>\n",
       "    <tr>\n",
       "      <th>276567</th>\n",
       "      <td>0.008331</td>\n",
       "      <td>0.242958</td>\n",
       "      <td>0.004117</td>\n",
       "      <td>0.003937</td>\n",
       "      <td>0.006548</td>\n",
       "      <td>0.004503</td>\n",
       "      <td>0.003287</td>\n",
       "      <td>0.003259</td>\n",
       "      <td>0.201737</td>\n",
       "      <td>1.004954</td>\n",
       "      <td>...</td>\n",
       "      <td>0.975756</td>\n",
       "      <td>0.002313</td>\n",
       "      <td>0.194796</td>\n",
       "      <td>0.281264</td>\n",
       "      <td>0.000499</td>\n",
       "      <td>1.004101</td>\n",
       "      <td>0.251258</td>\n",
       "      <td>0.006319</td>\n",
       "      <td>0.112598</td>\n",
       "      <td>0</td>\n",
       "    </tr>\n",
       "    <tr>\n",
       "      <th>276568</th>\n",
       "      <td>0.028992</td>\n",
       "      <td>0.453770</td>\n",
       "      <td>0.017547</td>\n",
       "      <td>0.224241</td>\n",
       "      <td>0.239149</td>\n",
       "      <td>0.101930</td>\n",
       "      <td>0.009882</td>\n",
       "      <td>0.002982</td>\n",
       "      <td>0.214119</td>\n",
       "      <td>1.009120</td>\n",
       "      <td>...</td>\n",
       "      <td>0.977798</td>\n",
       "      <td>0.055105</td>\n",
       "      <td>0.006036</td>\n",
       "      <td>0.140112</td>\n",
       "      <td>0.275520</td>\n",
       "      <td>0.009312</td>\n",
       "      <td>0.094025</td>\n",
       "      <td>0.492496</td>\n",
       "      <td>0.074255</td>\n",
       "      <td>0</td>\n",
       "    </tr>\n",
       "    <tr>\n",
       "      <th>276569</th>\n",
       "      <td>0.162431</td>\n",
       "      <td>0.134409</td>\n",
       "      <td>0.135216</td>\n",
       "      <td>0.023709</td>\n",
       "      <td>0.086869</td>\n",
       "      <td>0.073229</td>\n",
       "      <td>0.001598</td>\n",
       "      <td>0.335726</td>\n",
       "      <td>0.880369</td>\n",
       "      <td>0.379636</td>\n",
       "      <td>...</td>\n",
       "      <td>0.978986</td>\n",
       "      <td>0.003040</td>\n",
       "      <td>0.430051</td>\n",
       "      <td>0.086377</td>\n",
       "      <td>0.133227</td>\n",
       "      <td>0.000729</td>\n",
       "      <td>0.087364</td>\n",
       "      <td>0.666838</td>\n",
       "      <td>0.035156</td>\n",
       "      <td>0</td>\n",
       "    </tr>\n",
       "    <tr>\n",
       "      <th>276570</th>\n",
       "      <td>0.027101</td>\n",
       "      <td>0.293564</td>\n",
       "      <td>0.010437</td>\n",
       "      <td>0.064097</td>\n",
       "      <td>0.049037</td>\n",
       "      <td>0.025647</td>\n",
       "      <td>0.005012</td>\n",
       "      <td>0.335705</td>\n",
       "      <td>0.145229</td>\n",
       "      <td>1.007944</td>\n",
       "      <td>...</td>\n",
       "      <td>0.975805</td>\n",
       "      <td>0.008761</td>\n",
       "      <td>0.380321</td>\n",
       "      <td>0.075824</td>\n",
       "      <td>0.060779</td>\n",
       "      <td>0.008526</td>\n",
       "      <td>0.048874</td>\n",
       "      <td>0.704418</td>\n",
       "      <td>0.022882</td>\n",
       "      <td>0</td>\n",
       "    </tr>\n",
       "    <tr>\n",
       "      <th>276571</th>\n",
       "      <td>0.042782</td>\n",
       "      <td>0.157152</td>\n",
       "      <td>0.026771</td>\n",
       "      <td>0.055753</td>\n",
       "      <td>0.077681</td>\n",
       "      <td>0.036595</td>\n",
       "      <td>0.024166</td>\n",
       "      <td>0.920613</td>\n",
       "      <td>0.427228</td>\n",
       "      <td>0.379839</td>\n",
       "      <td>...</td>\n",
       "      <td>0.979035</td>\n",
       "      <td>0.000230</td>\n",
       "      <td>0.219747</td>\n",
       "      <td>0.020815</td>\n",
       "      <td>0.041289</td>\n",
       "      <td>0.002854</td>\n",
       "      <td>0.025815</td>\n",
       "      <td>0.665898</td>\n",
       "      <td>0.010998</td>\n",
       "      <td>0</td>\n",
       "    </tr>\n",
       "  </tbody>\n",
       "</table>\n",
       "<p>276572 rows × 168 columns</p>\n",
       "</div>\n",
       "      <button class=\"colab-df-convert\" onclick=\"convertToInteractive('df-3a9f33ef-b9c6-4bb0-9643-38586d29d9ca')\"\n",
       "              title=\"Convert this dataframe to an interactive table.\"\n",
       "              style=\"display:none;\">\n",
       "        \n",
       "  <svg xmlns=\"http://www.w3.org/2000/svg\" height=\"24px\"viewBox=\"0 0 24 24\"\n",
       "       width=\"24px\">\n",
       "    <path d=\"M0 0h24v24H0V0z\" fill=\"none\"/>\n",
       "    <path d=\"M18.56 5.44l.94 2.06.94-2.06 2.06-.94-2.06-.94-.94-2.06-.94 2.06-2.06.94zm-11 1L8.5 8.5l.94-2.06 2.06-.94-2.06-.94L8.5 2.5l-.94 2.06-2.06.94zm10 10l.94 2.06.94-2.06 2.06-.94-2.06-.94-.94-2.06-.94 2.06-2.06.94z\"/><path d=\"M17.41 7.96l-1.37-1.37c-.4-.4-.92-.59-1.43-.59-.52 0-1.04.2-1.43.59L10.3 9.45l-7.72 7.72c-.78.78-.78 2.05 0 2.83L4 21.41c.39.39.9.59 1.41.59.51 0 1.02-.2 1.41-.59l7.78-7.78 2.81-2.81c.8-.78.8-2.07 0-2.86zM5.41 20L4 18.59l7.72-7.72 1.47 1.35L5.41 20z\"/>\n",
       "  </svg>\n",
       "      </button>\n",
       "      \n",
       "  <style>\n",
       "    .colab-df-container {\n",
       "      display:flex;\n",
       "      flex-wrap:wrap;\n",
       "      gap: 12px;\n",
       "    }\n",
       "\n",
       "    .colab-df-convert {\n",
       "      background-color: #E8F0FE;\n",
       "      border: none;\n",
       "      border-radius: 50%;\n",
       "      cursor: pointer;\n",
       "      display: none;\n",
       "      fill: #1967D2;\n",
       "      height: 32px;\n",
       "      padding: 0 0 0 0;\n",
       "      width: 32px;\n",
       "    }\n",
       "\n",
       "    .colab-df-convert:hover {\n",
       "      background-color: #E2EBFA;\n",
       "      box-shadow: 0px 1px 2px rgba(60, 64, 67, 0.3), 0px 1px 3px 1px rgba(60, 64, 67, 0.15);\n",
       "      fill: #174EA6;\n",
       "    }\n",
       "\n",
       "    [theme=dark] .colab-df-convert {\n",
       "      background-color: #3B4455;\n",
       "      fill: #D2E3FC;\n",
       "    }\n",
       "\n",
       "    [theme=dark] .colab-df-convert:hover {\n",
       "      background-color: #434B5C;\n",
       "      box-shadow: 0px 1px 3px 1px rgba(0, 0, 0, 0.15);\n",
       "      filter: drop-shadow(0px 1px 2px rgba(0, 0, 0, 0.3));\n",
       "      fill: #FFFFFF;\n",
       "    }\n",
       "  </style>\n",
       "\n",
       "      <script>\n",
       "        const buttonEl =\n",
       "          document.querySelector('#df-3a9f33ef-b9c6-4bb0-9643-38586d29d9ca button.colab-df-convert');\n",
       "        buttonEl.style.display =\n",
       "          google.colab.kernel.accessAllowed ? 'block' : 'none';\n",
       "\n",
       "        async function convertToInteractive(key) {\n",
       "          const element = document.querySelector('#df-3a9f33ef-b9c6-4bb0-9643-38586d29d9ca');\n",
       "          const dataTable =\n",
       "            await google.colab.kernel.invokeFunction('convertToInteractive',\n",
       "                                                     [key], {});\n",
       "          if (!dataTable) return;\n",
       "\n",
       "          const docLinkHtml = 'Like what you see? Visit the ' +\n",
       "            '<a target=\"_blank\" href=https://colab.research.google.com/notebooks/data_table.ipynb>data table notebook</a>'\n",
       "            + ' to learn more about interactive tables.';\n",
       "          element.innerHTML = '';\n",
       "          dataTable['output_type'] = 'display_data';\n",
       "          await google.colab.output.renderOutput(dataTable, element);\n",
       "          const docLink = document.createElement('div');\n",
       "          docLink.innerHTML = docLinkHtml;\n",
       "          element.appendChild(docLink);\n",
       "        }\n",
       "      </script>\n",
       "    </div>\n",
       "  </div>\n",
       "  "
      ],
      "text/plain": [
       "             B_1      B_10      B_11      B_12      B_13      B_14      B_15  \\\n",
       "0       0.001930  0.431864  0.004027  0.112579  0.074886  0.009725  0.007219   \n",
       "1       0.100998  0.020843  0.065763  0.011516  0.011943  0.023915  0.002677   \n",
       "2       0.932366  0.006830  0.938222  0.018259  0.011526  0.310057  0.007449   \n",
       "3       0.090679  0.010080  0.061696  0.009170  0.022505  0.021193  0.005326   \n",
       "4       0.096867  0.016876  0.072356  0.015320  0.032634  0.030532  0.003829   \n",
       "...          ...       ...       ...       ...       ...       ...       ...   \n",
       "276567  0.008331  0.242958  0.004117  0.003937  0.006548  0.004503  0.003287   \n",
       "276568  0.028992  0.453770  0.017547  0.224241  0.239149  0.101930  0.009882   \n",
       "276569  0.162431  0.134409  0.135216  0.023709  0.086869  0.073229  0.001598   \n",
       "276570  0.027101  0.293564  0.010437  0.064097  0.049037  0.025647  0.005012   \n",
       "276571  0.042782  0.157152  0.026771  0.055753  0.077681  0.036595  0.024166   \n",
       "\n",
       "            B_16      B_17      B_18  ...      S_25      S_26      S_27  \\\n",
       "0       0.000227  0.187306  1.007369  ...  0.969777  0.022741  0.816651   \n",
       "1       0.752512  0.888287  0.245604  ...  0.554076  0.007319  0.003056   \n",
       "2       1.005576  0.958476  0.100295  ...  0.977311  0.005956  0.263270   \n",
       "3       0.004090  0.402698  0.483923  ...  0.970850  0.001798  0.006840   \n",
       "4       0.500069  0.008569  0.184785  ...  0.101208  0.004177  0.004812   \n",
       "...          ...       ...       ...  ...       ...       ...       ...   \n",
       "276567  0.003259  0.201737  1.004954  ...  0.975756  0.002313  0.194796   \n",
       "276568  0.002982  0.214119  1.009120  ...  0.977798  0.055105  0.006036   \n",
       "276569  0.335726  0.880369  0.379636  ...  0.978986  0.003040  0.430051   \n",
       "276570  0.335705  0.145229  1.007944  ...  0.975805  0.008761  0.380321   \n",
       "276571  0.920613  0.427228  0.379839  ...  0.979035  0.000230  0.219747   \n",
       "\n",
       "             S_3       S_5       S_6       S_7       S_8       S_9  target  \n",
       "0       0.100470  0.007165  0.002629  0.074646  0.759416  0.019340       0  \n",
       "1       0.333741  0.007118  0.003323  0.449327  0.121571  0.070750       0  \n",
       "2       0.166899  0.023294  1.001347  0.195864  0.469173  0.093580       1  \n",
       "3       0.182016  0.054562  1.005409  0.283636  0.252979  0.088396       1  \n",
       "4       0.460324  0.042095  0.009332  0.568983  0.328557  0.078887       1  \n",
       "...          ...       ...       ...       ...       ...       ...     ...  \n",
       "276567  0.281264  0.000499  1.004101  0.251258  0.006319  0.112598       0  \n",
       "276568  0.140112  0.275520  0.009312  0.094025  0.492496  0.074255       0  \n",
       "276569  0.086377  0.133227  0.000729  0.087364  0.666838  0.035156       0  \n",
       "276570  0.075824  0.060779  0.008526  0.048874  0.704418  0.022882       0  \n",
       "276571  0.020815  0.041289  0.002854  0.025815  0.665898  0.010998       0  \n",
       "\n",
       "[276572 rows x 168 columns]"
      ]
     },
     "execution_count": 67,
     "metadata": {},
     "output_type": "execute_result"
    }
   ],
   "source": [
    "df_reducido_dummies = pd.get_dummies(df_reducido, columns=['D_63'])\n",
    "df_reducido_dummies.sort_index(axis = 1, inplace = True)\n",
    "df_reducido_dummies"
   ]
  },
  {
   "cell_type": "markdown",
   "metadata": {
    "id": "Wee6OIbw3L5M"
   },
   "source": [
    "### Reducción de dimensionalidad"
   ]
  },
  {
   "cell_type": "markdown",
   "metadata": {
    "id": "6wKmkdmr3QHZ"
   },
   "source": [
    "Dada la gran cantidad de columnas que posee el dataset consideramos que sería posible realizar una reducción de dimensionalidad con el fin de mejorar la performance de los modelos y para ello podemos utilizar nuevamente la categorización de variables dada por el dataset. La categorización nos permite asumir la existencia de una posible correlación  entre las variables de un mismo tipo y por esta misma posible correlación se decide utilizar PCA (Principal Component Analysis).\n",
    "\n",
    "Como requisito previo a la aplicación de PCA debemos escalar los valores de las variables. Si bien el dataset se encontraba escalado inicialmente, al realizar modificaciones como completar registros vacíos y transformación de datos se ve afectada dicha condición. Por este motivo se deben escalar los datos nuevamente de todas las columnas que utilizaremos del dataset."
   ]
  },
  {
   "cell_type": "code",
   "execution_count": 68,
   "metadata": {
    "id": "V97hi-oDECI1"
   },
   "outputs": [],
   "source": [
    "from sklearn.preprocessing import StandardScaler\n",
    "from sklearn.decomposition import PCA"
   ]
  },
  {
   "cell_type": "code",
   "execution_count": 69,
   "metadata": {
    "id": "p5m_k1IJ18X6"
   },
   "outputs": [],
   "source": [
    "columns = columns_by_type(df_reducido_dummies)\n",
    "df_pca = pd.DataFrame()"
   ]
  },
  {
   "cell_type": "code",
   "execution_count": 70,
   "metadata": {
    "id": "T5Y05HovIrX0"
   },
   "outputs": [],
   "source": [
    "def create_colum_names(n: int , name: str ):\n",
    "  names = []\n",
    "  for i in range(0, n):\n",
    "    names.append(name + str(i + 1))\n",
    "  return names"
   ]
  },
  {
   "cell_type": "markdown",
   "metadata": {
    "id": "jrfZ0CWqwtYk"
   },
   "source": [
    "#### Variables relacionadas a los pagos (Tipo P) "
   ]
  },
  {
   "cell_type": "code",
   "execution_count": 71,
   "metadata": {
    "id": "AA-R7CiCAL_q"
   },
   "outputs": [],
   "source": [
    "x = df_reducido_dummies.loc[:,columns[2]].values\n",
    "y = df_reducido_dummies.loc[:,['target']].values\n",
    "\n",
    "x = StandardScaler().fit_transform(x)\n"
   ]
  },
  {
   "cell_type": "code",
   "execution_count": 72,
   "metadata": {
    "id": "PJx_O0dOUjPH"
   },
   "outputs": [],
   "source": [
    "pca = PCA(n_components=2)\n",
    "x_transformada = pca.fit_transform(x)\n",
    "\n",
    "pca_df_aux_type_P = pd.DataFrame(data = x_transformada, columns = ['principal_component_1', 'principal_component_2'])"
   ]
  },
  {
   "cell_type": "code",
   "execution_count": 73,
   "metadata": {
    "id": "UjAAXV9_5YW0"
   },
   "outputs": [],
   "source": [
    "pca_df_type_P = pd.concat([pca_df_aux_type_P, df_reducido_dummies[['target']]], axis = 1)"
   ]
  },
  {
   "cell_type": "code",
   "execution_count": 74,
   "metadata": {
    "colab": {
     "base_uri": "https://localhost:8080/",
     "height": 279
    },
    "id": "KPSiVAqSU-z1",
    "outputId": "c1fd7742-9674-4d09-9ea1-a8c23e9a899b"
   },
   "outputs": [
    {
     "data": {
      "image/png": "[encoded data removed]",
      "text/plain": [
       "<Figure size 432x288 with 1 Axes>"
      ]
     },
     "metadata": {
      "needs_background": "light"
     },
     "output_type": "display_data"
    }
   ],
   "source": [
    "scatter_plot_pca = plt.figure().add_subplot(1,1,1) \n",
    "\n",
    "scatter_plot_pca.scatter(x=pca_df_type_P['principal_component_1'],y=pca_df_type_P['principal_component_2'],c=pca_df_type_P['target'])\n",
    "scatter_plot_pca.set_xlabel('Componente Principal  1')\n",
    "scatter_plot_pca.set_ylabel('Componente Principal  2')\n",
    "scatter_plot_pca.grid()\n",
    "\n",
    "plt.show()"
   ]
  },
  {
   "cell_type": "code",
   "execution_count": 75,
   "metadata": {
    "colab": {
     "base_uri": "https://localhost:8080/"
    },
    "id": "9Fi4OrNowjvC",
    "outputId": "bf8870ef-fadc-45af-d404-51143cb2779f"
   },
   "outputs": [
    {
     "data": {
      "text/plain": [
       "array([0.51896075, 0.29604798])"
      ]
     },
     "execution_count": 75,
     "metadata": {},
     "output_type": "execute_result"
    }
   ],
   "source": [
    "pca.explained_variance_ratio_"
   ]
  },
  {
   "cell_type": "markdown",
   "metadata": {
    "id": "qsyJ9lAb7pnN"
   },
   "source": [
    "En el dataset tenemos únicamente tres variables relacionadas con los pagos de los clientes y en caso de existir una correlación marcada entre las mismas seria visibles tanto en los datos como en el grafico anteriormente expuesto. \n",
    "\n",
    "Sin embargo, tanto al observar el grafico como la varianza máxima de aproximadamente 0.52 concluimos que la correlación entre variables no es lo suficientemente fuerte como para realizar una reducción de dimensionalidad para dichas variables por lo cual se conservan sin alteración en el dataset total."
   ]
  },
  {
   "cell_type": "code",
   "execution_count": 76,
   "metadata": {
    "id": "DQg3ZvJh9pRT"
   },
   "outputs": [],
   "source": [
    "df_pca = pd.concat( [df_pca ,df_reducido_dummies.loc[:,columns[2]]], axis = 1)"
   ]
  },
  {
   "cell_type": "markdown",
   "metadata": {
    "id": "6G2XtJ3FxvMB"
   },
   "source": [
    "#### Variables relacionadas a los gastos (Tipo S)"
   ]
  },
  {
   "cell_type": "code",
   "execution_count": 77,
   "metadata": {
    "id": "AaT5dTJn_FE6"
   },
   "outputs": [],
   "source": [
    "x = df_reducido_dummies.loc[:,columns[1]].values\n",
    "y = df_reducido_dummies.loc[:,['target']].values\n",
    "\n",
    "x = StandardScaler().fit_transform(x)"
   ]
  },
  {
   "cell_type": "code",
   "execution_count": 78,
   "metadata": {
    "id": "vI34yLy9_FE6"
   },
   "outputs": [],
   "source": [
    "pca = PCA(n_components=15)\n",
    "x_transformada = pca.fit_transform(x)"
   ]
  },
  {
   "cell_type": "code",
   "execution_count": 79,
   "metadata": {
    "colab": {
     "base_uri": "https://localhost:8080/"
    },
    "id": "RETPirPM_FE7",
    "outputId": "c5108e8e-f159-4ed2-dbef-f868a757e9b3"
   },
   "outputs": [
    {
     "data": {
      "text/plain": [
       "0.9138205889819414"
      ]
     },
     "execution_count": 79,
     "metadata": {},
     "output_type": "execute_result"
    }
   ],
   "source": [
    "sum(pca.explained_variance_ratio_)"
   ]
  },
  {
   "cell_type": "code",
   "execution_count": 80,
   "metadata": {
    "colab": {
     "base_uri": "https://localhost:8080/"
    },
    "id": "KYzKv5WUCB2n",
    "outputId": "8c11bc48-03ad-4c34-ba4c-6b9216df363d"
   },
   "outputs": [
    {
     "data": {
      "text/plain": [
       "array([0.17311963, 0.10663096, 0.07812148, 0.06664916, 0.06257506,\n",
       "       0.05671638, 0.04821325, 0.04641299, 0.04558999, 0.04402757,\n",
       "       0.04239725, 0.04134632, 0.03668547, 0.03481043, 0.03052465])"
      ]
     },
     "execution_count": 80,
     "metadata": {},
     "output_type": "execute_result"
    }
   ],
   "source": [
    "pca.explained_variance_ratio_"
   ]
  },
  {
   "cell_type": "markdown",
   "metadata": {
    "id": "ZGEITPZk_FE7"
   },
   "source": [
    "En el caso de las variables del tipo s poseemos 21 columnas, de las cuales se puede representar aproximadamente un 91 % de su información con 15 componentes principales. Dicha cantidad de componentes se obtuvo al comparar los resultados obtenidos al utilizar distintas cantidades, por ejemplo al utilizar 10 componentes se obtiene un 73% o mediante el uso de 14 componentes obtuvimos un 88%. Con estos resultados consideramos que es mejor utilizar n_components = 15.\n",
    "\n",
    "Al mismo tiempo, analizamos el aporte de información realizado por cada componente y dado a que ningún valor es inferior a 0.03 (3%) decidimos consérvalos a todos ellos, destacando que existe una mayor cantidad de información contenida en las 2 primeras componentes principales..\n"
   ]
  },
  {
   "cell_type": "code",
   "execution_count": 81,
   "metadata": {
    "id": "RQJJ5cZlDGW2"
   },
   "outputs": [],
   "source": [
    "columns_s = create_colum_names(15 , 'S_') \n",
    "pca_df_aux_type_S = pd.DataFrame(data = x_transformada, columns = columns_s)"
   ]
  },
  {
   "cell_type": "code",
   "execution_count": 82,
   "metadata": {
    "id": "9IQ37Tjt_FE8"
   },
   "outputs": [],
   "source": [
    "df_pca = pd.concat( [df_pca , pca_df_aux_type_S] ,axis = 1)"
   ]
  },
  {
   "cell_type": "markdown",
   "metadata": {
    "id": "BpWSB1rzx1xw"
   },
   "source": [
    "#### Variables relacionadas a los riesgos (Tipo R)"
   ]
  },
  {
   "cell_type": "code",
   "execution_count": 83,
   "metadata": {
    "id": "xMo5lE0NEWZN"
   },
   "outputs": [],
   "source": [
    "x = df_reducido_dummies.loc[:,columns[4]].values\n",
    "y = df_reducido_dummies.loc[:,['target']].values\n",
    "\n",
    "x = StandardScaler().fit_transform(x)"
   ]
  },
  {
   "cell_type": "code",
   "execution_count": 84,
   "metadata": {
    "id": "J4-wT5gDEWZN"
   },
   "outputs": [],
   "source": [
    "pca = PCA(n_components=17)\n",
    "x_transformada = pca.fit_transform(x)"
   ]
  },
  {
   "cell_type": "code",
   "execution_count": 85,
   "metadata": {
    "colab": {
     "base_uri": "https://localhost:8080/"
    },
    "id": "xbWKyOzLEWZO",
    "outputId": "43f90372-b65a-4383-d603-53ce03c96000"
   },
   "outputs": [
    {
     "data": {
      "text/plain": [
       "0.8806814504240108"
      ]
     },
     "execution_count": 85,
     "metadata": {},
     "output_type": "execute_result"
    }
   ],
   "source": [
    "sum(pca.explained_variance_ratio_)"
   ]
  },
  {
   "cell_type": "code",
   "execution_count": 86,
   "metadata": {
    "colab": {
     "base_uri": "https://localhost:8080/"
    },
    "id": "0GLEI4dYEWZO",
    "outputId": "56854484-7842-46c0-cba8-fa3f8528da2b"
   },
   "outputs": [
    {
     "data": {
      "text/plain": [
       "array([0.19247039, 0.07184423, 0.06679876, 0.05440825, 0.05089943,\n",
       "       0.04777686, 0.0392156 , 0.03892342, 0.03852623, 0.03837657,\n",
       "       0.03796886, 0.03725737, 0.03556413, 0.03394117, 0.03287575,\n",
       "       0.03229384, 0.03154059])"
      ]
     },
     "execution_count": 86,
     "metadata": {},
     "output_type": "execute_result"
    }
   ],
   "source": [
    "pca.explained_variance_ratio_"
   ]
  },
  {
   "cell_type": "markdown",
   "metadata": {
    "id": "LFQlVucsEWZO"
   },
   "source": [
    "En el caso de las variables del tipo R poseemos 26 columnas, de las cuales podemos obtener reultados porcentuales de información que para las columnas del tipo S utilizando 17 componentes principales. Al igual que en el caso anterior se optó por dicha cantidad de componentes principales al comparar los resultados modificando dicho parámetro. \n",
    "\n",
    "Al igual que para el caso anterior se toma como criterio que cada componente principal debe aportar un mínimo de 3% de información.\n",
    "\n"
   ]
  },
  {
   "cell_type": "code",
   "execution_count": 87,
   "metadata": {
    "id": "oYoNYbnLEWZP"
   },
   "outputs": [],
   "source": [
    "columns_R = create_colum_names(17 ,'R_')\n",
    "pca_df_aux_type_R = pd.DataFrame(data = x_transformada, columns = columns_R)"
   ]
  },
  {
   "cell_type": "code",
   "execution_count": 88,
   "metadata": {
    "id": "TiOLT0XuEWZP"
   },
   "outputs": [],
   "source": [
    "df_pca = pd.concat( [df_pca , pca_df_aux_type_R] ,axis = 1)"
   ]
  },
  {
   "cell_type": "markdown",
   "metadata": {
    "id": "VkDoBoD9yMY9"
   },
   "source": [
    "#### Variables relacionadas a los balances (Tipo B)"
   ]
  },
  {
   "cell_type": "code",
   "execution_count": 89,
   "metadata": {
    "id": "NVmGDFeGKWxM"
   },
   "outputs": [],
   "source": [
    "x = df_reducido_dummies.loc[:,columns[3]].values\n",
    "y = df_reducido_dummies.loc[:,['target']].values\n",
    "\n",
    "x = StandardScaler().fit_transform(x)"
   ]
  },
  {
   "cell_type": "code",
   "execution_count": 90,
   "metadata": {
    "id": "02YtNxQYKWxN"
   },
   "outputs": [],
   "source": [
    "pca = PCA(n_components=13)\n",
    "x_transformada = pca.fit_transform(x)"
   ]
  },
  {
   "cell_type": "code",
   "execution_count": 91,
   "metadata": {
    "colab": {
     "base_uri": "https://localhost:8080/"
    },
    "id": "j2bsNBnLKWxN",
    "outputId": "554635be-ac2e-4bb6-bdaf-f8500d318ded"
   },
   "outputs": [
    {
     "data": {
      "text/plain": [
       "0.796764097069967"
      ]
     },
     "execution_count": 91,
     "metadata": {},
     "output_type": "execute_result"
    }
   ],
   "source": [
    "sum(pca.explained_variance_ratio_)"
   ]
  },
  {
   "cell_type": "code",
   "execution_count": 92,
   "metadata": {
    "colab": {
     "base_uri": "https://localhost:8080/"
    },
    "id": "2mIognvOKWxO",
    "outputId": "c2917c81-9ad4-4e78-d7ca-93e10324e092"
   },
   "outputs": [
    {
     "data": {
      "text/plain": [
       "array([0.33340947, 0.11112364, 0.04869113, 0.04210543, 0.03682092,\n",
       "       0.03411325, 0.0293731 , 0.02809557, 0.02733172, 0.02689613,\n",
       "       0.02681196, 0.02611281, 0.02587895])"
      ]
     },
     "execution_count": 92,
     "metadata": {},
     "output_type": "execute_result"
    }
   ],
   "source": [
    "pca.explained_variance_ratio_"
   ]
  },
  {
   "cell_type": "markdown",
   "metadata": {
    "id": "UUG3Oq5sKWxO"
   },
   "source": [
    "En el caso de las variables del tipo B poseemos 37 columnas y utilizando 13 componentes principales se logra representar aproximadamente el 80% de su información. El análisis realizado es similar al desarrollado anteriormente para las variables de distintos tipos, sin embargo en esta ocasión observamos que únicamente una componente principal almacena aproximadamente el 33% de la información permitiendo así una gran representación de los datos con una cantidad muy reducida de variables respecto al punto de partida.\n"
   ]
  },
  {
   "cell_type": "code",
   "execution_count": 93,
   "metadata": {
    "id": "VXxVgiROKWxO"
   },
   "outputs": [],
   "source": [
    "columns_B = create_colum_names(13 ,'B_')\n",
    "pca_df_aux_type_B = pd.DataFrame(data = x_transformada, columns = columns_B)"
   ]
  },
  {
   "cell_type": "code",
   "execution_count": 94,
   "metadata": {
    "id": "D5jaI1XzKWxP"
   },
   "outputs": [],
   "source": [
    "df_pca = pd.concat( [df_pca , pca_df_aux_type_B] ,axis = 1)"
   ]
  },
  {
   "cell_type": "markdown",
   "metadata": {
    "id": "q3aPge2cyQOZ"
   },
   "source": [
    "#### Variables relacionadas a la delincuencia (Tipo D)"
   ]
  },
  {
   "cell_type": "code",
   "execution_count": 95,
   "metadata": {
    "id": "IY3gkwhsNgUA"
   },
   "outputs": [],
   "source": [
    "x = df_reducido_dummies.loc[:,columns[0]].values\n",
    "y = df_reducido_dummies.loc[:,['target']].values\n",
    "\n",
    "x = StandardScaler().fit_transform(x)"
   ]
  },
  {
   "cell_type": "code",
   "execution_count": 96,
   "metadata": {
    "id": "JXzKENdFNgUB"
   },
   "outputs": [],
   "source": [
    "pca = PCA(n_components=34)\n",
    "x_transformada = pca.fit_transform(x)"
   ]
  },
  {
   "cell_type": "code",
   "execution_count": 97,
   "metadata": {
    "colab": {
     "base_uri": "https://localhost:8080/"
    },
    "id": "OKLC37wSNgUB",
    "outputId": "bcf213d1-8503-48a1-f75d-919b9799d5df"
   },
   "outputs": [
    {
     "data": {
      "text/plain": [
       "0.7965173980568634"
      ]
     },
     "execution_count": 97,
     "metadata": {},
     "output_type": "execute_result"
    }
   ],
   "source": [
    "sum(pca.explained_variance_ratio_)"
   ]
  },
  {
   "cell_type": "code",
   "execution_count": 98,
   "metadata": {
    "colab": {
     "base_uri": "https://localhost:8080/"
    },
    "id": "o3cfRpQ2NgUB",
    "outputId": "56adfdd0-59fc-4cdf-9b6c-9d6610bd46bc"
   },
   "outputs": [
    {
     "data": {
      "text/plain": [
       "array([0.12296001, 0.07127817, 0.05529734, 0.04350324, 0.04148382,\n",
       "       0.03428334, 0.03098462, 0.02932621, 0.02575632, 0.02173536,\n",
       "       0.02104446, 0.01826108, 0.01688033, 0.01579199, 0.01542573,\n",
       "       0.014473  , 0.01427027, 0.01394842, 0.01287711, 0.01279809,\n",
       "       0.01268232, 0.01256676, 0.01253069, 0.0124672 , 0.01239051,\n",
       "       0.01223014, 0.01208561, 0.01181449, 0.01158377, 0.01138898,\n",
       "       0.01102816, 0.01066315, 0.01038582, 0.01032087])"
      ]
     },
     "execution_count": 98,
     "metadata": {},
     "output_type": "execute_result"
    }
   ],
   "source": [
    "pca.explained_variance_ratio_"
   ]
  },
  {
   "cell_type": "markdown",
   "metadata": {
    "id": "6ebVxjpONgUB"
   },
   "source": [
    "Por ultimo tenemos las variables del tipo D relacionadas a la delincuencia, tras los procedimientos realizados sobre el dataset redujimos la cantidad de variables a 80. Sin embargo, observamos que tenemos la posibilidad de obtener aproximadamente el 80% de la información que contienen mediante el uso de 34 componentes principales. Los resultados obtenidos muestran que existen componentes principales que únicamente aportan un 1% de información y pese a ello optamos conservarlos a fin de tener una mayor representación de los datos.\n"
   ]
  },
  {
   "cell_type": "code",
   "execution_count": 99,
   "metadata": {
    "id": "hxqAyiwKNgUB"
   },
   "outputs": [],
   "source": [
    "columns_D = create_colum_names(34 ,'D_')\n",
    "pca_df_aux_type_D = pd.DataFrame(data = x_transformada, columns = columns_D)"
   ]
  },
  {
   "cell_type": "code",
   "execution_count": 100,
   "metadata": {
    "id": "FgaMBaHhNgUB"
   },
   "outputs": [],
   "source": [
    "df_pca = pd.concat( [df_pca , pca_df_aux_type_D] ,axis = 1)"
   ]
  },
  {
   "cell_type": "code",
   "execution_count": 101,
   "metadata": {
    "id": "FxSTlaOzyFbx"
   },
   "outputs": [],
   "source": [
    "df_pca = pd.concat( [df_pca , df_reducido['target']] ,axis = 1)"
   ]
  },
  {
   "cell_type": "markdown",
   "metadata": {
    "id": "uPTfSeVaQuzF"
   },
   "source": [
    "#### Conclusiones"
   ]
  },
  {
   "cell_type": "markdown",
   "metadata": {
    "id": "BLApNAUNTASw"
   },
   "source": [
    "Como resultado de la reducción de dimensionalidad mediante el método de PCA, obtuvimos un dataset de 83 columnas donde para los distintos tipos de variables se procuró conservar aproximadamente un mínimo del 80% de la información. Considerando que previo al procedimiento el dataset contaba con 168 columnas, concluimos que es beneficiosa la aplicación de la reducción de dimensionalidad con el fin de obtener una mejor performance en los distintos modelos que utilicen como fuente de información dicho dataset modificado."
   ]
  },
  {
   "cell_type": "code",
   "execution_count": 102,
   "metadata": {
    "colab": {
     "base_uri": "https://localhost:8080/",
     "height": 488
    },
    "id": "Fd_g_eABQoZK",
    "outputId": "93f39d78-9df1-4b46-8cd7-a24badc2ef13"
   },
   "outputs": [
    {
     "data": {
      "text/html": [
       "\n",
       "  <div id=\"df-03ec3806-f06b-4115-a274-b30c74e5fc8d\">\n",
       "    <div class=\"colab-df-container\">\n",
       "      <div>\n",
       "<style scoped>\n",
       "    .dataframe tbody tr th:only-of-type {\n",
       "        vertical-align: middle;\n",
       "    }\n",
       "\n",
       "    .dataframe tbody tr th {\n",
       "        vertical-align: top;\n",
       "    }\n",
       "\n",
       "    .dataframe thead th {\n",
       "        text-align: right;\n",
       "    }\n",
       "</style>\n",
       "<table border=\"1\" class=\"dataframe\">\n",
       "  <thead>\n",
       "    <tr style=\"text-align: right;\">\n",
       "      <th></th>\n",
       "      <th>P_2</th>\n",
       "      <th>P_3</th>\n",
       "      <th>P_4</th>\n",
       "      <th>S_1</th>\n",
       "      <th>S_2</th>\n",
       "      <th>S_3</th>\n",
       "      <th>S_4</th>\n",
       "      <th>S_5</th>\n",
       "      <th>S_6</th>\n",
       "      <th>S_7</th>\n",
       "      <th>...</th>\n",
       "      <th>D_26</th>\n",
       "      <th>D_27</th>\n",
       "      <th>D_28</th>\n",
       "      <th>D_29</th>\n",
       "      <th>D_30</th>\n",
       "      <th>D_31</th>\n",
       "      <th>D_32</th>\n",
       "      <th>D_33</th>\n",
       "      <th>D_34</th>\n",
       "      <th>target</th>\n",
       "    </tr>\n",
       "  </thead>\n",
       "  <tbody>\n",
       "    <tr>\n",
       "      <th>0</th>\n",
       "      <td>0.868580</td>\n",
       "      <td>0.689886</td>\n",
       "      <td>0.007455</td>\n",
       "      <td>-2.898584</td>\n",
       "      <td>0.085358</td>\n",
       "      <td>0.767740</td>\n",
       "      <td>-0.560084</td>\n",
       "      <td>0.664197</td>\n",
       "      <td>-0.561271</td>\n",
       "      <td>-0.853606</td>\n",
       "      <td>...</td>\n",
       "      <td>-0.287183</td>\n",
       "      <td>0.177329</td>\n",
       "      <td>0.316125</td>\n",
       "      <td>-1.753930</td>\n",
       "      <td>-0.480730</td>\n",
       "      <td>-0.820786</td>\n",
       "      <td>0.201346</td>\n",
       "      <td>-0.317601</td>\n",
       "      <td>1.046728</td>\n",
       "      <td>0</td>\n",
       "    </tr>\n",
       "    <tr>\n",
       "      <th>1</th>\n",
       "      <td>0.414444</td>\n",
       "      <td>0.557492</td>\n",
       "      <td>0.957622</td>\n",
       "      <td>0.935086</td>\n",
       "      <td>-0.965246</td>\n",
       "      <td>-0.538334</td>\n",
       "      <td>1.703724</td>\n",
       "      <td>0.620479</td>\n",
       "      <td>0.010761</td>\n",
       "      <td>0.816514</td>\n",
       "      <td>...</td>\n",
       "      <td>0.376701</td>\n",
       "      <td>-0.149022</td>\n",
       "      <td>0.152258</td>\n",
       "      <td>0.179575</td>\n",
       "      <td>-0.005567</td>\n",
       "      <td>-0.241059</td>\n",
       "      <td>0.072231</td>\n",
       "      <td>0.111100</td>\n",
       "      <td>0.197566</td>\n",
       "      <td>0</td>\n",
       "    </tr>\n",
       "    <tr>\n",
       "      <th>2</th>\n",
       "      <td>0.408131</td>\n",
       "      <td>0.608540</td>\n",
       "      <td>0.008573</td>\n",
       "      <td>0.464833</td>\n",
       "      <td>0.871602</td>\n",
       "      <td>-0.936698</td>\n",
       "      <td>-0.434236</td>\n",
       "      <td>-0.189318</td>\n",
       "      <td>0.119886</td>\n",
       "      <td>-0.957924</td>\n",
       "      <td>...</td>\n",
       "      <td>0.534821</td>\n",
       "      <td>0.334504</td>\n",
       "      <td>0.032404</td>\n",
       "      <td>-0.111631</td>\n",
       "      <td>0.304494</td>\n",
       "      <td>0.820281</td>\n",
       "      <td>-0.183966</td>\n",
       "      <td>-0.724470</td>\n",
       "      <td>-0.570341</td>\n",
       "      <td>1</td>\n",
       "    </tr>\n",
       "    <tr>\n",
       "      <th>3</th>\n",
       "      <td>0.359892</td>\n",
       "      <td>0.374767</td>\n",
       "      <td>0.009922</td>\n",
       "      <td>1.198177</td>\n",
       "      <td>0.617719</td>\n",
       "      <td>-1.038145</td>\n",
       "      <td>-0.238809</td>\n",
       "      <td>-0.368435</td>\n",
       "      <td>0.346914</td>\n",
       "      <td>-0.093333</td>\n",
       "      <td>...</td>\n",
       "      <td>-1.003179</td>\n",
       "      <td>-3.137114</td>\n",
       "      <td>1.080425</td>\n",
       "      <td>-1.779528</td>\n",
       "      <td>4.251674</td>\n",
       "      <td>2.585711</td>\n",
       "      <td>-0.049884</td>\n",
       "      <td>2.116991</td>\n",
       "      <td>0.795107</td>\n",
       "      <td>1</td>\n",
       "    </tr>\n",
       "    <tr>\n",
       "      <th>4</th>\n",
       "      <td>0.311111</td>\n",
       "      <td>0.512139</td>\n",
       "      <td>0.963224</td>\n",
       "      <td>1.008087</td>\n",
       "      <td>-1.656863</td>\n",
       "      <td>-0.452177</td>\n",
       "      <td>2.843438</td>\n",
       "      <td>1.001564</td>\n",
       "      <td>-0.295520</td>\n",
       "      <td>0.400813</td>\n",
       "      <td>...</td>\n",
       "      <td>0.549876</td>\n",
       "      <td>0.169676</td>\n",
       "      <td>-0.041207</td>\n",
       "      <td>0.430994</td>\n",
       "      <td>-0.571204</td>\n",
       "      <td>-0.636162</td>\n",
       "      <td>0.097009</td>\n",
       "      <td>-0.192456</td>\n",
       "      <td>0.124503</td>\n",
       "      <td>1</td>\n",
       "    </tr>\n",
       "    <tr>\n",
       "      <th>...</th>\n",
       "      <td>...</td>\n",
       "      <td>...</td>\n",
       "      <td>...</td>\n",
       "      <td>...</td>\n",
       "      <td>...</td>\n",
       "      <td>...</td>\n",
       "      <td>...</td>\n",
       "      <td>...</td>\n",
       "      <td>...</td>\n",
       "      <td>...</td>\n",
       "      <td>...</td>\n",
       "      <td>...</td>\n",
       "      <td>...</td>\n",
       "      <td>...</td>\n",
       "      <td>...</td>\n",
       "      <td>...</td>\n",
       "      <td>...</td>\n",
       "      <td>...</td>\n",
       "      <td>...</td>\n",
       "      <td>...</td>\n",
       "      <td>...</td>\n",
       "    </tr>\n",
       "    <tr>\n",
       "      <th>276567</th>\n",
       "      <td>0.703939</td>\n",
       "      <td>0.619083</td>\n",
       "      <td>0.004705</td>\n",
       "      <td>2.229533</td>\n",
       "      <td>0.880567</td>\n",
       "      <td>0.060648</td>\n",
       "      <td>-0.412833</td>\n",
       "      <td>-0.168784</td>\n",
       "      <td>0.282989</td>\n",
       "      <td>-0.101462</td>\n",
       "      <td>...</td>\n",
       "      <td>-0.275261</td>\n",
       "      <td>-0.282711</td>\n",
       "      <td>0.574025</td>\n",
       "      <td>-0.429842</td>\n",
       "      <td>-0.496315</td>\n",
       "      <td>0.077999</td>\n",
       "      <td>-0.383687</td>\n",
       "      <td>-0.199867</td>\n",
       "      <td>-1.112053</td>\n",
       "      <td>0</td>\n",
       "    </tr>\n",
       "    <tr>\n",
       "      <th>276568</th>\n",
       "      <td>0.895553</td>\n",
       "      <td>0.786104</td>\n",
       "      <td>0.008739</td>\n",
       "      <td>-1.003391</td>\n",
       "      <td>0.344174</td>\n",
       "      <td>-0.390606</td>\n",
       "      <td>-0.009446</td>\n",
       "      <td>0.164462</td>\n",
       "      <td>0.428303</td>\n",
       "      <td>0.207067</td>\n",
       "      <td>...</td>\n",
       "      <td>-0.117193</td>\n",
       "      <td>-1.292950</td>\n",
       "      <td>-0.317442</td>\n",
       "      <td>3.040307</td>\n",
       "      <td>-0.790639</td>\n",
       "      <td>2.437747</td>\n",
       "      <td>2.051753</td>\n",
       "      <td>-2.777274</td>\n",
       "      <td>0.415983</td>\n",
       "      <td>0</td>\n",
       "    </tr>\n",
       "    <tr>\n",
       "      <th>276569</th>\n",
       "      <td>0.780039</td>\n",
       "      <td>0.627228</td>\n",
       "      <td>0.006754</td>\n",
       "      <td>-2.001636</td>\n",
       "      <td>0.417368</td>\n",
       "      <td>0.044487</td>\n",
       "      <td>-0.279186</td>\n",
       "      <td>0.766529</td>\n",
       "      <td>0.195224</td>\n",
       "      <td>-0.180456</td>\n",
       "      <td>...</td>\n",
       "      <td>0.294102</td>\n",
       "      <td>0.151897</td>\n",
       "      <td>-0.173116</td>\n",
       "      <td>1.272966</td>\n",
       "      <td>0.902547</td>\n",
       "      <td>-1.126424</td>\n",
       "      <td>-2.663873</td>\n",
       "      <td>0.490347</td>\n",
       "      <td>0.263348</td>\n",
       "      <td>0</td>\n",
       "    </tr>\n",
       "    <tr>\n",
       "      <th>276570</th>\n",
       "      <td>0.794548</td>\n",
       "      <td>0.625673</td>\n",
       "      <td>0.001326</td>\n",
       "      <td>-2.270228</td>\n",
       "      <td>0.670521</td>\n",
       "      <td>-0.059370</td>\n",
       "      <td>-0.160369</td>\n",
       "      <td>0.236371</td>\n",
       "      <td>-0.548114</td>\n",
       "      <td>-0.490292</td>\n",
       "      <td>...</td>\n",
       "      <td>-0.030244</td>\n",
       "      <td>0.047514</td>\n",
       "      <td>-0.024415</td>\n",
       "      <td>0.451348</td>\n",
       "      <td>0.778730</td>\n",
       "      <td>-0.440808</td>\n",
       "      <td>-2.282502</td>\n",
       "      <td>0.060832</td>\n",
       "      <td>0.150955</td>\n",
       "      <td>0</td>\n",
       "    </tr>\n",
       "    <tr>\n",
       "      <th>276571</th>\n",
       "      <td>0.965709</td>\n",
       "      <td>0.635963</td>\n",
       "      <td>0.008578</td>\n",
       "      <td>-3.116743</td>\n",
       "      <td>0.998344</td>\n",
       "      <td>0.216375</td>\n",
       "      <td>0.120543</td>\n",
       "      <td>0.319723</td>\n",
       "      <td>-0.502770</td>\n",
       "      <td>0.548535</td>\n",
       "      <td>...</td>\n",
       "      <td>0.205436</td>\n",
       "      <td>-0.576637</td>\n",
       "      <td>0.646148</td>\n",
       "      <td>-0.288552</td>\n",
       "      <td>1.474100</td>\n",
       "      <td>-0.027848</td>\n",
       "      <td>-1.785398</td>\n",
       "      <td>0.167643</td>\n",
       "      <td>-0.854948</td>\n",
       "      <td>0</td>\n",
       "    </tr>\n",
       "  </tbody>\n",
       "</table>\n",
       "<p>276572 rows × 83 columns</p>\n",
       "</div>\n",
       "      <button class=\"colab-df-convert\" onclick=\"convertToInteractive('df-03ec3806-f06b-4115-a274-b30c74e5fc8d')\"\n",
       "              title=\"Convert this dataframe to an interactive table.\"\n",
       "              style=\"display:none;\">\n",
       "        \n",
       "  <svg xmlns=\"http://www.w3.org/2000/svg\" height=\"24px\"viewBox=\"0 0 24 24\"\n",
       "       width=\"24px\">\n",
       "    <path d=\"M0 0h24v24H0V0z\" fill=\"none\"/>\n",
       "    <path d=\"M18.56 5.44l.94 2.06.94-2.06 2.06-.94-2.06-.94-.94-2.06-.94 2.06-2.06.94zm-11 1L8.5 8.5l.94-2.06 2.06-.94-2.06-.94L8.5 2.5l-.94 2.06-2.06.94zm10 10l.94 2.06.94-2.06 2.06-.94-2.06-.94-.94-2.06-.94 2.06-2.06.94z\"/><path d=\"M17.41 7.96l-1.37-1.37c-.4-.4-.92-.59-1.43-.59-.52 0-1.04.2-1.43.59L10.3 9.45l-7.72 7.72c-.78.78-.78 2.05 0 2.83L4 21.41c.39.39.9.59 1.41.59.51 0 1.02-.2 1.41-.59l7.78-7.78 2.81-2.81c.8-.78.8-2.07 0-2.86zM5.41 20L4 18.59l7.72-7.72 1.47 1.35L5.41 20z\"/>\n",
       "  </svg>\n",
       "      </button>\n",
       "      \n",
       "  <style>\n",
       "    .colab-df-container {\n",
       "      display:flex;\n",
       "      flex-wrap:wrap;\n",
       "      gap: 12px;\n",
       "    }\n",
       "\n",
       "    .colab-df-convert {\n",
       "      background-color: #E8F0FE;\n",
       "      border: none;\n",
       "      border-radius: 50%;\n",
       "      cursor: pointer;\n",
       "      display: none;\n",
       "      fill: #1967D2;\n",
       "      height: 32px;\n",
       "      padding: 0 0 0 0;\n",
       "      width: 32px;\n",
       "    }\n",
       "\n",
       "    .colab-df-convert:hover {\n",
       "      background-color: #E2EBFA;\n",
       "      box-shadow: 0px 1px 2px rgba(60, 64, 67, 0.3), 0px 1px 3px 1px rgba(60, 64, 67, 0.15);\n",
       "      fill: #174EA6;\n",
       "    }\n",
       "\n",
       "    [theme=dark] .colab-df-convert {\n",
       "      background-color: #3B4455;\n",
       "      fill: #D2E3FC;\n",
       "    }\n",
       "\n",
       "    [theme=dark] .colab-df-convert:hover {\n",
       "      background-color: #434B5C;\n",
       "      box-shadow: 0px 1px 3px 1px rgba(0, 0, 0, 0.15);\n",
       "      filter: drop-shadow(0px 1px 2px rgba(0, 0, 0, 0.3));\n",
       "      fill: #FFFFFF;\n",
       "    }\n",
       "  </style>\n",
       "\n",
       "      <script>\n",
       "        const buttonEl =\n",
       "          document.querySelector('#df-03ec3806-f06b-4115-a274-b30c74e5fc8d button.colab-df-convert');\n",
       "        buttonEl.style.display =\n",
       "          google.colab.kernel.accessAllowed ? 'block' : 'none';\n",
       "\n",
       "        async function convertToInteractive(key) {\n",
       "          const element = document.querySelector('#df-03ec3806-f06b-4115-a274-b30c74e5fc8d');\n",
       "          const dataTable =\n",
       "            await google.colab.kernel.invokeFunction('convertToInteractive',\n",
       "                                                     [key], {});\n",
       "          if (!dataTable) return;\n",
       "\n",
       "          const docLinkHtml = 'Like what you see? Visit the ' +\n",
       "            '<a target=\"_blank\" href=https://colab.research.google.com/notebooks/data_table.ipynb>data table notebook</a>'\n",
       "            + ' to learn more about interactive tables.';\n",
       "          element.innerHTML = '';\n",
       "          dataTable['output_type'] = 'display_data';\n",
       "          await google.colab.output.renderOutput(dataTable, element);\n",
       "          const docLink = document.createElement('div');\n",
       "          docLink.innerHTML = docLinkHtml;\n",
       "          element.appendChild(docLink);\n",
       "        }\n",
       "      </script>\n",
       "    </div>\n",
       "  </div>\n",
       "  "
      ],
      "text/plain": [
       "             P_2       P_3       P_4       S_1       S_2       S_3       S_4  \\\n",
       "0       0.868580  0.689886  0.007455 -2.898584  0.085358  0.767740 -0.560084   \n",
       "1       0.414444  0.557492  0.957622  0.935086 -0.965246 -0.538334  1.703724   \n",
       "2       0.408131  0.608540  0.008573  0.464833  0.871602 -0.936698 -0.434236   \n",
       "3       0.359892  0.374767  0.009922  1.198177  0.617719 -1.038145 -0.238809   \n",
       "4       0.311111  0.512139  0.963224  1.008087 -1.656863 -0.452177  2.843438   \n",
       "...          ...       ...       ...       ...       ...       ...       ...   \n",
       "276567  0.703939  0.619083  0.004705  2.229533  0.880567  0.060648 -0.412833   \n",
       "276568  0.895553  0.786104  0.008739 -1.003391  0.344174 -0.390606 -0.009446   \n",
       "276569  0.780039  0.627228  0.006754 -2.001636  0.417368  0.044487 -0.279186   \n",
       "276570  0.794548  0.625673  0.001326 -2.270228  0.670521 -0.059370 -0.160369   \n",
       "276571  0.965709  0.635963  0.008578 -3.116743  0.998344  0.216375  0.120543   \n",
       "\n",
       "             S_5       S_6       S_7  ...      D_26      D_27      D_28  \\\n",
       "0       0.664197 -0.561271 -0.853606  ... -0.287183  0.177329  0.316125   \n",
       "1       0.620479  0.010761  0.816514  ...  0.376701 -0.149022  0.152258   \n",
       "2      -0.189318  0.119886 -0.957924  ...  0.534821  0.334504  0.032404   \n",
       "3      -0.368435  0.346914 -0.093333  ... -1.003179 -3.137114  1.080425   \n",
       "4       1.001564 -0.295520  0.400813  ...  0.549876  0.169676 -0.041207   \n",
       "...          ...       ...       ...  ...       ...       ...       ...   \n",
       "276567 -0.168784  0.282989 -0.101462  ... -0.275261 -0.282711  0.574025   \n",
       "276568  0.164462  0.428303  0.207067  ... -0.117193 -1.292950 -0.317442   \n",
       "276569  0.766529  0.195224 -0.180456  ...  0.294102  0.151897 -0.173116   \n",
       "276570  0.236371 -0.548114 -0.490292  ... -0.030244  0.047514 -0.024415   \n",
       "276571  0.319723 -0.502770  0.548535  ...  0.205436 -0.576637  0.646148   \n",
       "\n",
       "            D_29      D_30      D_31      D_32      D_33      D_34  target  \n",
       "0      -1.753930 -0.480730 -0.820786  0.201346 -0.317601  1.046728       0  \n",
       "1       0.179575 -0.005567 -0.241059  0.072231  0.111100  0.197566       0  \n",
       "2      -0.111631  0.304494  0.820281 -0.183966 -0.724470 -0.570341       1  \n",
       "3      -1.779528  4.251674  2.585711 -0.049884  2.116991  0.795107       1  \n",
       "4       0.430994 -0.571204 -0.636162  0.097009 -0.192456  0.124503       1  \n",
       "...          ...       ...       ...       ...       ...       ...     ...  \n",
       "276567 -0.429842 -0.496315  0.077999 -0.383687 -0.199867 -1.112053       0  \n",
       "276568  3.040307 -0.790639  2.437747  2.051753 -2.777274  0.415983       0  \n",
       "276569  1.272966  0.902547 -1.126424 -2.663873  0.490347  0.263348       0  \n",
       "276570  0.451348  0.778730 -0.440808 -2.282502  0.060832  0.150955       0  \n",
       "276571 -0.288552  1.474100 -0.027848 -1.785398  0.167643 -0.854948       0  \n",
       "\n",
       "[276572 rows x 83 columns]"
      ]
     },
     "execution_count": 102,
     "metadata": {},
     "output_type": "execute_result"
    }
   ],
   "source": [
    "df_pca"
   ]
  },
  {
   "cell_type": "code",
   "execution_count": 103,
   "metadata": {
    "id": "ae0h-apFTAr2"
   },
   "outputs": [],
   "source": [
    "df_pca.to_parquet(\"gdrive/My Drive/train_data_apc\")"
   ]
  },
  {
   "cell_type": "markdown",
   "metadata": {
    "id": "QDC0Vqg9-N9B"
   },
   "source": [
    "### Balance del dataset"
   ]
  },
  {
   "cell_type": "markdown",
   "metadata": {
    "id": "SNFIIr_G-UHB"
   },
   "source": [
    "A continuación observamos el desbalance que presenta nuestro dataset en relación a la variable de estudio “target”, aproximadamente los casos en los que los clientes si pagan sus cuentas son tres veces más que aquellos que no, representando un 75% de los usuarios estudiados. Consideramos que dicho desbalance es una situación que representa de forma correcta a nuestro problema de estudio.\n",
    "\n",
    "Luego dividimos nuestro conjunto de datos, distribuyendo de forma balanceada los elementos de la variable target. En dicha distribución se utiliza un 30% de la información para el conjunto de datos de prueba y un 70% para el conjunto de entrenamiento. De esta forma obtuvimos dos conjuntos de datos representado un 30% y un 70% de los datos y respetando la proporción de casos de la variable target.\n"
   ]
  },
  {
   "cell_type": "code",
   "execution_count": 113,
   "metadata": {
    "colab": {
     "base_uri": "https://localhost:8080/"
    },
    "id": "yQTVL1QqxWAy",
    "outputId": "dfe0f26e-3f7f-4a97-d6b0-5b54098ab053"
   },
   "outputs": [
    {
     "data": {
      "text/plain": [
       "0    207712\n",
       "1     68860\n",
       "Name: target, dtype: int64"
      ]
     },
     "execution_count": 113,
     "metadata": {},
     "output_type": "execute_result"
    }
   ],
   "source": [
    "df_pca['target'].value_counts()"
   ]
  },
  {
   "cell_type": "code",
   "execution_count": 114,
   "metadata": {
    "id": "Hu-Dt7jGxwS1"
   },
   "outputs": [],
   "source": [
    "from sklearn.model_selection import train_test_split\n",
    "\n",
    "features = df_pca.columns.to_list()\n",
    "features.remove('target')\n",
    "\n",
    "x_train, x_test, y_train, y_test = train_test_split(df_pca[features].values, df_pca['target'].values, test_size=0.3, random_state=0, stratify = df_pca['target'].values)"
   ]
  },
  {
   "cell_type": "markdown",
   "metadata": {
    "id": "5jIYdrVMHKYs"
   },
   "source": [
    "### Normalización de valores"
   ]
  },
  {
   "cell_type": "markdown",
   "metadata": {
    "id": "FaN8lxAZZ4Dj"
   },
   "source": [
    "Teniendo en cuenta los modelos que se emplearan más adelante en el trabajo y a fin de mejorar su rendimiento procedemos a normalizar nuestro dataset. Podemos utilizar este procedimiento sobre todas las columnas del dataset gracias a que el trabajo anteriormente realizado sobre el mismo nos asegura que los valores que contiene no son un impedimento. "
   ]
  },
  {
   "cell_type": "code",
   "execution_count": 116,
   "metadata": {
    "id": "fmlYfP0AHr4_"
   },
   "outputs": [],
   "source": [
    "from sklearn.preprocessing import MinMaxScaler\n",
    "scaler = MinMaxScaler()\n",
    "x_train_normalized = scaler.fit_transform(x_train)\n",
    "x_test_normalized = scaler.fit_transform(x_test)"
   ]
  }
 ],
 "metadata": {
  "accelerator": "GPU",
  "colab": {
   "collapsed_sections": [
    "LOu_Q6x55qwO",
    "kxvKrMZ05qwQ",
    "7ZcTlwK45qwR",
    "hmCVqfLU5qwR",
    "FsBuJWUb5qwW",
    "ilqF8JJ15qwZ",
    "wByXMGVv5qwb",
    "QDC0Vqg9-N9B",
    "5jIYdrVMHKYs"
   ],
   "name": "main-prueba.ipynb",
   "provenance": []
  },
  "gpuClass": "standard",
  "kernelspec": {
   "display_name": "Python 3",
   "language": "python",
   "name": "python3"
  },
  "language_info": {
   "codemirror_mode": {
    "name": "ipython",
    "version": 3
   },
   "file_extension": ".py",
   "mimetype": "text/x-python",
   "name": "python",
   "nbconvert_exporter": "python",
   "pygments_lexer": "ipython3",
   "version": "3.7.12"
  }
 },
 "nbformat": 4,
 "nbformat_minor": 0
}