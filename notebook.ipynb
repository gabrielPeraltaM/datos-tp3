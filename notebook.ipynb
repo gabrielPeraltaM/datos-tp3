{
 "cells": [
  {
   "cell_type": "code",
   "execution_count": 2,
   "outputs": [],
   "source": [
    "import numpy as np \n",
    "import pandas as pd\n",
    "import seaborn as sns"
   ],
   "metadata": {
    "pycharm": {
     "name": "#%%\n"
    },
    "id": "ziXG-fb30lJ0"
   }
  },
  {
   "cell_type": "markdown",
   "source": [
    "## Introducción al dataset"
   ],
   "metadata": {
    "collapsed": false,
    "pycharm": {
     "name": "#%% md\n"
    },
    "id": "t1_JTbme0lJ3"
   }
  },
  {
   "cell_type": "markdown",
   "source": [
    "El dataset contiene 5531451 filas, cada una correspondiente a la información de un cliente de la empresa American Express con 190 columnas que brindan información de los clientes. Por motivos de privacidad el significado de los valores de dichas columnas no es brindado por la empresa. Sin embargo en lugar del significado de cada columna se nos proporciona las siguientes categorías según el nombre de las mismas:\n",
    "- D_* = Variables relacionadas a la delincuencia\n",
    "- S_* = Variables relacionadas a los gastos\n",
    "- P_* = Variables relacionadas a los pagos\n",
    "- B_* = Variables de balances\n",
    "- R_* = Variables de riesgo\n",
    "\n",
    "Por último se aclara que todas las variables numéricas están normalizadas y que las siguientes variables son categóricas:\n",
    "\n",
    "- ['B_30', 'B_38', 'D_114', 'D_116', 'D_117', 'D_120', 'D_126', 'D_63', 'D_64', 'D_66', 'D_68']\n"
   ],
   "metadata": {
    "collapsed": false,
    "pycharm": {
     "name": "#%% md\n"
    },
    "id": "v714K5gd0lJ4"
   }
  },
  {
   "cell_type": "markdown",
   "source": [
    "## Reducción del dataset"
   ],
   "metadata": {
    "collapsed": false,
    "pycharm": {
     "name": "#%% md\n"
    },
    "id": "fhIVPTgX0lJ4"
   }
  },
  {
   "cell_type": "markdown",
   "source": [
    "Debido a la gran cantidad de información del dataset y por lo tanto peso del mismo, se redujo la cantidad de filas en un 5%. De esta forma y redondeando el resultado se plantea trabajar con un dataset que contenga unas 276572 filas.\n",
    "El procedimiento utilizado para la reducción del dataset es el provisto por la función sample_without_replacement de la libreria scikit-learn. Como parámetros de la misma se utilizó:\n",
    "- La cantidad de filas totales del dataset(n_population) = 5531451\n",
    "- La cantidad de filas que se desean obtener(n_samples) = 276572\n",
    "- Valor semilla (random_state) = 576\n",
    "\n",
    "*Aclaración: Este último valor se calculó como el resto obtenido al realizar la siguiente división con la multiplicación de una constante por el número del grupo (11) como numerador y a 1000 como denominador $\\frac{31416 * 11}{1000}$*"
   ],
   "metadata": {
    "collapsed": false,
    "pycharm": {
     "name": "#%% md\n"
    },
    "id": "e55qcZHN0lJ5"
   }
  },
  {
   "cell_type": "markdown",
   "source": [
    "### a) Visualización de los datos:"
   ],
   "metadata": {
    "collapsed": false,
    "pycharm": {
     "name": "#%% md\n"
    },
    "id": "Q5ARust10lJ5"
   }
  },
  {
   "cell_type": "code",
   "execution_count": null,
   "outputs": [
    {
     "ename": "ModuleNotFoundError",
     "evalue": "No module named 'google.colab'",
     "output_type": "error",
     "traceback": [
      "\u001B[0;31m---------------------------------------------------------------------------\u001B[0m",
      "\u001B[0;31mModuleNotFoundError\u001B[0m                       Traceback (most recent call last)",
      "Input \u001B[0;32mIn [2]\u001B[0m, in \u001B[0;36m<cell line: 1>\u001B[0;34m()\u001B[0m\n\u001B[0;32m----> 1\u001B[0m \u001B[38;5;28;01mfrom\u001B[39;00m \u001B[38;5;21;01mgoogle\u001B[39;00m\u001B[38;5;21;01m.\u001B[39;00m\u001B[38;5;21;01mcolab\u001B[39;00m \u001B[38;5;28;01mimport\u001B[39;00m drive\n\u001B[1;32m      2\u001B[0m drive\u001B[38;5;241m.\u001B[39mmount(\u001B[38;5;124m'\u001B[39m\u001B[38;5;124m/content/gdrive\u001B[39m\u001B[38;5;124m'\u001B[39m)\n\u001B[1;32m      3\u001B[0m df_reducido \u001B[38;5;241m=\u001B[39m pd\u001B[38;5;241m.\u001B[39mread_parquet(\u001B[38;5;124m\"\u001B[39m\u001B[38;5;124mgdrive/My Drive/train_data_reducido\u001B[39m\u001B[38;5;124m\"\u001B[39m)\n",
      "\u001B[0;31mModuleNotFoundError\u001B[0m: No module named 'google.colab'"
     ]
    }
   ],
   "source": [
    "from google.colab import drive\n",
    "drive.mount('/content/gdrive')\n",
    "df_reducido = pd.read_parquet(\"gdrive/My Drive/train_data_reducido\")"
   ],
   "metadata": {
    "pycharm": {
     "name": "#%%\n"
    },
    "id": "vOIe31LJ0lJ5",
    "outputId": "7463e93c-80c7-4b54-83d4-588f9dce574d"
   }
  },
  {
   "cell_type": "code",
   "execution_count": null,
   "outputs": [],
   "source": [
    "HARDCODED_DATASET_GROUP11 = './data/train_data_reducido'\n",
    "df_reducido = pd.read_parquet(HARDCODED_DATASET_GROUP11)"
   ],
   "metadata": {
    "pycharm": {
     "name": "#%%\n"
    },
    "id": "7l79K_Ee0lJ6"
   }
  },
  {
   "cell_type": "code",
   "execution_count": null,
   "outputs": [
    {
     "data": {
      "text/plain": "(276572, 191)"
     },
     "execution_count": 4,
     "metadata": {},
     "output_type": "execute_result"
    }
   ],
   "source": [
    "df_reducido.shape"
   ],
   "metadata": {
    "pycharm": {
     "name": "#%%\n"
    },
    "id": "IsIzctjv0lJ7",
    "outputId": "c804e31d-f4c5-454c-abf7-4d280f6f49e9"
   }
  },
  {
   "cell_type": "code",
   "execution_count": null,
   "outputs": [
    {
     "data": {
      "text/plain": "0    207712\n1     68860\nName: target, dtype: int64"
     },
     "execution_count": 5,
     "metadata": {},
     "output_type": "execute_result"
    }
   ],
   "source": [
    "df_reducido['target'].value_counts()"
   ],
   "metadata": {
    "pycharm": {
     "name": "#%%\n"
    },
    "id": "dYnQjXqF0lJ8",
    "outputId": "8ce17911-5776-48f2-d0f4-a964ffec8720"
   }
  },
  {
   "cell_type": "markdown",
   "source": [
    "### Tipos de variables"
   ],
   "metadata": {
    "collapsed": false,
    "pycharm": {
     "name": "#%% md\n"
    },
    "id": "ZPZAlmcm0lJ8"
   }
  },
  {
   "cell_type": "code",
   "execution_count": null,
   "outputs": [
    {
     "data": {
      "text/plain": "float64    185\nobject       4\nint64        2\ndtype: int64"
     },
     "execution_count": 6,
     "metadata": {},
     "output_type": "execute_result"
    }
   ],
   "source": [
    "df_reducido.dtypes.value_counts()"
   ],
   "metadata": {
    "pycharm": {
     "name": "#%%\n"
    },
    "id": "1Qrz5og80lJ8",
    "outputId": "81cb21f4-92c4-4178-8fab-b8019cb54b65"
   }
  },
  {
   "cell_type": "markdown",
   "source": [
    "Analizamos el tipo de las variables para conocer más de las mismas y determinar si serán de utilidad, o en su defecto si se debe realizar algún procedimiento para su modificación o eliminación.\n",
    "Sabemos que las variables normalizadas pertenecen a la categoría “float64” y resulta de interés el análisis de las variables de tipo “object” u objetos y las variables “int” o enteras. \n",
    "- Las variables de tipo objeto son las columnas “customer_ID”,”S_2”,”D_63” y “D_64”\n",
    "- Las variables de tipo entero son las columnas “target” y “B_31”\n",
    "\n",
    "Se mostraran sus valores y se decidirá en base a los mismos que acciones tomar al momento de modificar el dataset."
   ],
   "metadata": {
    "collapsed": false,
    "pycharm": {
     "name": "#%% md\n"
    },
    "id": "O0Ckbmh10lJ9"
   }
  },
  {
   "cell_type": "code",
   "execution_count": null,
   "outputs": [
    {
     "data": {
      "text/plain": "9          2017-12-04\n88         2018-01-11\n113        2017-12-17\n129        2018-03-16\n137        2017-07-01\n              ...    \n5531343    2018-02-17\n5531392    2017-09-09\n5531413    2017-04-23\n5531422    2018-01-11\n5531442    2017-07-20\nName: S_2, Length: 276572, dtype: object"
     },
     "execution_count": 7,
     "metadata": {},
     "output_type": "execute_result"
    }
   ],
   "source": [
    "df_reducido.loc[:,'S_2'] "
   ],
   "metadata": {
    "pycharm": {
     "name": "#%%\n"
    },
    "id": "iiNSjx6S0lJ9",
    "outputId": "561d4d31-005f-4ea4-9287-3154c90c82ba"
   }
  },
  {
   "cell_type": "code",
   "execution_count": null,
   "outputs": [
    {
     "data": {
      "text/plain": "0"
     },
     "execution_count": 8,
     "metadata": {},
     "output_type": "execute_result"
    }
   ],
   "source": [
    "df_reducido['S_2'].isna().sum()"
   ],
   "metadata": {
    "pycharm": {
     "name": "#%%\n"
    },
    "id": "eeRgnaCE0lJ9",
    "outputId": "cdc57cc4-3b60-4007-9dc3-4e160b67c72e"
   }
  },
  {
   "cell_type": "code",
   "execution_count": null,
   "outputs": [
    {
     "data": {
      "text/plain": "9          1\n88         1\n113        1\n129        1\n137        1\n          ..\n5531343    1\n5531392    1\n5531413    1\n5531422    1\n5531442    1\nName: B_31, Length: 276572, dtype: int64"
     },
     "execution_count": 9,
     "metadata": {},
     "output_type": "execute_result"
    }
   ],
   "source": [
    "df_reducido.loc[:,'B_31']"
   ],
   "metadata": {
    "pycharm": {
     "name": "#%%\n"
    },
    "id": "2PJkR_vi0lJ-",
    "outputId": "c45bb1e9-c183-4a73-9fab-2a91bbf6378c"
   }
  },
  {
   "cell_type": "code",
   "execution_count": null,
   "outputs": [
    {
     "data": {
      "text/plain": "0"
     },
     "execution_count": 10,
     "metadata": {},
     "output_type": "execute_result"
    }
   ],
   "source": [
    "df_reducido['B_31'].isna().sum()"
   ],
   "metadata": {
    "pycharm": {
     "name": "#%%\n"
    },
    "id": "Rnp4qLva0lJ-",
    "outputId": "c11f61df-d04f-4e14-c343-69e20b3fd334"
   }
  },
  {
   "cell_type": "code",
   "execution_count": null,
   "outputs": [
    {
     "data": {
      "text/plain": "9          CR\n88         CO\n113        CO\n129        CO\n137        CO\n           ..\n5531343    CO\n5531392    CO\n5531413    CO\n5531422    CO\n5531442    CL\nName: D_63, Length: 276572, dtype: object"
     },
     "execution_count": 11,
     "metadata": {},
     "output_type": "execute_result"
    }
   ],
   "source": [
    "df_reducido.loc[:,'D_63']"
   ],
   "metadata": {
    "pycharm": {
     "name": "#%%\n"
    },
    "id": "jYVdAV1j0lJ-",
    "outputId": "ec0fd431-2111-4959-a343-1830988be320"
   }
  },
  {
   "cell_type": "code",
   "execution_count": null,
   "outputs": [
    {
     "data": {
      "text/plain": "0"
     },
     "execution_count": 12,
     "metadata": {},
     "output_type": "execute_result"
    }
   ],
   "source": [
    "df_reducido['D_63'].isna().sum()"
   ],
   "metadata": {
    "pycharm": {
     "name": "#%%\n"
    },
    "id": "EgONJFdy0lJ-",
    "outputId": "edea8a99-7180-4b32-d639-0a631a9e36f9"
   }
  },
  {
   "cell_type": "code",
   "execution_count": null,
   "outputs": [
    {
     "data": {
      "text/plain": "9          O\n88         R\n113        U\n129        O\n137        O\n          ..\n5531343    R\n5531392    U\n5531413    U\n5531422    U\n5531442    O\nName: D_64, Length: 276572, dtype: object"
     },
     "execution_count": 13,
     "metadata": {},
     "output_type": "execute_result"
    }
   ],
   "source": [
    "df_reducido.loc[:,'D_64']"
   ],
   "metadata": {
    "pycharm": {
     "name": "#%%\n"
    },
    "id": "n9hlv96-0lJ_",
    "outputId": "4e2a00f0-4f63-48f2-e314-a9bcad96ad5f"
   }
  },
  {
   "cell_type": "code",
   "execution_count": null,
   "outputs": [
    {
     "data": {
      "text/plain": "10966"
     },
     "execution_count": 14,
     "metadata": {},
     "output_type": "execute_result"
    }
   ],
   "source": [
    "df_reducido['D_64'].isna().sum()"
   ],
   "metadata": {
    "pycharm": {
     "name": "#%%\n"
    },
    "id": "sv-et8Q30lJ_",
    "outputId": "f37962d8-e625-4bbe-f5bd-c8d900262121"
   }
  },
  {
   "cell_type": "markdown",
   "source": [
    "### Categorias de las variables"
   ],
   "metadata": {
    "collapsed": false,
    "pycharm": {
     "name": "#%% md\n"
    },
    "id": "oS1YRvbN0lJ_"
   }
  },
  {
   "cell_type": "code",
   "execution_count": null,
   "outputs": [
    {
     "data": {
      "text/plain": "[96, 22, 3, 40, 28]"
     },
     "execution_count": 15,
     "metadata": {},
     "output_type": "execute_result"
    }
   ],
   "source": [
    "columns = df_reducido.columns\n",
    "\n",
    "sum_types = [0,0,0,0,0] # [type_D ,type_S,type_P,type_B, type_R ]\n",
    "\n",
    "for column in columns:\n",
    "    if (column[0] == 'D'):\n",
    "        sum_types[0] += 1\n",
    "    elif (column[0] == 'S'):\n",
    "        sum_types[1] += 1\n",
    "    elif (column[0] == 'P'):\n",
    "        sum_types[2] += 1\n",
    "    elif (column[0] == 'B'):\n",
    "        sum_types[3] += 1\n",
    "    elif (column[0] == 'R'):\n",
    "        sum_types[4] += 1\n",
    "sum_types"
   ],
   "metadata": {
    "pycharm": {
     "name": "#%%\n"
    },
    "id": "h_EMmpZj0lJ_",
    "outputId": "ccfb7dcf-2a70-4adb-9f13-7b22d0c29fe3"
   }
  },
  {
   "cell_type": "markdown",
   "source": [
    "Observamos que en nuestro dataset reducido tenemos cantidades significativamente diferentes de cada tipo de variable, siendo 96 variables relacionadas a la delincuencia, 22 relacionadas a los gastos, 3 relacionadas a los pagos, 40 de balances y 28 variables de riesgo. Sumando un total 189 columnas donde se excluyen a dos variables ('customer_ID' y 'target') para completar las 191 variables tal y como se mostró anteriormente al realizar shape sobre el dataset."
   ],
   "metadata": {
    "collapsed": false,
    "pycharm": {
     "name": "#%% md\n"
    },
    "id": "azlnlrNr0lKA"
   }
  },
  {
   "cell_type": "code",
   "execution_count": null,
   "outputs": [
    {
     "data": {
      "text/plain": "             B_1      B_10      B_11      B_12      B_13      B_14      B_15  \\\n0       0.001930  0.431864  0.004027  0.112579  0.074886  0.009725  0.007219   \n1       0.100998  0.020843  0.065763  0.011516  0.011943  0.023915  0.002677   \n2       0.932366  0.006830  0.938222  0.018259  0.011526  0.310057  0.007449   \n3       0.090679  0.010080  0.061696  0.009170  0.022505  0.021193  0.005326   \n4       0.096867  0.016876  0.072356  0.015320  0.032634  0.030532  0.003829   \n...          ...       ...       ...       ...       ...       ...       ...   \n276567  0.008331  0.242958  0.004117  0.003937  0.006548  0.004503  0.003287   \n276568  0.028992  0.453770  0.017547  0.224241  0.239149  0.101930  0.009882   \n276569  0.162431  0.134409  0.135216  0.023709  0.086869  0.073229  0.001598   \n276570  0.027101  0.293564  0.010437  0.064097  0.049037  0.025647  0.005012   \n276571  0.042782  0.157152  0.026771  0.055753  0.077681  0.036595  0.024166   \n\n            B_16      B_17      B_18  ...      S_26      S_27       S_3  \\\n0       0.000227       NaN  1.007369  ...  0.022741  0.816651  0.100470   \n1       0.752512       NaN  0.245604  ...  0.007319  0.003056  0.333741   \n2       1.005576  0.958476  0.100295  ...  0.005956       NaN  0.166899   \n3       0.004090       NaN  0.483923  ...  0.001798  0.006840  0.182016   \n4       0.500069  0.008569  0.184785  ...  0.004177  0.004812  0.460324   \n...          ...       ...       ...  ...       ...       ...       ...   \n276567  0.003259       NaN  1.004954  ...  0.002313       NaN       NaN   \n276568  0.002982       NaN  1.009120  ...  0.055105  0.006036  0.140112   \n276569  0.335726  0.880369  0.379636  ...  0.003040  0.430051  0.086377   \n276570  0.335705       NaN  1.007944  ...  0.008761  0.380321  0.075824   \n276571  0.920613  0.427228  0.379839  ...  0.000230  0.219747  0.020815   \n\n             S_5       S_6       S_7       S_8       S_9  \\\n0       0.007165  0.002629  0.074646  0.759416  0.019340   \n1       0.007118  0.003323  0.449327  0.121571       NaN   \n2       0.023294  1.001347  0.195864  0.469173       NaN   \n3       0.054562  1.005409  0.283636  0.252979       NaN   \n4       0.042095  0.009332  0.568983  0.328557       NaN   \n...          ...       ...       ...       ...       ...   \n276567  0.000499  1.004101       NaN  0.006319       NaN   \n276568  0.275520  0.009312  0.094025  0.492496       NaN   \n276569  0.133227  0.000729  0.087364  0.666838  0.035156   \n276570  0.060779  0.008526  0.048874  0.704418  0.022882   \n276571  0.041289  0.002854  0.025815  0.665898  0.010998   \n\n                                              customer_ID  target  \n0       0000099d6bd597052cdcda90ffabf56573fe9d7c79be5f...       0  \n1       000098081fde4fd64bc4d503a5d6f86a0aedc425c96f52...       0  \n2       0000f99513770170a1aba690daeeb8a96da4a39f11fc27...       1  \n3       00013181a0c5fc8f1ea38cd2b90fe8ad2fa8cad9d9f13e...       1  \n4       00013c6e1cec7c21bede7cb319f1e28eb994f5625257f4...       1  \n...                                                   ...     ...  \n276567  fffec7d7e1ca804c86f1ffdaac389c33f8039ed35bf412...       0  \n276568  ffff41c8a52833b56430603969b9ca48d208e7c192c6a4...       0  \n276569  ffff9984b999fccb2b6127635ed0736dda94e544e67e02...       0  \n276570  ffff9984b999fccb2b6127635ed0736dda94e544e67e02...       0  \n276571  fffff1d38b785cef84adeace64f8f83db3a0c31e8d92ea...       0  \n\n[276572 rows x 191 columns]",
      "text/html": "<div>\n<style scoped>\n    .dataframe tbody tr th:only-of-type {\n        vertical-align: middle;\n    }\n\n    .dataframe tbody tr th {\n        vertical-align: top;\n    }\n\n    .dataframe thead th {\n        text-align: right;\n    }\n</style>\n<table border=\"1\" class=\"dataframe\">\n  <thead>\n    <tr style=\"text-align: right;\">\n      <th></th>\n      <th>B_1</th>\n      <th>B_10</th>\n      <th>B_11</th>\n      <th>B_12</th>\n      <th>B_13</th>\n      <th>B_14</th>\n      <th>B_15</th>\n      <th>B_16</th>\n      <th>B_17</th>\n      <th>B_18</th>\n      <th>...</th>\n      <th>S_26</th>\n      <th>S_27</th>\n      <th>S_3</th>\n      <th>S_5</th>\n      <th>S_6</th>\n      <th>S_7</th>\n      <th>S_8</th>\n      <th>S_9</th>\n      <th>customer_ID</th>\n      <th>target</th>\n    </tr>\n  </thead>\n  <tbody>\n    <tr>\n      <th>0</th>\n      <td>0.001930</td>\n      <td>0.431864</td>\n      <td>0.004027</td>\n      <td>0.112579</td>\n      <td>0.074886</td>\n      <td>0.009725</td>\n      <td>0.007219</td>\n      <td>0.000227</td>\n      <td>NaN</td>\n      <td>1.007369</td>\n      <td>...</td>\n      <td>0.022741</td>\n      <td>0.816651</td>\n      <td>0.100470</td>\n      <td>0.007165</td>\n      <td>0.002629</td>\n      <td>0.074646</td>\n      <td>0.759416</td>\n      <td>0.019340</td>\n      <td>0000099d6bd597052cdcda90ffabf56573fe9d7c79be5f...</td>\n      <td>0</td>\n    </tr>\n    <tr>\n      <th>1</th>\n      <td>0.100998</td>\n      <td>0.020843</td>\n      <td>0.065763</td>\n      <td>0.011516</td>\n      <td>0.011943</td>\n      <td>0.023915</td>\n      <td>0.002677</td>\n      <td>0.752512</td>\n      <td>NaN</td>\n      <td>0.245604</td>\n      <td>...</td>\n      <td>0.007319</td>\n      <td>0.003056</td>\n      <td>0.333741</td>\n      <td>0.007118</td>\n      <td>0.003323</td>\n      <td>0.449327</td>\n      <td>0.121571</td>\n      <td>NaN</td>\n      <td>000098081fde4fd64bc4d503a5d6f86a0aedc425c96f52...</td>\n      <td>0</td>\n    </tr>\n    <tr>\n      <th>2</th>\n      <td>0.932366</td>\n      <td>0.006830</td>\n      <td>0.938222</td>\n      <td>0.018259</td>\n      <td>0.011526</td>\n      <td>0.310057</td>\n      <td>0.007449</td>\n      <td>1.005576</td>\n      <td>0.958476</td>\n      <td>0.100295</td>\n      <td>...</td>\n      <td>0.005956</td>\n      <td>NaN</td>\n      <td>0.166899</td>\n      <td>0.023294</td>\n      <td>1.001347</td>\n      <td>0.195864</td>\n      <td>0.469173</td>\n      <td>NaN</td>\n      <td>0000f99513770170a1aba690daeeb8a96da4a39f11fc27...</td>\n      <td>1</td>\n    </tr>\n    <tr>\n      <th>3</th>\n      <td>0.090679</td>\n      <td>0.010080</td>\n      <td>0.061696</td>\n      <td>0.009170</td>\n      <td>0.022505</td>\n      <td>0.021193</td>\n      <td>0.005326</td>\n      <td>0.004090</td>\n      <td>NaN</td>\n      <td>0.483923</td>\n      <td>...</td>\n      <td>0.001798</td>\n      <td>0.006840</td>\n      <td>0.182016</td>\n      <td>0.054562</td>\n      <td>1.005409</td>\n      <td>0.283636</td>\n      <td>0.252979</td>\n      <td>NaN</td>\n      <td>00013181a0c5fc8f1ea38cd2b90fe8ad2fa8cad9d9f13e...</td>\n      <td>1</td>\n    </tr>\n    <tr>\n      <th>4</th>\n      <td>0.096867</td>\n      <td>0.016876</td>\n      <td>0.072356</td>\n      <td>0.015320</td>\n      <td>0.032634</td>\n      <td>0.030532</td>\n      <td>0.003829</td>\n      <td>0.500069</td>\n      <td>0.008569</td>\n      <td>0.184785</td>\n      <td>...</td>\n      <td>0.004177</td>\n      <td>0.004812</td>\n      <td>0.460324</td>\n      <td>0.042095</td>\n      <td>0.009332</td>\n      <td>0.568983</td>\n      <td>0.328557</td>\n      <td>NaN</td>\n      <td>00013c6e1cec7c21bede7cb319f1e28eb994f5625257f4...</td>\n      <td>1</td>\n    </tr>\n    <tr>\n      <th>...</th>\n      <td>...</td>\n      <td>...</td>\n      <td>...</td>\n      <td>...</td>\n      <td>...</td>\n      <td>...</td>\n      <td>...</td>\n      <td>...</td>\n      <td>...</td>\n      <td>...</td>\n      <td>...</td>\n      <td>...</td>\n      <td>...</td>\n      <td>...</td>\n      <td>...</td>\n      <td>...</td>\n      <td>...</td>\n      <td>...</td>\n      <td>...</td>\n      <td>...</td>\n      <td>...</td>\n    </tr>\n    <tr>\n      <th>276567</th>\n      <td>0.008331</td>\n      <td>0.242958</td>\n      <td>0.004117</td>\n      <td>0.003937</td>\n      <td>0.006548</td>\n      <td>0.004503</td>\n      <td>0.003287</td>\n      <td>0.003259</td>\n      <td>NaN</td>\n      <td>1.004954</td>\n      <td>...</td>\n      <td>0.002313</td>\n      <td>NaN</td>\n      <td>NaN</td>\n      <td>0.000499</td>\n      <td>1.004101</td>\n      <td>NaN</td>\n      <td>0.006319</td>\n      <td>NaN</td>\n      <td>fffec7d7e1ca804c86f1ffdaac389c33f8039ed35bf412...</td>\n      <td>0</td>\n    </tr>\n    <tr>\n      <th>276568</th>\n      <td>0.028992</td>\n      <td>0.453770</td>\n      <td>0.017547</td>\n      <td>0.224241</td>\n      <td>0.239149</td>\n      <td>0.101930</td>\n      <td>0.009882</td>\n      <td>0.002982</td>\n      <td>NaN</td>\n      <td>1.009120</td>\n      <td>...</td>\n      <td>0.055105</td>\n      <td>0.006036</td>\n      <td>0.140112</td>\n      <td>0.275520</td>\n      <td>0.009312</td>\n      <td>0.094025</td>\n      <td>0.492496</td>\n      <td>NaN</td>\n      <td>ffff41c8a52833b56430603969b9ca48d208e7c192c6a4...</td>\n      <td>0</td>\n    </tr>\n    <tr>\n      <th>276569</th>\n      <td>0.162431</td>\n      <td>0.134409</td>\n      <td>0.135216</td>\n      <td>0.023709</td>\n      <td>0.086869</td>\n      <td>0.073229</td>\n      <td>0.001598</td>\n      <td>0.335726</td>\n      <td>0.880369</td>\n      <td>0.379636</td>\n      <td>...</td>\n      <td>0.003040</td>\n      <td>0.430051</td>\n      <td>0.086377</td>\n      <td>0.133227</td>\n      <td>0.000729</td>\n      <td>0.087364</td>\n      <td>0.666838</td>\n      <td>0.035156</td>\n      <td>ffff9984b999fccb2b6127635ed0736dda94e544e67e02...</td>\n      <td>0</td>\n    </tr>\n    <tr>\n      <th>276570</th>\n      <td>0.027101</td>\n      <td>0.293564</td>\n      <td>0.010437</td>\n      <td>0.064097</td>\n      <td>0.049037</td>\n      <td>0.025647</td>\n      <td>0.005012</td>\n      <td>0.335705</td>\n      <td>NaN</td>\n      <td>1.007944</td>\n      <td>...</td>\n      <td>0.008761</td>\n      <td>0.380321</td>\n      <td>0.075824</td>\n      <td>0.060779</td>\n      <td>0.008526</td>\n      <td>0.048874</td>\n      <td>0.704418</td>\n      <td>0.022882</td>\n      <td>ffff9984b999fccb2b6127635ed0736dda94e544e67e02...</td>\n      <td>0</td>\n    </tr>\n    <tr>\n      <th>276571</th>\n      <td>0.042782</td>\n      <td>0.157152</td>\n      <td>0.026771</td>\n      <td>0.055753</td>\n      <td>0.077681</td>\n      <td>0.036595</td>\n      <td>0.024166</td>\n      <td>0.920613</td>\n      <td>0.427228</td>\n      <td>0.379839</td>\n      <td>...</td>\n      <td>0.000230</td>\n      <td>0.219747</td>\n      <td>0.020815</td>\n      <td>0.041289</td>\n      <td>0.002854</td>\n      <td>0.025815</td>\n      <td>0.665898</td>\n      <td>0.010998</td>\n      <td>fffff1d38b785cef84adeace64f8f83db3a0c31e8d92ea...</td>\n      <td>0</td>\n    </tr>\n  </tbody>\n</table>\n<p>276572 rows × 191 columns</p>\n</div>"
     },
     "execution_count": 16,
     "metadata": {},
     "output_type": "execute_result"
    }
   ],
   "source": [
    "df_reducido.sort_index(axis = 1, inplace = True)\n",
    "df_reducido.reset_index(drop = True, inplace = True)\n",
    "df_reducido"
   ],
   "metadata": {
    "pycharm": {
     "name": "#%%\n"
    },
    "id": "8AwfX_bK0lKA",
    "outputId": "7724a1dc-92f3-4f7c-969d-f4de03a0baf1"
   }
  },
  {
   "cell_type": "markdown",
   "source": [
    "### Correlación entre variables"
   ],
   "metadata": {
    "collapsed": false,
    "pycharm": {
     "name": "#%% md\n"
    },
    "id": "t76HeI9J0lKA"
   }
  },
  {
   "cell_type": "code",
   "execution_count": null,
   "outputs": [
    {
     "data": {
      "text/plain": "<AxesSubplot:>"
     },
     "execution_count": 17,
     "metadata": {},
     "output_type": "execute_result"
    },
    {
     "data": {
      "text/plain": "<Figure size 432x288 with 2 Axes>",
      "image/png": "[encoded data removed]"
     },
     "metadata": {
      "needs_background": "light"
     },
     "output_type": "display_data"
    }
   ],
   "source": [
    "sns.heatmap(df_reducido.corr(method='pearson'), cmap='Reds')"
   ],
   "metadata": {
    "pycharm": {
     "name": "#%%\n"
    },
    "id": "Y9QlB2qT0lKA",
    "outputId": "aa651507-edb8-4a47-b1f2-af342cacb495"
   }
  },
  {
   "cell_type": "markdown",
   "source": [
    "Del heatmap obtenido se pueden observar ciertas correlaciones, siendo muchas de estas con un color intenso (indicando un gran nivel de correlación) con variables de su mismo “tipo” según las categorías presentadas al inicio del trabajo (D, S, P, B, R). Esto nos indica que existe la posibilidad de realizar una reducción de la dimensionalidad de los datos sin perder información, lo cual será profundizado más adelante en el trabajo.\n",
    "Paralelamente observamos que existe una “Cruz” creada por una línea vertical y una horizontal de color blanco indicando que la variable D_87 no posee ninguna correlación con ninguna otra variable. Esta situación es causada por la cantidad de datos Nan que posee esta columna (mostrado a continuación), más adelante en el trabajo se trabajara sobre los datos faltantes y se tomaran acciones sobre los mismos.\n"
   ],
   "metadata": {
    "collapsed": false,
    "pycharm": {
     "name": "#%% md\n"
    },
    "id": "zDo6j4WV0lKA"
   }
  },
  {
   "cell_type": "code",
   "execution_count": null,
   "outputs": [
    {
     "data": {
      "text/plain": "0        NaN\n1        NaN\n2        NaN\n3        NaN\n4        NaN\n          ..\n276567   NaN\n276568   NaN\n276569   NaN\n276570   NaN\n276571   NaN\nName: D_87, Length: 276572, dtype: float64"
     },
     "execution_count": 18,
     "metadata": {},
     "output_type": "execute_result"
    }
   ],
   "source": [
    "df_reducido.loc[:,'D_87']"
   ],
   "metadata": {
    "pycharm": {
     "name": "#%%\n"
    },
    "id": "XIKQbgy60lKB",
    "outputId": "e987aee0-5ba1-47d1-ffa8-38de9f232070"
   }
  },
  {
   "cell_type": "markdown",
   "source": [
    "### Verificación de registros repetidos\n",
    "\n"
   ],
   "metadata": {
    "collapsed": false,
    "pycharm": {
     "name": "#%% md\n"
    },
    "id": "Zk7xDyLZ0lKB"
   }
  },
  {
   "cell_type": "markdown",
   "source": [
    "Mediante la siguiente línea se verificamos que el dataset no posea filas filas con información repetida."
   ],
   "metadata": {
    "collapsed": false,
    "pycharm": {
     "name": "#%% md\n"
    },
    "id": "rLVTEVP00lKB"
   }
  },
  {
   "cell_type": "code",
   "execution_count": null,
   "outputs": [
    {
     "data": {
      "text/plain": "False    276572\ndtype: int64"
     },
     "execution_count": 19,
     "metadata": {},
     "output_type": "execute_result"
    }
   ],
   "source": [
    "df_reducido.duplicated().value_counts()"
   ],
   "metadata": {
    "pycharm": {
     "name": "#%%\n"
    },
    "id": "9QYKUHUt0lKB",
    "outputId": "f2ffa114-b8c8-4c2d-d03f-677f13d284e0"
   }
  },
  {
   "cell_type": "markdown",
   "source": [
    "### Relacion de variables con el target"
   ],
   "metadata": {
    "collapsed": false,
    "pycharm": {
     "name": "#%% md\n"
    },
    "id": "3PkB_AGU0lKB"
   }
  },
  {
   "cell_type": "code",
   "execution_count": null,
   "outputs": [],
   "source": [
    "import matplotlib.pyplot as plt"
   ],
   "metadata": {
    "pycharm": {
     "name": "#%%\n"
    },
    "id": "RgGL_3SB0lKB"
   }
  },
  {
   "cell_type": "code",
   "execution_count": null,
   "outputs": [
    {
     "data": {
      "text/plain": "CO    205972\nCR     46499\nCL     21933\nXZ      1292\nXM       526\nXL       350\nName: D_63, dtype: int64"
     },
     "execution_count": 21,
     "metadata": {},
     "output_type": "execute_result"
    }
   ],
   "source": [
    "df_reducido['D_63'].value_counts()"
   ],
   "metadata": {
    "pycharm": {
     "name": "#%%\n"
    },
    "id": "DFv_GqjJ0lKC",
    "outputId": "06cba6f2-78d1-4c2f-ebc4-b6437763813c"
   }
  },
  {
   "cell_type": "code",
   "execution_count": null,
   "outputs": [
    {
     "data": {
      "text/plain": "target       0      1\nD_63                 \nCL       15652   6281\nCO      151806  54166\nCR       38603   7896\nXL         224    126\nXM         386    140\nXZ        1041    251",
      "text/html": "<div>\n<style scoped>\n    .dataframe tbody tr th:only-of-type {\n        vertical-align: middle;\n    }\n\n    .dataframe tbody tr th {\n        vertical-align: top;\n    }\n\n    .dataframe thead th {\n        text-align: right;\n    }\n</style>\n<table border=\"1\" class=\"dataframe\">\n  <thead>\n    <tr style=\"text-align: right;\">\n      <th>target</th>\n      <th>0</th>\n      <th>1</th>\n    </tr>\n    <tr>\n      <th>D_63</th>\n      <th></th>\n      <th></th>\n    </tr>\n  </thead>\n  <tbody>\n    <tr>\n      <th>CL</th>\n      <td>15652</td>\n      <td>6281</td>\n    </tr>\n    <tr>\n      <th>CO</th>\n      <td>151806</td>\n      <td>54166</td>\n    </tr>\n    <tr>\n      <th>CR</th>\n      <td>38603</td>\n      <td>7896</td>\n    </tr>\n    <tr>\n      <th>XL</th>\n      <td>224</td>\n      <td>126</td>\n    </tr>\n    <tr>\n      <th>XM</th>\n      <td>386</td>\n      <td>140</td>\n    </tr>\n    <tr>\n      <th>XZ</th>\n      <td>1041</td>\n      <td>251</td>\n    </tr>\n  </tbody>\n</table>\n</div>"
     },
     "execution_count": 22,
     "metadata": {},
     "output_type": "execute_result"
    }
   ],
   "source": [
    "deuda_D_63 = df_reducido.loc[:, ['target', 'D_63']].groupby(['D_63'])['target'].value_counts().unstack()\n",
    "deuda_D_63"
   ],
   "metadata": {
    "pycharm": {
     "name": "#%%\n"
    },
    "id": "enjQ6qRU0lKC",
    "outputId": "0f403f04-5bbb-4cd4-a966-eabb42de79b3"
   }
  },
  {
   "cell_type": "code",
   "execution_count": null,
   "outputs": [
    {
     "data": {
      "text/plain": "<AxesSubplot:title={'center':'Deuda segun D_63'}, xlabel='target', ylabel='D_63'>"
     },
     "execution_count": 23,
     "metadata": {},
     "output_type": "execute_result"
    },
    {
     "data": {
      "text/plain": "<Figure size 864x864 with 2 Axes>",
      "image/png": "[encoded data removed]"
     },
     "metadata": {
      "needs_background": "light"
     },
     "output_type": "display_data"
    }
   ],
   "source": [
    "plt.figure(figsize=(12,12))\n",
    "plt.xlabel('Deuda', size = 14)\n",
    "plt.ylabel('D_63', size = 14)\n",
    "plt.title('Deuda segun D_63', size = 18)\n",
    "sns.heatmap(deuda_D_63, annot=True, fmt=\".1f\", linewidths=.5, square = True, cmap = 'Reds')"
   ],
   "metadata": {
    "pycharm": {
     "name": "#%%\n"
    },
    "id": "06QVHKUN0lKC",
    "outputId": "65480a7a-693f-46a9-a851-645583b44f8a"
   }
  },
  {
   "cell_type": "code",
   "execution_count": null,
   "outputs": [
    {
     "data": {
      "text/plain": "1    275714\n0       858\nName: B_31, dtype: int64"
     },
     "execution_count": 24,
     "metadata": {},
     "output_type": "execute_result"
    }
   ],
   "source": [
    "df_reducido['B_31'].value_counts()"
   ],
   "metadata": {
    "pycharm": {
     "name": "#%%\n"
    },
    "id": "z-hU9gh90lKC",
    "outputId": "513f6503-b060-42fa-ce6a-14f7e5d8d719"
   }
  },
  {
   "cell_type": "code",
   "execution_count": null,
   "outputs": [
    {
     "data": {
      "text/plain": "O     145585\nU      76041\nR      42167\n-1      1813\nName: D_64, dtype: int64"
     },
     "execution_count": 25,
     "metadata": {},
     "output_type": "execute_result"
    }
   ],
   "source": [
    "df_reducido['D_64'].value_counts()"
   ],
   "metadata": {
    "pycharm": {
     "name": "#%%\n"
    },
    "id": "w5C8AflC0lKC",
    "outputId": "127f02ac-b532-45d6-c1a5-14c0221a3d9b"
   }
  },
  {
   "cell_type": "code",
   "execution_count": null,
   "outputs": [
    {
     "data": {
      "text/plain": "target       0      1\nD_64                 \n-1        1425    388\nO       121041  24544\nR        28832  13335\nU        49999  26042",
      "text/html": "<div>\n<style scoped>\n    .dataframe tbody tr th:only-of-type {\n        vertical-align: middle;\n    }\n\n    .dataframe tbody tr th {\n        vertical-align: top;\n    }\n\n    .dataframe thead th {\n        text-align: right;\n    }\n</style>\n<table border=\"1\" class=\"dataframe\">\n  <thead>\n    <tr style=\"text-align: right;\">\n      <th>target</th>\n      <th>0</th>\n      <th>1</th>\n    </tr>\n    <tr>\n      <th>D_64</th>\n      <th></th>\n      <th></th>\n    </tr>\n  </thead>\n  <tbody>\n    <tr>\n      <th>-1</th>\n      <td>1425</td>\n      <td>388</td>\n    </tr>\n    <tr>\n      <th>O</th>\n      <td>121041</td>\n      <td>24544</td>\n    </tr>\n    <tr>\n      <th>R</th>\n      <td>28832</td>\n      <td>13335</td>\n    </tr>\n    <tr>\n      <th>U</th>\n      <td>49999</td>\n      <td>26042</td>\n    </tr>\n  </tbody>\n</table>\n</div>"
     },
     "execution_count": 26,
     "metadata": {},
     "output_type": "execute_result"
    }
   ],
   "source": [
    "deuda_D_64 = df_reducido.loc[:, ['target', 'D_64']].groupby(['D_64'])['target'].value_counts().unstack()\n",
    "deuda_D_64"
   ],
   "metadata": {
    "pycharm": {
     "name": "#%%\n"
    },
    "id": "JJVqSRmz0lKC",
    "outputId": "5d389d6c-6f52-4cd7-e16f-bb622c159333"
   }
  },
  {
   "cell_type": "code",
   "execution_count": null,
   "outputs": [
    {
     "data": {
      "text/plain": "<AxesSubplot:title={'center':'Deuda segun D_64'}, xlabel='target', ylabel='D_64'>"
     },
     "execution_count": 27,
     "metadata": {},
     "output_type": "execute_result"
    },
    {
     "data": {
      "text/plain": "<Figure size 864x864 with 2 Axes>",
      "image/png": "[encoded data removed]"
     },
     "metadata": {
      "needs_background": "light"
     },
     "output_type": "display_data"
    }
   ],
   "source": [
    "plt.figure(figsize=(12,12))\n",
    "plt.xlabel('Deuda', size = 14)\n",
    "plt.ylabel('D_64', size = 14)\n",
    "plt.title('Deuda segun D_64', size = 18)\n",
    "sns.heatmap(deuda_D_64, annot=True, fmt=\".1f\", linewidths=.5, square = True, cmap = 'Reds')"
   ],
   "metadata": {
    "pycharm": {
     "name": "#%%\n"
    },
    "id": "IzbWPs3Z0lKD",
    "outputId": "a77142c9-978f-479b-da22-623044c4d93f"
   }
  },
  {
   "cell_type": "markdown",
   "source": [
    "Análisis de la variable \"S_2\"; Se espera poder concluir si la fecha de cada transacción se relaciona de alguna manera con el objetivo, y si aporta información relevante. De no ser así, se podrá eliminar esta columna."
   ],
   "metadata": {
    "collapsed": false,
    "pycharm": {
     "name": "#%% md\n"
    },
    "id": "RMLmXI3I0lKD"
   }
  },
  {
   "cell_type": "code",
   "execution_count": null,
   "outputs": [
    {
     "data": {
      "text/plain": "0        2017-12-04\n1        2018-01-11\n2        2017-12-17\n3        2018-03-16\n4        2017-07-01\n            ...    \n276567   2018-02-17\n276568   2017-09-09\n276569   2017-04-23\n276570   2018-01-11\n276571   2017-07-20\nName: S_2, Length: 276572, dtype: datetime64[ns]"
     },
     "execution_count": 28,
     "metadata": {},
     "output_type": "execute_result"
    }
   ],
   "source": [
    "df_reducido['S_2'] = pd.to_datetime(df_reducido['S_2'], format='%Y-%m-%d')\n",
    "df_reducido['S_2']"
   ],
   "metadata": {
    "pycharm": {
     "name": "#%%\n"
    },
    "id": "jFymZhyW0lKD",
    "outputId": "096d1d18-636f-4536-af45-bed6019d4a9e"
   }
  },
  {
   "cell_type": "code",
   "execution_count": null,
   "outputs": [
    {
     "data": {
      "text/plain": "0         2017\n1         2018\n2         2017\n3         2018\n4         2017\n          ... \n276567    2018\n276568    2017\n276569    2017\n276570    2018\n276571    2017\nName: year, Length: 276572, dtype: int64"
     },
     "execution_count": 29,
     "metadata": {},
     "output_type": "execute_result"
    }
   ],
   "source": [
    "df_reducido['year'] = pd.DatetimeIndex(df_reducido['S_2']).year\n",
    "df_reducido['year']"
   ],
   "metadata": {
    "pycharm": {
     "name": "#%%\n"
    },
    "id": "jbYwwXjp0lKD",
    "outputId": "05031ad1-ca11-4616-c9a5-ec7653a2de2b"
   }
  },
  {
   "cell_type": "code",
   "execution_count": null,
   "outputs": [
    {
     "data": {
      "text/plain": "2017    208500\n2018     68072\nName: year, dtype: int64"
     },
     "execution_count": 30,
     "metadata": {},
     "output_type": "execute_result"
    }
   ],
   "source": [
    "df_reducido['year'].value_counts()"
   ],
   "metadata": {
    "pycharm": {
     "name": "#%%\n"
    },
    "id": "stsZtYPf0lKD",
    "outputId": "9bec167b-e3a9-46b6-9a93-d89e27b24442"
   }
  },
  {
   "cell_type": "code",
   "execution_count": null,
   "outputs": [
    {
     "data": {
      "text/plain": "   year  target\n0  2017   51088\n1  2018   17772",
      "text/html": "<div>\n<style scoped>\n    .dataframe tbody tr th:only-of-type {\n        vertical-align: middle;\n    }\n\n    .dataframe tbody tr th {\n        vertical-align: top;\n    }\n\n    .dataframe thead th {\n        text-align: right;\n    }\n</style>\n<table border=\"1\" class=\"dataframe\">\n  <thead>\n    <tr style=\"text-align: right;\">\n      <th></th>\n      <th>year</th>\n      <th>target</th>\n    </tr>\n  </thead>\n  <tbody>\n    <tr>\n      <th>0</th>\n      <td>2017</td>\n      <td>51088</td>\n    </tr>\n    <tr>\n      <th>1</th>\n      <td>2018</td>\n      <td>17772</td>\n    </tr>\n  </tbody>\n</table>\n</div>"
     },
     "execution_count": 31,
     "metadata": {},
     "output_type": "execute_result"
    }
   ],
   "source": [
    "year_target = df_reducido.groupby(['year'])['target'].sum().reset_index()\n",
    "year_target"
   ],
   "metadata": {
    "pycharm": {
     "name": "#%%\n"
    },
    "id": "qLjI7aJt0lKD",
    "outputId": "172e1bd7-5a64-4b3c-d12b-bc6db63102ef"
   }
  },
  {
   "cell_type": "code",
   "execution_count": null,
   "outputs": [
    {
     "data": {
      "text/plain": "Text(0, 0.5, 'Número de pagos incumplidos')"
     },
     "execution_count": 32,
     "metadata": {},
     "output_type": "execute_result"
    },
    {
     "data": {
      "text/plain": "<Figure size 432x288 with 1 Axes>",
      "image/png": "[encoded data removed]"
     },
     "metadata": {
      "needs_background": "light"
     },
     "output_type": "display_data"
    }
   ],
   "source": [
    "g = sns.barplot(x=year_target.year, y=year_target.target, palette='husl')\n",
    "g.set_title(\"Incumplimientos de pago por año\", fontsize=15)\n",
    "g.set_xlabel(\"Año\", fontsize=12)\n",
    "g.set_ylabel(\"Número de pagos incumplidos\", fontsize=12)"
   ],
   "metadata": {
    "pycharm": {
     "name": "#%%\n"
    },
    "id": "XIXu54xp0lKD",
    "outputId": "009727fe-5191-4d3a-c305-2c97ba7de76e"
   }
  },
  {
   "cell_type": "code",
   "execution_count": null,
   "outputs": [
    {
     "data": {
      "text/plain": "              S_2  target\n0      2017-12-04       0\n2      2017-12-17       1\n4      2017-07-01       1\n7      2017-10-15       1\n8      2017-11-19       1\n...           ...     ...\n276565 2017-08-03       0\n276566 2017-10-21       0\n276568 2017-09-09       0\n276569 2017-04-23       0\n276571 2017-07-20       0\n\n[208500 rows x 2 columns]",
      "text/html": "<div>\n<style scoped>\n    .dataframe tbody tr th:only-of-type {\n        vertical-align: middle;\n    }\n\n    .dataframe tbody tr th {\n        vertical-align: top;\n    }\n\n    .dataframe thead th {\n        text-align: right;\n    }\n</style>\n<table border=\"1\" class=\"dataframe\">\n  <thead>\n    <tr style=\"text-align: right;\">\n      <th></th>\n      <th>S_2</th>\n      <th>target</th>\n    </tr>\n  </thead>\n  <tbody>\n    <tr>\n      <th>0</th>\n      <td>2017-12-04</td>\n      <td>0</td>\n    </tr>\n    <tr>\n      <th>2</th>\n      <td>2017-12-17</td>\n      <td>1</td>\n    </tr>\n    <tr>\n      <th>4</th>\n      <td>2017-07-01</td>\n      <td>1</td>\n    </tr>\n    <tr>\n      <th>7</th>\n      <td>2017-10-15</td>\n      <td>1</td>\n    </tr>\n    <tr>\n      <th>8</th>\n      <td>2017-11-19</td>\n      <td>1</td>\n    </tr>\n    <tr>\n      <th>...</th>\n      <td>...</td>\n      <td>...</td>\n    </tr>\n    <tr>\n      <th>276565</th>\n      <td>2017-08-03</td>\n      <td>0</td>\n    </tr>\n    <tr>\n      <th>276566</th>\n      <td>2017-10-21</td>\n      <td>0</td>\n    </tr>\n    <tr>\n      <th>276568</th>\n      <td>2017-09-09</td>\n      <td>0</td>\n    </tr>\n    <tr>\n      <th>276569</th>\n      <td>2017-04-23</td>\n      <td>0</td>\n    </tr>\n    <tr>\n      <th>276571</th>\n      <td>2017-07-20</td>\n      <td>0</td>\n    </tr>\n  </tbody>\n</table>\n<p>208500 rows × 2 columns</p>\n</div>"
     },
     "execution_count": 33,
     "metadata": {},
     "output_type": "execute_result"
    }
   ],
   "source": [
    "year_2017 = df_reducido.loc[df_reducido['year'] == 2017, ['S_2', 'target']]\n",
    "year_2017"
   ],
   "metadata": {
    "pycharm": {
     "name": "#%%\n"
    },
    "id": "0HDwzgyh0lKE",
    "outputId": "8e9790a9-8023-4ed4-fef7-5319e012f68b"
   }
  },
  {
   "cell_type": "code",
   "execution_count": null,
   "outputs": [
    {
     "data": {
      "text/plain": "12    22019\n10    21667\n11    21542\n9     21125\n8     21017\n7     20829\n6     20606\n4     20117\n5     19914\n3     19664\nName: month, dtype: int64"
     },
     "execution_count": 34,
     "metadata": {},
     "output_type": "execute_result"
    }
   ],
   "source": [
    "year_2017['month'] = pd.DatetimeIndex(year_2017['S_2']).month\n",
    "year_2017['month'].value_counts()"
   ],
   "metadata": {
    "pycharm": {
     "name": "#%%\n"
    },
    "id": "z-U22ymU0lKE",
    "outputId": "354e40b3-d3b9-464a-8fba-d236f16932f4"
   }
  },
  {
   "cell_type": "code",
   "execution_count": null,
   "outputs": [
    {
     "data": {
      "text/plain": "   month  target\n0      3    4606\n1      4    4598\n2      5    4787\n3      6    4958\n4      7    5099\n5      8    5194\n6      9    5348\n7     10    5450\n8     11    5390\n9     12    5658",
      "text/html": "<div>\n<style scoped>\n    .dataframe tbody tr th:only-of-type {\n        vertical-align: middle;\n    }\n\n    .dataframe tbody tr th {\n        vertical-align: top;\n    }\n\n    .dataframe thead th {\n        text-align: right;\n    }\n</style>\n<table border=\"1\" class=\"dataframe\">\n  <thead>\n    <tr style=\"text-align: right;\">\n      <th></th>\n      <th>month</th>\n      <th>target</th>\n    </tr>\n  </thead>\n  <tbody>\n    <tr>\n      <th>0</th>\n      <td>3</td>\n      <td>4606</td>\n    </tr>\n    <tr>\n      <th>1</th>\n      <td>4</td>\n      <td>4598</td>\n    </tr>\n    <tr>\n      <th>2</th>\n      <td>5</td>\n      <td>4787</td>\n    </tr>\n    <tr>\n      <th>3</th>\n      <td>6</td>\n      <td>4958</td>\n    </tr>\n    <tr>\n      <th>4</th>\n      <td>7</td>\n      <td>5099</td>\n    </tr>\n    <tr>\n      <th>5</th>\n      <td>8</td>\n      <td>5194</td>\n    </tr>\n    <tr>\n      <th>6</th>\n      <td>9</td>\n      <td>5348</td>\n    </tr>\n    <tr>\n      <th>7</th>\n      <td>10</td>\n      <td>5450</td>\n    </tr>\n    <tr>\n      <th>8</th>\n      <td>11</td>\n      <td>5390</td>\n    </tr>\n    <tr>\n      <th>9</th>\n      <td>12</td>\n      <td>5658</td>\n    </tr>\n  </tbody>\n</table>\n</div>"
     },
     "execution_count": 35,
     "metadata": {},
     "output_type": "execute_result"
    }
   ],
   "source": [
    "months_2017 = year_2017.groupby(['month'])['target'].sum().reset_index()\n",
    "months_2017"
   ],
   "metadata": {
    "pycharm": {
     "name": "#%%\n"
    },
    "id": "a8ZHw8KB0lKE",
    "outputId": "6fc3876e-403e-4754-d6e4-f278db88a1ab"
   }
  },
  {
   "cell_type": "code",
   "execution_count": null,
   "outputs": [
    {
     "data": {
      "text/plain": "Text(0, 0.5, 'Número de pagos incumplidos')"
     },
     "execution_count": 36,
     "metadata": {},
     "output_type": "execute_result"
    },
    {
     "data": {
      "text/plain": "<Figure size 432x288 with 1 Axes>",
      "image/png": "[encoded data removed]"
     },
     "metadata": {
      "needs_background": "light"
     },
     "output_type": "display_data"
    }
   ],
   "source": [
    "g = sns.barplot(x=months_2017.month, y=months_2017.target, palette='husl')\n",
    "g.set_title(\"Incumplimientos de pago por mes en 2017\", fontsize=15)\n",
    "g.set_xlabel(\"Mes\", fontsize=12)\n",
    "g.set_ylabel(\"Número de pagos incumplidos\", fontsize=12)"
   ],
   "metadata": {
    "pycharm": {
     "name": "#%%\n"
    },
    "id": "YFsEn0CL0lKE",
    "outputId": "aa35e6c9-df60-44ac-c7e8-320f5bb0aac0"
   }
  },
  {
   "cell_type": "code",
   "execution_count": null,
   "outputs": [
    {
     "data": {
      "text/plain": "              S_2  target\n1      2018-01-11       0\n3      2018-03-16       1\n5      2018-02-10       1\n6      2018-03-13       1\n13     2018-01-20       0\n...           ...     ...\n276551 2018-01-27       0\n276560 2018-01-17       1\n276563 2018-02-17       0\n276567 2018-02-17       0\n276570 2018-01-11       0\n\n[68072 rows x 2 columns]",
      "text/html": "<div>\n<style scoped>\n    .dataframe tbody tr th:only-of-type {\n        vertical-align: middle;\n    }\n\n    .dataframe tbody tr th {\n        vertical-align: top;\n    }\n\n    .dataframe thead th {\n        text-align: right;\n    }\n</style>\n<table border=\"1\" class=\"dataframe\">\n  <thead>\n    <tr style=\"text-align: right;\">\n      <th></th>\n      <th>S_2</th>\n      <th>target</th>\n    </tr>\n  </thead>\n  <tbody>\n    <tr>\n      <th>1</th>\n      <td>2018-01-11</td>\n      <td>0</td>\n    </tr>\n    <tr>\n      <th>3</th>\n      <td>2018-03-16</td>\n      <td>1</td>\n    </tr>\n    <tr>\n      <th>5</th>\n      <td>2018-02-10</td>\n      <td>1</td>\n    </tr>\n    <tr>\n      <th>6</th>\n      <td>2018-03-13</td>\n      <td>1</td>\n    </tr>\n    <tr>\n      <th>13</th>\n      <td>2018-01-20</td>\n      <td>0</td>\n    </tr>\n    <tr>\n      <th>...</th>\n      <td>...</td>\n      <td>...</td>\n    </tr>\n    <tr>\n      <th>276551</th>\n      <td>2018-01-27</td>\n      <td>0</td>\n    </tr>\n    <tr>\n      <th>276560</th>\n      <td>2018-01-17</td>\n      <td>1</td>\n    </tr>\n    <tr>\n      <th>276563</th>\n      <td>2018-02-17</td>\n      <td>0</td>\n    </tr>\n    <tr>\n      <th>276567</th>\n      <td>2018-02-17</td>\n      <td>0</td>\n    </tr>\n    <tr>\n      <th>276570</th>\n      <td>2018-01-11</td>\n      <td>0</td>\n    </tr>\n  </tbody>\n</table>\n<p>68072 rows × 2 columns</p>\n</div>"
     },
     "execution_count": 37,
     "metadata": {},
     "output_type": "execute_result"
    }
   ],
   "source": [
    "year_2018 = df_reducido.loc[df_reducido['year'] == 2018, ['S_2', 'target']]\n",
    "year_2018"
   ],
   "metadata": {
    "pycharm": {
     "name": "#%%\n"
    },
    "id": "CNeinwXy0lKE",
    "outputId": "10c38e68-9094-4797-f81f-375ef3d7f1b2"
   }
  },
  {
   "cell_type": "code",
   "execution_count": null,
   "outputs": [
    {
     "data": {
      "text/plain": "3    22889\n2    22784\n1    22399\nName: month, dtype: int64"
     },
     "execution_count": 38,
     "metadata": {},
     "output_type": "execute_result"
    }
   ],
   "source": [
    "year_2018['month'] = pd.DatetimeIndex(year_2018['S_2']).month\n",
    "year_2018['month'].value_counts()"
   ],
   "metadata": {
    "pycharm": {
     "name": "#%%\n"
    },
    "id": "cgbjvALt0lKE",
    "outputId": "76c2720f-18be-4b9e-addc-f7d0b85de5a8"
   }
  },
  {
   "cell_type": "code",
   "execution_count": null,
   "outputs": [
    {
     "data": {
      "text/plain": "   month  target\n0      1    5810\n1      2    5990\n2      3    5972",
      "text/html": "<div>\n<style scoped>\n    .dataframe tbody tr th:only-of-type {\n        vertical-align: middle;\n    }\n\n    .dataframe tbody tr th {\n        vertical-align: top;\n    }\n\n    .dataframe thead th {\n        text-align: right;\n    }\n</style>\n<table border=\"1\" class=\"dataframe\">\n  <thead>\n    <tr style=\"text-align: right;\">\n      <th></th>\n      <th>month</th>\n      <th>target</th>\n    </tr>\n  </thead>\n  <tbody>\n    <tr>\n      <th>0</th>\n      <td>1</td>\n      <td>5810</td>\n    </tr>\n    <tr>\n      <th>1</th>\n      <td>2</td>\n      <td>5990</td>\n    </tr>\n    <tr>\n      <th>2</th>\n      <td>3</td>\n      <td>5972</td>\n    </tr>\n  </tbody>\n</table>\n</div>"
     },
     "execution_count": 39,
     "metadata": {},
     "output_type": "execute_result"
    }
   ],
   "source": [
    "months_2018 = year_2018.groupby(['month'])['target'].sum().reset_index()\n",
    "months_2018"
   ],
   "metadata": {
    "pycharm": {
     "name": "#%%\n"
    },
    "id": "TZqrp8JV0lKE",
    "outputId": "fbfea84c-1902-4201-cec6-2ae54dcf1118"
   }
  },
  {
   "cell_type": "code",
   "execution_count": null,
   "outputs": [
    {
     "data": {
      "text/plain": "Text(0, 0.5, 'Número de pagos incumplidos')"
     },
     "execution_count": 40,
     "metadata": {},
     "output_type": "execute_result"
    },
    {
     "data": {
      "text/plain": "<Figure size 432x288 with 1 Axes>",
      "image/png": "[encoded data removed]"
     },
     "metadata": {
      "needs_background": "light"
     },
     "output_type": "display_data"
    }
   ],
   "source": [
    "g = sns.barplot(x=months_2018.month, y=months_2018.target, palette='husl')\n",
    "g.set_title(\"Incumplimientos de pago por mes en 2018\", fontsize=15)\n",
    "g.set_xlabel(\"Mes\", fontsize=12)\n",
    "g.set_ylabel(\"Número de pagos incumplidos\", fontsize=12)"
   ],
   "metadata": {
    "pycharm": {
     "name": "#%%\n"
    },
    "id": "UVwrqRgE0lKF",
    "outputId": "94b14c2a-63ba-4954-ca36-a60080af9dba"
   }
  },
  {
   "cell_type": "markdown",
   "source": [
    "En ambos años se ve un pequeño crecimiento de incumplimiento de pagos al pasar los meses. En enero de 2018 hubieron mas incumplimientos que en diciembre de 2017. Es decir, cada vez se cumplen menos los pagos de las deudas al pasar el tiempo. Esto también se puede deber a que aumentaron los clientes. Habría que analizar la proporción de aumento de clientes con el aumento de los incumplimientos de pago."
   ],
   "metadata": {
    "collapsed": false,
    "pycharm": {
     "name": "#%% md\n"
    },
    "id": "og5Lhzxq0lKF"
   }
  },
  {
   "cell_type": "code",
   "execution_count": null,
   "outputs": [],
   "source": [
    "df_reducido.drop(columns=['year'], inplace=True)"
   ],
   "metadata": {
    "pycharm": {
     "name": "#%%\n"
    },
    "id": "bU_Z0ELb0lKF"
   }
  },
  {
   "cell_type": "markdown",
   "source": [
    "## b) Ingeniería de características"
   ],
   "metadata": {
    "collapsed": false,
    "pycharm": {
     "name": "#%% md\n"
    },
    "id": "SAQYFsr50lKF"
   }
  },
  {
   "cell_type": "markdown",
   "source": [
    "### Analizamos la cantidad de registros vacios"
   ],
   "metadata": {
    "collapsed": false,
    "pycharm": {
     "name": "#%% md\n"
    },
    "id": "kZmvV3y90lKF"
   }
  },
  {
   "cell_type": "markdown",
   "source": [
    "Para llevar a cabo el análisis de la cantidad de registros vacíos que posee cada columna utilizamos el porcentaje de los mismos, calculando la cantidad de registros vacíos sobre la cantidad total de registros que posee la columna. Decidimos que si dicho porcentaje es mayor a un 60% se eliminara dicha columna dada la falta de certeza sobre los datos."
   ],
   "metadata": {
    "collapsed": false,
    "pycharm": {
     "name": "#%% md\n"
    },
    "id": "4_de-7k70lKF"
   }
  },
  {
   "cell_type": "code",
   "execution_count": null,
   "outputs": [],
   "source": [
    "def calculate_percentage_of_null_values(df: pd.DataFrame):\n",
    "    number_of_rows = len(df)\n",
    "    count_of_nulls: pd.Series = df.isnull().sum()\n",
    "    percentages = []\n",
    "    for index, count in count_of_nulls.iteritems():\n",
    "        percentage = (count / number_of_rows) * 100\n",
    "            \n",
    "        percentages.append((index,percentage))\n",
    "            \n",
    "    return percentages"
   ],
   "metadata": {
    "pycharm": {
     "name": "#%%\n"
    },
    "id": "wFA-HRSn0lKF"
   }
  },
  {
   "cell_type": "code",
   "execution_count": null,
   "outputs": [],
   "source": [
    "def eliminate_columns_with_high_percentage(percentages: list):\n",
    "    columns_to_eliminate = []\n",
    "    new_percentages = []\n",
    "    for i in percentages:\n",
    "        if(i[1] > 60):\n",
    "            columns_to_eliminate.append(i[0])\n",
    "        else:\n",
    "            new_percentages.append(i)\n",
    "        \n",
    "    df_reducido.drop(columns=columns_to_eliminate , inplace = True)\n",
    "    \n",
    "\n",
    "    return new_percentages\n"
   ],
   "metadata": {
    "pycharm": {
     "name": "#%%\n"
    },
    "id": "CnKJE-bE0lKG"
   }
  },
  {
   "cell_type": "code",
   "execution_count": null,
   "outputs": [],
   "source": [
    "percentages = calculate_percentage_of_null_values(df_reducido.drop(columns=['B_31','D_63', 'D_64', 'S_2','target']))\n",
    "percentages = eliminate_columns_with_high_percentage(percentages)"
   ],
   "metadata": {
    "pycharm": {
     "name": "#%%\n"
    },
    "id": "c1D4j3b_0lKG"
   }
  },
  {
   "cell_type": "markdown",
   "source": [
    "Se optó por completar los datos de los registros vacios pertenecientes a las columnas restantes utilizando un método de imputación por regresión logística utilizando las columnas pertenecientes al mismo tipo, es decir, para el caso de completar los datos faltantes de una columna tipo S se utilizan pasos iterativos sobre las demás columnas del mismo tipo y de este modo poder estimar un posible valor. \n",
    "\n",
    "Dada la gran cantidad de datos se limita la cantidad de iteraciones máximas de los datos del dataset en 5. Adicionalmente se podría limitar el rango de valores posibles para dichos registros entre 0 y 1 (ya que las columnas se encuentran normalizadas), sin embargo consideramos de mayor interés el poder obtener valores fuera de dicho rango y en tal caso se evaluaría su utilidad en el análisis de outliers.\n",
    "\n",
    "Otro posible método para completar los datos faltantes es utilizar la media de cada columna sin embargo dicho procedimiento modificaría significativamente el valor del Z-score para los casos donde existan muchos datos faltantes.\n",
    "\n"
   ],
   "metadata": {
    "collapsed": false,
    "pycharm": {
     "name": "#%% md\n"
    },
    "id": "1NCuwPuS0lKG"
   }
  },
  {
   "cell_type": "code",
   "execution_count": null,
   "outputs": [],
   "source": [
    "def columns_by_type(df: pd.DataFrame):\n",
    "    columns = df.columns\n",
    "    columns_by_type = [[],[],[],[],[]] # [D_columns ,S_columns,P_columns,B_columns,R_columns]\n",
    "    \n",
    "    \n",
    "    for column in columns:\n",
    "        if (column[0] == 'D'):\n",
    "            columns_by_type[0].append(column)\n",
    "        elif (column[0] == 'S'):\n",
    "            columns_by_type[1].append(column)\n",
    "        elif (column[0] == 'P'):\n",
    "            columns_by_type[2].append(column)\n",
    "        elif (column[0] == 'B'):\n",
    "            columns_by_type[3].append(column)\n",
    "        elif (column[0] == 'R'):\n",
    "            columns_by_type[4].append(column)\n",
    "    return columns_by_type"
   ],
   "metadata": {
    "pycharm": {
     "name": "#%%\n"
    },
    "id": "KnDCNm_y0lKG"
   }
  },
  {
   "cell_type": "code",
   "execution_count": null,
   "outputs": [],
   "source": [
    "from sklearn.experimental import enable_iterative_imputer\n",
    "from sklearn.impute import IterativeImputer\n",
    "from sklearn.linear_model import LinearRegression\n",
    "import math\n",
    "\n",
    "columns = columns_by_type(df_reducido.drop(columns=['B_31','D_63', 'D_64', 'S_2','target']))"
   ],
   "metadata": {
    "pycharm": {
     "name": "#%%\n"
    },
    "id": "6Q0-KNic0lKG"
   }
  },
  {
   "cell_type": "code",
   "execution_count": null,
   "outputs": [],
   "source": [
    "def imput_and_replace_nans(columns: pd.DataFrame):\n",
    "    lr = LinearRegression()\n",
    "    imp = IterativeImputer(estimator=lr,missing_values=np.nan, max_iter=10, random_state=10)\n",
    "    columns_without_nans = imp.fit_transform(columns)\n",
    "    \n",
    "    index = 0\n",
    "    k = 0\n",
    "    for column_i in columns:    \n",
    "        for new_column in columns_without_nans:\n",
    "        \n",
    "            if math.isnan(df_reducido.loc[index,column_i]):\n",
    "            \n",
    "                df_reducido.loc[index,column_i] = new_column[k]\n",
    "            index += 1 \n",
    "        \n",
    "        k += 1\n",
    "        index = 0"
   ],
   "metadata": {
    "pycharm": {
     "name": "#%%\n"
    },
    "id": "_Zx_xout0lKG"
   }
  },
  {
   "cell_type": "code",
   "execution_count": null,
   "outputs": [],
   "source": [
    "imput_and_replace_nans(df_reducido[columns[2]].copy())"
   ],
   "metadata": {
    "pycharm": {
     "name": "#%%\n"
    },
    "id": "F7D2rqTb0lKG"
   }
  },
  {
   "cell_type": "code",
   "execution_count": null,
   "outputs": [],
   "source": [
    "imput_and_replace_nans(df_reducido[columns[1]].copy())"
   ],
   "metadata": {
    "pycharm": {
     "name": "#%%\n"
    },
    "id": "9-f94skV0lKH"
   }
  },
  {
   "cell_type": "code",
   "execution_count": null,
   "outputs": [],
   "source": [
    "imput_and_replace_nans(df_reducido[columns[4]].copy())"
   ],
   "metadata": {
    "pycharm": {
     "name": "#%%\n"
    },
    "id": "eHjl66Y30lKH"
   }
  },
  {
   "cell_type": "code",
   "execution_count": null,
   "outputs": [],
   "source": [
    "imput_and_replace_nans(df_reducido[columns[3]].copy())"
   ],
   "metadata": {
    "pycharm": {
     "name": "#%%\n"
    },
    "id": "N-EsQMR30lKH"
   }
  },
  {
   "cell_type": "code",
   "execution_count": null,
   "outputs": [
    {
     "name": "stderr",
     "output_type": "stream",
     "text": [
      "/Users/framos/Desktop/Datos-TPS/datos-tp3/env/lib/python3.9/site-packages/sklearn/impute/_iterative.py:700: ConvergenceWarning: [IterativeImputer] Early stopping criterion not reached.\n",
      "  warnings.warn(\n"
     ]
    }
   ],
   "source": [
    "imput_and_replace_nans(df_reducido[columns[0]].copy())"
   ],
   "metadata": {
    "pycharm": {
     "name": "#%%\n"
    },
    "id": "0QpkVi4G0lKH",
    "outputId": "c72dd21f-8f97-4dc3-9a90-9440c58f5a94"
   }
  },
  {
   "cell_type": "markdown",
   "source": [
    "Verificamos que ninguna de las columnas trabajadas posea datos nulos."
   ],
   "metadata": {
    "collapsed": false,
    "pycharm": {
     "name": "#%% md\n"
    },
    "id": "_9stUp_k0lKH"
   }
  },
  {
   "cell_type": "code",
   "execution_count": null,
   "outputs": [
    {
     "data": {
      "text/plain": "('B_1', 0.0)"
     },
     "execution_count": 54,
     "metadata": {},
     "output_type": "execute_result"
    }
   ],
   "source": [
    "percentages = calculate_percentage_of_null_values(df_reducido.drop(columns=['B_31','D_63', 'D_64', 'S_2','target']))\n",
    "max(percentages,key=lambda item:item[1])"
   ],
   "metadata": {
    "pycharm": {
     "name": "#%%\n"
    },
    "id": "F2FXJ9aX0lKH",
    "outputId": "67f449d0-8c49-48bf-ca37-be363b107e9c"
   }
  },
  {
   "cell_type": "markdown",
   "source": [
    "Guardamos el dataset obtenido con el fin de almacenar los resultados obtenidos mediante la imputación de datos. A partir de este punto se comienza a trabajar en base a este conjunto de datos modificados respecto a los originales."
   ],
   "metadata": {
    "collapsed": false,
    "pycharm": {
     "name": "#%% md\n"
    },
    "id": "IDz0BOws0lKH"
   }
  },
  {
   "cell_type": "code",
   "execution_count": null,
   "outputs": [
    {
     "data": {
      "text/plain": "Index(['B_1', 'B_10', 'B_11', 'B_12', 'B_13', 'B_14', 'B_15', 'B_16', 'B_17',\n       'B_18',\n       ...\n       'S_26', 'S_27', 'S_3', 'S_5', 'S_6', 'S_7', 'S_8', 'S_9', 'customer_ID',\n       'target'],\n      dtype='object', length=166)"
     },
     "execution_count": 55,
     "metadata": {},
     "output_type": "execute_result"
    }
   ],
   "source": [
    "df_reducido.columns"
   ],
   "metadata": {
    "pycharm": {
     "name": "#%%\n"
    },
    "id": "9iYjAHTs0lKH",
    "outputId": "2eee8be4-854d-409d-abc3-15080a5f3f33"
   }
  },
  {
   "cell_type": "code",
   "execution_count": null,
   "outputs": [],
   "source": [
    "BEFORE_OUTLIERS_PATH = \"./data/before_outliers\""
   ],
   "metadata": {
    "pycharm": {
     "name": "#%%\n"
    },
    "id": "eusINYZO0lKI"
   }
  },
  {
   "cell_type": "code",
   "execution_count": null,
   "outputs": [],
   "source": [
    "df_reducido.to_parquet(BEFORE_OUTLIERS_PATH)"
   ],
   "metadata": {
    "pycharm": {
     "name": "#%%\n"
    },
    "id": "84LD-3tw0lKI"
   }
  },
  {
   "cell_type": "code",
   "execution_count": null,
   "outputs": [],
   "source": [
    "#df_reducido.to_parquet(\"gdrive/My Drive/train_data_reducido_sin_vacios\")\n",
    "df_reducido = pd.read_parquet(\"gdrive/My Drive/train_data_reducido_sin_vacios\")"
   ],
   "metadata": {
    "pycharm": {
     "name": "#%%\n"
    },
    "id": "NjV6nmlj0lKI"
   }
  },
  {
   "cell_type": "code",
   "execution_count": null,
   "outputs": [],
   "source": [
    "df_reducido = pd.read_parquet(BEFORE_OUTLIERS_PATH)"
   ],
   "metadata": {
    "pycharm": {
     "name": "#%%\n"
    },
    "id": "0Q2YnCxF0lKI"
   }
  },
  {
   "cell_type": "markdown",
   "source": [
    "### Detección de outliers"
   ],
   "metadata": {
    "collapsed": false,
    "pycharm": {
     "name": "#%% md\n"
    },
    "id": "wJwEDaAa0lKI"
   }
  },
  {
   "cell_type": "markdown",
   "source": [
    "Utilizamos el método de Z-score para la detección de outliers univariados, para ello creamos un nuevo dataframe que contiene el score correspondiente para cada uno de los datos. El z-score se calcula de la siguiente manera:\n",
    "- $ Z - Score = \\frac{x_{i} – \\mu}{\\sigma}$ \n",
    "\n",
    "Siendo $x_{i}$ el valor al cual se le quiere calcular su Score, $\\mu$ la media de la variable y $\\sigma$ su respectiva varianza\n"
   ],
   "metadata": {
    "collapsed": false,
    "pycharm": {
     "name": "#%% md\n"
    },
    "id": "x-NxxHSS0lKI"
   }
  },
  {
   "cell_type": "code",
   "execution_count": null,
   "outputs": [
    {
     "name": "stderr",
     "output_type": "stream",
     "text": [
      "/var/folders/b2/9tk1ndx57qv9hxwryph3018c0000gn/T/ipykernel_1448/2673352080.py:7: PerformanceWarning: DataFrame is highly fragmented.  This is usually the result of calling `frame.insert` many times, which has poor performance.  Consider joining all columns at once using pd.concat(axis=1) instead. To get a de-fragmented frame, use `newframe = frame.copy()`\n",
      "  zscore_df[column_name + column] = st.zscore(df_reducido[column])\n",
      "/var/folders/b2/9tk1ndx57qv9hxwryph3018c0000gn/T/ipykernel_1448/2673352080.py:7: PerformanceWarning: DataFrame is highly fragmented.  This is usually the result of calling `frame.insert` many times, which has poor performance.  Consider joining all columns at once using pd.concat(axis=1) instead. To get a de-fragmented frame, use `newframe = frame.copy()`\n",
      "  zscore_df[column_name + column] = st.zscore(df_reducido[column])\n",
      "/var/folders/b2/9tk1ndx57qv9hxwryph3018c0000gn/T/ipykernel_1448/2673352080.py:7: PerformanceWarning: DataFrame is highly fragmented.  This is usually the result of calling `frame.insert` many times, which has poor performance.  Consider joining all columns at once using pd.concat(axis=1) instead. To get a de-fragmented frame, use `newframe = frame.copy()`\n",
      "  zscore_df[column_name + column] = st.zscore(df_reducido[column])\n",
      "/var/folders/b2/9tk1ndx57qv9hxwryph3018c0000gn/T/ipykernel_1448/2673352080.py:7: PerformanceWarning: DataFrame is highly fragmented.  This is usually the result of calling `frame.insert` many times, which has poor performance.  Consider joining all columns at once using pd.concat(axis=1) instead. To get a de-fragmented frame, use `newframe = frame.copy()`\n",
      "  zscore_df[column_name + column] = st.zscore(df_reducido[column])\n",
      "/var/folders/b2/9tk1ndx57qv9hxwryph3018c0000gn/T/ipykernel_1448/2673352080.py:7: PerformanceWarning: DataFrame is highly fragmented.  This is usually the result of calling `frame.insert` many times, which has poor performance.  Consider joining all columns at once using pd.concat(axis=1) instead. To get a de-fragmented frame, use `newframe = frame.copy()`\n",
      "  zscore_df[column_name + column] = st.zscore(df_reducido[column])\n",
      "/var/folders/b2/9tk1ndx57qv9hxwryph3018c0000gn/T/ipykernel_1448/2673352080.py:7: PerformanceWarning: DataFrame is highly fragmented.  This is usually the result of calling `frame.insert` many times, which has poor performance.  Consider joining all columns at once using pd.concat(axis=1) instead. To get a de-fragmented frame, use `newframe = frame.copy()`\n",
      "  zscore_df[column_name + column] = st.zscore(df_reducido[column])\n",
      "/var/folders/b2/9tk1ndx57qv9hxwryph3018c0000gn/T/ipykernel_1448/2673352080.py:7: PerformanceWarning: DataFrame is highly fragmented.  This is usually the result of calling `frame.insert` many times, which has poor performance.  Consider joining all columns at once using pd.concat(axis=1) instead. To get a de-fragmented frame, use `newframe = frame.copy()`\n",
      "  zscore_df[column_name + column] = st.zscore(df_reducido[column])\n",
      "/var/folders/b2/9tk1ndx57qv9hxwryph3018c0000gn/T/ipykernel_1448/2673352080.py:7: PerformanceWarning: DataFrame is highly fragmented.  This is usually the result of calling `frame.insert` many times, which has poor performance.  Consider joining all columns at once using pd.concat(axis=1) instead. To get a de-fragmented frame, use `newframe = frame.copy()`\n",
      "  zscore_df[column_name + column] = st.zscore(df_reducido[column])\n",
      "/var/folders/b2/9tk1ndx57qv9hxwryph3018c0000gn/T/ipykernel_1448/2673352080.py:7: PerformanceWarning: DataFrame is highly fragmented.  This is usually the result of calling `frame.insert` many times, which has poor performance.  Consider joining all columns at once using pd.concat(axis=1) instead. To get a de-fragmented frame, use `newframe = frame.copy()`\n",
      "  zscore_df[column_name + column] = st.zscore(df_reducido[column])\n",
      "/var/folders/b2/9tk1ndx57qv9hxwryph3018c0000gn/T/ipykernel_1448/2673352080.py:7: PerformanceWarning: DataFrame is highly fragmented.  This is usually the result of calling `frame.insert` many times, which has poor performance.  Consider joining all columns at once using pd.concat(axis=1) instead. To get a de-fragmented frame, use `newframe = frame.copy()`\n",
      "  zscore_df[column_name + column] = st.zscore(df_reducido[column])\n",
      "/var/folders/b2/9tk1ndx57qv9hxwryph3018c0000gn/T/ipykernel_1448/2673352080.py:7: PerformanceWarning: DataFrame is highly fragmented.  This is usually the result of calling `frame.insert` many times, which has poor performance.  Consider joining all columns at once using pd.concat(axis=1) instead. To get a de-fragmented frame, use `newframe = frame.copy()`\n",
      "  zscore_df[column_name + column] = st.zscore(df_reducido[column])\n",
      "/var/folders/b2/9tk1ndx57qv9hxwryph3018c0000gn/T/ipykernel_1448/2673352080.py:7: PerformanceWarning: DataFrame is highly fragmented.  This is usually the result of calling `frame.insert` many times, which has poor performance.  Consider joining all columns at once using pd.concat(axis=1) instead. To get a de-fragmented frame, use `newframe = frame.copy()`\n",
      "  zscore_df[column_name + column] = st.zscore(df_reducido[column])\n",
      "/var/folders/b2/9tk1ndx57qv9hxwryph3018c0000gn/T/ipykernel_1448/2673352080.py:7: PerformanceWarning: DataFrame is highly fragmented.  This is usually the result of calling `frame.insert` many times, which has poor performance.  Consider joining all columns at once using pd.concat(axis=1) instead. To get a de-fragmented frame, use `newframe = frame.copy()`\n",
      "  zscore_df[column_name + column] = st.zscore(df_reducido[column])\n",
      "/var/folders/b2/9tk1ndx57qv9hxwryph3018c0000gn/T/ipykernel_1448/2673352080.py:7: PerformanceWarning: DataFrame is highly fragmented.  This is usually the result of calling `frame.insert` many times, which has poor performance.  Consider joining all columns at once using pd.concat(axis=1) instead. To get a de-fragmented frame, use `newframe = frame.copy()`\n",
      "  zscore_df[column_name + column] = st.zscore(df_reducido[column])\n",
      "/var/folders/b2/9tk1ndx57qv9hxwryph3018c0000gn/T/ipykernel_1448/2673352080.py:7: PerformanceWarning: DataFrame is highly fragmented.  This is usually the result of calling `frame.insert` many times, which has poor performance.  Consider joining all columns at once using pd.concat(axis=1) instead. To get a de-fragmented frame, use `newframe = frame.copy()`\n",
      "  zscore_df[column_name + column] = st.zscore(df_reducido[column])\n",
      "/var/folders/b2/9tk1ndx57qv9hxwryph3018c0000gn/T/ipykernel_1448/2673352080.py:7: PerformanceWarning: DataFrame is highly fragmented.  This is usually the result of calling `frame.insert` many times, which has poor performance.  Consider joining all columns at once using pd.concat(axis=1) instead. To get a de-fragmented frame, use `newframe = frame.copy()`\n",
      "  zscore_df[column_name + column] = st.zscore(df_reducido[column])\n",
      "/var/folders/b2/9tk1ndx57qv9hxwryph3018c0000gn/T/ipykernel_1448/2673352080.py:7: PerformanceWarning: DataFrame is highly fragmented.  This is usually the result of calling `frame.insert` many times, which has poor performance.  Consider joining all columns at once using pd.concat(axis=1) instead. To get a de-fragmented frame, use `newframe = frame.copy()`\n",
      "  zscore_df[column_name + column] = st.zscore(df_reducido[column])\n",
      "/var/folders/b2/9tk1ndx57qv9hxwryph3018c0000gn/T/ipykernel_1448/2673352080.py:7: PerformanceWarning: DataFrame is highly fragmented.  This is usually the result of calling `frame.insert` many times, which has poor performance.  Consider joining all columns at once using pd.concat(axis=1) instead. To get a de-fragmented frame, use `newframe = frame.copy()`\n",
      "  zscore_df[column_name + column] = st.zscore(df_reducido[column])\n",
      "/var/folders/b2/9tk1ndx57qv9hxwryph3018c0000gn/T/ipykernel_1448/2673352080.py:7: PerformanceWarning: DataFrame is highly fragmented.  This is usually the result of calling `frame.insert` many times, which has poor performance.  Consider joining all columns at once using pd.concat(axis=1) instead. To get a de-fragmented frame, use `newframe = frame.copy()`\n",
      "  zscore_df[column_name + column] = st.zscore(df_reducido[column])\n",
      "/var/folders/b2/9tk1ndx57qv9hxwryph3018c0000gn/T/ipykernel_1448/2673352080.py:7: PerformanceWarning: DataFrame is highly fragmented.  This is usually the result of calling `frame.insert` many times, which has poor performance.  Consider joining all columns at once using pd.concat(axis=1) instead. To get a de-fragmented frame, use `newframe = frame.copy()`\n",
      "  zscore_df[column_name + column] = st.zscore(df_reducido[column])\n",
      "/var/folders/b2/9tk1ndx57qv9hxwryph3018c0000gn/T/ipykernel_1448/2673352080.py:7: PerformanceWarning: DataFrame is highly fragmented.  This is usually the result of calling `frame.insert` many times, which has poor performance.  Consider joining all columns at once using pd.concat(axis=1) instead. To get a de-fragmented frame, use `newframe = frame.copy()`\n",
      "  zscore_df[column_name + column] = st.zscore(df_reducido[column])\n",
      "/var/folders/b2/9tk1ndx57qv9hxwryph3018c0000gn/T/ipykernel_1448/2673352080.py:7: PerformanceWarning: DataFrame is highly fragmented.  This is usually the result of calling `frame.insert` many times, which has poor performance.  Consider joining all columns at once using pd.concat(axis=1) instead. To get a de-fragmented frame, use `newframe = frame.copy()`\n",
      "  zscore_df[column_name + column] = st.zscore(df_reducido[column])\n",
      "/var/folders/b2/9tk1ndx57qv9hxwryph3018c0000gn/T/ipykernel_1448/2673352080.py:7: PerformanceWarning: DataFrame is highly fragmented.  This is usually the result of calling `frame.insert` many times, which has poor performance.  Consider joining all columns at once using pd.concat(axis=1) instead. To get a de-fragmented frame, use `newframe = frame.copy()`\n",
      "  zscore_df[column_name + column] = st.zscore(df_reducido[column])\n",
      "/var/folders/b2/9tk1ndx57qv9hxwryph3018c0000gn/T/ipykernel_1448/2673352080.py:7: PerformanceWarning: DataFrame is highly fragmented.  This is usually the result of calling `frame.insert` many times, which has poor performance.  Consider joining all columns at once using pd.concat(axis=1) instead. To get a de-fragmented frame, use `newframe = frame.copy()`\n",
      "  zscore_df[column_name + column] = st.zscore(df_reducido[column])\n",
      "/var/folders/b2/9tk1ndx57qv9hxwryph3018c0000gn/T/ipykernel_1448/2673352080.py:7: PerformanceWarning: DataFrame is highly fragmented.  This is usually the result of calling `frame.insert` many times, which has poor performance.  Consider joining all columns at once using pd.concat(axis=1) instead. To get a de-fragmented frame, use `newframe = frame.copy()`\n",
      "  zscore_df[column_name + column] = st.zscore(df_reducido[column])\n",
      "/var/folders/b2/9tk1ndx57qv9hxwryph3018c0000gn/T/ipykernel_1448/2673352080.py:7: PerformanceWarning: DataFrame is highly fragmented.  This is usually the result of calling `frame.insert` many times, which has poor performance.  Consider joining all columns at once using pd.concat(axis=1) instead. To get a de-fragmented frame, use `newframe = frame.copy()`\n",
      "  zscore_df[column_name + column] = st.zscore(df_reducido[column])\n",
      "/var/folders/b2/9tk1ndx57qv9hxwryph3018c0000gn/T/ipykernel_1448/2673352080.py:7: PerformanceWarning: DataFrame is highly fragmented.  This is usually the result of calling `frame.insert` many times, which has poor performance.  Consider joining all columns at once using pd.concat(axis=1) instead. To get a de-fragmented frame, use `newframe = frame.copy()`\n",
      "  zscore_df[column_name + column] = st.zscore(df_reducido[column])\n",
      "/var/folders/b2/9tk1ndx57qv9hxwryph3018c0000gn/T/ipykernel_1448/2673352080.py:7: PerformanceWarning: DataFrame is highly fragmented.  This is usually the result of calling `frame.insert` many times, which has poor performance.  Consider joining all columns at once using pd.concat(axis=1) instead. To get a de-fragmented frame, use `newframe = frame.copy()`\n",
      "  zscore_df[column_name + column] = st.zscore(df_reducido[column])\n",
      "/var/folders/b2/9tk1ndx57qv9hxwryph3018c0000gn/T/ipykernel_1448/2673352080.py:7: PerformanceWarning: DataFrame is highly fragmented.  This is usually the result of calling `frame.insert` many times, which has poor performance.  Consider joining all columns at once using pd.concat(axis=1) instead. To get a de-fragmented frame, use `newframe = frame.copy()`\n",
      "  zscore_df[column_name + column] = st.zscore(df_reducido[column])\n",
      "/var/folders/b2/9tk1ndx57qv9hxwryph3018c0000gn/T/ipykernel_1448/2673352080.py:7: PerformanceWarning: DataFrame is highly fragmented.  This is usually the result of calling `frame.insert` many times, which has poor performance.  Consider joining all columns at once using pd.concat(axis=1) instead. To get a de-fragmented frame, use `newframe = frame.copy()`\n",
      "  zscore_df[column_name + column] = st.zscore(df_reducido[column])\n",
      "/var/folders/b2/9tk1ndx57qv9hxwryph3018c0000gn/T/ipykernel_1448/2673352080.py:7: PerformanceWarning: DataFrame is highly fragmented.  This is usually the result of calling `frame.insert` many times, which has poor performance.  Consider joining all columns at once using pd.concat(axis=1) instead. To get a de-fragmented frame, use `newframe = frame.copy()`\n",
      "  zscore_df[column_name + column] = st.zscore(df_reducido[column])\n",
      "/var/folders/b2/9tk1ndx57qv9hxwryph3018c0000gn/T/ipykernel_1448/2673352080.py:7: PerformanceWarning: DataFrame is highly fragmented.  This is usually the result of calling `frame.insert` many times, which has poor performance.  Consider joining all columns at once using pd.concat(axis=1) instead. To get a de-fragmented frame, use `newframe = frame.copy()`\n",
      "  zscore_df[column_name + column] = st.zscore(df_reducido[column])\n",
      "/var/folders/b2/9tk1ndx57qv9hxwryph3018c0000gn/T/ipykernel_1448/2673352080.py:7: PerformanceWarning: DataFrame is highly fragmented.  This is usually the result of calling `frame.insert` many times, which has poor performance.  Consider joining all columns at once using pd.concat(axis=1) instead. To get a de-fragmented frame, use `newframe = frame.copy()`\n",
      "  zscore_df[column_name + column] = st.zscore(df_reducido[column])\n",
      "/var/folders/b2/9tk1ndx57qv9hxwryph3018c0000gn/T/ipykernel_1448/2673352080.py:7: PerformanceWarning: DataFrame is highly fragmented.  This is usually the result of calling `frame.insert` many times, which has poor performance.  Consider joining all columns at once using pd.concat(axis=1) instead. To get a de-fragmented frame, use `newframe = frame.copy()`\n",
      "  zscore_df[column_name + column] = st.zscore(df_reducido[column])\n",
      "/var/folders/b2/9tk1ndx57qv9hxwryph3018c0000gn/T/ipykernel_1448/2673352080.py:7: PerformanceWarning: DataFrame is highly fragmented.  This is usually the result of calling `frame.insert` many times, which has poor performance.  Consider joining all columns at once using pd.concat(axis=1) instead. To get a de-fragmented frame, use `newframe = frame.copy()`\n",
      "  zscore_df[column_name + column] = st.zscore(df_reducido[column])\n",
      "/var/folders/b2/9tk1ndx57qv9hxwryph3018c0000gn/T/ipykernel_1448/2673352080.py:7: PerformanceWarning: DataFrame is highly fragmented.  This is usually the result of calling `frame.insert` many times, which has poor performance.  Consider joining all columns at once using pd.concat(axis=1) instead. To get a de-fragmented frame, use `newframe = frame.copy()`\n",
      "  zscore_df[column_name + column] = st.zscore(df_reducido[column])\n",
      "/var/folders/b2/9tk1ndx57qv9hxwryph3018c0000gn/T/ipykernel_1448/2673352080.py:7: PerformanceWarning: DataFrame is highly fragmented.  This is usually the result of calling `frame.insert` many times, which has poor performance.  Consider joining all columns at once using pd.concat(axis=1) instead. To get a de-fragmented frame, use `newframe = frame.copy()`\n",
      "  zscore_df[column_name + column] = st.zscore(df_reducido[column])\n",
      "/var/folders/b2/9tk1ndx57qv9hxwryph3018c0000gn/T/ipykernel_1448/2673352080.py:7: PerformanceWarning: DataFrame is highly fragmented.  This is usually the result of calling `frame.insert` many times, which has poor performance.  Consider joining all columns at once using pd.concat(axis=1) instead. To get a de-fragmented frame, use `newframe = frame.copy()`\n",
      "  zscore_df[column_name + column] = st.zscore(df_reducido[column])\n",
      "/var/folders/b2/9tk1ndx57qv9hxwryph3018c0000gn/T/ipykernel_1448/2673352080.py:7: PerformanceWarning: DataFrame is highly fragmented.  This is usually the result of calling `frame.insert` many times, which has poor performance.  Consider joining all columns at once using pd.concat(axis=1) instead. To get a de-fragmented frame, use `newframe = frame.copy()`\n",
      "  zscore_df[column_name + column] = st.zscore(df_reducido[column])\n",
      "/var/folders/b2/9tk1ndx57qv9hxwryph3018c0000gn/T/ipykernel_1448/2673352080.py:7: PerformanceWarning: DataFrame is highly fragmented.  This is usually the result of calling `frame.insert` many times, which has poor performance.  Consider joining all columns at once using pd.concat(axis=1) instead. To get a de-fragmented frame, use `newframe = frame.copy()`\n",
      "  zscore_df[column_name + column] = st.zscore(df_reducido[column])\n",
      "/var/folders/b2/9tk1ndx57qv9hxwryph3018c0000gn/T/ipykernel_1448/2673352080.py:7: PerformanceWarning: DataFrame is highly fragmented.  This is usually the result of calling `frame.insert` many times, which has poor performance.  Consider joining all columns at once using pd.concat(axis=1) instead. To get a de-fragmented frame, use `newframe = frame.copy()`\n",
      "  zscore_df[column_name + column] = st.zscore(df_reducido[column])\n",
      "/var/folders/b2/9tk1ndx57qv9hxwryph3018c0000gn/T/ipykernel_1448/2673352080.py:7: PerformanceWarning: DataFrame is highly fragmented.  This is usually the result of calling `frame.insert` many times, which has poor performance.  Consider joining all columns at once using pd.concat(axis=1) instead. To get a de-fragmented frame, use `newframe = frame.copy()`\n",
      "  zscore_df[column_name + column] = st.zscore(df_reducido[column])\n",
      "/var/folders/b2/9tk1ndx57qv9hxwryph3018c0000gn/T/ipykernel_1448/2673352080.py:7: PerformanceWarning: DataFrame is highly fragmented.  This is usually the result of calling `frame.insert` many times, which has poor performance.  Consider joining all columns at once using pd.concat(axis=1) instead. To get a de-fragmented frame, use `newframe = frame.copy()`\n",
      "  zscore_df[column_name + column] = st.zscore(df_reducido[column])\n",
      "/var/folders/b2/9tk1ndx57qv9hxwryph3018c0000gn/T/ipykernel_1448/2673352080.py:7: PerformanceWarning: DataFrame is highly fragmented.  This is usually the result of calling `frame.insert` many times, which has poor performance.  Consider joining all columns at once using pd.concat(axis=1) instead. To get a de-fragmented frame, use `newframe = frame.copy()`\n",
      "  zscore_df[column_name + column] = st.zscore(df_reducido[column])\n",
      "/var/folders/b2/9tk1ndx57qv9hxwryph3018c0000gn/T/ipykernel_1448/2673352080.py:7: PerformanceWarning: DataFrame is highly fragmented.  This is usually the result of calling `frame.insert` many times, which has poor performance.  Consider joining all columns at once using pd.concat(axis=1) instead. To get a de-fragmented frame, use `newframe = frame.copy()`\n",
      "  zscore_df[column_name + column] = st.zscore(df_reducido[column])\n",
      "/var/folders/b2/9tk1ndx57qv9hxwryph3018c0000gn/T/ipykernel_1448/2673352080.py:7: PerformanceWarning: DataFrame is highly fragmented.  This is usually the result of calling `frame.insert` many times, which has poor performance.  Consider joining all columns at once using pd.concat(axis=1) instead. To get a de-fragmented frame, use `newframe = frame.copy()`\n",
      "  zscore_df[column_name + column] = st.zscore(df_reducido[column])\n",
      "/var/folders/b2/9tk1ndx57qv9hxwryph3018c0000gn/T/ipykernel_1448/2673352080.py:7: PerformanceWarning: DataFrame is highly fragmented.  This is usually the result of calling `frame.insert` many times, which has poor performance.  Consider joining all columns at once using pd.concat(axis=1) instead. To get a de-fragmented frame, use `newframe = frame.copy()`\n",
      "  zscore_df[column_name + column] = st.zscore(df_reducido[column])\n",
      "/var/folders/b2/9tk1ndx57qv9hxwryph3018c0000gn/T/ipykernel_1448/2673352080.py:7: PerformanceWarning: DataFrame is highly fragmented.  This is usually the result of calling `frame.insert` many times, which has poor performance.  Consider joining all columns at once using pd.concat(axis=1) instead. To get a de-fragmented frame, use `newframe = frame.copy()`\n",
      "  zscore_df[column_name + column] = st.zscore(df_reducido[column])\n",
      "/var/folders/b2/9tk1ndx57qv9hxwryph3018c0000gn/T/ipykernel_1448/2673352080.py:7: PerformanceWarning: DataFrame is highly fragmented.  This is usually the result of calling `frame.insert` many times, which has poor performance.  Consider joining all columns at once using pd.concat(axis=1) instead. To get a de-fragmented frame, use `newframe = frame.copy()`\n",
      "  zscore_df[column_name + column] = st.zscore(df_reducido[column])\n",
      "/var/folders/b2/9tk1ndx57qv9hxwryph3018c0000gn/T/ipykernel_1448/2673352080.py:7: PerformanceWarning: DataFrame is highly fragmented.  This is usually the result of calling `frame.insert` many times, which has poor performance.  Consider joining all columns at once using pd.concat(axis=1) instead. To get a de-fragmented frame, use `newframe = frame.copy()`\n",
      "  zscore_df[column_name + column] = st.zscore(df_reducido[column])\n",
      "/var/folders/b2/9tk1ndx57qv9hxwryph3018c0000gn/T/ipykernel_1448/2673352080.py:7: PerformanceWarning: DataFrame is highly fragmented.  This is usually the result of calling `frame.insert` many times, which has poor performance.  Consider joining all columns at once using pd.concat(axis=1) instead. To get a de-fragmented frame, use `newframe = frame.copy()`\n",
      "  zscore_df[column_name + column] = st.zscore(df_reducido[column])\n",
      "/var/folders/b2/9tk1ndx57qv9hxwryph3018c0000gn/T/ipykernel_1448/2673352080.py:7: PerformanceWarning: DataFrame is highly fragmented.  This is usually the result of calling `frame.insert` many times, which has poor performance.  Consider joining all columns at once using pd.concat(axis=1) instead. To get a de-fragmented frame, use `newframe = frame.copy()`\n",
      "  zscore_df[column_name + column] = st.zscore(df_reducido[column])\n",
      "/var/folders/b2/9tk1ndx57qv9hxwryph3018c0000gn/T/ipykernel_1448/2673352080.py:7: PerformanceWarning: DataFrame is highly fragmented.  This is usually the result of calling `frame.insert` many times, which has poor performance.  Consider joining all columns at once using pd.concat(axis=1) instead. To get a de-fragmented frame, use `newframe = frame.copy()`\n",
      "  zscore_df[column_name + column] = st.zscore(df_reducido[column])\n",
      "/var/folders/b2/9tk1ndx57qv9hxwryph3018c0000gn/T/ipykernel_1448/2673352080.py:7: PerformanceWarning: DataFrame is highly fragmented.  This is usually the result of calling `frame.insert` many times, which has poor performance.  Consider joining all columns at once using pd.concat(axis=1) instead. To get a de-fragmented frame, use `newframe = frame.copy()`\n",
      "  zscore_df[column_name + column] = st.zscore(df_reducido[column])\n",
      "/var/folders/b2/9tk1ndx57qv9hxwryph3018c0000gn/T/ipykernel_1448/2673352080.py:7: PerformanceWarning: DataFrame is highly fragmented.  This is usually the result of calling `frame.insert` many times, which has poor performance.  Consider joining all columns at once using pd.concat(axis=1) instead. To get a de-fragmented frame, use `newframe = frame.copy()`\n",
      "  zscore_df[column_name + column] = st.zscore(df_reducido[column])\n",
      "/var/folders/b2/9tk1ndx57qv9hxwryph3018c0000gn/T/ipykernel_1448/2673352080.py:7: PerformanceWarning: DataFrame is highly fragmented.  This is usually the result of calling `frame.insert` many times, which has poor performance.  Consider joining all columns at once using pd.concat(axis=1) instead. To get a de-fragmented frame, use `newframe = frame.copy()`\n",
      "  zscore_df[column_name + column] = st.zscore(df_reducido[column])\n",
      "/var/folders/b2/9tk1ndx57qv9hxwryph3018c0000gn/T/ipykernel_1448/2673352080.py:7: PerformanceWarning: DataFrame is highly fragmented.  This is usually the result of calling `frame.insert` many times, which has poor performance.  Consider joining all columns at once using pd.concat(axis=1) instead. To get a de-fragmented frame, use `newframe = frame.copy()`\n",
      "  zscore_df[column_name + column] = st.zscore(df_reducido[column])\n",
      "/var/folders/b2/9tk1ndx57qv9hxwryph3018c0000gn/T/ipykernel_1448/2673352080.py:7: PerformanceWarning: DataFrame is highly fragmented.  This is usually the result of calling `frame.insert` many times, which has poor performance.  Consider joining all columns at once using pd.concat(axis=1) instead. To get a de-fragmented frame, use `newframe = frame.copy()`\n",
      "  zscore_df[column_name + column] = st.zscore(df_reducido[column])\n",
      "/var/folders/b2/9tk1ndx57qv9hxwryph3018c0000gn/T/ipykernel_1448/2673352080.py:7: PerformanceWarning: DataFrame is highly fragmented.  This is usually the result of calling `frame.insert` many times, which has poor performance.  Consider joining all columns at once using pd.concat(axis=1) instead. To get a de-fragmented frame, use `newframe = frame.copy()`\n",
      "  zscore_df[column_name + column] = st.zscore(df_reducido[column])\n",
      "/var/folders/b2/9tk1ndx57qv9hxwryph3018c0000gn/T/ipykernel_1448/2673352080.py:7: PerformanceWarning: DataFrame is highly fragmented.  This is usually the result of calling `frame.insert` many times, which has poor performance.  Consider joining all columns at once using pd.concat(axis=1) instead. To get a de-fragmented frame, use `newframe = frame.copy()`\n",
      "  zscore_df[column_name + column] = st.zscore(df_reducido[column])\n"
     ]
    }
   ],
   "source": [
    "import scipy.stats as st\n",
    "\n",
    "columns = df_reducido.drop(columns=['B_31','D_63', 'D_64', 'S_2','target', 'customer_ID']).columns\n",
    "zscore_df = pd.DataFrame()\n",
    "column_name = 'z_'\n",
    "for column in columns:\n",
    "      zscore_df[column_name + column] = st.zscore(df_reducido[column])"
   ],
   "metadata": {
    "pycharm": {
     "name": "#%%\n"
    },
    "id": "0pvy5qbB0lKI",
    "outputId": "dcee95db-e4d5-4f37-bc61-f45dcc717d34"
   }
  },
  {
   "cell_type": "code",
   "execution_count": null,
   "outputs": [
    {
     "data": {
      "text/plain": "           z_B_1    z_B_10    z_B_11    z_B_12    z_B_13    z_B_14    z_B_15  \\\n0      -0.574047  0.020524 -0.513082  0.030358 -0.044905 -0.304307 -0.142573   \n1      -0.107459 -0.024294 -0.216469 -0.130120 -0.155738 -0.257150 -0.156673   \n2       3.808099 -0.025822  3.975275 -0.119413 -0.156472  0.693775 -0.141862   \n3      -0.156060 -0.025468 -0.236008 -0.133845 -0.137139 -0.266196 -0.148450   \n4      -0.126915 -0.024727 -0.184794 -0.124079 -0.119305 -0.235161 -0.153096   \n...          ...       ...       ...       ...       ...       ...       ...   \n276567 -0.543898 -0.000075 -0.512648 -0.142154 -0.165236 -0.321663 -0.154778   \n276568 -0.446592  0.022913 -0.448123  0.207664  0.244332  0.002113 -0.134307   \n276569  0.181879 -0.011911  0.117222 -0.110759 -0.023806 -0.093269 -0.160020   \n276570 -0.455496  0.005444 -0.482285 -0.046627 -0.090422 -0.251396 -0.149423   \n276571 -0.381645 -0.009431 -0.403805 -0.059877 -0.039984 -0.215011 -0.089975   \n\n          z_B_16    z_B_17    z_B_18  ...    z_S_24    z_S_25    z_S_26  \\\n0      -0.866369 -0.810010  1.124610  ...  0.214011  0.204914 -0.088807   \n1       1.004742  1.151910 -0.960280  ...  0.274080 -1.699398 -0.119719   \n2       1.634171  1.348356 -1.357978  ...  0.213346  0.239425 -0.122450   \n3      -0.856760 -0.207168 -0.308019  ...  0.245004  0.209827 -0.130785   \n4       0.376857 -1.310263 -1.126735  ...  0.265325 -3.773975 -0.126015   \n...          ...       ...       ...  ...       ...       ...       ...   \n276567 -0.858828 -0.769621  1.118002  ... -0.733468  0.232300 -0.129752   \n276568 -0.859516 -0.734967  1.129404  ...  0.263330  0.241655 -0.023938   \n276569 -0.031903  1.129748 -0.593444  ...  0.251379  0.247101 -0.128294   \n276570 -0.031956 -0.927776  1.126185  ...  0.231380  0.232527 -0.116827   \n276571  1.422847 -0.138514 -0.592887  ...  0.241343  0.247325 -0.133927   \n\n          z_S_27     z_S_3     z_S_5     z_S_6     z_S_7     z_S_8     z_S_9  \n0       1.960135 -0.770650 -0.223435 -0.565221 -0.823186  1.427448 -0.458290  \n1      -0.880009  0.557135 -0.223565 -0.563593  1.186040 -0.680034 -0.089852  \n2       0.028363 -0.392531 -0.178391  1.778186 -0.173155  0.468468  0.073765  \n3      -0.866799 -0.306486 -0.091077  1.787718  0.297523 -0.245852  0.036613  \n4      -0.873879  1.277651 -0.125889 -0.549494  1.827698  0.003863 -0.031535  \n...          ...       ...       ...       ...       ...       ...       ...  \n276567 -0.210670  0.258438 -0.242050  1.784647  0.123898 -1.060834  0.210059  \n276568 -0.869606 -0.545004  0.525961 -0.549540 -0.719262  0.545526 -0.064734  \n276569  0.610571 -0.850867  0.128600 -0.569680 -0.754982  1.121565 -0.344940  \n276570  0.436970 -0.910932 -0.073715 -0.551383 -0.961385  1.245730 -0.432904  \n276571 -0.123570 -1.224045 -0.128142 -0.564693 -1.085037  1.118459 -0.518075  \n\n[276572 rows x 160 columns]",
      "text/html": "<div>\n<style scoped>\n    .dataframe tbody tr th:only-of-type {\n        vertical-align: middle;\n    }\n\n    .dataframe tbody tr th {\n        vertical-align: top;\n    }\n\n    .dataframe thead th {\n        text-align: right;\n    }\n</style>\n<table border=\"1\" class=\"dataframe\">\n  <thead>\n    <tr style=\"text-align: right;\">\n      <th></th>\n      <th>z_B_1</th>\n      <th>z_B_10</th>\n      <th>z_B_11</th>\n      <th>z_B_12</th>\n      <th>z_B_13</th>\n      <th>z_B_14</th>\n      <th>z_B_15</th>\n      <th>z_B_16</th>\n      <th>z_B_17</th>\n      <th>z_B_18</th>\n      <th>...</th>\n      <th>z_S_24</th>\n      <th>z_S_25</th>\n      <th>z_S_26</th>\n      <th>z_S_27</th>\n      <th>z_S_3</th>\n      <th>z_S_5</th>\n      <th>z_S_6</th>\n      <th>z_S_7</th>\n      <th>z_S_8</th>\n      <th>z_S_9</th>\n    </tr>\n  </thead>\n  <tbody>\n    <tr>\n      <th>0</th>\n      <td>-0.574047</td>\n      <td>0.020524</td>\n      <td>-0.513082</td>\n      <td>0.030358</td>\n      <td>-0.044905</td>\n      <td>-0.304307</td>\n      <td>-0.142573</td>\n      <td>-0.866369</td>\n      <td>-0.810010</td>\n      <td>1.124610</td>\n      <td>...</td>\n      <td>0.214011</td>\n      <td>0.204914</td>\n      <td>-0.088807</td>\n      <td>1.960135</td>\n      <td>-0.770650</td>\n      <td>-0.223435</td>\n      <td>-0.565221</td>\n      <td>-0.823186</td>\n      <td>1.427448</td>\n      <td>-0.458290</td>\n    </tr>\n    <tr>\n      <th>1</th>\n      <td>-0.107459</td>\n      <td>-0.024294</td>\n      <td>-0.216469</td>\n      <td>-0.130120</td>\n      <td>-0.155738</td>\n      <td>-0.257150</td>\n      <td>-0.156673</td>\n      <td>1.004742</td>\n      <td>1.151910</td>\n      <td>-0.960280</td>\n      <td>...</td>\n      <td>0.274080</td>\n      <td>-1.699398</td>\n      <td>-0.119719</td>\n      <td>-0.880009</td>\n      <td>0.557135</td>\n      <td>-0.223565</td>\n      <td>-0.563593</td>\n      <td>1.186040</td>\n      <td>-0.680034</td>\n      <td>-0.089852</td>\n    </tr>\n    <tr>\n      <th>2</th>\n      <td>3.808099</td>\n      <td>-0.025822</td>\n      <td>3.975275</td>\n      <td>-0.119413</td>\n      <td>-0.156472</td>\n      <td>0.693775</td>\n      <td>-0.141862</td>\n      <td>1.634171</td>\n      <td>1.348356</td>\n      <td>-1.357978</td>\n      <td>...</td>\n      <td>0.213346</td>\n      <td>0.239425</td>\n      <td>-0.122450</td>\n      <td>0.028363</td>\n      <td>-0.392531</td>\n      <td>-0.178391</td>\n      <td>1.778186</td>\n      <td>-0.173155</td>\n      <td>0.468468</td>\n      <td>0.073765</td>\n    </tr>\n    <tr>\n      <th>3</th>\n      <td>-0.156060</td>\n      <td>-0.025468</td>\n      <td>-0.236008</td>\n      <td>-0.133845</td>\n      <td>-0.137139</td>\n      <td>-0.266196</td>\n      <td>-0.148450</td>\n      <td>-0.856760</td>\n      <td>-0.207168</td>\n      <td>-0.308019</td>\n      <td>...</td>\n      <td>0.245004</td>\n      <td>0.209827</td>\n      <td>-0.130785</td>\n      <td>-0.866799</td>\n      <td>-0.306486</td>\n      <td>-0.091077</td>\n      <td>1.787718</td>\n      <td>0.297523</td>\n      <td>-0.245852</td>\n      <td>0.036613</td>\n    </tr>\n    <tr>\n      <th>4</th>\n      <td>-0.126915</td>\n      <td>-0.024727</td>\n      <td>-0.184794</td>\n      <td>-0.124079</td>\n      <td>-0.119305</td>\n      <td>-0.235161</td>\n      <td>-0.153096</td>\n      <td>0.376857</td>\n      <td>-1.310263</td>\n      <td>-1.126735</td>\n      <td>...</td>\n      <td>0.265325</td>\n      <td>-3.773975</td>\n      <td>-0.126015</td>\n      <td>-0.873879</td>\n      <td>1.277651</td>\n      <td>-0.125889</td>\n      <td>-0.549494</td>\n      <td>1.827698</td>\n      <td>0.003863</td>\n      <td>-0.031535</td>\n    </tr>\n    <tr>\n      <th>...</th>\n      <td>...</td>\n      <td>...</td>\n      <td>...</td>\n      <td>...</td>\n      <td>...</td>\n      <td>...</td>\n      <td>...</td>\n      <td>...</td>\n      <td>...</td>\n      <td>...</td>\n      <td>...</td>\n      <td>...</td>\n      <td>...</td>\n      <td>...</td>\n      <td>...</td>\n      <td>...</td>\n      <td>...</td>\n      <td>...</td>\n      <td>...</td>\n      <td>...</td>\n      <td>...</td>\n    </tr>\n    <tr>\n      <th>276567</th>\n      <td>-0.543898</td>\n      <td>-0.000075</td>\n      <td>-0.512648</td>\n      <td>-0.142154</td>\n      <td>-0.165236</td>\n      <td>-0.321663</td>\n      <td>-0.154778</td>\n      <td>-0.858828</td>\n      <td>-0.769621</td>\n      <td>1.118002</td>\n      <td>...</td>\n      <td>-0.733468</td>\n      <td>0.232300</td>\n      <td>-0.129752</td>\n      <td>-0.210670</td>\n      <td>0.258438</td>\n      <td>-0.242050</td>\n      <td>1.784647</td>\n      <td>0.123898</td>\n      <td>-1.060834</td>\n      <td>0.210059</td>\n    </tr>\n    <tr>\n      <th>276568</th>\n      <td>-0.446592</td>\n      <td>0.022913</td>\n      <td>-0.448123</td>\n      <td>0.207664</td>\n      <td>0.244332</td>\n      <td>0.002113</td>\n      <td>-0.134307</td>\n      <td>-0.859516</td>\n      <td>-0.734967</td>\n      <td>1.129404</td>\n      <td>...</td>\n      <td>0.263330</td>\n      <td>0.241655</td>\n      <td>-0.023938</td>\n      <td>-0.869606</td>\n      <td>-0.545004</td>\n      <td>0.525961</td>\n      <td>-0.549540</td>\n      <td>-0.719262</td>\n      <td>0.545526</td>\n      <td>-0.064734</td>\n    </tr>\n    <tr>\n      <th>276569</th>\n      <td>0.181879</td>\n      <td>-0.011911</td>\n      <td>0.117222</td>\n      <td>-0.110759</td>\n      <td>-0.023806</td>\n      <td>-0.093269</td>\n      <td>-0.160020</td>\n      <td>-0.031903</td>\n      <td>1.129748</td>\n      <td>-0.593444</td>\n      <td>...</td>\n      <td>0.251379</td>\n      <td>0.247101</td>\n      <td>-0.128294</td>\n      <td>0.610571</td>\n      <td>-0.850867</td>\n      <td>0.128600</td>\n      <td>-0.569680</td>\n      <td>-0.754982</td>\n      <td>1.121565</td>\n      <td>-0.344940</td>\n    </tr>\n    <tr>\n      <th>276570</th>\n      <td>-0.455496</td>\n      <td>0.005444</td>\n      <td>-0.482285</td>\n      <td>-0.046627</td>\n      <td>-0.090422</td>\n      <td>-0.251396</td>\n      <td>-0.149423</td>\n      <td>-0.031956</td>\n      <td>-0.927776</td>\n      <td>1.126185</td>\n      <td>...</td>\n      <td>0.231380</td>\n      <td>0.232527</td>\n      <td>-0.116827</td>\n      <td>0.436970</td>\n      <td>-0.910932</td>\n      <td>-0.073715</td>\n      <td>-0.551383</td>\n      <td>-0.961385</td>\n      <td>1.245730</td>\n      <td>-0.432904</td>\n    </tr>\n    <tr>\n      <th>276571</th>\n      <td>-0.381645</td>\n      <td>-0.009431</td>\n      <td>-0.403805</td>\n      <td>-0.059877</td>\n      <td>-0.039984</td>\n      <td>-0.215011</td>\n      <td>-0.089975</td>\n      <td>1.422847</td>\n      <td>-0.138514</td>\n      <td>-0.592887</td>\n      <td>...</td>\n      <td>0.241343</td>\n      <td>0.247325</td>\n      <td>-0.133927</td>\n      <td>-0.123570</td>\n      <td>-1.224045</td>\n      <td>-0.128142</td>\n      <td>-0.564693</td>\n      <td>-1.085037</td>\n      <td>1.118459</td>\n      <td>-0.518075</td>\n    </tr>\n  </tbody>\n</table>\n<p>276572 rows × 160 columns</p>\n</div>"
     },
     "execution_count": 6,
     "metadata": {},
     "output_type": "execute_result"
    }
   ],
   "source": [
    "zscore_df"
   ],
   "metadata": {
    "pycharm": {
     "name": "#%%\n"
    },
    "id": "_GccW_nY0lKI",
    "outputId": "524269e4-69a3-45f0-fc91-ebca49298a8e"
   }
  },
  {
   "cell_type": "markdown",
   "source": [
    "Calculado el z-score para cada uno de los datos, vemos cuantas columnas presentan valores considerados outliers. Es de destacar que para que un valor sea considerado un outlier su z-score debe ser mayor en modulo que 3."
   ],
   "metadata": {
    "collapsed": false,
    "pycharm": {
     "name": "#%% md\n"
    },
    "id": "iaKqh1li0lKI"
   }
  },
  {
   "cell_type": "code",
   "execution_count": null,
   "outputs": [
    {
     "name": "stdout",
     "output_type": "stream",
     "text": [
      "142\n"
     ]
    }
   ],
   "source": [
    "count = 0\n",
    "for column in zscore_df.columns:\n",
    "  if (sum(zscore_df[column].values > 3) > 0) or (sum(zscore_df[column].values < -3) > 0):\n",
    "    count += 1\n",
    "print(count)"
   ],
   "metadata": {
    "pycharm": {
     "name": "#%%\n"
    },
    "id": "FZdLA0Cv0lKJ",
    "outputId": "0851abaa-c8df-4e3e-f01f-18493a06133b"
   }
  },
  {
   "cell_type": "markdown",
   "source": [
    "Al igual que se calculó la cantidad de columnas con outliers, calculamos la cantidad de filas con dichos datos."
   ],
   "metadata": {
    "collapsed": false,
    "pycharm": {
     "name": "#%% md\n"
    },
    "id": "iK48AZI30lKJ"
   }
  },
  {
   "cell_type": "code",
   "execution_count": null,
   "outputs": [
    {
     "name": "stderr",
     "output_type": "stream",
     "text": [
      "/var/folders/b2/9tk1ndx57qv9hxwryph3018c0000gn/T/ipykernel_1448/2672014708.py:1: FutureWarning: The default dtype for empty Series will be 'object' instead of 'float64' in a future version. Specify a dtype explicitly to silence this warning.\n",
      "  index_to_eliminate = pd.Series([])\n",
      "/var/folders/b2/9tk1ndx57qv9hxwryph3018c0000gn/T/ipykernel_1448/2672014708.py:5: FutureWarning: The default dtype for empty Series will be 'object' instead of 'float64' in a future version. Specify a dtype explicitly to silence this warning.\n",
      "  negative_score_outliers = pd.Series(zscore_df.index[zscore_df[column] < -3].tolist())\n",
      "/var/folders/b2/9tk1ndx57qv9hxwryph3018c0000gn/T/ipykernel_1448/2672014708.py:5: FutureWarning: The default dtype for empty Series will be 'object' instead of 'float64' in a future version. Specify a dtype explicitly to silence this warning.\n",
      "  negative_score_outliers = pd.Series(zscore_df.index[zscore_df[column] < -3].tolist())\n",
      "/var/folders/b2/9tk1ndx57qv9hxwryph3018c0000gn/T/ipykernel_1448/2672014708.py:5: FutureWarning: The default dtype for empty Series will be 'object' instead of 'float64' in a future version. Specify a dtype explicitly to silence this warning.\n",
      "  negative_score_outliers = pd.Series(zscore_df.index[zscore_df[column] < -3].tolist())\n",
      "/var/folders/b2/9tk1ndx57qv9hxwryph3018c0000gn/T/ipykernel_1448/2672014708.py:5: FutureWarning: The default dtype for empty Series will be 'object' instead of 'float64' in a future version. Specify a dtype explicitly to silence this warning.\n",
      "  negative_score_outliers = pd.Series(zscore_df.index[zscore_df[column] < -3].tolist())\n",
      "/var/folders/b2/9tk1ndx57qv9hxwryph3018c0000gn/T/ipykernel_1448/2672014708.py:4: FutureWarning: The default dtype for empty Series will be 'object' instead of 'float64' in a future version. Specify a dtype explicitly to silence this warning.\n",
      "  positive_score_outliers = pd.Series(zscore_df.index[zscore_df[column] > 3].tolist())\n",
      "/var/folders/b2/9tk1ndx57qv9hxwryph3018c0000gn/T/ipykernel_1448/2672014708.py:5: FutureWarning: The default dtype for empty Series will be 'object' instead of 'float64' in a future version. Specify a dtype explicitly to silence this warning.\n",
      "  negative_score_outliers = pd.Series(zscore_df.index[zscore_df[column] < -3].tolist())\n",
      "/var/folders/b2/9tk1ndx57qv9hxwryph3018c0000gn/T/ipykernel_1448/2672014708.py:4: FutureWarning: The default dtype for empty Series will be 'object' instead of 'float64' in a future version. Specify a dtype explicitly to silence this warning.\n",
      "  positive_score_outliers = pd.Series(zscore_df.index[zscore_df[column] > 3].tolist())\n",
      "/var/folders/b2/9tk1ndx57qv9hxwryph3018c0000gn/T/ipykernel_1448/2672014708.py:5: FutureWarning: The default dtype for empty Series will be 'object' instead of 'float64' in a future version. Specify a dtype explicitly to silence this warning.\n",
      "  negative_score_outliers = pd.Series(zscore_df.index[zscore_df[column] < -3].tolist())\n",
      "/var/folders/b2/9tk1ndx57qv9hxwryph3018c0000gn/T/ipykernel_1448/2672014708.py:4: FutureWarning: The default dtype for empty Series will be 'object' instead of 'float64' in a future version. Specify a dtype explicitly to silence this warning.\n",
      "  positive_score_outliers = pd.Series(zscore_df.index[zscore_df[column] > 3].tolist())\n",
      "/var/folders/b2/9tk1ndx57qv9hxwryph3018c0000gn/T/ipykernel_1448/2672014708.py:5: FutureWarning: The default dtype for empty Series will be 'object' instead of 'float64' in a future version. Specify a dtype explicitly to silence this warning.\n",
      "  negative_score_outliers = pd.Series(zscore_df.index[zscore_df[column] < -3].tolist())\n",
      "/var/folders/b2/9tk1ndx57qv9hxwryph3018c0000gn/T/ipykernel_1448/2672014708.py:4: FutureWarning: The default dtype for empty Series will be 'object' instead of 'float64' in a future version. Specify a dtype explicitly to silence this warning.\n",
      "  positive_score_outliers = pd.Series(zscore_df.index[zscore_df[column] > 3].tolist())\n",
      "/var/folders/b2/9tk1ndx57qv9hxwryph3018c0000gn/T/ipykernel_1448/2672014708.py:5: FutureWarning: The default dtype for empty Series will be 'object' instead of 'float64' in a future version. Specify a dtype explicitly to silence this warning.\n",
      "  negative_score_outliers = pd.Series(zscore_df.index[zscore_df[column] < -3].tolist())\n",
      "/var/folders/b2/9tk1ndx57qv9hxwryph3018c0000gn/T/ipykernel_1448/2672014708.py:4: FutureWarning: The default dtype for empty Series will be 'object' instead of 'float64' in a future version. Specify a dtype explicitly to silence this warning.\n",
      "  positive_score_outliers = pd.Series(zscore_df.index[zscore_df[column] > 3].tolist())\n",
      "/var/folders/b2/9tk1ndx57qv9hxwryph3018c0000gn/T/ipykernel_1448/2672014708.py:5: FutureWarning: The default dtype for empty Series will be 'object' instead of 'float64' in a future version. Specify a dtype explicitly to silence this warning.\n",
      "  negative_score_outliers = pd.Series(zscore_df.index[zscore_df[column] < -3].tolist())\n",
      "/var/folders/b2/9tk1ndx57qv9hxwryph3018c0000gn/T/ipykernel_1448/2672014708.py:5: FutureWarning: The default dtype for empty Series will be 'object' instead of 'float64' in a future version. Specify a dtype explicitly to silence this warning.\n",
      "  negative_score_outliers = pd.Series(zscore_df.index[zscore_df[column] < -3].tolist())\n",
      "/var/folders/b2/9tk1ndx57qv9hxwryph3018c0000gn/T/ipykernel_1448/2672014708.py:5: FutureWarning: The default dtype for empty Series will be 'object' instead of 'float64' in a future version. Specify a dtype explicitly to silence this warning.\n",
      "  negative_score_outliers = pd.Series(zscore_df.index[zscore_df[column] < -3].tolist())\n",
      "/var/folders/b2/9tk1ndx57qv9hxwryph3018c0000gn/T/ipykernel_1448/2672014708.py:5: FutureWarning: The default dtype for empty Series will be 'object' instead of 'float64' in a future version. Specify a dtype explicitly to silence this warning.\n",
      "  negative_score_outliers = pd.Series(zscore_df.index[zscore_df[column] < -3].tolist())\n",
      "/var/folders/b2/9tk1ndx57qv9hxwryph3018c0000gn/T/ipykernel_1448/2672014708.py:5: FutureWarning: The default dtype for empty Series will be 'object' instead of 'float64' in a future version. Specify a dtype explicitly to silence this warning.\n",
      "  negative_score_outliers = pd.Series(zscore_df.index[zscore_df[column] < -3].tolist())\n",
      "/var/folders/b2/9tk1ndx57qv9hxwryph3018c0000gn/T/ipykernel_1448/2672014708.py:5: FutureWarning: The default dtype for empty Series will be 'object' instead of 'float64' in a future version. Specify a dtype explicitly to silence this warning.\n",
      "  negative_score_outliers = pd.Series(zscore_df.index[zscore_df[column] < -3].tolist())\n",
      "/var/folders/b2/9tk1ndx57qv9hxwryph3018c0000gn/T/ipykernel_1448/2672014708.py:5: FutureWarning: The default dtype for empty Series will be 'object' instead of 'float64' in a future version. Specify a dtype explicitly to silence this warning.\n",
      "  negative_score_outliers = pd.Series(zscore_df.index[zscore_df[column] < -3].tolist())\n",
      "/var/folders/b2/9tk1ndx57qv9hxwryph3018c0000gn/T/ipykernel_1448/2672014708.py:5: FutureWarning: The default dtype for empty Series will be 'object' instead of 'float64' in a future version. Specify a dtype explicitly to silence this warning.\n",
      "  negative_score_outliers = pd.Series(zscore_df.index[zscore_df[column] < -3].tolist())\n",
      "/var/folders/b2/9tk1ndx57qv9hxwryph3018c0000gn/T/ipykernel_1448/2672014708.py:5: FutureWarning: The default dtype for empty Series will be 'object' instead of 'float64' in a future version. Specify a dtype explicitly to silence this warning.\n",
      "  negative_score_outliers = pd.Series(zscore_df.index[zscore_df[column] < -3].tolist())\n",
      "/var/folders/b2/9tk1ndx57qv9hxwryph3018c0000gn/T/ipykernel_1448/2672014708.py:5: FutureWarning: The default dtype for empty Series will be 'object' instead of 'float64' in a future version. Specify a dtype explicitly to silence this warning.\n",
      "  negative_score_outliers = pd.Series(zscore_df.index[zscore_df[column] < -3].tolist())\n",
      "/var/folders/b2/9tk1ndx57qv9hxwryph3018c0000gn/T/ipykernel_1448/2672014708.py:5: FutureWarning: The default dtype for empty Series will be 'object' instead of 'float64' in a future version. Specify a dtype explicitly to silence this warning.\n",
      "  negative_score_outliers = pd.Series(zscore_df.index[zscore_df[column] < -3].tolist())\n",
      "/var/folders/b2/9tk1ndx57qv9hxwryph3018c0000gn/T/ipykernel_1448/2672014708.py:4: FutureWarning: The default dtype for empty Series will be 'object' instead of 'float64' in a future version. Specify a dtype explicitly to silence this warning.\n",
      "  positive_score_outliers = pd.Series(zscore_df.index[zscore_df[column] > 3].tolist())\n",
      "/var/folders/b2/9tk1ndx57qv9hxwryph3018c0000gn/T/ipykernel_1448/2672014708.py:5: FutureWarning: The default dtype for empty Series will be 'object' instead of 'float64' in a future version. Specify a dtype explicitly to silence this warning.\n",
      "  negative_score_outliers = pd.Series(zscore_df.index[zscore_df[column] < -3].tolist())\n",
      "/var/folders/b2/9tk1ndx57qv9hxwryph3018c0000gn/T/ipykernel_1448/2672014708.py:5: FutureWarning: The default dtype for empty Series will be 'object' instead of 'float64' in a future version. Specify a dtype explicitly to silence this warning.\n",
      "  negative_score_outliers = pd.Series(zscore_df.index[zscore_df[column] < -3].tolist())\n",
      "/var/folders/b2/9tk1ndx57qv9hxwryph3018c0000gn/T/ipykernel_1448/2672014708.py:4: FutureWarning: The default dtype for empty Series will be 'object' instead of 'float64' in a future version. Specify a dtype explicitly to silence this warning.\n",
      "  positive_score_outliers = pd.Series(zscore_df.index[zscore_df[column] > 3].tolist())\n",
      "/var/folders/b2/9tk1ndx57qv9hxwryph3018c0000gn/T/ipykernel_1448/2672014708.py:5: FutureWarning: The default dtype for empty Series will be 'object' instead of 'float64' in a future version. Specify a dtype explicitly to silence this warning.\n",
      "  negative_score_outliers = pd.Series(zscore_df.index[zscore_df[column] < -3].tolist())\n",
      "/var/folders/b2/9tk1ndx57qv9hxwryph3018c0000gn/T/ipykernel_1448/2672014708.py:5: FutureWarning: The default dtype for empty Series will be 'object' instead of 'float64' in a future version. Specify a dtype explicitly to silence this warning.\n",
      "  negative_score_outliers = pd.Series(zscore_df.index[zscore_df[column] < -3].tolist())\n",
      "/var/folders/b2/9tk1ndx57qv9hxwryph3018c0000gn/T/ipykernel_1448/2672014708.py:5: FutureWarning: The default dtype for empty Series will be 'object' instead of 'float64' in a future version. Specify a dtype explicitly to silence this warning.\n",
      "  negative_score_outliers = pd.Series(zscore_df.index[zscore_df[column] < -3].tolist())\n",
      "/var/folders/b2/9tk1ndx57qv9hxwryph3018c0000gn/T/ipykernel_1448/2672014708.py:5: FutureWarning: The default dtype for empty Series will be 'object' instead of 'float64' in a future version. Specify a dtype explicitly to silence this warning.\n",
      "  negative_score_outliers = pd.Series(zscore_df.index[zscore_df[column] < -3].tolist())\n",
      "/var/folders/b2/9tk1ndx57qv9hxwryph3018c0000gn/T/ipykernel_1448/2672014708.py:5: FutureWarning: The default dtype for empty Series will be 'object' instead of 'float64' in a future version. Specify a dtype explicitly to silence this warning.\n",
      "  negative_score_outliers = pd.Series(zscore_df.index[zscore_df[column] < -3].tolist())\n",
      "/var/folders/b2/9tk1ndx57qv9hxwryph3018c0000gn/T/ipykernel_1448/2672014708.py:5: FutureWarning: The default dtype for empty Series will be 'object' instead of 'float64' in a future version. Specify a dtype explicitly to silence this warning.\n",
      "  negative_score_outliers = pd.Series(zscore_df.index[zscore_df[column] < -3].tolist())\n",
      "/var/folders/b2/9tk1ndx57qv9hxwryph3018c0000gn/T/ipykernel_1448/2672014708.py:5: FutureWarning: The default dtype for empty Series will be 'object' instead of 'float64' in a future version. Specify a dtype explicitly to silence this warning.\n",
      "  negative_score_outliers = pd.Series(zscore_df.index[zscore_df[column] < -3].tolist())\n",
      "/var/folders/b2/9tk1ndx57qv9hxwryph3018c0000gn/T/ipykernel_1448/2672014708.py:5: FutureWarning: The default dtype for empty Series will be 'object' instead of 'float64' in a future version. Specify a dtype explicitly to silence this warning.\n",
      "  negative_score_outliers = pd.Series(zscore_df.index[zscore_df[column] < -3].tolist())\n",
      "/var/folders/b2/9tk1ndx57qv9hxwryph3018c0000gn/T/ipykernel_1448/2672014708.py:5: FutureWarning: The default dtype for empty Series will be 'object' instead of 'float64' in a future version. Specify a dtype explicitly to silence this warning.\n",
      "  negative_score_outliers = pd.Series(zscore_df.index[zscore_df[column] < -3].tolist())\n",
      "/var/folders/b2/9tk1ndx57qv9hxwryph3018c0000gn/T/ipykernel_1448/2672014708.py:5: FutureWarning: The default dtype for empty Series will be 'object' instead of 'float64' in a future version. Specify a dtype explicitly to silence this warning.\n",
      "  negative_score_outliers = pd.Series(zscore_df.index[zscore_df[column] < -3].tolist())\n",
      "/var/folders/b2/9tk1ndx57qv9hxwryph3018c0000gn/T/ipykernel_1448/2672014708.py:4: FutureWarning: The default dtype for empty Series will be 'object' instead of 'float64' in a future version. Specify a dtype explicitly to silence this warning.\n",
      "  positive_score_outliers = pd.Series(zscore_df.index[zscore_df[column] > 3].tolist())\n",
      "/var/folders/b2/9tk1ndx57qv9hxwryph3018c0000gn/T/ipykernel_1448/2672014708.py:5: FutureWarning: The default dtype for empty Series will be 'object' instead of 'float64' in a future version. Specify a dtype explicitly to silence this warning.\n",
      "  negative_score_outliers = pd.Series(zscore_df.index[zscore_df[column] < -3].tolist())\n",
      "/var/folders/b2/9tk1ndx57qv9hxwryph3018c0000gn/T/ipykernel_1448/2672014708.py:4: FutureWarning: The default dtype for empty Series will be 'object' instead of 'float64' in a future version. Specify a dtype explicitly to silence this warning.\n",
      "  positive_score_outliers = pd.Series(zscore_df.index[zscore_df[column] > 3].tolist())\n",
      "/var/folders/b2/9tk1ndx57qv9hxwryph3018c0000gn/T/ipykernel_1448/2672014708.py:5: FutureWarning: The default dtype for empty Series will be 'object' instead of 'float64' in a future version. Specify a dtype explicitly to silence this warning.\n",
      "  negative_score_outliers = pd.Series(zscore_df.index[zscore_df[column] < -3].tolist())\n",
      "/var/folders/b2/9tk1ndx57qv9hxwryph3018c0000gn/T/ipykernel_1448/2672014708.py:4: FutureWarning: The default dtype for empty Series will be 'object' instead of 'float64' in a future version. Specify a dtype explicitly to silence this warning.\n",
      "  positive_score_outliers = pd.Series(zscore_df.index[zscore_df[column] > 3].tolist())\n",
      "/var/folders/b2/9tk1ndx57qv9hxwryph3018c0000gn/T/ipykernel_1448/2672014708.py:5: FutureWarning: The default dtype for empty Series will be 'object' instead of 'float64' in a future version. Specify a dtype explicitly to silence this warning.\n",
      "  negative_score_outliers = pd.Series(zscore_df.index[zscore_df[column] < -3].tolist())\n",
      "/var/folders/b2/9tk1ndx57qv9hxwryph3018c0000gn/T/ipykernel_1448/2672014708.py:5: FutureWarning: The default dtype for empty Series will be 'object' instead of 'float64' in a future version. Specify a dtype explicitly to silence this warning.\n",
      "  negative_score_outliers = pd.Series(zscore_df.index[zscore_df[column] < -3].tolist())\n",
      "/var/folders/b2/9tk1ndx57qv9hxwryph3018c0000gn/T/ipykernel_1448/2672014708.py:5: FutureWarning: The default dtype for empty Series will be 'object' instead of 'float64' in a future version. Specify a dtype explicitly to silence this warning.\n",
      "  negative_score_outliers = pd.Series(zscore_df.index[zscore_df[column] < -3].tolist())\n",
      "/var/folders/b2/9tk1ndx57qv9hxwryph3018c0000gn/T/ipykernel_1448/2672014708.py:4: FutureWarning: The default dtype for empty Series will be 'object' instead of 'float64' in a future version. Specify a dtype explicitly to silence this warning.\n",
      "  positive_score_outliers = pd.Series(zscore_df.index[zscore_df[column] > 3].tolist())\n",
      "/var/folders/b2/9tk1ndx57qv9hxwryph3018c0000gn/T/ipykernel_1448/2672014708.py:5: FutureWarning: The default dtype for empty Series will be 'object' instead of 'float64' in a future version. Specify a dtype explicitly to silence this warning.\n",
      "  negative_score_outliers = pd.Series(zscore_df.index[zscore_df[column] < -3].tolist())\n",
      "/var/folders/b2/9tk1ndx57qv9hxwryph3018c0000gn/T/ipykernel_1448/2672014708.py:4: FutureWarning: The default dtype for empty Series will be 'object' instead of 'float64' in a future version. Specify a dtype explicitly to silence this warning.\n",
      "  positive_score_outliers = pd.Series(zscore_df.index[zscore_df[column] > 3].tolist())\n",
      "/var/folders/b2/9tk1ndx57qv9hxwryph3018c0000gn/T/ipykernel_1448/2672014708.py:5: FutureWarning: The default dtype for empty Series will be 'object' instead of 'float64' in a future version. Specify a dtype explicitly to silence this warning.\n",
      "  negative_score_outliers = pd.Series(zscore_df.index[zscore_df[column] < -3].tolist())\n",
      "/var/folders/b2/9tk1ndx57qv9hxwryph3018c0000gn/T/ipykernel_1448/2672014708.py:5: FutureWarning: The default dtype for empty Series will be 'object' instead of 'float64' in a future version. Specify a dtype explicitly to silence this warning.\n",
      "  negative_score_outliers = pd.Series(zscore_df.index[zscore_df[column] < -3].tolist())\n",
      "/var/folders/b2/9tk1ndx57qv9hxwryph3018c0000gn/T/ipykernel_1448/2672014708.py:4: FutureWarning: The default dtype for empty Series will be 'object' instead of 'float64' in a future version. Specify a dtype explicitly to silence this warning.\n",
      "  positive_score_outliers = pd.Series(zscore_df.index[zscore_df[column] > 3].tolist())\n",
      "/var/folders/b2/9tk1ndx57qv9hxwryph3018c0000gn/T/ipykernel_1448/2672014708.py:5: FutureWarning: The default dtype for empty Series will be 'object' instead of 'float64' in a future version. Specify a dtype explicitly to silence this warning.\n",
      "  negative_score_outliers = pd.Series(zscore_df.index[zscore_df[column] < -3].tolist())\n",
      "/var/folders/b2/9tk1ndx57qv9hxwryph3018c0000gn/T/ipykernel_1448/2672014708.py:5: FutureWarning: The default dtype for empty Series will be 'object' instead of 'float64' in a future version. Specify a dtype explicitly to silence this warning.\n",
      "  negative_score_outliers = pd.Series(zscore_df.index[zscore_df[column] < -3].tolist())\n",
      "/var/folders/b2/9tk1ndx57qv9hxwryph3018c0000gn/T/ipykernel_1448/2672014708.py:5: FutureWarning: The default dtype for empty Series will be 'object' instead of 'float64' in a future version. Specify a dtype explicitly to silence this warning.\n",
      "  negative_score_outliers = pd.Series(zscore_df.index[zscore_df[column] < -3].tolist())\n",
      "/var/folders/b2/9tk1ndx57qv9hxwryph3018c0000gn/T/ipykernel_1448/2672014708.py:5: FutureWarning: The default dtype for empty Series will be 'object' instead of 'float64' in a future version. Specify a dtype explicitly to silence this warning.\n",
      "  negative_score_outliers = pd.Series(zscore_df.index[zscore_df[column] < -3].tolist())\n",
      "/var/folders/b2/9tk1ndx57qv9hxwryph3018c0000gn/T/ipykernel_1448/2672014708.py:5: FutureWarning: The default dtype for empty Series will be 'object' instead of 'float64' in a future version. Specify a dtype explicitly to silence this warning.\n",
      "  negative_score_outliers = pd.Series(zscore_df.index[zscore_df[column] < -3].tolist())\n",
      "/var/folders/b2/9tk1ndx57qv9hxwryph3018c0000gn/T/ipykernel_1448/2672014708.py:5: FutureWarning: The default dtype for empty Series will be 'object' instead of 'float64' in a future version. Specify a dtype explicitly to silence this warning.\n",
      "  negative_score_outliers = pd.Series(zscore_df.index[zscore_df[column] < -3].tolist())\n",
      "/var/folders/b2/9tk1ndx57qv9hxwryph3018c0000gn/T/ipykernel_1448/2672014708.py:4: FutureWarning: The default dtype for empty Series will be 'object' instead of 'float64' in a future version. Specify a dtype explicitly to silence this warning.\n",
      "  positive_score_outliers = pd.Series(zscore_df.index[zscore_df[column] > 3].tolist())\n",
      "/var/folders/b2/9tk1ndx57qv9hxwryph3018c0000gn/T/ipykernel_1448/2672014708.py:4: FutureWarning: The default dtype for empty Series will be 'object' instead of 'float64' in a future version. Specify a dtype explicitly to silence this warning.\n",
      "  positive_score_outliers = pd.Series(zscore_df.index[zscore_df[column] > 3].tolist())\n",
      "/var/folders/b2/9tk1ndx57qv9hxwryph3018c0000gn/T/ipykernel_1448/2672014708.py:5: FutureWarning: The default dtype for empty Series will be 'object' instead of 'float64' in a future version. Specify a dtype explicitly to silence this warning.\n",
      "  negative_score_outliers = pd.Series(zscore_df.index[zscore_df[column] < -3].tolist())\n",
      "/var/folders/b2/9tk1ndx57qv9hxwryph3018c0000gn/T/ipykernel_1448/2672014708.py:4: FutureWarning: The default dtype for empty Series will be 'object' instead of 'float64' in a future version. Specify a dtype explicitly to silence this warning.\n",
      "  positive_score_outliers = pd.Series(zscore_df.index[zscore_df[column] > 3].tolist())\n",
      "/var/folders/b2/9tk1ndx57qv9hxwryph3018c0000gn/T/ipykernel_1448/2672014708.py:4: FutureWarning: The default dtype for empty Series will be 'object' instead of 'float64' in a future version. Specify a dtype explicitly to silence this warning.\n",
      "  positive_score_outliers = pd.Series(zscore_df.index[zscore_df[column] > 3].tolist())\n",
      "/var/folders/b2/9tk1ndx57qv9hxwryph3018c0000gn/T/ipykernel_1448/2672014708.py:5: FutureWarning: The default dtype for empty Series will be 'object' instead of 'float64' in a future version. Specify a dtype explicitly to silence this warning.\n",
      "  negative_score_outliers = pd.Series(zscore_df.index[zscore_df[column] < -3].tolist())\n",
      "/var/folders/b2/9tk1ndx57qv9hxwryph3018c0000gn/T/ipykernel_1448/2672014708.py:5: FutureWarning: The default dtype for empty Series will be 'object' instead of 'float64' in a future version. Specify a dtype explicitly to silence this warning.\n",
      "  negative_score_outliers = pd.Series(zscore_df.index[zscore_df[column] < -3].tolist())\n",
      "/var/folders/b2/9tk1ndx57qv9hxwryph3018c0000gn/T/ipykernel_1448/2672014708.py:5: FutureWarning: The default dtype for empty Series will be 'object' instead of 'float64' in a future version. Specify a dtype explicitly to silence this warning.\n",
      "  negative_score_outliers = pd.Series(zscore_df.index[zscore_df[column] < -3].tolist())\n",
      "/var/folders/b2/9tk1ndx57qv9hxwryph3018c0000gn/T/ipykernel_1448/2672014708.py:4: FutureWarning: The default dtype for empty Series will be 'object' instead of 'float64' in a future version. Specify a dtype explicitly to silence this warning.\n",
      "  positive_score_outliers = pd.Series(zscore_df.index[zscore_df[column] > 3].tolist())\n",
      "/var/folders/b2/9tk1ndx57qv9hxwryph3018c0000gn/T/ipykernel_1448/2672014708.py:5: FutureWarning: The default dtype for empty Series will be 'object' instead of 'float64' in a future version. Specify a dtype explicitly to silence this warning.\n",
      "  negative_score_outliers = pd.Series(zscore_df.index[zscore_df[column] < -3].tolist())\n",
      "/var/folders/b2/9tk1ndx57qv9hxwryph3018c0000gn/T/ipykernel_1448/2672014708.py:5: FutureWarning: The default dtype for empty Series will be 'object' instead of 'float64' in a future version. Specify a dtype explicitly to silence this warning.\n",
      "  negative_score_outliers = pd.Series(zscore_df.index[zscore_df[column] < -3].tolist())\n",
      "/var/folders/b2/9tk1ndx57qv9hxwryph3018c0000gn/T/ipykernel_1448/2672014708.py:4: FutureWarning: The default dtype for empty Series will be 'object' instead of 'float64' in a future version. Specify a dtype explicitly to silence this warning.\n",
      "  positive_score_outliers = pd.Series(zscore_df.index[zscore_df[column] > 3].tolist())\n",
      "/var/folders/b2/9tk1ndx57qv9hxwryph3018c0000gn/T/ipykernel_1448/2672014708.py:5: FutureWarning: The default dtype for empty Series will be 'object' instead of 'float64' in a future version. Specify a dtype explicitly to silence this warning.\n",
      "  negative_score_outliers = pd.Series(zscore_df.index[zscore_df[column] < -3].tolist())\n",
      "/var/folders/b2/9tk1ndx57qv9hxwryph3018c0000gn/T/ipykernel_1448/2672014708.py:5: FutureWarning: The default dtype for empty Series will be 'object' instead of 'float64' in a future version. Specify a dtype explicitly to silence this warning.\n",
      "  negative_score_outliers = pd.Series(zscore_df.index[zscore_df[column] < -3].tolist())\n",
      "/var/folders/b2/9tk1ndx57qv9hxwryph3018c0000gn/T/ipykernel_1448/2672014708.py:5: FutureWarning: The default dtype for empty Series will be 'object' instead of 'float64' in a future version. Specify a dtype explicitly to silence this warning.\n",
      "  negative_score_outliers = pd.Series(zscore_df.index[zscore_df[column] < -3].tolist())\n",
      "/var/folders/b2/9tk1ndx57qv9hxwryph3018c0000gn/T/ipykernel_1448/2672014708.py:5: FutureWarning: The default dtype for empty Series will be 'object' instead of 'float64' in a future version. Specify a dtype explicitly to silence this warning.\n",
      "  negative_score_outliers = pd.Series(zscore_df.index[zscore_df[column] < -3].tolist())\n",
      "/var/folders/b2/9tk1ndx57qv9hxwryph3018c0000gn/T/ipykernel_1448/2672014708.py:5: FutureWarning: The default dtype for empty Series will be 'object' instead of 'float64' in a future version. Specify a dtype explicitly to silence this warning.\n",
      "  negative_score_outliers = pd.Series(zscore_df.index[zscore_df[column] < -3].tolist())\n",
      "/var/folders/b2/9tk1ndx57qv9hxwryph3018c0000gn/T/ipykernel_1448/2672014708.py:5: FutureWarning: The default dtype for empty Series will be 'object' instead of 'float64' in a future version. Specify a dtype explicitly to silence this warning.\n",
      "  negative_score_outliers = pd.Series(zscore_df.index[zscore_df[column] < -3].tolist())\n",
      "/var/folders/b2/9tk1ndx57qv9hxwryph3018c0000gn/T/ipykernel_1448/2672014708.py:5: FutureWarning: The default dtype for empty Series will be 'object' instead of 'float64' in a future version. Specify a dtype explicitly to silence this warning.\n",
      "  negative_score_outliers = pd.Series(zscore_df.index[zscore_df[column] < -3].tolist())\n",
      "/var/folders/b2/9tk1ndx57qv9hxwryph3018c0000gn/T/ipykernel_1448/2672014708.py:5: FutureWarning: The default dtype for empty Series will be 'object' instead of 'float64' in a future version. Specify a dtype explicitly to silence this warning.\n",
      "  negative_score_outliers = pd.Series(zscore_df.index[zscore_df[column] < -3].tolist())\n",
      "/var/folders/b2/9tk1ndx57qv9hxwryph3018c0000gn/T/ipykernel_1448/2672014708.py:5: FutureWarning: The default dtype for empty Series will be 'object' instead of 'float64' in a future version. Specify a dtype explicitly to silence this warning.\n",
      "  negative_score_outliers = pd.Series(zscore_df.index[zscore_df[column] < -3].tolist())\n",
      "/var/folders/b2/9tk1ndx57qv9hxwryph3018c0000gn/T/ipykernel_1448/2672014708.py:5: FutureWarning: The default dtype for empty Series will be 'object' instead of 'float64' in a future version. Specify a dtype explicitly to silence this warning.\n",
      "  negative_score_outliers = pd.Series(zscore_df.index[zscore_df[column] < -3].tolist())\n",
      "/var/folders/b2/9tk1ndx57qv9hxwryph3018c0000gn/T/ipykernel_1448/2672014708.py:5: FutureWarning: The default dtype for empty Series will be 'object' instead of 'float64' in a future version. Specify a dtype explicitly to silence this warning.\n",
      "  negative_score_outliers = pd.Series(zscore_df.index[zscore_df[column] < -3].tolist())\n",
      "/var/folders/b2/9tk1ndx57qv9hxwryph3018c0000gn/T/ipykernel_1448/2672014708.py:4: FutureWarning: The default dtype for empty Series will be 'object' instead of 'float64' in a future version. Specify a dtype explicitly to silence this warning.\n",
      "  positive_score_outliers = pd.Series(zscore_df.index[zscore_df[column] > 3].tolist())\n",
      "/var/folders/b2/9tk1ndx57qv9hxwryph3018c0000gn/T/ipykernel_1448/2672014708.py:5: FutureWarning: The default dtype for empty Series will be 'object' instead of 'float64' in a future version. Specify a dtype explicitly to silence this warning.\n",
      "  negative_score_outliers = pd.Series(zscore_df.index[zscore_df[column] < -3].tolist())\n",
      "/var/folders/b2/9tk1ndx57qv9hxwryph3018c0000gn/T/ipykernel_1448/2672014708.py:5: FutureWarning: The default dtype for empty Series will be 'object' instead of 'float64' in a future version. Specify a dtype explicitly to silence this warning.\n",
      "  negative_score_outliers = pd.Series(zscore_df.index[zscore_df[column] < -3].tolist())\n",
      "/var/folders/b2/9tk1ndx57qv9hxwryph3018c0000gn/T/ipykernel_1448/2672014708.py:4: FutureWarning: The default dtype for empty Series will be 'object' instead of 'float64' in a future version. Specify a dtype explicitly to silence this warning.\n",
      "  positive_score_outliers = pd.Series(zscore_df.index[zscore_df[column] > 3].tolist())\n",
      "/var/folders/b2/9tk1ndx57qv9hxwryph3018c0000gn/T/ipykernel_1448/2672014708.py:5: FutureWarning: The default dtype for empty Series will be 'object' instead of 'float64' in a future version. Specify a dtype explicitly to silence this warning.\n",
      "  negative_score_outliers = pd.Series(zscore_df.index[zscore_df[column] < -3].tolist())\n",
      "/var/folders/b2/9tk1ndx57qv9hxwryph3018c0000gn/T/ipykernel_1448/2672014708.py:5: FutureWarning: The default dtype for empty Series will be 'object' instead of 'float64' in a future version. Specify a dtype explicitly to silence this warning.\n",
      "  negative_score_outliers = pd.Series(zscore_df.index[zscore_df[column] < -3].tolist())\n",
      "/var/folders/b2/9tk1ndx57qv9hxwryph3018c0000gn/T/ipykernel_1448/2672014708.py:5: FutureWarning: The default dtype for empty Series will be 'object' instead of 'float64' in a future version. Specify a dtype explicitly to silence this warning.\n",
      "  negative_score_outliers = pd.Series(zscore_df.index[zscore_df[column] < -3].tolist())\n",
      "/var/folders/b2/9tk1ndx57qv9hxwryph3018c0000gn/T/ipykernel_1448/2672014708.py:4: FutureWarning: The default dtype for empty Series will be 'object' instead of 'float64' in a future version. Specify a dtype explicitly to silence this warning.\n",
      "  positive_score_outliers = pd.Series(zscore_df.index[zscore_df[column] > 3].tolist())\n",
      "/var/folders/b2/9tk1ndx57qv9hxwryph3018c0000gn/T/ipykernel_1448/2672014708.py:5: FutureWarning: The default dtype for empty Series will be 'object' instead of 'float64' in a future version. Specify a dtype explicitly to silence this warning.\n",
      "  negative_score_outliers = pd.Series(zscore_df.index[zscore_df[column] < -3].tolist())\n",
      "/var/folders/b2/9tk1ndx57qv9hxwryph3018c0000gn/T/ipykernel_1448/2672014708.py:5: FutureWarning: The default dtype for empty Series will be 'object' instead of 'float64' in a future version. Specify a dtype explicitly to silence this warning.\n",
      "  negative_score_outliers = pd.Series(zscore_df.index[zscore_df[column] < -3].tolist())\n",
      "/var/folders/b2/9tk1ndx57qv9hxwryph3018c0000gn/T/ipykernel_1448/2672014708.py:5: FutureWarning: The default dtype for empty Series will be 'object' instead of 'float64' in a future version. Specify a dtype explicitly to silence this warning.\n",
      "  negative_score_outliers = pd.Series(zscore_df.index[zscore_df[column] < -3].tolist())\n",
      "/var/folders/b2/9tk1ndx57qv9hxwryph3018c0000gn/T/ipykernel_1448/2672014708.py:5: FutureWarning: The default dtype for empty Series will be 'object' instead of 'float64' in a future version. Specify a dtype explicitly to silence this warning.\n",
      "  negative_score_outliers = pd.Series(zscore_df.index[zscore_df[column] < -3].tolist())\n",
      "/var/folders/b2/9tk1ndx57qv9hxwryph3018c0000gn/T/ipykernel_1448/2672014708.py:5: FutureWarning: The default dtype for empty Series will be 'object' instead of 'float64' in a future version. Specify a dtype explicitly to silence this warning.\n",
      "  negative_score_outliers = pd.Series(zscore_df.index[zscore_df[column] < -3].tolist())\n",
      "/var/folders/b2/9tk1ndx57qv9hxwryph3018c0000gn/T/ipykernel_1448/2672014708.py:5: FutureWarning: The default dtype for empty Series will be 'object' instead of 'float64' in a future version. Specify a dtype explicitly to silence this warning.\n",
      "  negative_score_outliers = pd.Series(zscore_df.index[zscore_df[column] < -3].tolist())\n",
      "/var/folders/b2/9tk1ndx57qv9hxwryph3018c0000gn/T/ipykernel_1448/2672014708.py:5: FutureWarning: The default dtype for empty Series will be 'object' instead of 'float64' in a future version. Specify a dtype explicitly to silence this warning.\n",
      "  negative_score_outliers = pd.Series(zscore_df.index[zscore_df[column] < -3].tolist())\n",
      "/var/folders/b2/9tk1ndx57qv9hxwryph3018c0000gn/T/ipykernel_1448/2672014708.py:5: FutureWarning: The default dtype for empty Series will be 'object' instead of 'float64' in a future version. Specify a dtype explicitly to silence this warning.\n",
      "  negative_score_outliers = pd.Series(zscore_df.index[zscore_df[column] < -3].tolist())\n",
      "/var/folders/b2/9tk1ndx57qv9hxwryph3018c0000gn/T/ipykernel_1448/2672014708.py:5: FutureWarning: The default dtype for empty Series will be 'object' instead of 'float64' in a future version. Specify a dtype explicitly to silence this warning.\n",
      "  negative_score_outliers = pd.Series(zscore_df.index[zscore_df[column] < -3].tolist())\n",
      "/var/folders/b2/9tk1ndx57qv9hxwryph3018c0000gn/T/ipykernel_1448/2672014708.py:5: FutureWarning: The default dtype for empty Series will be 'object' instead of 'float64' in a future version. Specify a dtype explicitly to silence this warning.\n",
      "  negative_score_outliers = pd.Series(zscore_df.index[zscore_df[column] < -3].tolist())\n",
      "/var/folders/b2/9tk1ndx57qv9hxwryph3018c0000gn/T/ipykernel_1448/2672014708.py:5: FutureWarning: The default dtype for empty Series will be 'object' instead of 'float64' in a future version. Specify a dtype explicitly to silence this warning.\n",
      "  negative_score_outliers = pd.Series(zscore_df.index[zscore_df[column] < -3].tolist())\n",
      "/var/folders/b2/9tk1ndx57qv9hxwryph3018c0000gn/T/ipykernel_1448/2672014708.py:5: FutureWarning: The default dtype for empty Series will be 'object' instead of 'float64' in a future version. Specify a dtype explicitly to silence this warning.\n",
      "  negative_score_outliers = pd.Series(zscore_df.index[zscore_df[column] < -3].tolist())\n",
      "/var/folders/b2/9tk1ndx57qv9hxwryph3018c0000gn/T/ipykernel_1448/2672014708.py:5: FutureWarning: The default dtype for empty Series will be 'object' instead of 'float64' in a future version. Specify a dtype explicitly to silence this warning.\n",
      "  negative_score_outliers = pd.Series(zscore_df.index[zscore_df[column] < -3].tolist())\n",
      "/var/folders/b2/9tk1ndx57qv9hxwryph3018c0000gn/T/ipykernel_1448/2672014708.py:4: FutureWarning: The default dtype for empty Series will be 'object' instead of 'float64' in a future version. Specify a dtype explicitly to silence this warning.\n",
      "  positive_score_outliers = pd.Series(zscore_df.index[zscore_df[column] > 3].tolist())\n",
      "/var/folders/b2/9tk1ndx57qv9hxwryph3018c0000gn/T/ipykernel_1448/2672014708.py:5: FutureWarning: The default dtype for empty Series will be 'object' instead of 'float64' in a future version. Specify a dtype explicitly to silence this warning.\n",
      "  negative_score_outliers = pd.Series(zscore_df.index[zscore_df[column] < -3].tolist())\n",
      "/var/folders/b2/9tk1ndx57qv9hxwryph3018c0000gn/T/ipykernel_1448/2672014708.py:5: FutureWarning: The default dtype for empty Series will be 'object' instead of 'float64' in a future version. Specify a dtype explicitly to silence this warning.\n",
      "  negative_score_outliers = pd.Series(zscore_df.index[zscore_df[column] < -3].tolist())\n",
      "/var/folders/b2/9tk1ndx57qv9hxwryph3018c0000gn/T/ipykernel_1448/2672014708.py:5: FutureWarning: The default dtype for empty Series will be 'object' instead of 'float64' in a future version. Specify a dtype explicitly to silence this warning.\n",
      "  negative_score_outliers = pd.Series(zscore_df.index[zscore_df[column] < -3].tolist())\n",
      "/var/folders/b2/9tk1ndx57qv9hxwryph3018c0000gn/T/ipykernel_1448/2672014708.py:5: FutureWarning: The default dtype for empty Series will be 'object' instead of 'float64' in a future version. Specify a dtype explicitly to silence this warning.\n",
      "  negative_score_outliers = pd.Series(zscore_df.index[zscore_df[column] < -3].tolist())\n",
      "/var/folders/b2/9tk1ndx57qv9hxwryph3018c0000gn/T/ipykernel_1448/2672014708.py:4: FutureWarning: The default dtype for empty Series will be 'object' instead of 'float64' in a future version. Specify a dtype explicitly to silence this warning.\n",
      "  positive_score_outliers = pd.Series(zscore_df.index[zscore_df[column] > 3].tolist())\n",
      "/var/folders/b2/9tk1ndx57qv9hxwryph3018c0000gn/T/ipykernel_1448/2672014708.py:5: FutureWarning: The default dtype for empty Series will be 'object' instead of 'float64' in a future version. Specify a dtype explicitly to silence this warning.\n",
      "  negative_score_outliers = pd.Series(zscore_df.index[zscore_df[column] < -3].tolist())\n",
      "/var/folders/b2/9tk1ndx57qv9hxwryph3018c0000gn/T/ipykernel_1448/2672014708.py:5: FutureWarning: The default dtype for empty Series will be 'object' instead of 'float64' in a future version. Specify a dtype explicitly to silence this warning.\n",
      "  negative_score_outliers = pd.Series(zscore_df.index[zscore_df[column] < -3].tolist())\n",
      "/var/folders/b2/9tk1ndx57qv9hxwryph3018c0000gn/T/ipykernel_1448/2672014708.py:5: FutureWarning: The default dtype for empty Series will be 'object' instead of 'float64' in a future version. Specify a dtype explicitly to silence this warning.\n",
      "  negative_score_outliers = pd.Series(zscore_df.index[zscore_df[column] < -3].tolist())\n",
      "/var/folders/b2/9tk1ndx57qv9hxwryph3018c0000gn/T/ipykernel_1448/2672014708.py:5: FutureWarning: The default dtype for empty Series will be 'object' instead of 'float64' in a future version. Specify a dtype explicitly to silence this warning.\n",
      "  negative_score_outliers = pd.Series(zscore_df.index[zscore_df[column] < -3].tolist())\n",
      "/var/folders/b2/9tk1ndx57qv9hxwryph3018c0000gn/T/ipykernel_1448/2672014708.py:5: FutureWarning: The default dtype for empty Series will be 'object' instead of 'float64' in a future version. Specify a dtype explicitly to silence this warning.\n",
      "  negative_score_outliers = pd.Series(zscore_df.index[zscore_df[column] < -3].tolist())\n",
      "/var/folders/b2/9tk1ndx57qv9hxwryph3018c0000gn/T/ipykernel_1448/2672014708.py:5: FutureWarning: The default dtype for empty Series will be 'object' instead of 'float64' in a future version. Specify a dtype explicitly to silence this warning.\n",
      "  negative_score_outliers = pd.Series(zscore_df.index[zscore_df[column] < -3].tolist())\n",
      "/var/folders/b2/9tk1ndx57qv9hxwryph3018c0000gn/T/ipykernel_1448/2672014708.py:5: FutureWarning: The default dtype for empty Series will be 'object' instead of 'float64' in a future version. Specify a dtype explicitly to silence this warning.\n",
      "  negative_score_outliers = pd.Series(zscore_df.index[zscore_df[column] < -3].tolist())\n",
      "/var/folders/b2/9tk1ndx57qv9hxwryph3018c0000gn/T/ipykernel_1448/2672014708.py:5: FutureWarning: The default dtype for empty Series will be 'object' instead of 'float64' in a future version. Specify a dtype explicitly to silence this warning.\n",
      "  negative_score_outliers = pd.Series(zscore_df.index[zscore_df[column] < -3].tolist())\n",
      "/var/folders/b2/9tk1ndx57qv9hxwryph3018c0000gn/T/ipykernel_1448/2672014708.py:5: FutureWarning: The default dtype for empty Series will be 'object' instead of 'float64' in a future version. Specify a dtype explicitly to silence this warning.\n",
      "  negative_score_outliers = pd.Series(zscore_df.index[zscore_df[column] < -3].tolist())\n",
      "/var/folders/b2/9tk1ndx57qv9hxwryph3018c0000gn/T/ipykernel_1448/2672014708.py:5: FutureWarning: The default dtype for empty Series will be 'object' instead of 'float64' in a future version. Specify a dtype explicitly to silence this warning.\n",
      "  negative_score_outliers = pd.Series(zscore_df.index[zscore_df[column] < -3].tolist())\n",
      "/var/folders/b2/9tk1ndx57qv9hxwryph3018c0000gn/T/ipykernel_1448/2672014708.py:5: FutureWarning: The default dtype for empty Series will be 'object' instead of 'float64' in a future version. Specify a dtype explicitly to silence this warning.\n",
      "  negative_score_outliers = pd.Series(zscore_df.index[zscore_df[column] < -3].tolist())\n",
      "/var/folders/b2/9tk1ndx57qv9hxwryph3018c0000gn/T/ipykernel_1448/2672014708.py:5: FutureWarning: The default dtype for empty Series will be 'object' instead of 'float64' in a future version. Specify a dtype explicitly to silence this warning.\n",
      "  negative_score_outliers = pd.Series(zscore_df.index[zscore_df[column] < -3].tolist())\n",
      "/var/folders/b2/9tk1ndx57qv9hxwryph3018c0000gn/T/ipykernel_1448/2672014708.py:5: FutureWarning: The default dtype for empty Series will be 'object' instead of 'float64' in a future version. Specify a dtype explicitly to silence this warning.\n",
      "  negative_score_outliers = pd.Series(zscore_df.index[zscore_df[column] < -3].tolist())\n",
      "/var/folders/b2/9tk1ndx57qv9hxwryph3018c0000gn/T/ipykernel_1448/2672014708.py:5: FutureWarning: The default dtype for empty Series will be 'object' instead of 'float64' in a future version. Specify a dtype explicitly to silence this warning.\n",
      "  negative_score_outliers = pd.Series(zscore_df.index[zscore_df[column] < -3].tolist())\n",
      "/var/folders/b2/9tk1ndx57qv9hxwryph3018c0000gn/T/ipykernel_1448/2672014708.py:4: FutureWarning: The default dtype for empty Series will be 'object' instead of 'float64' in a future version. Specify a dtype explicitly to silence this warning.\n",
      "  positive_score_outliers = pd.Series(zscore_df.index[zscore_df[column] > 3].tolist())\n",
      "/var/folders/b2/9tk1ndx57qv9hxwryph3018c0000gn/T/ipykernel_1448/2672014708.py:5: FutureWarning: The default dtype for empty Series will be 'object' instead of 'float64' in a future version. Specify a dtype explicitly to silence this warning.\n",
      "  negative_score_outliers = pd.Series(zscore_df.index[zscore_df[column] < -3].tolist())\n",
      "/var/folders/b2/9tk1ndx57qv9hxwryph3018c0000gn/T/ipykernel_1448/2672014708.py:5: FutureWarning: The default dtype for empty Series will be 'object' instead of 'float64' in a future version. Specify a dtype explicitly to silence this warning.\n",
      "  negative_score_outliers = pd.Series(zscore_df.index[zscore_df[column] < -3].tolist())\n",
      "/var/folders/b2/9tk1ndx57qv9hxwryph3018c0000gn/T/ipykernel_1448/2672014708.py:5: FutureWarning: The default dtype for empty Series will be 'object' instead of 'float64' in a future version. Specify a dtype explicitly to silence this warning.\n",
      "  negative_score_outliers = pd.Series(zscore_df.index[zscore_df[column] < -3].tolist())\n",
      "/var/folders/b2/9tk1ndx57qv9hxwryph3018c0000gn/T/ipykernel_1448/2672014708.py:5: FutureWarning: The default dtype for empty Series will be 'object' instead of 'float64' in a future version. Specify a dtype explicitly to silence this warning.\n",
      "  negative_score_outliers = pd.Series(zscore_df.index[zscore_df[column] < -3].tolist())\n",
      "/var/folders/b2/9tk1ndx57qv9hxwryph3018c0000gn/T/ipykernel_1448/2672014708.py:5: FutureWarning: The default dtype for empty Series will be 'object' instead of 'float64' in a future version. Specify a dtype explicitly to silence this warning.\n",
      "  negative_score_outliers = pd.Series(zscore_df.index[zscore_df[column] < -3].tolist())\n",
      "/var/folders/b2/9tk1ndx57qv9hxwryph3018c0000gn/T/ipykernel_1448/2672014708.py:5: FutureWarning: The default dtype for empty Series will be 'object' instead of 'float64' in a future version. Specify a dtype explicitly to silence this warning.\n",
      "  negative_score_outliers = pd.Series(zscore_df.index[zscore_df[column] < -3].tolist())\n",
      "/var/folders/b2/9tk1ndx57qv9hxwryph3018c0000gn/T/ipykernel_1448/2672014708.py:5: FutureWarning: The default dtype for empty Series will be 'object' instead of 'float64' in a future version. Specify a dtype explicitly to silence this warning.\n",
      "  negative_score_outliers = pd.Series(zscore_df.index[zscore_df[column] < -3].tolist())\n",
      "/var/folders/b2/9tk1ndx57qv9hxwryph3018c0000gn/T/ipykernel_1448/2672014708.py:5: FutureWarning: The default dtype for empty Series will be 'object' instead of 'float64' in a future version. Specify a dtype explicitly to silence this warning.\n",
      "  negative_score_outliers = pd.Series(zscore_df.index[zscore_df[column] < -3].tolist())\n",
      "/var/folders/b2/9tk1ndx57qv9hxwryph3018c0000gn/T/ipykernel_1448/2672014708.py:4: FutureWarning: The default dtype for empty Series will be 'object' instead of 'float64' in a future version. Specify a dtype explicitly to silence this warning.\n",
      "  positive_score_outliers = pd.Series(zscore_df.index[zscore_df[column] > 3].tolist())\n",
      "/var/folders/b2/9tk1ndx57qv9hxwryph3018c0000gn/T/ipykernel_1448/2672014708.py:5: FutureWarning: The default dtype for empty Series will be 'object' instead of 'float64' in a future version. Specify a dtype explicitly to silence this warning.\n",
      "  negative_score_outliers = pd.Series(zscore_df.index[zscore_df[column] < -3].tolist())\n",
      "/var/folders/b2/9tk1ndx57qv9hxwryph3018c0000gn/T/ipykernel_1448/2672014708.py:5: FutureWarning: The default dtype for empty Series will be 'object' instead of 'float64' in a future version. Specify a dtype explicitly to silence this warning.\n",
      "  negative_score_outliers = pd.Series(zscore_df.index[zscore_df[column] < -3].tolist())\n",
      "/var/folders/b2/9tk1ndx57qv9hxwryph3018c0000gn/T/ipykernel_1448/2672014708.py:5: FutureWarning: The default dtype for empty Series will be 'object' instead of 'float64' in a future version. Specify a dtype explicitly to silence this warning.\n",
      "  negative_score_outliers = pd.Series(zscore_df.index[zscore_df[column] < -3].tolist())\n",
      "/var/folders/b2/9tk1ndx57qv9hxwryph3018c0000gn/T/ipykernel_1448/2672014708.py:5: FutureWarning: The default dtype for empty Series will be 'object' instead of 'float64' in a future version. Specify a dtype explicitly to silence this warning.\n",
      "  negative_score_outliers = pd.Series(zscore_df.index[zscore_df[column] < -3].tolist())\n",
      "/var/folders/b2/9tk1ndx57qv9hxwryph3018c0000gn/T/ipykernel_1448/2672014708.py:5: FutureWarning: The default dtype for empty Series will be 'object' instead of 'float64' in a future version. Specify a dtype explicitly to silence this warning.\n",
      "  negative_score_outliers = pd.Series(zscore_df.index[zscore_df[column] < -3].tolist())\n",
      "/var/folders/b2/9tk1ndx57qv9hxwryph3018c0000gn/T/ipykernel_1448/2672014708.py:5: FutureWarning: The default dtype for empty Series will be 'object' instead of 'float64' in a future version. Specify a dtype explicitly to silence this warning.\n",
      "  negative_score_outliers = pd.Series(zscore_df.index[zscore_df[column] < -3].tolist())\n",
      "/var/folders/b2/9tk1ndx57qv9hxwryph3018c0000gn/T/ipykernel_1448/2672014708.py:4: FutureWarning: The default dtype for empty Series will be 'object' instead of 'float64' in a future version. Specify a dtype explicitly to silence this warning.\n",
      "  positive_score_outliers = pd.Series(zscore_df.index[zscore_df[column] > 3].tolist())\n",
      "/var/folders/b2/9tk1ndx57qv9hxwryph3018c0000gn/T/ipykernel_1448/2672014708.py:4: FutureWarning: The default dtype for empty Series will be 'object' instead of 'float64' in a future version. Specify a dtype explicitly to silence this warning.\n",
      "  positive_score_outliers = pd.Series(zscore_df.index[zscore_df[column] > 3].tolist())\n",
      "/var/folders/b2/9tk1ndx57qv9hxwryph3018c0000gn/T/ipykernel_1448/2672014708.py:5: FutureWarning: The default dtype for empty Series will be 'object' instead of 'float64' in a future version. Specify a dtype explicitly to silence this warning.\n",
      "  negative_score_outliers = pd.Series(zscore_df.index[zscore_df[column] < -3].tolist())\n",
      "/var/folders/b2/9tk1ndx57qv9hxwryph3018c0000gn/T/ipykernel_1448/2672014708.py:5: FutureWarning: The default dtype for empty Series will be 'object' instead of 'float64' in a future version. Specify a dtype explicitly to silence this warning.\n",
      "  negative_score_outliers = pd.Series(zscore_df.index[zscore_df[column] < -3].tolist())\n",
      "/var/folders/b2/9tk1ndx57qv9hxwryph3018c0000gn/T/ipykernel_1448/2672014708.py:5: FutureWarning: The default dtype for empty Series will be 'object' instead of 'float64' in a future version. Specify a dtype explicitly to silence this warning.\n",
      "  negative_score_outliers = pd.Series(zscore_df.index[zscore_df[column] < -3].tolist())\n",
      "/var/folders/b2/9tk1ndx57qv9hxwryph3018c0000gn/T/ipykernel_1448/2672014708.py:4: FutureWarning: The default dtype for empty Series will be 'object' instead of 'float64' in a future version. Specify a dtype explicitly to silence this warning.\n",
      "  positive_score_outliers = pd.Series(zscore_df.index[zscore_df[column] > 3].tolist())\n",
      "/var/folders/b2/9tk1ndx57qv9hxwryph3018c0000gn/T/ipykernel_1448/2672014708.py:5: FutureWarning: The default dtype for empty Series will be 'object' instead of 'float64' in a future version. Specify a dtype explicitly to silence this warning.\n",
      "  negative_score_outliers = pd.Series(zscore_df.index[zscore_df[column] < -3].tolist())\n",
      "/var/folders/b2/9tk1ndx57qv9hxwryph3018c0000gn/T/ipykernel_1448/2672014708.py:5: FutureWarning: The default dtype for empty Series will be 'object' instead of 'float64' in a future version. Specify a dtype explicitly to silence this warning.\n",
      "  negative_score_outliers = pd.Series(zscore_df.index[zscore_df[column] < -3].tolist())\n",
      "/var/folders/b2/9tk1ndx57qv9hxwryph3018c0000gn/T/ipykernel_1448/2672014708.py:4: FutureWarning: The default dtype for empty Series will be 'object' instead of 'float64' in a future version. Specify a dtype explicitly to silence this warning.\n",
      "  positive_score_outliers = pd.Series(zscore_df.index[zscore_df[column] > 3].tolist())\n",
      "/var/folders/b2/9tk1ndx57qv9hxwryph3018c0000gn/T/ipykernel_1448/2672014708.py:5: FutureWarning: The default dtype for empty Series will be 'object' instead of 'float64' in a future version. Specify a dtype explicitly to silence this warning.\n",
      "  negative_score_outliers = pd.Series(zscore_df.index[zscore_df[column] < -3].tolist())\n"
     ]
    }
   ],
   "source": [
    "index_to_eliminate = pd.Series([])\n",
    "\n",
    "for column in zscore_df.columns:\n",
    "    positive_score_outliers = pd.Series(zscore_df.index[zscore_df[column] > 3].tolist())\n",
    "    negative_score_outliers = pd.Series(zscore_df.index[zscore_df[column] < -3].tolist())\n",
    "    index_to_eliminate = pd.concat([index_to_eliminate,positive_score_outliers,negative_score_outliers])"
   ],
   "metadata": {
    "pycharm": {
     "name": "#%%\n"
    },
    "id": "q7yXhlON0lKJ",
    "outputId": "18a0b8c6-f12f-415e-9548-07714df9df9b"
   }
  },
  {
   "cell_type": "code",
   "execution_count": null,
   "outputs": [
    {
     "data": {
      "text/plain": "178828"
     },
     "execution_count": 9,
     "metadata": {},
     "output_type": "execute_result"
    }
   ],
   "source": [
    "index_to_eliminate.drop_duplicates(inplace = True)\n",
    "len(index_to_eliminate)"
   ],
   "metadata": {
    "pycharm": {
     "name": "#%%\n"
    },
    "id": "oAmkfEZ60lKJ",
    "outputId": "608a8301-e30d-46cc-a4c1-323e240dd6f8"
   }
  },
  {
   "cell_type": "markdown",
   "source": [
    "Observamos que la cantidad de columnas que poseen outliers es 142, representando aproximadamente el 88% de las columnas del dataset. Retomando la aclaración previa realizada en el apartado de análisis de registros vacíos, se realizó el mismo procedimiento limitando el rango de valores al momento de imputar datos consiguiendo un resultado de 134 columnas con outliers.Es predecible que se detecten una menor cantidad de outliers al reducir el rango de valores válidos para ser imputados. Es importante destacar que para este análisis también se tuvo en consideración la cantidad de filas afectadas por outliers, viendo que se presenta una situación muy similar al comparar los resultados variando los métodos aplicados. \n",
    "\n",
    "Adicionalmente se realizó el procedimiento reemplazando los datos faltantes con la media de cada columna, lo cual de acuerdo con lo esperado llevo a la obtención de peores resultados.\n",
    "\n",
    "\n",
    "\n",
    "Se decidió conservar las columnas anteriormente mencionadas considerando nuestro objetivo del trabajo sobre el dataset. Como ya se explico anteriormente, se intenta predecir si un cliente pagara o no, y por ello nos interesan los datos que se encuentran separados del \"conjunto principal de valores\". Ya que son precisamente dichos valores “fuera de lo común” los cuales pueden llevar a un cliente a no pagar sus cuentas dicho mes. \n"
   ],
   "metadata": {
    "collapsed": false,
    "pycharm": {
     "name": "#%% md\n"
    },
    "id": "FWRwi-9U0lKJ"
   }
  },
  {
   "cell_type": "markdown",
   "source": [
    "### Transformación de variables"
   ],
   "metadata": {
    "collapsed": false,
    "pycharm": {
     "name": "#%% md\n"
    },
    "id": "82Eq2AIS0lKJ"
   }
  },
  {
   "cell_type": "markdown",
   "source": [
    "Dada la cantidad de registros vacíos mostrada anteriormente y teniendo en cuenta que contamos con una gran cantidad de variables del tipo ‘D’, decidimos eliminar dicha columna. Con la columna categórica restante se optó por realizar una transformación hacia una variable numérica para poder trabajar con ellas en los modelos que las requieran. \n",
    "\n",
    "Paralelamente se elimina la variable ‘S_2’ cuyo análisis se realiza en profundidad en la sección inicial del trabajo. En dicho análisis se mostró una leve diferencia generada con el pasar de los años, lo cual al no contar con la información de la diferencia de la cantidad de usuarios entre dichos años, se reduce la utilidad de dicha variable y por lo cual también es descartada. \n"
   ],
   "metadata": {
    "collapsed": false,
    "pycharm": {
     "name": "#%% md\n"
    },
    "id": "nzaXqc6N0lKJ"
   }
  },
  {
   "cell_type": "code",
   "execution_count": null,
   "outputs": [],
   "source": [
    "df_reducido = pd.read_parquet(\"gdrive/My Drive/train_data_reducido_sin_vacios\")\n"
   ],
   "metadata": {
    "pycharm": {
     "name": "#%%\n"
    },
    "id": "66W1bx6U0lKJ"
   }
  },
  {
   "cell_type": "code",
   "execution_count": null,
   "outputs": [],
   "source": [
    "df_reducido.drop(columns = ['D_64','S_2'], inplace = True)"
   ],
   "metadata": {
    "pycharm": {
     "name": "#%%\n"
    },
    "id": "475snd9o0lKK"
   }
  },
  {
   "cell_type": "code",
   "execution_count": null,
   "outputs": [
    {
     "data": {
      "text/plain": "             B_1      B_10      B_11      B_12      B_13      B_14      B_15  \\\n0       0.001930  0.431864  0.004027  0.112579  0.074886  0.009725  0.007219   \n1       0.100998  0.020843  0.065763  0.011516  0.011943  0.023915  0.002677   \n2       0.932366  0.006830  0.938222  0.018259  0.011526  0.310057  0.007449   \n3       0.090679  0.010080  0.061696  0.009170  0.022505  0.021193  0.005326   \n4       0.096867  0.016876  0.072356  0.015320  0.032634  0.030532  0.003829   \n...          ...       ...       ...       ...       ...       ...       ...   \n276567  0.008331  0.242958  0.004117  0.003937  0.006548  0.004503  0.003287   \n276568  0.028992  0.453770  0.017547  0.224241  0.239149  0.101930  0.009882   \n276569  0.162431  0.134409  0.135216  0.023709  0.086869  0.073229  0.001598   \n276570  0.027101  0.293564  0.010437  0.064097  0.049037  0.025647  0.005012   \n276571  0.042782  0.157152  0.026771  0.055753  0.077681  0.036595  0.024166   \n\n            B_16      B_17      B_18  ...      S_26      S_27       S_3  \\\n0       0.000227  0.187306  1.007369  ...  0.022741  0.816651  0.100470   \n1       0.752512  0.888287  0.245604  ...  0.007319  0.003056  0.333741   \n2       1.005576  0.958476  0.100295  ...  0.005956  0.263270  0.166899   \n3       0.004090  0.402698  0.483923  ...  0.001798  0.006840  0.182016   \n4       0.500069  0.008569  0.184785  ...  0.004177  0.004812  0.460324   \n...          ...       ...       ...  ...       ...       ...       ...   \n276567  0.003259  0.201737  1.004954  ...  0.002313  0.194796  0.281264   \n276568  0.002982  0.214119  1.009120  ...  0.055105  0.006036  0.140112   \n276569  0.335726  0.880369  0.379636  ...  0.003040  0.430051  0.086377   \n276570  0.335705  0.145229  1.007944  ...  0.008761  0.380321  0.075824   \n276571  0.920613  0.427228  0.379839  ...  0.000230  0.219747  0.020815   \n\n             S_5       S_6       S_7       S_8       S_9  \\\n0       0.007165  0.002629  0.074646  0.759416  0.019340   \n1       0.007118  0.003323  0.449327  0.121571  0.070750   \n2       0.023294  1.001347  0.195864  0.469173  0.093580   \n3       0.054562  1.005409  0.283636  0.252979  0.088396   \n4       0.042095  0.009332  0.568983  0.328557  0.078887   \n...          ...       ...       ...       ...       ...   \n276567  0.000499  1.004101  0.251258  0.006319  0.112598   \n276568  0.275520  0.009312  0.094025  0.492496  0.074255   \n276569  0.133227  0.000729  0.087364  0.666838  0.035156   \n276570  0.060779  0.008526  0.048874  0.704418  0.022882   \n276571  0.041289  0.002854  0.025815  0.665898  0.010998   \n\n                                              customer_ID  target  \n0       0000099d6bd597052cdcda90ffabf56573fe9d7c79be5f...       0  \n1       000098081fde4fd64bc4d503a5d6f86a0aedc425c96f52...       0  \n2       0000f99513770170a1aba690daeeb8a96da4a39f11fc27...       1  \n3       00013181a0c5fc8f1ea38cd2b90fe8ad2fa8cad9d9f13e...       1  \n4       00013c6e1cec7c21bede7cb319f1e28eb994f5625257f4...       1  \n...                                                   ...     ...  \n276567  fffec7d7e1ca804c86f1ffdaac389c33f8039ed35bf412...       0  \n276568  ffff41c8a52833b56430603969b9ca48d208e7c192c6a4...       0  \n276569  ffff9984b999fccb2b6127635ed0736dda94e544e67e02...       0  \n276570  ffff9984b999fccb2b6127635ed0736dda94e544e67e02...       0  \n276571  fffff1d38b785cef84adeace64f8f83db3a0c31e8d92ea...       0  \n\n[276572 rows x 169 columns]",
      "text/html": "<div>\n<style scoped>\n    .dataframe tbody tr th:only-of-type {\n        vertical-align: middle;\n    }\n\n    .dataframe tbody tr th {\n        vertical-align: top;\n    }\n\n    .dataframe thead th {\n        text-align: right;\n    }\n</style>\n<table border=\"1\" class=\"dataframe\">\n  <thead>\n    <tr style=\"text-align: right;\">\n      <th></th>\n      <th>B_1</th>\n      <th>B_10</th>\n      <th>B_11</th>\n      <th>B_12</th>\n      <th>B_13</th>\n      <th>B_14</th>\n      <th>B_15</th>\n      <th>B_16</th>\n      <th>B_17</th>\n      <th>B_18</th>\n      <th>...</th>\n      <th>S_26</th>\n      <th>S_27</th>\n      <th>S_3</th>\n      <th>S_5</th>\n      <th>S_6</th>\n      <th>S_7</th>\n      <th>S_8</th>\n      <th>S_9</th>\n      <th>customer_ID</th>\n      <th>target</th>\n    </tr>\n  </thead>\n  <tbody>\n    <tr>\n      <th>0</th>\n      <td>0.001930</td>\n      <td>0.431864</td>\n      <td>0.004027</td>\n      <td>0.112579</td>\n      <td>0.074886</td>\n      <td>0.009725</td>\n      <td>0.007219</td>\n      <td>0.000227</td>\n      <td>0.187306</td>\n      <td>1.007369</td>\n      <td>...</td>\n      <td>0.022741</td>\n      <td>0.816651</td>\n      <td>0.100470</td>\n      <td>0.007165</td>\n      <td>0.002629</td>\n      <td>0.074646</td>\n      <td>0.759416</td>\n      <td>0.019340</td>\n      <td>0000099d6bd597052cdcda90ffabf56573fe9d7c79be5f...</td>\n      <td>0</td>\n    </tr>\n    <tr>\n      <th>1</th>\n      <td>0.100998</td>\n      <td>0.020843</td>\n      <td>0.065763</td>\n      <td>0.011516</td>\n      <td>0.011943</td>\n      <td>0.023915</td>\n      <td>0.002677</td>\n      <td>0.752512</td>\n      <td>0.888287</td>\n      <td>0.245604</td>\n      <td>...</td>\n      <td>0.007319</td>\n      <td>0.003056</td>\n      <td>0.333741</td>\n      <td>0.007118</td>\n      <td>0.003323</td>\n      <td>0.449327</td>\n      <td>0.121571</td>\n      <td>0.070750</td>\n      <td>000098081fde4fd64bc4d503a5d6f86a0aedc425c96f52...</td>\n      <td>0</td>\n    </tr>\n    <tr>\n      <th>2</th>\n      <td>0.932366</td>\n      <td>0.006830</td>\n      <td>0.938222</td>\n      <td>0.018259</td>\n      <td>0.011526</td>\n      <td>0.310057</td>\n      <td>0.007449</td>\n      <td>1.005576</td>\n      <td>0.958476</td>\n      <td>0.100295</td>\n      <td>...</td>\n      <td>0.005956</td>\n      <td>0.263270</td>\n      <td>0.166899</td>\n      <td>0.023294</td>\n      <td>1.001347</td>\n      <td>0.195864</td>\n      <td>0.469173</td>\n      <td>0.093580</td>\n      <td>0000f99513770170a1aba690daeeb8a96da4a39f11fc27...</td>\n      <td>1</td>\n    </tr>\n    <tr>\n      <th>3</th>\n      <td>0.090679</td>\n      <td>0.010080</td>\n      <td>0.061696</td>\n      <td>0.009170</td>\n      <td>0.022505</td>\n      <td>0.021193</td>\n      <td>0.005326</td>\n      <td>0.004090</td>\n      <td>0.402698</td>\n      <td>0.483923</td>\n      <td>...</td>\n      <td>0.001798</td>\n      <td>0.006840</td>\n      <td>0.182016</td>\n      <td>0.054562</td>\n      <td>1.005409</td>\n      <td>0.283636</td>\n      <td>0.252979</td>\n      <td>0.088396</td>\n      <td>00013181a0c5fc8f1ea38cd2b90fe8ad2fa8cad9d9f13e...</td>\n      <td>1</td>\n    </tr>\n    <tr>\n      <th>4</th>\n      <td>0.096867</td>\n      <td>0.016876</td>\n      <td>0.072356</td>\n      <td>0.015320</td>\n      <td>0.032634</td>\n      <td>0.030532</td>\n      <td>0.003829</td>\n      <td>0.500069</td>\n      <td>0.008569</td>\n      <td>0.184785</td>\n      <td>...</td>\n      <td>0.004177</td>\n      <td>0.004812</td>\n      <td>0.460324</td>\n      <td>0.042095</td>\n      <td>0.009332</td>\n      <td>0.568983</td>\n      <td>0.328557</td>\n      <td>0.078887</td>\n      <td>00013c6e1cec7c21bede7cb319f1e28eb994f5625257f4...</td>\n      <td>1</td>\n    </tr>\n    <tr>\n      <th>...</th>\n      <td>...</td>\n      <td>...</td>\n      <td>...</td>\n      <td>...</td>\n      <td>...</td>\n      <td>...</td>\n      <td>...</td>\n      <td>...</td>\n      <td>...</td>\n      <td>...</td>\n      <td>...</td>\n      <td>...</td>\n      <td>...</td>\n      <td>...</td>\n      <td>...</td>\n      <td>...</td>\n      <td>...</td>\n      <td>...</td>\n      <td>...</td>\n      <td>...</td>\n      <td>...</td>\n    </tr>\n    <tr>\n      <th>276567</th>\n      <td>0.008331</td>\n      <td>0.242958</td>\n      <td>0.004117</td>\n      <td>0.003937</td>\n      <td>0.006548</td>\n      <td>0.004503</td>\n      <td>0.003287</td>\n      <td>0.003259</td>\n      <td>0.201737</td>\n      <td>1.004954</td>\n      <td>...</td>\n      <td>0.002313</td>\n      <td>0.194796</td>\n      <td>0.281264</td>\n      <td>0.000499</td>\n      <td>1.004101</td>\n      <td>0.251258</td>\n      <td>0.006319</td>\n      <td>0.112598</td>\n      <td>fffec7d7e1ca804c86f1ffdaac389c33f8039ed35bf412...</td>\n      <td>0</td>\n    </tr>\n    <tr>\n      <th>276568</th>\n      <td>0.028992</td>\n      <td>0.453770</td>\n      <td>0.017547</td>\n      <td>0.224241</td>\n      <td>0.239149</td>\n      <td>0.101930</td>\n      <td>0.009882</td>\n      <td>0.002982</td>\n      <td>0.214119</td>\n      <td>1.009120</td>\n      <td>...</td>\n      <td>0.055105</td>\n      <td>0.006036</td>\n      <td>0.140112</td>\n      <td>0.275520</td>\n      <td>0.009312</td>\n      <td>0.094025</td>\n      <td>0.492496</td>\n      <td>0.074255</td>\n      <td>ffff41c8a52833b56430603969b9ca48d208e7c192c6a4...</td>\n      <td>0</td>\n    </tr>\n    <tr>\n      <th>276569</th>\n      <td>0.162431</td>\n      <td>0.134409</td>\n      <td>0.135216</td>\n      <td>0.023709</td>\n      <td>0.086869</td>\n      <td>0.073229</td>\n      <td>0.001598</td>\n      <td>0.335726</td>\n      <td>0.880369</td>\n      <td>0.379636</td>\n      <td>...</td>\n      <td>0.003040</td>\n      <td>0.430051</td>\n      <td>0.086377</td>\n      <td>0.133227</td>\n      <td>0.000729</td>\n      <td>0.087364</td>\n      <td>0.666838</td>\n      <td>0.035156</td>\n      <td>ffff9984b999fccb2b6127635ed0736dda94e544e67e02...</td>\n      <td>0</td>\n    </tr>\n    <tr>\n      <th>276570</th>\n      <td>0.027101</td>\n      <td>0.293564</td>\n      <td>0.010437</td>\n      <td>0.064097</td>\n      <td>0.049037</td>\n      <td>0.025647</td>\n      <td>0.005012</td>\n      <td>0.335705</td>\n      <td>0.145229</td>\n      <td>1.007944</td>\n      <td>...</td>\n      <td>0.008761</td>\n      <td>0.380321</td>\n      <td>0.075824</td>\n      <td>0.060779</td>\n      <td>0.008526</td>\n      <td>0.048874</td>\n      <td>0.704418</td>\n      <td>0.022882</td>\n      <td>ffff9984b999fccb2b6127635ed0736dda94e544e67e02...</td>\n      <td>0</td>\n    </tr>\n    <tr>\n      <th>276571</th>\n      <td>0.042782</td>\n      <td>0.157152</td>\n      <td>0.026771</td>\n      <td>0.055753</td>\n      <td>0.077681</td>\n      <td>0.036595</td>\n      <td>0.024166</td>\n      <td>0.920613</td>\n      <td>0.427228</td>\n      <td>0.379839</td>\n      <td>...</td>\n      <td>0.000230</td>\n      <td>0.219747</td>\n      <td>0.020815</td>\n      <td>0.041289</td>\n      <td>0.002854</td>\n      <td>0.025815</td>\n      <td>0.665898</td>\n      <td>0.010998</td>\n      <td>fffff1d38b785cef84adeace64f8f83db3a0c31e8d92ea...</td>\n      <td>0</td>\n    </tr>\n  </tbody>\n</table>\n<p>276572 rows × 169 columns</p>\n</div>"
     },
     "execution_count": 12,
     "metadata": {},
     "output_type": "execute_result"
    }
   ],
   "source": [
    "df_reducido_dummies = pd.get_dummies(df_reducido, columns=['D_63'])\n",
    "df_reducido_dummies.sort_index(axis = 1, inplace = True)\n",
    "df_reducido_dummies"
   ],
   "metadata": {
    "pycharm": {
     "name": "#%%\n"
    },
    "id": "QCGqjs6A0lKK",
    "outputId": "565c4895-cd47-4787-d41d-6ba72e8a1957"
   }
  },
  {
   "cell_type": "code",
   "execution_count": 2,
   "outputs": [],
   "source": [
    "BEFORE_DIMENCIONALITY_PATH = './data/before_dimencionality'"
   ],
   "metadata": {
    "pycharm": {
     "name": "#%%\n"
    },
    "id": "mP2-fRlQ0lKK"
   }
  },
  {
   "cell_type": "code",
   "execution_count": null,
   "outputs": [],
   "source": [
    "df_reducido_dummies.to_parquet(BEFORE_DIMENCIONALITY_PATH)"
   ],
   "metadata": {
    "pycharm": {
     "name": "#%%\n"
    },
    "id": "81DTZHIZ0lKK"
   }
  },
  {
   "cell_type": "code",
   "execution_count": 3,
   "outputs": [],
   "source": [
    "df_reducido_dummies = pd.read_parquet(BEFORE_DIMENCIONALITY_PATH)"
   ],
   "metadata": {
    "pycharm": {
     "name": "#%%\n"
    },
    "id": "MBjcHU8k0lKK"
   }
  },
  {
   "cell_type": "markdown",
   "source": [
    "### Reducción de dimensionalidad"
   ],
   "metadata": {
    "collapsed": false,
    "pycharm": {
     "name": "#%% md\n"
    },
    "id": "bmHlaLQ10lKK"
   }
  },
  {
   "cell_type": "markdown",
   "source": [
    "Dada la gran cantidad de columnas que posee el dataset consideramos que sería posible realizar una reducción de dimensionalidad con el fin de mejorar la performance de los modelos y para ello podemos utilizar nuevamente la categorización de variables dada por el dataset. La categorización nos permite asumir la existencia de una posible correlación  entre las variables de un mismo tipo y por esta misma posible correlación se decide utilizar PCA (Principal Component Analysis).\n",
    "\n",
    "Como requisito previo a la aplicación de PCA debemos escalar los valores de las variables. Si bien el dataset se encontraba escalado inicialmente, al realizar modificaciones como completar registros vacíos y transformación de datos se ve afectada dicha condición. Por este motivo se deben escalar los datos nuevamente de todas las columnas que utilizaremos del dataset."
   ],
   "metadata": {
    "collapsed": false,
    "pycharm": {
     "name": "#%% md\n"
    },
    "id": "nXYbZaDN0lKK"
   }
  },
  {
   "cell_type": "code",
   "execution_count": null,
   "outputs": [],
   "source": [
    "from sklearn.preprocessing import StandardScaler\n",
    "from sklearn.decomposition import PCA"
   ],
   "metadata": {
    "pycharm": {
     "name": "#%%\n"
    },
    "id": "J5TLkqmT0lKK"
   }
  },
  {
   "cell_type": "code",
   "execution_count": null,
   "outputs": [],
   "source": [
    "columns = columns_by_type(df_reducido_dummies)\n",
    "df_pca = pd.DataFrame()"
   ],
   "metadata": {
    "pycharm": {
     "name": "#%%\n"
    },
    "id": "Bdh_4kJf0lKL"
   }
  },
  {
   "cell_type": "code",
   "execution_count": null,
   "outputs": [],
   "source": [
    "def create_colum_names(n: int , name: str ):\n",
    "  names = []\n",
    "  for i in range(0, n):\n",
    "    names.append(name + str(i + 1))\n",
    "  return names"
   ],
   "metadata": {
    "pycharm": {
     "name": "#%%\n"
    },
    "id": "TYWQuDXs0lKL"
   }
  },
  {
   "cell_type": "markdown",
   "source": [
    "#### Variables relacionadas a los pagos (Tipo P) "
   ],
   "metadata": {
    "collapsed": false,
    "pycharm": {
     "name": "#%% md\n"
    },
    "id": "5o_4NfGp0lKL"
   }
  },
  {
   "cell_type": "code",
   "execution_count": null,
   "outputs": [],
   "source": [
    "x = df_reducido_dummies.loc[:,columns[2]].values\n",
    "y = df_reducido_dummies.loc[:,['target']].values\n",
    "\n",
    "x = StandardScaler().fit_transform(x)\n"
   ],
   "metadata": {
    "pycharm": {
     "name": "#%%\n"
    },
    "id": "ILHmCDZC0lKL"
   }
  },
  {
   "cell_type": "code",
   "execution_count": null,
   "outputs": [],
   "source": [
    "pca = PCA(n_components=2)\n",
    "x_transformada = pca.fit_transform(x)\n",
    "\n",
    "pca_df_aux_type_P = pd.DataFrame(data = x_transformada, columns = ['principal_component_1', 'principal_component_2'])"
   ],
   "metadata": {
    "pycharm": {
     "name": "#%%\n"
    },
    "id": "ME1tFwKr0lKL"
   }
  },
  {
   "cell_type": "code",
   "execution_count": null,
   "outputs": [],
   "source": [
    "pca_df_type_P = pd.concat([pca_df_aux_type_P, df_reducido_dummies[['target']]], axis = 1)"
   ],
   "metadata": {
    "pycharm": {
     "name": "#%%\n"
    },
    "id": "WxwHwgm20lKL"
   }
  },
  {
   "cell_type": "code",
   "execution_count": null,
   "outputs": [
    {
     "data": {
      "text/plain": "<Figure size 432x288 with 1 Axes>",
      "image/png": "[encoded data removed]"
     },
     "metadata": {
      "needs_background": "light"
     },
     "output_type": "display_data"
    }
   ],
   "source": [
    "scatter_plot_pca = plt.figure().add_subplot(1,1,1) \n",
    "\n",
    "scatter_plot_pca.scatter(x=pca_df_type_P['principal_component_1'],y=pca_df_type_P['principal_component_2'],c=pca_df_type_P['target'])\n",
    "scatter_plot_pca.set_xlabel('Componente Principal  1')\n",
    "scatter_plot_pca.set_ylabel('Componente Principal  2')\n",
    "scatter_plot_pca.grid()\n",
    "\n",
    "plt.show()"
   ],
   "metadata": {
    "pycharm": {
     "name": "#%%\n"
    },
    "id": "8xpDu6Cd0lKL",
    "outputId": "214b546d-9fd6-4c9e-8149-4888738ebac4"
   }
  },
  {
   "cell_type": "code",
   "execution_count": null,
   "outputs": [
    {
     "data": {
      "text/plain": "array([0.51896075, 0.29604798])"
     },
     "execution_count": 42,
     "metadata": {},
     "output_type": "execute_result"
    }
   ],
   "source": [
    "pca.explained_variance_ratio_"
   ],
   "metadata": {
    "pycharm": {
     "name": "#%%\n"
    },
    "id": "xbA-pm6_0lKL",
    "outputId": "5ea30239-4ae2-4fb6-949f-44f7a1c2deee"
   }
  },
  {
   "cell_type": "markdown",
   "source": [
    "En el dataset tenemos únicamente tres variables relacionadas con los pagos de los clientes y en caso de existir una correlación marcada entre las mismas seria visibles tanto en los datos como en el grafico anteriormente expuesto. \n",
    "\n",
    "Sin embargo, tanto al observar el grafico como la varianza máxima de aproximadamente 0.52 concluimos que la correlación entre variables no es lo suficientemente fuerte como para realizar una reducción de dimensionalidad para dichas variables por lo cual se conservan sin alteración en el dataset total."
   ],
   "metadata": {
    "collapsed": false,
    "pycharm": {
     "name": "#%% md\n"
    },
    "id": "r3kyRff80lKL"
   }
  },
  {
   "cell_type": "code",
   "execution_count": null,
   "outputs": [],
   "source": [
    "df_pca = pd.concat( [df_pca ,df_reducido_dummies.loc[:,columns[2]]], axis = 1)"
   ],
   "metadata": {
    "pycharm": {
     "name": "#%%\n"
    },
    "id": "KVP7vn5W0lKM"
   }
  },
  {
   "cell_type": "markdown",
   "source": [
    "#### Variables relacionadas a los gastos (Tipo S)"
   ],
   "metadata": {
    "collapsed": false,
    "pycharm": {
     "name": "#%% md\n"
    },
    "id": "WgFX5FMX0lKM"
   }
  },
  {
   "cell_type": "code",
   "execution_count": null,
   "outputs": [],
   "source": [
    "x = df_reducido_dummies.loc[:,columns[1]].values\n",
    "y = df_reducido_dummies.loc[:,['target']].values\n",
    "\n",
    "x = StandardScaler().fit_transform(x)"
   ],
   "metadata": {
    "pycharm": {
     "name": "#%%\n"
    },
    "id": "dcjLYkzy0lKM"
   }
  },
  {
   "cell_type": "code",
   "execution_count": null,
   "outputs": [],
   "source": [
    "pca = PCA(n_components=15)\n",
    "x_transformada = pca.fit_transform(x)"
   ],
   "metadata": {
    "pycharm": {
     "name": "#%%\n"
    },
    "id": "jXFAdqRl0lKM"
   }
  },
  {
   "cell_type": "code",
   "execution_count": null,
   "outputs": [
    {
     "data": {
      "text/plain": "0.9138205889819335"
     },
     "execution_count": 46,
     "metadata": {},
     "output_type": "execute_result"
    }
   ],
   "source": [
    "sum(pca.explained_variance_ratio_)"
   ],
   "metadata": {
    "pycharm": {
     "name": "#%%\n"
    },
    "id": "3EqQeLZn0lKM",
    "outputId": "2a8a741a-6f3d-4e5d-e24e-87e9bc61dade"
   }
  },
  {
   "cell_type": "code",
   "execution_count": null,
   "outputs": [
    {
     "data": {
      "text/plain": "array([0.17311963, 0.10663096, 0.07812148, 0.06664916, 0.06257506,\n       0.05671638, 0.04821325, 0.04641299, 0.04558999, 0.04402757,\n       0.04239725, 0.04134632, 0.03668547, 0.03481043, 0.03052465])"
     },
     "execution_count": 47,
     "metadata": {},
     "output_type": "execute_result"
    }
   ],
   "source": [
    "pca.explained_variance_ratio_"
   ],
   "metadata": {
    "pycharm": {
     "name": "#%%\n"
    },
    "id": "XKM88uMw0lKM",
    "outputId": "5e1ca45d-498a-478e-ac39-fca47b09ebad"
   }
  },
  {
   "cell_type": "markdown",
   "source": [
    "En el caso de las variables del tipo s poseemos 21 columnas, de las cuales se puede representar aproximadamente un 91 % de su información con 15 componentes principales. Dicha cantidad de componentes se obtuvo al comparar los resultados obtenidos al utilizar distintas cantidades, por ejemplo al utilizar 10 componentes se obtiene un 73% o mediante el uso de 14 componentes obtuvimos un 88%. Con estos resultados consideramos que es mejor utilizar n_components = 15.\n",
    "\n",
    "Al mismo tiempo, analizamos el aporte de información realizado por cada componente y dado a que ningún valor es inferior a 0.03 (3%) decidimos consérvalos a todos ellos, destacando que existe una mayor cantidad de información contenida en las 2 primeras componentes principales..\n"
   ],
   "metadata": {
    "collapsed": false,
    "pycharm": {
     "name": "#%% md\n"
    },
    "id": "SGkg0mx-0lKM"
   }
  },
  {
   "cell_type": "code",
   "execution_count": null,
   "outputs": [],
   "source": [
    "columns_s = create_colum_names(15 , 'S_') \n",
    "pca_df_aux_type_S = pd.DataFrame(data = x_transformada, columns = columns_s)"
   ],
   "metadata": {
    "pycharm": {
     "name": "#%%\n"
    },
    "id": "0jtteHFV0lKN"
   }
  },
  {
   "cell_type": "code",
   "execution_count": null,
   "outputs": [],
   "source": [
    "df_pca = pd.concat( [df_pca , pca_df_aux_type_S] ,axis = 1)"
   ],
   "metadata": {
    "pycharm": {
     "name": "#%%\n"
    },
    "id": "1MjLTGz60lKN"
   }
  },
  {
   "cell_type": "markdown",
   "source": [
    "#### Variables relacionadas a los riesgos (Tipo R)"
   ],
   "metadata": {
    "collapsed": false,
    "pycharm": {
     "name": "#%% md\n"
    },
    "id": "yKHM84Um0lKN"
   }
  },
  {
   "cell_type": "code",
   "execution_count": null,
   "outputs": [],
   "source": [
    "x = df_reducido_dummies.loc[:,columns[4]].values\n",
    "y = df_reducido_dummies.loc[:,['target']].values\n",
    "\n",
    "x = StandardScaler().fit_transform(x)"
   ],
   "metadata": {
    "pycharm": {
     "name": "#%%\n"
    },
    "id": "J-B-RVAh0lKN"
   }
  },
  {
   "cell_type": "code",
   "execution_count": null,
   "outputs": [],
   "source": [
    "pca = PCA(n_components=17)\n",
    "x_transformada = pca.fit_transform(x)"
   ],
   "metadata": {
    "pycharm": {
     "name": "#%%\n"
    },
    "id": "ZHtAYYn50lKN"
   }
  },
  {
   "cell_type": "code",
   "execution_count": null,
   "outputs": [
    {
     "data": {
      "text/plain": "0.880681450424011"
     },
     "execution_count": 52,
     "metadata": {},
     "output_type": "execute_result"
    }
   ],
   "source": [
    "sum(pca.explained_variance_ratio_)"
   ],
   "metadata": {
    "pycharm": {
     "name": "#%%\n"
    },
    "id": "rM9m8xr70lKN",
    "outputId": "05c67fc8-8656-47a9-c0b0-1b0b6f2ada7a"
   }
  },
  {
   "cell_type": "code",
   "execution_count": null,
   "outputs": [
    {
     "data": {
      "text/plain": "array([0.19247039, 0.07184423, 0.06679876, 0.05440825, 0.05089943,\n       0.04777686, 0.0392156 , 0.03892342, 0.03852623, 0.03837657,\n       0.03796886, 0.03725737, 0.03556413, 0.03394117, 0.03287575,\n       0.03229384, 0.03154059])"
     },
     "execution_count": 53,
     "metadata": {},
     "output_type": "execute_result"
    }
   ],
   "source": [
    "pca.explained_variance_ratio_"
   ],
   "metadata": {
    "pycharm": {
     "name": "#%%\n"
    },
    "id": "ut00fa9M0lKN",
    "outputId": "31d30df4-1ac2-4cfa-e310-844350f75daf"
   }
  },
  {
   "cell_type": "markdown",
   "source": [
    "En el caso de las variables del tipo R poseemos 26 columnas, de las cuales podemos obtener reultados porcentuales de información que para las columnas del tipo S utilizando 17 componentes principales. Al igual que en el caso anterior se optó por dicha cantidad de componentes principales al comparar los resultados modificando dicho parámetro. \n",
    "\n",
    "Al igual que para el caso anterior se toma como criterio que cada componente principal debe aportar un mínimo de 3% de información.\n",
    "\n"
   ],
   "metadata": {
    "collapsed": false,
    "pycharm": {
     "name": "#%% md\n"
    },
    "id": "GGL8_ey90lKN"
   }
  },
  {
   "cell_type": "code",
   "execution_count": null,
   "outputs": [],
   "source": [
    "columns_R = create_colum_names(17 ,'R_')\n",
    "pca_df_aux_type_R = pd.DataFrame(data = x_transformada, columns = columns_R)"
   ],
   "metadata": {
    "pycharm": {
     "name": "#%%\n"
    },
    "id": "6YWETdlo0lKN"
   }
  },
  {
   "cell_type": "code",
   "execution_count": null,
   "outputs": [],
   "source": [
    "df_pca = pd.concat( [df_pca , pca_df_aux_type_R] ,axis = 1)"
   ],
   "metadata": {
    "pycharm": {
     "name": "#%%\n"
    },
    "id": "qXp6cDdV0lKO"
   }
  },
  {
   "cell_type": "markdown",
   "source": [
    "#### Variables relacionadas a los balances (Tipo B)"
   ],
   "metadata": {
    "collapsed": false,
    "pycharm": {
     "name": "#%% md\n"
    },
    "id": "s66qahWg0lKO"
   }
  },
  {
   "cell_type": "code",
   "execution_count": null,
   "outputs": [],
   "source": [
    "x = df_reducido_dummies.loc[:,columns[3]].values\n",
    "y = df_reducido_dummies.loc[:,['target']].values\n",
    "\n",
    "x = StandardScaler().fit_transform(x)"
   ],
   "metadata": {
    "pycharm": {
     "name": "#%%\n"
    },
    "id": "IB6kSajY0lKO"
   }
  },
  {
   "cell_type": "code",
   "execution_count": null,
   "outputs": [],
   "source": [
    "pca = PCA(n_components=13)\n",
    "x_transformada = pca.fit_transform(x)"
   ],
   "metadata": {
    "pycharm": {
     "name": "#%%\n"
    },
    "id": "CE86nHF20lKO"
   }
  },
  {
   "cell_type": "code",
   "execution_count": null,
   "outputs": [
    {
     "data": {
      "text/plain": "0.7967636335687185"
     },
     "execution_count": 58,
     "metadata": {},
     "output_type": "execute_result"
    }
   ],
   "source": [
    "sum(pca.explained_variance_ratio_)"
   ],
   "metadata": {
    "pycharm": {
     "name": "#%%\n"
    },
    "id": "zMkH2Vvo0lKO",
    "outputId": "682ac8cc-2737-4bb7-cee4-1792ab82b93b"
   }
  },
  {
   "cell_type": "code",
   "execution_count": null,
   "outputs": [
    {
     "data": {
      "text/plain": "array([0.33340947, 0.11112364, 0.04869113, 0.04210545, 0.0368209 ,\n       0.03411338, 0.02937294, 0.02809556, 0.02733173, 0.02689548,\n       0.0268115 , 0.02611351, 0.02587894])"
     },
     "execution_count": 59,
     "metadata": {},
     "output_type": "execute_result"
    }
   ],
   "source": [
    "pca.explained_variance_ratio_"
   ],
   "metadata": {
    "pycharm": {
     "name": "#%%\n"
    },
    "id": "y05iRqNU0lKO",
    "outputId": "6b74a5d1-2df1-446a-b2d6-cc3c02f49373"
   }
  },
  {
   "cell_type": "markdown",
   "source": [
    "En el caso de las variables del tipo B poseemos 37 columnas y utilizando 13 componentes principales se logra representar aproximadamente el 80% de su información. El análisis realizado es similar al desarrollado anteriormente para las variables de distintos tipos, sin embargo en esta ocasión observamos que únicamente una componente principal almacena aproximadamente el 33% de la información permitiendo así una gran representación de los datos con una cantidad muy reducida de variables respecto al punto de partida.\n"
   ],
   "metadata": {
    "collapsed": false,
    "pycharm": {
     "name": "#%% md\n"
    },
    "id": "mwO3S3cr0lKO"
   }
  },
  {
   "cell_type": "code",
   "execution_count": null,
   "outputs": [],
   "source": [
    "columns_B = create_colum_names(13 ,'B_')\n",
    "pca_df_aux_type_B = pd.DataFrame(data = x_transformada, columns = columns_B)"
   ],
   "metadata": {
    "pycharm": {
     "name": "#%%\n"
    },
    "id": "Q__uV0ZK0lKP"
   }
  },
  {
   "cell_type": "code",
   "execution_count": null,
   "outputs": [],
   "source": [
    "df_pca = pd.concat( [df_pca , pca_df_aux_type_B] ,axis = 1)"
   ],
   "metadata": {
    "pycharm": {
     "name": "#%%\n"
    },
    "id": "SJaUA8Fj0lKP"
   }
  },
  {
   "cell_type": "markdown",
   "source": [
    "#### Variables relacionadas a la delincuencia (Tipo D)"
   ],
   "metadata": {
    "collapsed": false,
    "pycharm": {
     "name": "#%% md\n"
    },
    "id": "2XsW9m0o0lKP"
   }
  },
  {
   "cell_type": "code",
   "execution_count": null,
   "outputs": [],
   "source": [
    "x = df_reducido_dummies.loc[:,columns[0]].values\n",
    "y = df_reducido_dummies.loc[:,['target']].values\n",
    "\n",
    "x = StandardScaler().fit_transform(x)"
   ],
   "metadata": {
    "pycharm": {
     "name": "#%%\n"
    },
    "id": "IpMrvuDm0lKP"
   }
  },
  {
   "cell_type": "code",
   "execution_count": null,
   "outputs": [],
   "source": [
    "pca = PCA(n_components=34)\n",
    "x_transformada = pca.fit_transform(x)"
   ],
   "metadata": {
    "pycharm": {
     "name": "#%%\n"
    },
    "id": "jNZqfecE0lKP"
   }
  },
  {
   "cell_type": "code",
   "execution_count": null,
   "outputs": [
    {
     "data": {
      "text/plain": "0.7966533624839892"
     },
     "execution_count": 64,
     "metadata": {},
     "output_type": "execute_result"
    }
   ],
   "source": [
    "sum(pca.explained_variance_ratio_)"
   ],
   "metadata": {
    "pycharm": {
     "name": "#%%\n"
    },
    "id": "pLFH2z170lKP",
    "outputId": "45b27b3a-7e54-49a2-a607-22aeedfa4349"
   }
  },
  {
   "cell_type": "code",
   "execution_count": null,
   "outputs": [
    {
     "data": {
      "text/plain": "array([0.12296001, 0.07127817, 0.05529734, 0.04350325, 0.04148382,\n       0.03428335, 0.03098472, 0.02932641, 0.02575658, 0.02173562,\n       0.02104463, 0.01826129, 0.01687892, 0.01579273, 0.01542724,\n       0.01449442, 0.01428048, 0.01393267, 0.01288856, 0.01277726,\n       0.01272057, 0.012613  , 0.01251165, 0.01244043, 0.01241431,\n       0.01230992, 0.01204246, 0.01177187, 0.01165883, 0.0114885 ,\n       0.01100537, 0.0106135 , 0.01039461, 0.01028085])"
     },
     "execution_count": 65,
     "metadata": {},
     "output_type": "execute_result"
    }
   ],
   "source": [
    "pca.explained_variance_ratio_"
   ],
   "metadata": {
    "pycharm": {
     "name": "#%%\n"
    },
    "id": "dvNfLL2O0lKP",
    "outputId": "dcb7ac92-2428-4c03-9712-b8b9caf260c4"
   }
  },
  {
   "cell_type": "markdown",
   "source": [
    "Por ultimo tenemos las variables del tipo D relacionadas a la delincuencia, tras los procedimientos realizados sobre el dataset redujimos la cantidad de variables a 80. Sin embargo, observamos que tenemos la posibilidad de obtener aproximadamente el 80% de la información que contienen mediante el uso de 34 componentes principales. Los resultados obtenidos muestran que existen componentes principales que únicamente aportan un 1% de información y pese a ello optamos conservarlos a fin de tener una mayor representación de los datos.\n"
   ],
   "metadata": {
    "collapsed": false,
    "pycharm": {
     "name": "#%% md\n"
    },
    "id": "Tjq-3CRt0lKP"
   }
  },
  {
   "cell_type": "code",
   "execution_count": null,
   "outputs": [],
   "source": [
    "columns_D = create_colum_names(34 ,'D_')\n",
    "pca_df_aux_type_D = pd.DataFrame(data = x_transformada, columns = columns_D)"
   ],
   "metadata": {
    "pycharm": {
     "name": "#%%\n"
    },
    "id": "q9Eu1Plg0lKP"
   }
  },
  {
   "cell_type": "code",
   "execution_count": null,
   "outputs": [],
   "source": [
    "df_pca = pd.concat( [df_pca , pca_df_aux_type_D] ,axis = 1)"
   ],
   "metadata": {
    "pycharm": {
     "name": "#%%\n"
    },
    "id": "3yJ4g1Dt0lKQ"
   }
  },
  {
   "cell_type": "code",
   "execution_count": null,
   "outputs": [],
   "source": [
    "df_pca = pd.concat( [df_pca , df_reducido['target']] ,axis = 1)"
   ],
   "metadata": {
    "pycharm": {
     "name": "#%%\n"
    },
    "id": "OjvyCEZm0lKQ"
   }
  },
  {
   "cell_type": "code",
   "execution_count": null,
   "outputs": [],
   "source": [
    "df_pca = pd.concat([df_pca, df_reducido['customer_ID']], axis=1)"
   ],
   "metadata": {
    "pycharm": {
     "name": "#%%\n"
    },
    "id": "SuyqqewB0lKQ"
   }
  },
  {
   "cell_type": "code",
   "execution_count": null,
   "outputs": [
    {
     "data": {
      "text/plain": "Index(['P_2', 'P_3', 'P_4', 'S_1', 'S_2', 'S_3', 'S_4', 'S_5', 'S_6', 'S_7',\n       'S_8', 'S_9', 'S_10', 'S_11', 'S_12', 'S_13', 'S_14', 'S_15', 'R_1',\n       'R_2', 'R_3', 'R_4', 'R_5', 'R_6', 'R_7', 'R_8', 'R_9', 'R_10', 'R_11',\n       'R_12', 'R_13', 'R_14', 'R_15', 'R_16', 'R_17', 'B_1', 'B_2', 'B_3',\n       'B_4', 'B_5', 'B_6', 'B_7', 'B_8', 'B_9', 'B_10', 'B_11', 'B_12',\n       'B_13', 'D_1', 'D_2', 'D_3', 'D_4', 'D_5', 'D_6', 'D_7', 'D_8', 'D_9',\n       'D_10', 'D_11', 'D_12', 'D_13', 'D_14', 'D_15', 'D_16', 'D_17', 'D_18',\n       'D_19', 'D_20', 'D_21', 'D_22', 'D_23', 'D_24', 'D_25', 'D_26', 'D_27',\n       'D_28', 'D_29', 'D_30', 'D_31', 'D_32', 'D_33', 'D_34', 'target',\n       'customer_ID'],\n      dtype='object')"
     },
     "execution_count": 72,
     "metadata": {},
     "output_type": "execute_result"
    }
   ],
   "source": [
    "df_pca.columns"
   ],
   "metadata": {
    "pycharm": {
     "name": "#%%\n"
    },
    "id": "8ayo4yuv0lKQ",
    "outputId": "b4261ee9-9386-4011-c23f-4023bee8c225"
   }
  },
  {
   "cell_type": "code",
   "execution_count": 1,
   "outputs": [],
   "source": [
    "AFTER_DIMENSION_PATH = './data/after_dimension'"
   ],
   "metadata": {
    "pycharm": {
     "name": "#%%\n"
    },
    "id": "YGalckH90lKQ"
   }
  },
  {
   "cell_type": "code",
   "execution_count": 2,
   "outputs": [
    {
     "ename": "NameError",
     "evalue": "name 'df_pca' is not defined",
     "output_type": "error",
     "traceback": [
      "\u001B[0;31m---------------------------------------------------------------------------\u001B[0m",
      "\u001B[0;31mNameError\u001B[0m                                 Traceback (most recent call last)",
      "Input \u001B[0;32mIn [2]\u001B[0m, in \u001B[0;36m<cell line: 1>\u001B[0;34m()\u001B[0m\n\u001B[0;32m----> 1\u001B[0m \u001B[43mdf_pca\u001B[49m\u001B[38;5;241m.\u001B[39mto_parquet(AFTER_DIMENSION_PATH)\n",
      "\u001B[0;31mNameError\u001B[0m: name 'df_pca' is not defined"
     ]
    }
   ],
   "source": [
    "df_pca.to_parquet(AFTER_DIMENSION_PATH)"
   ],
   "metadata": {
    "pycharm": {
     "name": "#%%\n"
    },
    "id": "LxQJKtrf0lKQ"
   }
  },
  {
   "cell_type": "code",
   "execution_count": 3,
   "outputs": [],
   "source": [
    "df_pca = pd.read_parquet(AFTER_DIMENSION_PATH)"
   ],
   "metadata": {
    "pycharm": {
     "name": "#%%\n"
    },
    "id": "H_dvGn570lKQ"
   }
  },
  {
   "cell_type": "markdown",
   "source": [
    "#### Conclusiones"
   ],
   "metadata": {
    "collapsed": false,
    "pycharm": {
     "name": "#%% md\n"
    },
    "id": "HjGBFlzl0lKQ"
   }
  },
  {
   "cell_type": "markdown",
   "source": [
    "Como resultado de la reducción de dimensionalidad mediante el método de PCA, obtuvimos un dataset de 83 columnas donde para los distintos tipos de variables se procuró conservar aproximadamente un mínimo del 80% de la información. Considerando que previo al procedimiento el dataset contaba con 168 columnas, concluimos que es beneficiosa la aplicación de la reducción de dimensionalidad con el fin de obtener una mejor performance en los distintos modelos que utilicen como fuente de información dicho dataset modificado."
   ],
   "metadata": {
    "collapsed": false,
    "pycharm": {
     "name": "#%% md\n"
    },
    "id": "51CCANei0lKR"
   }
  },
  {
   "cell_type": "code",
   "execution_count": 4,
   "outputs": [
    {
     "data": {
      "text/plain": "             P_2       P_3       P_4       S_1       S_2       S_3       S_4  \\\n0       0.868580  0.689886  0.007455 -2.898584  0.085358  0.767740 -0.560084   \n1       0.414444  0.557492  0.957622  0.935086 -0.965246 -0.538334  1.703724   \n2       0.408131  0.608540  0.008573  0.464833  0.871602 -0.936698 -0.434236   \n3       0.359892  0.374767  0.009922  1.198177  0.617719 -1.038145 -0.238809   \n4       0.311111  0.512139  0.963224  1.008087 -1.656863 -0.452177  2.843438   \n...          ...       ...       ...       ...       ...       ...       ...   \n276567  0.703939  0.619083  0.004705  2.229533  0.880567  0.060648 -0.412833   \n276568  0.895553  0.786104  0.008739 -1.003391  0.344174 -0.390606 -0.009446   \n276569  0.780039  0.627228  0.006754 -2.001636  0.417368  0.044487 -0.279186   \n276570  0.794548  0.625673  0.001326 -2.270228  0.670521 -0.059370 -0.160369   \n276571  0.965709  0.635963  0.008578 -3.116743  0.998344  0.216375  0.120543   \n\n             S_5       S_6       S_7  ...      D_27      D_28      D_29  \\\n0       0.664197 -0.561271 -0.853606  ...  0.537628  0.502336 -1.589656   \n1       0.620479  0.010761  0.816514  ... -0.266054  0.071974  0.145948   \n2      -0.189318  0.119886 -0.957924  ...  0.011427  0.046901  0.121699   \n3      -0.368435  0.346914 -0.093333  ... -2.476854  0.884683  1.509281   \n4       1.001564 -0.295520  0.400813  ... -0.222884 -0.030480 -0.183028   \n...          ...       ...       ...  ...       ...       ...       ...   \n276567 -0.168784  0.282989 -0.101462  ... -0.231274  0.520484 -0.552522   \n276568  0.164462  0.428303  0.207067  ... -1.430647 -0.577559  2.321361   \n276569  0.766529  0.195224 -0.180456  ... -0.080650  0.028026  1.335227   \n276570  0.236371 -0.548114 -0.490292  ... -0.142128  0.214786  0.783358   \n276571  0.319723 -0.502770  0.548535  ... -0.588245  0.929266  0.820479   \n\n            D_30      D_31      D_32      D_33      D_34  target  \\\n0      -0.569328 -0.156329  0.285054 -0.759074  1.030513       0   \n1       0.237159 -0.274245 -0.070292  0.033250  0.294642       0   \n2      -0.198351  0.956318 -0.288076 -0.013005 -1.171617       1   \n3      -5.523290  0.819031  0.794400  1.850148  1.132167       1   \n4       1.108053 -0.461474 -0.362400  0.219478  0.053121       1   \n...          ...       ...       ...       ...       ...     ...   \n276567 -0.069027  0.347670 -0.503723 -0.217826 -1.221566       0   \n276568  1.650005  2.199781  3.320751 -2.201221 -1.097246       0   \n276569  0.247285 -0.753733 -2.759057 -0.369218  0.989445       0   \n276570 -0.260782 -0.006639 -2.310914 -0.201025  0.340359       0   \n276571 -1.497069  0.384196 -1.595660 -0.334176 -0.669895       0   \n\n                                              customer_ID  \n0       0000099d6bd597052cdcda90ffabf56573fe9d7c79be5f...  \n1       000098081fde4fd64bc4d503a5d6f86a0aedc425c96f52...  \n2       0000f99513770170a1aba690daeeb8a96da4a39f11fc27...  \n3       00013181a0c5fc8f1ea38cd2b90fe8ad2fa8cad9d9f13e...  \n4       00013c6e1cec7c21bede7cb319f1e28eb994f5625257f4...  \n...                                                   ...  \n276567  fffec7d7e1ca804c86f1ffdaac389c33f8039ed35bf412...  \n276568  ffff41c8a52833b56430603969b9ca48d208e7c192c6a4...  \n276569  ffff9984b999fccb2b6127635ed0736dda94e544e67e02...  \n276570  ffff9984b999fccb2b6127635ed0736dda94e544e67e02...  \n276571  fffff1d38b785cef84adeace64f8f83db3a0c31e8d92ea...  \n\n[276572 rows x 84 columns]",
      "text/html": "<div>\n<style scoped>\n    .dataframe tbody tr th:only-of-type {\n        vertical-align: middle;\n    }\n\n    .dataframe tbody tr th {\n        vertical-align: top;\n    }\n\n    .dataframe thead th {\n        text-align: right;\n    }\n</style>\n<table border=\"1\" class=\"dataframe\">\n  <thead>\n    <tr style=\"text-align: right;\">\n      <th></th>\n      <th>P_2</th>\n      <th>P_3</th>\n      <th>P_4</th>\n      <th>S_1</th>\n      <th>S_2</th>\n      <th>S_3</th>\n      <th>S_4</th>\n      <th>S_5</th>\n      <th>S_6</th>\n      <th>S_7</th>\n      <th>...</th>\n      <th>D_27</th>\n      <th>D_28</th>\n      <th>D_29</th>\n      <th>D_30</th>\n      <th>D_31</th>\n      <th>D_32</th>\n      <th>D_33</th>\n      <th>D_34</th>\n      <th>target</th>\n      <th>customer_ID</th>\n    </tr>\n  </thead>\n  <tbody>\n    <tr>\n      <th>0</th>\n      <td>0.868580</td>\n      <td>0.689886</td>\n      <td>0.007455</td>\n      <td>-2.898584</td>\n      <td>0.085358</td>\n      <td>0.767740</td>\n      <td>-0.560084</td>\n      <td>0.664197</td>\n      <td>-0.561271</td>\n      <td>-0.853606</td>\n      <td>...</td>\n      <td>0.537628</td>\n      <td>0.502336</td>\n      <td>-1.589656</td>\n      <td>-0.569328</td>\n      <td>-0.156329</td>\n      <td>0.285054</td>\n      <td>-0.759074</td>\n      <td>1.030513</td>\n      <td>0</td>\n      <td>0000099d6bd597052cdcda90ffabf56573fe9d7c79be5f...</td>\n    </tr>\n    <tr>\n      <th>1</th>\n      <td>0.414444</td>\n      <td>0.557492</td>\n      <td>0.957622</td>\n      <td>0.935086</td>\n      <td>-0.965246</td>\n      <td>-0.538334</td>\n      <td>1.703724</td>\n      <td>0.620479</td>\n      <td>0.010761</td>\n      <td>0.816514</td>\n      <td>...</td>\n      <td>-0.266054</td>\n      <td>0.071974</td>\n      <td>0.145948</td>\n      <td>0.237159</td>\n      <td>-0.274245</td>\n      <td>-0.070292</td>\n      <td>0.033250</td>\n      <td>0.294642</td>\n      <td>0</td>\n      <td>000098081fde4fd64bc4d503a5d6f86a0aedc425c96f52...</td>\n    </tr>\n    <tr>\n      <th>2</th>\n      <td>0.408131</td>\n      <td>0.608540</td>\n      <td>0.008573</td>\n      <td>0.464833</td>\n      <td>0.871602</td>\n      <td>-0.936698</td>\n      <td>-0.434236</td>\n      <td>-0.189318</td>\n      <td>0.119886</td>\n      <td>-0.957924</td>\n      <td>...</td>\n      <td>0.011427</td>\n      <td>0.046901</td>\n      <td>0.121699</td>\n      <td>-0.198351</td>\n      <td>0.956318</td>\n      <td>-0.288076</td>\n      <td>-0.013005</td>\n      <td>-1.171617</td>\n      <td>1</td>\n      <td>0000f99513770170a1aba690daeeb8a96da4a39f11fc27...</td>\n    </tr>\n    <tr>\n      <th>3</th>\n      <td>0.359892</td>\n      <td>0.374767</td>\n      <td>0.009922</td>\n      <td>1.198177</td>\n      <td>0.617719</td>\n      <td>-1.038145</td>\n      <td>-0.238809</td>\n      <td>-0.368435</td>\n      <td>0.346914</td>\n      <td>-0.093333</td>\n      <td>...</td>\n      <td>-2.476854</td>\n      <td>0.884683</td>\n      <td>1.509281</td>\n      <td>-5.523290</td>\n      <td>0.819031</td>\n      <td>0.794400</td>\n      <td>1.850148</td>\n      <td>1.132167</td>\n      <td>1</td>\n      <td>00013181a0c5fc8f1ea38cd2b90fe8ad2fa8cad9d9f13e...</td>\n    </tr>\n    <tr>\n      <th>4</th>\n      <td>0.311111</td>\n      <td>0.512139</td>\n      <td>0.963224</td>\n      <td>1.008087</td>\n      <td>-1.656863</td>\n      <td>-0.452177</td>\n      <td>2.843438</td>\n      <td>1.001564</td>\n      <td>-0.295520</td>\n      <td>0.400813</td>\n      <td>...</td>\n      <td>-0.222884</td>\n      <td>-0.030480</td>\n      <td>-0.183028</td>\n      <td>1.108053</td>\n      <td>-0.461474</td>\n      <td>-0.362400</td>\n      <td>0.219478</td>\n      <td>0.053121</td>\n      <td>1</td>\n      <td>00013c6e1cec7c21bede7cb319f1e28eb994f5625257f4...</td>\n    </tr>\n    <tr>\n      <th>...</th>\n      <td>...</td>\n      <td>...</td>\n      <td>...</td>\n      <td>...</td>\n      <td>...</td>\n      <td>...</td>\n      <td>...</td>\n      <td>...</td>\n      <td>...</td>\n      <td>...</td>\n      <td>...</td>\n      <td>...</td>\n      <td>...</td>\n      <td>...</td>\n      <td>...</td>\n      <td>...</td>\n      <td>...</td>\n      <td>...</td>\n      <td>...</td>\n      <td>...</td>\n      <td>...</td>\n    </tr>\n    <tr>\n      <th>276567</th>\n      <td>0.703939</td>\n      <td>0.619083</td>\n      <td>0.004705</td>\n      <td>2.229533</td>\n      <td>0.880567</td>\n      <td>0.060648</td>\n      <td>-0.412833</td>\n      <td>-0.168784</td>\n      <td>0.282989</td>\n      <td>-0.101462</td>\n      <td>...</td>\n      <td>-0.231274</td>\n      <td>0.520484</td>\n      <td>-0.552522</td>\n      <td>-0.069027</td>\n      <td>0.347670</td>\n      <td>-0.503723</td>\n      <td>-0.217826</td>\n      <td>-1.221566</td>\n      <td>0</td>\n      <td>fffec7d7e1ca804c86f1ffdaac389c33f8039ed35bf412...</td>\n    </tr>\n    <tr>\n      <th>276568</th>\n      <td>0.895553</td>\n      <td>0.786104</td>\n      <td>0.008739</td>\n      <td>-1.003391</td>\n      <td>0.344174</td>\n      <td>-0.390606</td>\n      <td>-0.009446</td>\n      <td>0.164462</td>\n      <td>0.428303</td>\n      <td>0.207067</td>\n      <td>...</td>\n      <td>-1.430647</td>\n      <td>-0.577559</td>\n      <td>2.321361</td>\n      <td>1.650005</td>\n      <td>2.199781</td>\n      <td>3.320751</td>\n      <td>-2.201221</td>\n      <td>-1.097246</td>\n      <td>0</td>\n      <td>ffff41c8a52833b56430603969b9ca48d208e7c192c6a4...</td>\n    </tr>\n    <tr>\n      <th>276569</th>\n      <td>0.780039</td>\n      <td>0.627228</td>\n      <td>0.006754</td>\n      <td>-2.001636</td>\n      <td>0.417368</td>\n      <td>0.044487</td>\n      <td>-0.279186</td>\n      <td>0.766529</td>\n      <td>0.195224</td>\n      <td>-0.180456</td>\n      <td>...</td>\n      <td>-0.080650</td>\n      <td>0.028026</td>\n      <td>1.335227</td>\n      <td>0.247285</td>\n      <td>-0.753733</td>\n      <td>-2.759057</td>\n      <td>-0.369218</td>\n      <td>0.989445</td>\n      <td>0</td>\n      <td>ffff9984b999fccb2b6127635ed0736dda94e544e67e02...</td>\n    </tr>\n    <tr>\n      <th>276570</th>\n      <td>0.794548</td>\n      <td>0.625673</td>\n      <td>0.001326</td>\n      <td>-2.270228</td>\n      <td>0.670521</td>\n      <td>-0.059370</td>\n      <td>-0.160369</td>\n      <td>0.236371</td>\n      <td>-0.548114</td>\n      <td>-0.490292</td>\n      <td>...</td>\n      <td>-0.142128</td>\n      <td>0.214786</td>\n      <td>0.783358</td>\n      <td>-0.260782</td>\n      <td>-0.006639</td>\n      <td>-2.310914</td>\n      <td>-0.201025</td>\n      <td>0.340359</td>\n      <td>0</td>\n      <td>ffff9984b999fccb2b6127635ed0736dda94e544e67e02...</td>\n    </tr>\n    <tr>\n      <th>276571</th>\n      <td>0.965709</td>\n      <td>0.635963</td>\n      <td>0.008578</td>\n      <td>-3.116743</td>\n      <td>0.998344</td>\n      <td>0.216375</td>\n      <td>0.120543</td>\n      <td>0.319723</td>\n      <td>-0.502770</td>\n      <td>0.548535</td>\n      <td>...</td>\n      <td>-0.588245</td>\n      <td>0.929266</td>\n      <td>0.820479</td>\n      <td>-1.497069</td>\n      <td>0.384196</td>\n      <td>-1.595660</td>\n      <td>-0.334176</td>\n      <td>-0.669895</td>\n      <td>0</td>\n      <td>fffff1d38b785cef84adeace64f8f83db3a0c31e8d92ea...</td>\n    </tr>\n  </tbody>\n</table>\n<p>276572 rows × 84 columns</p>\n</div>"
     },
     "execution_count": 4,
     "metadata": {},
     "output_type": "execute_result"
    }
   ],
   "source": [
    "df_pca"
   ],
   "metadata": {
    "pycharm": {
     "name": "#%%\n"
    },
    "id": "cJIvypaZ0lKR",
    "outputId": "acdf1053-5f30-4e38-bfd5-52a97d7fd20a"
   }
  },
  {
   "cell_type": "markdown",
   "source": [
    "## Agrupamos por Customer ID"
   ],
   "metadata": {
    "collapsed": false,
    "pycharm": {
     "name": "#%% md\n"
    },
    "id": "WHuFvJfp0lKR"
   }
  },
  {
   "cell_type": "code",
   "execution_count": 5,
   "outputs": [],
   "source": [
    "df_group = df_pca.groupby(['customer_ID']).sum()"
   ],
   "metadata": {
    "pycharm": {
     "name": "#%%\n"
    },
    "id": "uD_u0n7f0lKR"
   }
  },
  {
   "cell_type": "code",
   "execution_count": 6,
   "outputs": [],
   "source": [
    "df_group['target'] = df_group['target'].apply(lambda x: 1 if x > 0 else 0)"
   ],
   "metadata": {
    "pycharm": {
     "name": "#%%\n"
    },
    "id": "Wexs-Gqc0lKR"
   }
  },
  {
   "cell_type": "code",
   "execution_count": 7,
   "outputs": [
    {
     "data": {
      "text/plain": "                                                         P_2       P_3  \\\ncustomer_ID                                                              \n0000099d6bd597052cdcda90ffabf56573fe9d7c79be5fb...  0.868580  0.689886   \n000098081fde4fd64bc4d503a5d6f86a0aedc425c96f523...  0.414444  0.557492   \n0000f99513770170a1aba690daeeb8a96da4a39f11fc27d...  0.408131  0.608540   \n00013181a0c5fc8f1ea38cd2b90fe8ad2fa8cad9d9f13e4...  0.359892  0.374767   \n00013c6e1cec7c21bede7cb319f1e28eb994f5625257f47...  0.364256  0.643646   \n...                                                      ...       ...   \nfffeb188719a2fcf32cb4c8d0cc49180b6863eef55dbb99...  1.892951  1.878705   \nfffec7d7e1ca804c86f1ffdaac389c33f8039ed35bf412b...  0.703939  0.619083   \nffff41c8a52833b56430603969b9ca48d208e7c192c6a40...  0.895553  0.786104   \nffff9984b999fccb2b6127635ed0736dda94e544e67e026...  1.574587  1.252901   \nfffff1d38b785cef84adeace64f8f83db3a0c31e8d92eab...  0.965709  0.635963   \n\n                                                         P_4       S_1  \\\ncustomer_ID                                                              \n0000099d6bd597052cdcda90ffabf56573fe9d7c79be5fb...  0.007455 -2.898584   \n000098081fde4fd64bc4d503a5d6f86a0aedc425c96f523...  0.957622  0.935086   \n0000f99513770170a1aba690daeeb8a96da4a39f11fc27d...  0.008573  0.464833   \n00013181a0c5fc8f1ea38cd2b90fe8ad2fa8cad9d9f13e4...  0.009922  1.198177   \n00013c6e1cec7c21bede7cb319f1e28eb994f5625257f47...  0.982561  5.529120   \n...                                                      ...       ...   \nfffeb188719a2fcf32cb4c8d0cc49180b6863eef55dbb99...  0.007791 -1.884402   \nfffec7d7e1ca804c86f1ffdaac389c33f8039ed35bf412b...  0.004705  2.229533   \nffff41c8a52833b56430603969b9ca48d208e7c192c6a40...  0.008739 -1.003391   \nffff9984b999fccb2b6127635ed0736dda94e544e67e026...  0.008080 -4.271863   \nfffff1d38b785cef84adeace64f8f83db3a0c31e8d92eab...  0.008578 -3.116743   \n\n                                                         S_2       S_3  \\\ncustomer_ID                                                              \n0000099d6bd597052cdcda90ffabf56573fe9d7c79be5fb...  0.085358  0.767740   \n000098081fde4fd64bc4d503a5d6f86a0aedc425c96f523... -0.965246 -0.538334   \n0000f99513770170a1aba690daeeb8a96da4a39f11fc27d...  0.871602 -0.936698   \n00013181a0c5fc8f1ea38cd2b90fe8ad2fa8cad9d9f13e4...  0.617719 -1.038145   \n00013c6e1cec7c21bede7cb319f1e28eb994f5625257f47... -4.673182 -2.214837   \n...                                                      ...       ...   \nfffeb188719a2fcf32cb4c8d0cc49180b6863eef55dbb99... -4.236384  2.209951   \nfffec7d7e1ca804c86f1ffdaac389c33f8039ed35bf412b...  0.880567  0.060648   \nffff41c8a52833b56430603969b9ca48d208e7c192c6a40...  0.344174 -0.390606   \nffff9984b999fccb2b6127635ed0736dda94e544e67e026...  1.087889 -0.014884   \nfffff1d38b785cef84adeace64f8f83db3a0c31e8d92eab...  0.998344  0.216375   \n\n                                                         S_4        S_5  \\\ncustomer_ID                                                               \n0000099d6bd597052cdcda90ffabf56573fe9d7c79be5fb... -0.560084   0.664197   \n000098081fde4fd64bc4d503a5d6f86a0aedc425c96f523...  1.703724   0.620479   \n0000f99513770170a1aba690daeeb8a96da4a39f11fc27d... -0.434236  -0.189318   \n00013181a0c5fc8f1ea38cd2b90fe8ad2fa8cad9d9f13e4... -0.238809  -0.368435   \n00013c6e1cec7c21bede7cb319f1e28eb994f5625257f47...  7.524363   0.998194   \n...                                                      ...        ...   \nfffeb188719a2fcf32cb4c8d0cc49180b6863eef55dbb99... -1.638996  11.133300   \nfffec7d7e1ca804c86f1ffdaac389c33f8039ed35bf412b... -0.412833  -0.168784   \nffff41c8a52833b56430603969b9ca48d208e7c192c6a40... -0.009446   0.164462   \nffff9984b999fccb2b6127635ed0736dda94e544e67e026... -0.439556   1.002901   \nfffff1d38b785cef84adeace64f8f83db3a0c31e8d92eab...  0.120543   0.319723   \n\n                                                         S_6       S_7  ...  \\\ncustomer_ID                                                             ...   \n0000099d6bd597052cdcda90ffabf56573fe9d7c79be5fb... -0.561271 -0.853606  ...   \n000098081fde4fd64bc4d503a5d6f86a0aedc425c96f523...  0.010761  0.816514  ...   \n0000f99513770170a1aba690daeeb8a96da4a39f11fc27d...  0.119886 -0.957924  ...   \n00013181a0c5fc8f1ea38cd2b90fe8ad2fa8cad9d9f13e4...  0.346914 -0.093333  ...   \n00013c6e1cec7c21bede7cb319f1e28eb994f5625257f47... -0.872678  0.758109  ...   \n...                                                      ...       ...  ...   \nfffeb188719a2fcf32cb4c8d0cc49180b6863eef55dbb99...  7.714393  1.822908  ...   \nfffec7d7e1ca804c86f1ffdaac389c33f8039ed35bf412b...  0.282989 -0.101462  ...   \nffff41c8a52833b56430603969b9ca48d208e7c192c6a40...  0.428303  0.207067  ...   \nffff9984b999fccb2b6127635ed0736dda94e544e67e026... -0.352890 -0.670748  ...   \nfffff1d38b785cef84adeace64f8f83db3a0c31e8d92eab... -0.502770  0.548535  ...   \n\n                                                        D_26      D_27  \\\ncustomer_ID                                                              \n0000099d6bd597052cdcda90ffabf56573fe9d7c79be5fb...  0.065936  0.537628   \n000098081fde4fd64bc4d503a5d6f86a0aedc425c96f523...  0.159534 -0.266054   \n0000f99513770170a1aba690daeeb8a96da4a39f11fc27d...  0.184024  0.011427   \n00013181a0c5fc8f1ea38cd2b90fe8ad2fa8cad9d9f13e4... -0.413865 -2.476854   \n00013c6e1cec7c21bede7cb319f1e28eb994f5625257f47... -1.322096 -3.583138   \n...                                                      ...       ...   \nfffeb188719a2fcf32cb4c8d0cc49180b6863eef55dbb99... -0.047549  3.482529   \nfffec7d7e1ca804c86f1ffdaac389c33f8039ed35bf412b... -0.604605 -0.231274   \nffff41c8a52833b56430603969b9ca48d208e7c192c6a40... -0.224670 -1.430647   \nffff9984b999fccb2b6127635ed0736dda94e544e67e026...  0.525433 -0.222778   \nfffff1d38b785cef84adeace64f8f83db3a0c31e8d92eab...  0.529624 -0.588245   \n\n                                                        D_28      D_29  \\\ncustomer_ID                                                              \n0000099d6bd597052cdcda90ffabf56573fe9d7c79be5fb...  0.502336 -1.589656   \n000098081fde4fd64bc4d503a5d6f86a0aedc425c96f523...  0.071974  0.145948   \n0000f99513770170a1aba690daeeb8a96da4a39f11fc27d...  0.046901  0.121699   \n00013181a0c5fc8f1ea38cd2b90fe8ad2fa8cad9d9f13e4...  0.884683  1.509281   \n00013c6e1cec7c21bede7cb319f1e28eb994f5625257f47...  2.933120  0.079537   \n...                                                      ...       ...   \nfffeb188719a2fcf32cb4c8d0cc49180b6863eef55dbb99... -0.749872 -0.400464   \nfffec7d7e1ca804c86f1ffdaac389c33f8039ed35bf412b...  0.520484 -0.552522   \nffff41c8a52833b56430603969b9ca48d208e7c192c6a40... -0.577559  2.321361   \nffff9984b999fccb2b6127635ed0736dda94e544e67e026...  0.242813  2.118584   \nfffff1d38b785cef84adeace64f8f83db3a0c31e8d92eab...  0.929266  0.820479   \n\n                                                        D_30      D_31  \\\ncustomer_ID                                                              \n0000099d6bd597052cdcda90ffabf56573fe9d7c79be5fb... -0.569328 -0.156329   \n000098081fde4fd64bc4d503a5d6f86a0aedc425c96f523...  0.237159 -0.274245   \n0000f99513770170a1aba690daeeb8a96da4a39f11fc27d... -0.198351  0.956318   \n00013181a0c5fc8f1ea38cd2b90fe8ad2fa8cad9d9f13e4... -5.523290  0.819031   \n00013c6e1cec7c21bede7cb319f1e28eb994f5625257f47... -2.206258 -0.145144   \n...                                                      ...       ...   \nfffeb188719a2fcf32cb4c8d0cc49180b6863eef55dbb99... -2.080952  3.166330   \nfffec7d7e1ca804c86f1ffdaac389c33f8039ed35bf412b... -0.069027  0.347670   \nffff41c8a52833b56430603969b9ca48d208e7c192c6a40...  1.650005  2.199781   \nffff9984b999fccb2b6127635ed0736dda94e544e67e026... -0.013497 -0.760372   \nfffff1d38b785cef84adeace64f8f83db3a0c31e8d92eab... -1.497069  0.384196   \n\n                                                        D_32      D_33  \\\ncustomer_ID                                                              \n0000099d6bd597052cdcda90ffabf56573fe9d7c79be5fb...  0.285054 -0.759074   \n000098081fde4fd64bc4d503a5d6f86a0aedc425c96f523... -0.070292  0.033250   \n0000f99513770170a1aba690daeeb8a96da4a39f11fc27d... -0.288076 -0.013005   \n00013181a0c5fc8f1ea38cd2b90fe8ad2fa8cad9d9f13e4...  0.794400  1.850148   \n00013c6e1cec7c21bede7cb319f1e28eb994f5625257f47... -0.544903  6.340749   \n...                                                      ...       ...   \nfffeb188719a2fcf32cb4c8d0cc49180b6863eef55dbb99...  1.068744 -0.398427   \nfffec7d7e1ca804c86f1ffdaac389c33f8039ed35bf412b... -0.503723 -0.217826   \nffff41c8a52833b56430603969b9ca48d208e7c192c6a40...  3.320751 -2.201221   \nffff9984b999fccb2b6127635ed0736dda94e544e67e026... -5.069971 -0.570243   \nfffff1d38b785cef84adeace64f8f83db3a0c31e8d92eab... -1.595660 -0.334176   \n\n                                                        D_34  target  \ncustomer_ID                                                           \n0000099d6bd597052cdcda90ffabf56573fe9d7c79be5fb...  1.030513       0  \n000098081fde4fd64bc4d503a5d6f86a0aedc425c96f523...  0.294642       0  \n0000f99513770170a1aba690daeeb8a96da4a39f11fc27d... -1.171617       1  \n00013181a0c5fc8f1ea38cd2b90fe8ad2fa8cad9d9f13e4...  1.132167       1  \n00013c6e1cec7c21bede7cb319f1e28eb994f5625257f47...  4.514258       1  \n...                                                      ...     ...  \nfffeb188719a2fcf32cb4c8d0cc49180b6863eef55dbb99... -0.849563       0  \nfffec7d7e1ca804c86f1ffdaac389c33f8039ed35bf412b... -1.221566       0  \nffff41c8a52833b56430603969b9ca48d208e7c192c6a40... -1.097246       0  \nffff9984b999fccb2b6127635ed0736dda94e544e67e026...  1.329804       0  \nfffff1d38b785cef84adeace64f8f83db3a0c31e8d92eab... -0.669895       0  \n\n[208949 rows x 83 columns]",
      "text/html": "<div>\n<style scoped>\n    .dataframe tbody tr th:only-of-type {\n        vertical-align: middle;\n    }\n\n    .dataframe tbody tr th {\n        vertical-align: top;\n    }\n\n    .dataframe thead th {\n        text-align: right;\n    }\n</style>\n<table border=\"1\" class=\"dataframe\">\n  <thead>\n    <tr style=\"text-align: right;\">\n      <th></th>\n      <th>P_2</th>\n      <th>P_3</th>\n      <th>P_4</th>\n      <th>S_1</th>\n      <th>S_2</th>\n      <th>S_3</th>\n      <th>S_4</th>\n      <th>S_5</th>\n      <th>S_6</th>\n      <th>S_7</th>\n      <th>...</th>\n      <th>D_26</th>\n      <th>D_27</th>\n      <th>D_28</th>\n      <th>D_29</th>\n      <th>D_30</th>\n      <th>D_31</th>\n      <th>D_32</th>\n      <th>D_33</th>\n      <th>D_34</th>\n      <th>target</th>\n    </tr>\n    <tr>\n      <th>customer_ID</th>\n      <th></th>\n      <th></th>\n      <th></th>\n      <th></th>\n      <th></th>\n      <th></th>\n      <th></th>\n      <th></th>\n      <th></th>\n      <th></th>\n      <th></th>\n      <th></th>\n      <th></th>\n      <th></th>\n      <th></th>\n      <th></th>\n      <th></th>\n      <th></th>\n      <th></th>\n      <th></th>\n      <th></th>\n    </tr>\n  </thead>\n  <tbody>\n    <tr>\n      <th>0000099d6bd597052cdcda90ffabf56573fe9d7c79be5fbac11a8ed792feb62a</th>\n      <td>0.868580</td>\n      <td>0.689886</td>\n      <td>0.007455</td>\n      <td>-2.898584</td>\n      <td>0.085358</td>\n      <td>0.767740</td>\n      <td>-0.560084</td>\n      <td>0.664197</td>\n      <td>-0.561271</td>\n      <td>-0.853606</td>\n      <td>...</td>\n      <td>0.065936</td>\n      <td>0.537628</td>\n      <td>0.502336</td>\n      <td>-1.589656</td>\n      <td>-0.569328</td>\n      <td>-0.156329</td>\n      <td>0.285054</td>\n      <td>-0.759074</td>\n      <td>1.030513</td>\n      <td>0</td>\n    </tr>\n    <tr>\n      <th>000098081fde4fd64bc4d503a5d6f86a0aedc425c96f5235f98b0f47c9d7d8d4</th>\n      <td>0.414444</td>\n      <td>0.557492</td>\n      <td>0.957622</td>\n      <td>0.935086</td>\n      <td>-0.965246</td>\n      <td>-0.538334</td>\n      <td>1.703724</td>\n      <td>0.620479</td>\n      <td>0.010761</td>\n      <td>0.816514</td>\n      <td>...</td>\n      <td>0.159534</td>\n      <td>-0.266054</td>\n      <td>0.071974</td>\n      <td>0.145948</td>\n      <td>0.237159</td>\n      <td>-0.274245</td>\n      <td>-0.070292</td>\n      <td>0.033250</td>\n      <td>0.294642</td>\n      <td>0</td>\n    </tr>\n    <tr>\n      <th>0000f99513770170a1aba690daeeb8a96da4a39f11fc27da5c30a79db61c1e85</th>\n      <td>0.408131</td>\n      <td>0.608540</td>\n      <td>0.008573</td>\n      <td>0.464833</td>\n      <td>0.871602</td>\n      <td>-0.936698</td>\n      <td>-0.434236</td>\n      <td>-0.189318</td>\n      <td>0.119886</td>\n      <td>-0.957924</td>\n      <td>...</td>\n      <td>0.184024</td>\n      <td>0.011427</td>\n      <td>0.046901</td>\n      <td>0.121699</td>\n      <td>-0.198351</td>\n      <td>0.956318</td>\n      <td>-0.288076</td>\n      <td>-0.013005</td>\n      <td>-1.171617</td>\n      <td>1</td>\n    </tr>\n    <tr>\n      <th>00013181a0c5fc8f1ea38cd2b90fe8ad2fa8cad9d9f13e4063bdf6b0f7d51eb6</th>\n      <td>0.359892</td>\n      <td>0.374767</td>\n      <td>0.009922</td>\n      <td>1.198177</td>\n      <td>0.617719</td>\n      <td>-1.038145</td>\n      <td>-0.238809</td>\n      <td>-0.368435</td>\n      <td>0.346914</td>\n      <td>-0.093333</td>\n      <td>...</td>\n      <td>-0.413865</td>\n      <td>-2.476854</td>\n      <td>0.884683</td>\n      <td>1.509281</td>\n      <td>-5.523290</td>\n      <td>0.819031</td>\n      <td>0.794400</td>\n      <td>1.850148</td>\n      <td>1.132167</td>\n      <td>1</td>\n    </tr>\n    <tr>\n      <th>00013c6e1cec7c21bede7cb319f1e28eb994f5625257f479c53ad6e90c177f7c</th>\n      <td>0.364256</td>\n      <td>0.643646</td>\n      <td>0.982561</td>\n      <td>5.529120</td>\n      <td>-4.673182</td>\n      <td>-2.214837</td>\n      <td>7.524363</td>\n      <td>0.998194</td>\n      <td>-0.872678</td>\n      <td>0.758109</td>\n      <td>...</td>\n      <td>-1.322096</td>\n      <td>-3.583138</td>\n      <td>2.933120</td>\n      <td>0.079537</td>\n      <td>-2.206258</td>\n      <td>-0.145144</td>\n      <td>-0.544903</td>\n      <td>6.340749</td>\n      <td>4.514258</td>\n      <td>1</td>\n    </tr>\n    <tr>\n      <th>...</th>\n      <td>...</td>\n      <td>...</td>\n      <td>...</td>\n      <td>...</td>\n      <td>...</td>\n      <td>...</td>\n      <td>...</td>\n      <td>...</td>\n      <td>...</td>\n      <td>...</td>\n      <td>...</td>\n      <td>...</td>\n      <td>...</td>\n      <td>...</td>\n      <td>...</td>\n      <td>...</td>\n      <td>...</td>\n      <td>...</td>\n      <td>...</td>\n      <td>...</td>\n      <td>...</td>\n    </tr>\n    <tr>\n      <th>fffeb188719a2fcf32cb4c8d0cc49180b6863eef55dbb9982db73dd460e67f7b</th>\n      <td>1.892951</td>\n      <td>1.878705</td>\n      <td>0.007791</td>\n      <td>-1.884402</td>\n      <td>-4.236384</td>\n      <td>2.209951</td>\n      <td>-1.638996</td>\n      <td>11.133300</td>\n      <td>7.714393</td>\n      <td>1.822908</td>\n      <td>...</td>\n      <td>-0.047549</td>\n      <td>3.482529</td>\n      <td>-0.749872</td>\n      <td>-0.400464</td>\n      <td>-2.080952</td>\n      <td>3.166330</td>\n      <td>1.068744</td>\n      <td>-0.398427</td>\n      <td>-0.849563</td>\n      <td>0</td>\n    </tr>\n    <tr>\n      <th>fffec7d7e1ca804c86f1ffdaac389c33f8039ed35bf412b12d2e3548e49d54fa</th>\n      <td>0.703939</td>\n      <td>0.619083</td>\n      <td>0.004705</td>\n      <td>2.229533</td>\n      <td>0.880567</td>\n      <td>0.060648</td>\n      <td>-0.412833</td>\n      <td>-0.168784</td>\n      <td>0.282989</td>\n      <td>-0.101462</td>\n      <td>...</td>\n      <td>-0.604605</td>\n      <td>-0.231274</td>\n      <td>0.520484</td>\n      <td>-0.552522</td>\n      <td>-0.069027</td>\n      <td>0.347670</td>\n      <td>-0.503723</td>\n      <td>-0.217826</td>\n      <td>-1.221566</td>\n      <td>0</td>\n    </tr>\n    <tr>\n      <th>ffff41c8a52833b56430603969b9ca48d208e7c192c6a4081a6acc28cf4f8af7</th>\n      <td>0.895553</td>\n      <td>0.786104</td>\n      <td>0.008739</td>\n      <td>-1.003391</td>\n      <td>0.344174</td>\n      <td>-0.390606</td>\n      <td>-0.009446</td>\n      <td>0.164462</td>\n      <td>0.428303</td>\n      <td>0.207067</td>\n      <td>...</td>\n      <td>-0.224670</td>\n      <td>-1.430647</td>\n      <td>-0.577559</td>\n      <td>2.321361</td>\n      <td>1.650005</td>\n      <td>2.199781</td>\n      <td>3.320751</td>\n      <td>-2.201221</td>\n      <td>-1.097246</td>\n      <td>0</td>\n    </tr>\n    <tr>\n      <th>ffff9984b999fccb2b6127635ed0736dda94e544e67e026eee4d20f680639ff6</th>\n      <td>1.574587</td>\n      <td>1.252901</td>\n      <td>0.008080</td>\n      <td>-4.271863</td>\n      <td>1.087889</td>\n      <td>-0.014884</td>\n      <td>-0.439556</td>\n      <td>1.002901</td>\n      <td>-0.352890</td>\n      <td>-0.670748</td>\n      <td>...</td>\n      <td>0.525433</td>\n      <td>-0.222778</td>\n      <td>0.242813</td>\n      <td>2.118584</td>\n      <td>-0.013497</td>\n      <td>-0.760372</td>\n      <td>-5.069971</td>\n      <td>-0.570243</td>\n      <td>1.329804</td>\n      <td>0</td>\n    </tr>\n    <tr>\n      <th>fffff1d38b785cef84adeace64f8f83db3a0c31e8d92eaba8b115f71cab04681</th>\n      <td>0.965709</td>\n      <td>0.635963</td>\n      <td>0.008578</td>\n      <td>-3.116743</td>\n      <td>0.998344</td>\n      <td>0.216375</td>\n      <td>0.120543</td>\n      <td>0.319723</td>\n      <td>-0.502770</td>\n      <td>0.548535</td>\n      <td>...</td>\n      <td>0.529624</td>\n      <td>-0.588245</td>\n      <td>0.929266</td>\n      <td>0.820479</td>\n      <td>-1.497069</td>\n      <td>0.384196</td>\n      <td>-1.595660</td>\n      <td>-0.334176</td>\n      <td>-0.669895</td>\n      <td>0</td>\n    </tr>\n  </tbody>\n</table>\n<p>208949 rows × 83 columns</p>\n</div>"
     },
     "execution_count": 7,
     "metadata": {},
     "output_type": "execute_result"
    }
   ],
   "source": [
    "df_group"
   ],
   "metadata": {
    "pycharm": {
     "name": "#%%\n"
    },
    "colab": {
     "base_uri": "https://localhost:8080/",
     "height": 519
    },
    "id": "op3LvMA-0lKR",
    "outputId": "b5a498da-5838-4e7b-d94d-358135e87a9a"
   }
  },
  {
   "cell_type": "markdown",
   "source": [
    "### Balance del dataset"
   ],
   "metadata": {
    "collapsed": false,
    "pycharm": {
     "name": "#%% md\n"
    },
    "id": "E7FkM-xD0lKR"
   }
  },
  {
   "cell_type": "markdown",
   "source": [
    "A continuación observamos el desbalance que presenta nuestro dataset en relación a la variable de estudio “target”, aproximadamente los casos en los que los clientes no pagan sus cuentas son tres veces más que aquellos que si, representando un 75% de los usuarios estudiados. Consideramos que dicho desbalance es una situación que representa de forma correcta a nuestro problema de estudio.\n",
    "\n",
    "Luego dividimos nuestro conjunto de datos, distribuyendo de forma balanceada los elementos de la variable target. En dicha distribución se utiliza un 30% de la información para el conjunto de datos de prueba y un 70% para el conjunto de entrenamiento. De esta forma obtuvimos dos conjuntos de datos representado un 30% y un 70% de los datos y respetando la proporción de casos de la variable target.\n"
   ],
   "metadata": {
    "collapsed": false,
    "pycharm": {
     "name": "#%% md\n"
    },
    "id": "CqpIfhOi0lKR"
   }
  },
  {
   "cell_type": "code",
   "execution_count": 8,
   "outputs": [
    {
     "data": {
      "text/plain": "0    207712\n1     68860\nName: target, dtype: int64"
     },
     "execution_count": 8,
     "metadata": {},
     "output_type": "execute_result"
    }
   ],
   "source": [
    "df_pca['target'].value_counts()"
   ],
   "metadata": {
    "pycharm": {
     "name": "#%%\n"
    },
    "colab": {
     "base_uri": "https://localhost:8080/"
    },
    "id": "xUMuj6Pp0lKS",
    "outputId": "47be09ad-ce4d-43cc-b88f-54c08c930204"
   }
  },
  {
   "cell_type": "code",
   "execution_count": 9,
   "outputs": [],
   "source": [
    "from sklearn.model_selection import train_test_split\n",
    "\n",
    "features = df_pca.columns.to_list()\n",
    "features.remove('target')\n",
    "features.remove('customer_ID')\n"
   ],
   "metadata": {
    "pycharm": {
     "name": "#%%\n"
    },
    "id": "KBH1uAZv0lKS"
   }
  },
  {
   "cell_type": "code",
   "execution_count": 10,
   "outputs": [],
   "source": [
    "x_train, x_test, y_train, y_test = train_test_split(df_group.loc[:,features], df_group.loc[:, 'target'], test_size=0.3, random_state=0)"
   ],
   "metadata": {
    "pycharm": {
     "name": "#%%\n"
    },
    "id": "vB2_pnO_0lKS"
   }
  },
  {
   "cell_type": "markdown",
   "source": [
    "### Normalización de valores"
   ],
   "metadata": {
    "collapsed": false,
    "pycharm": {
     "name": "#%% md\n"
    },
    "id": "oCILhNMR0lKS"
   }
  },
  {
   "cell_type": "markdown",
   "source": [
    "Teniendo en cuenta los modelos que se emplearan más adelante en el trabajo y a fin de mejorar su rendimiento procedemos a normalizar nuestro dataset. Podemos utilizar este procedimiento sobre todas las columnas del dataset gracias a que el trabajo anteriormente realizado sobre el mismo nos asegura que los valores que contiene no son un impedimento. "
   ],
   "metadata": {
    "collapsed": false,
    "pycharm": {
     "name": "#%% md\n"
    },
    "id": "3p89aoXf0lKS"
   }
  },
  {
   "cell_type": "code",
   "execution_count": 11,
   "outputs": [],
   "source": [
    "from sklearn.preprocessing import MinMaxScaler\n",
    "scaler = MinMaxScaler()\n",
    "x_train_normalized = scaler.fit_transform(x_train)\n",
    "x_test_normalized = scaler.fit_transform(x_test)"
   ],
   "metadata": {
    "pycharm": {
     "name": "#%%\n"
    },
    "id": "3-wG0tVV0lKS"
   }
  },
  {
   "cell_type": "markdown",
   "source": [
    "Observamos que la cantidad de columnas que poseen outliers es 142, representando aproximadamente el 88% de las columnas del dataset. Retomando la aclaración previa realizada en el apartado de análisis de registros vacíos, se realizó el mismo procedimiento limitando el rango de valores al momento de imputar datos consiguiendo un resultado de 134 columnas con outliers. Es predecible que se detecten una menor cantidad de outliers al reducir el rango de valores válidos para ser imputados. Es importante destacar que para este análisis también se tuvo en consideración la cantidad de filas afectadas por outliers, viendo que se presenta una situación muy similar al comparar los resultados variando los métodos aplicados.\n",
    "\n",
    "Adicionalmente, se realizó el procedimiento reemplazando los datos faltantes con la media de cada columna, lo cual de acuerdo con lo esperado llevo a la obtención de peores resultados.\n",
    "\n",
    "\n",
    "\n",
    "Se decidió conservar las columnas anteriormente mencionadas considerando nuestro objetivo del trabajo sobre el dataset. Como ya se explicó anteriormente, se intenta predecir si un cliente pagara o no, y por ello nos interesan los datos que se encuentran separados del \"conjunto principal de valores\". Ya que son precisamente dichos valores “fuera de lo común” los cuales pueden llevar a un cliente a no pagar sus cuentas dicho mes.\n",
    "\n",
    "Por otra parte, se tomará como métrica para la comparación del desempeño de los modelos la “Precisión”, la cual es calculada de la siguiente manera:\n",
    "- $ Precision = \\frac{TP}{TP + FP}$\n",
    "Al mismo tiempo decidimos mostrar los resultados de los modelos en las métricas recall y f1 score a fin obtener un mejor entendimiento del desempeño del modelo.\n",
    "\n",
    "El motivo por el cual optamos por el score precisión es la aplicación que se le va a dar al modelo, al tratarse de clientes de una tarjeta y estar prediciendo si los mismos pagaran o no pagaran su cuota a final de mes preferimos estar más seguros a la hora de marcar un cliente como posible deudor. Esto debido a que en caso de categorizar a un cliente de forma errónea, el que sufrirá las consecuencias será el cliente y, por otra parte, en caso de no marcar a un cliente como deudor y que el mismo no pague sus cuentas se deberá tomar acciones correspondientes tras haber cometido la falta. Mediante esta filosofía, se considera mejor el sufrir una posible consecuencia ante cometer una acusación a un cliente que no la merezca."
   ],
   "metadata": {
    "collapsed": false,
    "pycharm": {
     "name": "#%% md\n"
    },
    "id": "RUkTb-4Y0lKS"
   }
  },
  {
   "cell_type": "markdown",
   "source": [
    "## Random Forest"
   ],
   "metadata": {
    "collapsed": false,
    "pycharm": {
     "name": "#%% md\n"
    }
   }
  },
  {
   "cell_type": "code",
   "execution_count": 12,
   "outputs": [],
   "source": [
    "from sklearn.ensemble import RandomForestClassifier\n",
    "from sklearn.model_selection import StratifiedKFold, KFold, RandomizedSearchCV\n",
    "from sklearn.metrics import classification_report"
   ],
   "metadata": {
    "collapsed": false,
    "pycharm": {
     "name": "#%%\n"
    }
   }
  },
  {
   "cell_type": "code",
   "execution_count": 13,
   "outputs": [
    {
     "name": "stderr",
     "output_type": "stream",
     "text": [
      "/Users/framos/Desktop/Datos-TPS/datos-tp3/env/lib/python3.9/site-packages/sklearn/ensemble/_forest.py:586: UserWarning: Some inputs do not have OOB scores. This probably means too few trees were used to compute any reliable OOB estimates.\n",
      "  warn(\n",
      "/Users/framos/Desktop/Datos-TPS/datos-tp3/env/lib/python3.9/site-packages/sklearn/ensemble/_forest.py:586: UserWarning: Some inputs do not have OOB scores. This probably means too few trees were used to compute any reliable OOB estimates.\n",
      "  warn(\n",
      "/Users/framos/Desktop/Datos-TPS/datos-tp3/env/lib/python3.9/site-packages/sklearn/ensemble/_forest.py:586: UserWarning: Some inputs do not have OOB scores. This probably means too few trees were used to compute any reliable OOB estimates.\n",
      "  warn(\n",
      "/Users/framos/Desktop/Datos-TPS/datos-tp3/env/lib/python3.9/site-packages/sklearn/ensemble/_forest.py:586: UserWarning: Some inputs do not have OOB scores. This probably means too few trees were used to compute any reliable OOB estimates.\n",
      "  warn(\n",
      "/Users/framos/Desktop/Datos-TPS/datos-tp3/env/lib/python3.9/site-packages/sklearn/ensemble/_forest.py:586: UserWarning: Some inputs do not have OOB scores. This probably means too few trees were used to compute any reliable OOB estimates.\n",
      "  warn(\n",
      "/Users/framos/Desktop/Datos-TPS/datos-tp3/env/lib/python3.9/site-packages/sklearn/ensemble/_forest.py:586: UserWarning: Some inputs do not have OOB scores. This probably means too few trees were used to compute any reliable OOB estimates.\n",
      "  warn(\n",
      "/Users/framos/Desktop/Datos-TPS/datos-tp3/env/lib/python3.9/site-packages/sklearn/ensemble/_forest.py:586: UserWarning: Some inputs do not have OOB scores. This probably means too few trees were used to compute any reliable OOB estimates.\n",
      "  warn(\n",
      "/Users/framos/Desktop/Datos-TPS/datos-tp3/env/lib/python3.9/site-packages/sklearn/ensemble/_forest.py:586: UserWarning: Some inputs do not have OOB scores. This probably means too few trees were used to compute any reliable OOB estimates.\n",
      "  warn(\n",
      "/Users/framos/Desktop/Datos-TPS/datos-tp3/env/lib/python3.9/site-packages/sklearn/ensemble/_forest.py:586: UserWarning: Some inputs do not have OOB scores. This probably means too few trees were used to compute any reliable OOB estimates.\n",
      "  warn(\n",
      "/Users/framos/Desktop/Datos-TPS/datos-tp3/env/lib/python3.9/site-packages/sklearn/ensemble/_forest.py:586: UserWarning: Some inputs do not have OOB scores. This probably means too few trees were used to compute any reliable OOB estimates.\n",
      "  warn(\n",
      "/Users/framos/Desktop/Datos-TPS/datos-tp3/env/lib/python3.9/site-packages/sklearn/ensemble/_forest.py:586: UserWarning: Some inputs do not have OOB scores. This probably means too few trees were used to compute any reliable OOB estimates.\n",
      "  warn(\n",
      "/Users/framos/Desktop/Datos-TPS/datos-tp3/env/lib/python3.9/site-packages/sklearn/ensemble/_forest.py:586: UserWarning: Some inputs do not have OOB scores. This probably means too few trees were used to compute any reliable OOB estimates.\n",
      "  warn(\n",
      "/Users/framos/Desktop/Datos-TPS/datos-tp3/env/lib/python3.9/site-packages/sklearn/ensemble/_forest.py:586: UserWarning: Some inputs do not have OOB scores. This probably means too few trees were used to compute any reliable OOB estimates.\n",
      "  warn(\n",
      "/Users/framos/Desktop/Datos-TPS/datos-tp3/env/lib/python3.9/site-packages/sklearn/ensemble/_forest.py:586: UserWarning: Some inputs do not have OOB scores. This probably means too few trees were used to compute any reliable OOB estimates.\n",
      "  warn(\n",
      "/Users/framos/Desktop/Datos-TPS/datos-tp3/env/lib/python3.9/site-packages/sklearn/ensemble/_forest.py:586: UserWarning: Some inputs do not have OOB scores. This probably means too few trees were used to compute any reliable OOB estimates.\n",
      "  warn(\n",
      "/Users/framos/Desktop/Datos-TPS/datos-tp3/env/lib/python3.9/site-packages/sklearn/ensemble/_forest.py:586: UserWarning: Some inputs do not have OOB scores. This probably means too few trees were used to compute any reliable OOB estimates.\n",
      "  warn(\n",
      "/Users/framos/Desktop/Datos-TPS/datos-tp3/env/lib/python3.9/site-packages/sklearn/ensemble/_forest.py:586: UserWarning: Some inputs do not have OOB scores. This probably means too few trees were used to compute any reliable OOB estimates.\n",
      "  warn(\n",
      "/Users/framos/Desktop/Datos-TPS/datos-tp3/env/lib/python3.9/site-packages/sklearn/ensemble/_forest.py:586: UserWarning: Some inputs do not have OOB scores. This probably means too few trees were used to compute any reliable OOB estimates.\n",
      "  warn(\n",
      "/Users/framos/Desktop/Datos-TPS/datos-tp3/env/lib/python3.9/site-packages/sklearn/ensemble/_forest.py:586: UserWarning: Some inputs do not have OOB scores. This probably means too few trees were used to compute any reliable OOB estimates.\n",
      "  warn(\n",
      "/Users/framos/Desktop/Datos-TPS/datos-tp3/env/lib/python3.9/site-packages/sklearn/ensemble/_forest.py:586: UserWarning: Some inputs do not have OOB scores. This probably means too few trees were used to compute any reliable OOB estimates.\n",
      "  warn(\n",
      "/Users/framos/Desktop/Datos-TPS/datos-tp3/env/lib/python3.9/site-packages/sklearn/ensemble/_forest.py:586: UserWarning: Some inputs do not have OOB scores. This probably means too few trees were used to compute any reliable OOB estimates.\n",
      "  warn(\n",
      "/Users/framos/Desktop/Datos-TPS/datos-tp3/env/lib/python3.9/site-packages/sklearn/ensemble/_forest.py:586: UserWarning: Some inputs do not have OOB scores. This probably means too few trees were used to compute any reliable OOB estimates.\n",
      "  warn(\n",
      "/Users/framos/Desktop/Datos-TPS/datos-tp3/env/lib/python3.9/site-packages/sklearn/ensemble/_forest.py:586: UserWarning: Some inputs do not have OOB scores. This probably means too few trees were used to compute any reliable OOB estimates.\n",
      "  warn(\n",
      "/Users/framos/Desktop/Datos-TPS/datos-tp3/env/lib/python3.9/site-packages/sklearn/ensemble/_forest.py:586: UserWarning: Some inputs do not have OOB scores. This probably means too few trees were used to compute any reliable OOB estimates.\n",
      "  warn(\n",
      "/Users/framos/Desktop/Datos-TPS/datos-tp3/env/lib/python3.9/site-packages/sklearn/ensemble/_forest.py:586: UserWarning: Some inputs do not have OOB scores. This probably means too few trees were used to compute any reliable OOB estimates.\n",
      "  warn(\n",
      "/Users/framos/Desktop/Datos-TPS/datos-tp3/env/lib/python3.9/site-packages/sklearn/ensemble/_forest.py:586: UserWarning: Some inputs do not have OOB scores. This probably means too few trees were used to compute any reliable OOB estimates.\n",
      "  warn(\n",
      "/Users/framos/Desktop/Datos-TPS/datos-tp3/env/lib/python3.9/site-packages/sklearn/ensemble/_forest.py:586: UserWarning: Some inputs do not have OOB scores. This probably means too few trees were used to compute any reliable OOB estimates.\n",
      "  warn(\n",
      "/Users/framos/Desktop/Datos-TPS/datos-tp3/env/lib/python3.9/site-packages/sklearn/ensemble/_forest.py:586: UserWarning: Some inputs do not have OOB scores. This probably means too few trees were used to compute any reliable OOB estimates.\n",
      "  warn(\n",
      "/Users/framos/Desktop/Datos-TPS/datos-tp3/env/lib/python3.9/site-packages/sklearn/ensemble/_forest.py:586: UserWarning: Some inputs do not have OOB scores. This probably means too few trees were used to compute any reliable OOB estimates.\n",
      "  warn(\n",
      "/Users/framos/Desktop/Datos-TPS/datos-tp3/env/lib/python3.9/site-packages/sklearn/ensemble/_forest.py:586: UserWarning: Some inputs do not have OOB scores. This probably means too few trees were used to compute any reliable OOB estimates.\n",
      "  warn(\n",
      "/Users/framos/Desktop/Datos-TPS/datos-tp3/env/lib/python3.9/site-packages/sklearn/ensemble/_forest.py:586: UserWarning: Some inputs do not have OOB scores. This probably means too few trees were used to compute any reliable OOB estimates.\n",
      "  warn(\n",
      "/Users/framos/Desktop/Datos-TPS/datos-tp3/env/lib/python3.9/site-packages/sklearn/ensemble/_forest.py:586: UserWarning: Some inputs do not have OOB scores. This probably means too few trees were used to compute any reliable OOB estimates.\n",
      "  warn(\n",
      "/Users/framos/Desktop/Datos-TPS/datos-tp3/env/lib/python3.9/site-packages/sklearn/ensemble/_forest.py:586: UserWarning: Some inputs do not have OOB scores. This probably means too few trees were used to compute any reliable OOB estimates.\n",
      "  warn(\n",
      "/Users/framos/Desktop/Datos-TPS/datos-tp3/env/lib/python3.9/site-packages/sklearn/ensemble/_forest.py:586: UserWarning: Some inputs do not have OOB scores. This probably means too few trees were used to compute any reliable OOB estimates.\n",
      "  warn(\n",
      "/Users/framos/Desktop/Datos-TPS/datos-tp3/env/lib/python3.9/site-packages/sklearn/ensemble/_forest.py:586: UserWarning: Some inputs do not have OOB scores. This probably means too few trees were used to compute any reliable OOB estimates.\n",
      "  warn(\n",
      "/Users/framos/Desktop/Datos-TPS/datos-tp3/env/lib/python3.9/site-packages/sklearn/ensemble/_forest.py:586: UserWarning: Some inputs do not have OOB scores. This probably means too few trees were used to compute any reliable OOB estimates.\n",
      "  warn(\n",
      "/Users/framos/Desktop/Datos-TPS/datos-tp3/env/lib/python3.9/site-packages/sklearn/ensemble/_forest.py:586: UserWarning: Some inputs do not have OOB scores. This probably means too few trees were used to compute any reliable OOB estimates.\n",
      "  warn(\n",
      "/Users/framos/Desktop/Datos-TPS/datos-tp3/env/lib/python3.9/site-packages/sklearn/ensemble/_forest.py:586: UserWarning: Some inputs do not have OOB scores. This probably means too few trees were used to compute any reliable OOB estimates.\n",
      "  warn(\n",
      "/Users/framos/Desktop/Datos-TPS/datos-tp3/env/lib/python3.9/site-packages/sklearn/ensemble/_forest.py:586: UserWarning: Some inputs do not have OOB scores. This probably means too few trees were used to compute any reliable OOB estimates.\n",
      "  warn(\n",
      "/Users/framos/Desktop/Datos-TPS/datos-tp3/env/lib/python3.9/site-packages/sklearn/ensemble/_forest.py:586: UserWarning: Some inputs do not have OOB scores. This probably means too few trees were used to compute any reliable OOB estimates.\n",
      "  warn(\n"
     ]
    },
    {
     "data": {
      "text/plain": "RandomizedSearchCV(cv=StratifiedKFold(n_splits=5, random_state=None, shuffle=False),\n                   estimator=RandomForestClassifier(max_features='auto',\n                                                    n_jobs=-1, oob_score=True,\n                                                    random_state=2),\n                   n_jobs=10,\n                   param_distributions={'criterion': ['gini', 'entropy'],\n                                        'max_features': ['sqrt', 'log2'],\n                                        'min_samples_leaf': [1, 5, 10],\n                                        'min_samples_split': [2, 4, 10],\n                                        'n_estimators': [10, 20, 50]},\n                   scoring='precision')",
      "text/html": "<style>#sk-container-id-1 {color: black;background-color: white;}#sk-container-id-1 pre{padding: 0;}#sk-container-id-1 div.sk-toggleable {background-color: white;}#sk-container-id-1 label.sk-toggleable__label {cursor: pointer;display: block;width: 100%;margin-bottom: 0;padding: 0.3em;box-sizing: border-box;text-align: center;}#sk-container-id-1 label.sk-toggleable__label-arrow:before {content: \"▸\";float: left;margin-right: 0.25em;color: #696969;}#sk-container-id-1 label.sk-toggleable__label-arrow:hover:before {color: black;}#sk-container-id-1 div.sk-estimator:hover label.sk-toggleable__label-arrow:before {color: black;}#sk-container-id-1 div.sk-toggleable__content {max-height: 0;max-width: 0;overflow: hidden;text-align: left;background-color: #f0f8ff;}#sk-container-id-1 div.sk-toggleable__content pre {margin: 0.2em;color: black;border-radius: 0.25em;background-color: #f0f8ff;}#sk-container-id-1 input.sk-toggleable__control:checked~div.sk-toggleable__content {max-height: 200px;max-width: 100%;overflow: auto;}#sk-container-id-1 input.sk-toggleable__control:checked~label.sk-toggleable__label-arrow:before {content: \"▾\";}#sk-container-id-1 div.sk-estimator input.sk-toggleable__control:checked~label.sk-toggleable__label {background-color: #d4ebff;}#sk-container-id-1 div.sk-label input.sk-toggleable__control:checked~label.sk-toggleable__label {background-color: #d4ebff;}#sk-container-id-1 input.sk-hidden--visually {border: 0;clip: rect(1px 1px 1px 1px);clip: rect(1px, 1px, 1px, 1px);height: 1px;margin: -1px;overflow: hidden;padding: 0;position: absolute;width: 1px;}#sk-container-id-1 div.sk-estimator {font-family: monospace;background-color: #f0f8ff;border: 1px dotted black;border-radius: 0.25em;box-sizing: border-box;margin-bottom: 0.5em;}#sk-container-id-1 div.sk-estimator:hover {background-color: #d4ebff;}#sk-container-id-1 div.sk-parallel-item::after {content: \"\";width: 100%;border-bottom: 1px solid gray;flex-grow: 1;}#sk-container-id-1 div.sk-label:hover label.sk-toggleable__label {background-color: #d4ebff;}#sk-container-id-1 div.sk-serial::before {content: \"\";position: absolute;border-left: 1px solid gray;box-sizing: border-box;top: 0;bottom: 0;left: 50%;z-index: 0;}#sk-container-id-1 div.sk-serial {display: flex;flex-direction: column;align-items: center;background-color: white;padding-right: 0.2em;padding-left: 0.2em;position: relative;}#sk-container-id-1 div.sk-item {position: relative;z-index: 1;}#sk-container-id-1 div.sk-parallel {display: flex;align-items: stretch;justify-content: center;background-color: white;position: relative;}#sk-container-id-1 div.sk-item::before, #sk-container-id-1 div.sk-parallel-item::before {content: \"\";position: absolute;border-left: 1px solid gray;box-sizing: border-box;top: 0;bottom: 0;left: 50%;z-index: -1;}#sk-container-id-1 div.sk-parallel-item {display: flex;flex-direction: column;z-index: 1;position: relative;background-color: white;}#sk-container-id-1 div.sk-parallel-item:first-child::after {align-self: flex-end;width: 50%;}#sk-container-id-1 div.sk-parallel-item:last-child::after {align-self: flex-start;width: 50%;}#sk-container-id-1 div.sk-parallel-item:only-child::after {width: 0;}#sk-container-id-1 div.sk-dashed-wrapped {border: 1px dashed gray;margin: 0 0.4em 0.5em 0.4em;box-sizing: border-box;padding-bottom: 0.4em;background-color: white;}#sk-container-id-1 div.sk-label label {font-family: monospace;font-weight: bold;display: inline-block;line-height: 1.2em;}#sk-container-id-1 div.sk-label-container {text-align: center;}#sk-container-id-1 div.sk-container {/* jupyter's `normalize.less` sets `[hidden] { display: none; }` but bootstrap.min.css set `[hidden] { display: none !important; }` so we also need the `!important` here to be able to override the default hidden behavior on the sphinx rendered scikit-learn.org. See: https://github.com/scikit-learn/scikit-learn/issues/21755 */display: inline-block !important;position: relative;}#sk-container-id-1 div.sk-text-repr-fallback {display: none;}</style><div id=\"sk-container-id-1\" class=\"sk-top-container\"><div class=\"sk-text-repr-fallback\"><pre>RandomizedSearchCV(cv=StratifiedKFold(n_splits=5, random_state=None, shuffle=False),\n                   estimator=RandomForestClassifier(max_features=&#x27;auto&#x27;,\n                                                    n_jobs=-1, oob_score=True,\n                                                    random_state=2),\n                   n_jobs=10,\n                   param_distributions={&#x27;criterion&#x27;: [&#x27;gini&#x27;, &#x27;entropy&#x27;],\n                                        &#x27;max_features&#x27;: [&#x27;sqrt&#x27;, &#x27;log2&#x27;],\n                                        &#x27;min_samples_leaf&#x27;: [1, 5, 10],\n                                        &#x27;min_samples_split&#x27;: [2, 4, 10],\n                                        &#x27;n_estimators&#x27;: [10, 20, 50]},\n                   scoring=&#x27;precision&#x27;)</pre><b>In a Jupyter environment, please rerun this cell to show the HTML representation or trust the notebook. <br />On GitHub, the HTML representation is unable to render, please try loading this page with nbviewer.org.</b></div><div class=\"sk-container\" hidden><div class=\"sk-item sk-dashed-wrapped\"><div class=\"sk-label-container\"><div class=\"sk-label sk-toggleable\"><input class=\"sk-toggleable__control sk-hidden--visually\" id=\"sk-estimator-id-1\" type=\"checkbox\" ><label for=\"sk-estimator-id-1\" class=\"sk-toggleable__label sk-toggleable__label-arrow\">RandomizedSearchCV</label><div class=\"sk-toggleable__content\"><pre>RandomizedSearchCV(cv=StratifiedKFold(n_splits=5, random_state=None, shuffle=False),\n                   estimator=RandomForestClassifier(max_features=&#x27;auto&#x27;,\n                                                    n_jobs=-1, oob_score=True,\n                                                    random_state=2),\n                   n_jobs=10,\n                   param_distributions={&#x27;criterion&#x27;: [&#x27;gini&#x27;, &#x27;entropy&#x27;],\n                                        &#x27;max_features&#x27;: [&#x27;sqrt&#x27;, &#x27;log2&#x27;],\n                                        &#x27;min_samples_leaf&#x27;: [1, 5, 10],\n                                        &#x27;min_samples_split&#x27;: [2, 4, 10],\n                                        &#x27;n_estimators&#x27;: [10, 20, 50]},\n                   scoring=&#x27;precision&#x27;)</pre></div></div></div><div class=\"sk-parallel\"><div class=\"sk-parallel-item\"><div class=\"sk-item\"><div class=\"sk-label-container\"><div class=\"sk-label sk-toggleable\"><input class=\"sk-toggleable__control sk-hidden--visually\" id=\"sk-estimator-id-2\" type=\"checkbox\" ><label for=\"sk-estimator-id-2\" class=\"sk-toggleable__label sk-toggleable__label-arrow\">estimator: RandomForestClassifier</label><div class=\"sk-toggleable__content\"><pre>RandomForestClassifier(max_features=&#x27;auto&#x27;, n_jobs=-1, oob_score=True,\n                       random_state=2)</pre></div></div></div><div class=\"sk-serial\"><div class=\"sk-item\"><div class=\"sk-estimator sk-toggleable\"><input class=\"sk-toggleable__control sk-hidden--visually\" id=\"sk-estimator-id-3\" type=\"checkbox\" ><label for=\"sk-estimator-id-3\" class=\"sk-toggleable__label sk-toggleable__label-arrow\">RandomForestClassifier</label><div class=\"sk-toggleable__content\"><pre>RandomForestClassifier(max_features=&#x27;auto&#x27;, n_jobs=-1, oob_score=True,\n                       random_state=2)</pre></div></div></div></div></div></div></div></div></div></div>"
     },
     "execution_count": 13,
     "metadata": {},
     "output_type": "execute_result"
    }
   ],
   "source": [
    "rf_cv = RandomForestClassifier(max_features='auto', oob_score=True, random_state=2, n_jobs=-1)\n",
    "\n",
    "params_grid = {\n",
    "    \"criterion\" : [\"gini\", \"entropy\"],\n",
    "    \"min_samples_leaf\" : [1, 5, 10],\n",
    "    \"max_features\":[\"sqrt\", \"log2\"],\n",
    "    \"min_samples_split\" : [2, 4, 10],\n",
    "    \"n_estimators\": [10, 20, 50]\n",
    "}\n",
    "\n",
    "kfoldcv = StratifiedKFold(n_splits=5)\n",
    "rf_randomcv = RandomizedSearchCV(estimator=rf_cv,\n",
    "                                 param_distributions=params_grid,\n",
    "                                 n_jobs=10,\n",
    "                                 scoring='precision',\n",
    "                                 cv=kfoldcv,\n",
    "                                 n_iter=10)\n",
    "rf_randomcv.fit(x_train_normalized, y_train)"
   ],
   "metadata": {
    "collapsed": false,
    "pycharm": {
     "name": "#%%\n"
    }
   }
  },
  {
   "cell_type": "code",
   "execution_count": 14,
   "outputs": [
    {
     "name": "stdout",
     "output_type": "stream",
     "text": [
      "0.7410026299433132 {'n_estimators': 50, 'min_samples_split': 10, 'min_samples_leaf': 1, 'max_features': 'log2', 'criterion': 'entropy'}\n"
     ]
    }
   ],
   "source": [
    "print (rf_randomcv.best_score_, rf_randomcv.best_params_)"
   ],
   "metadata": {
    "collapsed": false,
    "pycharm": {
     "name": "#%%\n"
    }
   }
  },
  {
   "cell_type": "code",
   "execution_count": 15,
   "outputs": [
    {
     "name": "stdout",
     "output_type": "stream",
     "text": [
      "              precision    recall  f1-score   support\n",
      "\n",
      "           0       0.84      0.85      0.85     46989\n",
      "           1       0.54      0.50      0.52     15696\n",
      "\n",
      "    accuracy                           0.77     62685\n",
      "   macro avg       0.69      0.68      0.68     62685\n",
      "weighted avg       0.76      0.77      0.76     62685\n",
      "\n"
     ]
    }
   ],
   "source": [
    "rf_model = rf_randomcv.best_estimator_\n",
    "y_pred = rf_model.predict(x_test_normalized)\n",
    "print(classification_report(y_test,y_pred))"
   ],
   "metadata": {
    "collapsed": false,
    "pycharm": {
     "name": "#%%\n"
    }
   }
  },
  {
   "cell_type": "markdown",
   "source": [
    "## XGBoost"
   ],
   "metadata": {
    "collapsed": false,
    "pycharm": {
     "name": "#%% md\n"
    }
   }
  },
  {
   "cell_type": "code",
   "execution_count": 16,
   "outputs": [],
   "source": [
    "import xgboost as xgb"
   ],
   "metadata": {
    "collapsed": false,
    "pycharm": {
     "name": "#%%\n"
    }
   }
  },
  {
   "cell_type": "code",
   "execution_count": 17,
   "outputs": [
    {
     "name": "stderr",
     "output_type": "stream",
     "text": [
      "/Users/framos/Desktop/Datos-TPS/datos-tp3/env/lib/python3.9/site-packages/sklearn/metrics/_classification.py:1327: UndefinedMetricWarning: Precision is ill-defined and being set to 0.0 due to no predicted samples. Use `zero_division` parameter to control this behavior.\n",
      "  _warn_prf(average, modifier, msg_start, len(result))\n",
      "/Users/framos/Desktop/Datos-TPS/datos-tp3/env/lib/python3.9/site-packages/sklearn/metrics/_classification.py:1327: UndefinedMetricWarning: Precision is ill-defined and being set to 0.0 due to no predicted samples. Use `zero_division` parameter to control this behavior.\n",
      "  _warn_prf(average, modifier, msg_start, len(result))\n",
      "/Users/framos/Desktop/Datos-TPS/datos-tp3/env/lib/python3.9/site-packages/sklearn/metrics/_classification.py:1327: UndefinedMetricWarning: Precision is ill-defined and being set to 0.0 due to no predicted samples. Use `zero_division` parameter to control this behavior.\n",
      "  _warn_prf(average, modifier, msg_start, len(result))\n",
      "/Users/framos/Desktop/Datos-TPS/datos-tp3/env/lib/python3.9/site-packages/sklearn/metrics/_classification.py:1327: UndefinedMetricWarning: Precision is ill-defined and being set to 0.0 due to no predicted samples. Use `zero_division` parameter to control this behavior.\n",
      "  _warn_prf(average, modifier, msg_start, len(result))\n",
      "/Users/framos/Desktop/Datos-TPS/datos-tp3/env/lib/python3.9/site-packages/sklearn/metrics/_classification.py:1327: UndefinedMetricWarning: Precision is ill-defined and being set to 0.0 due to no predicted samples. Use `zero_division` parameter to control this behavior.\n",
      "  _warn_prf(average, modifier, msg_start, len(result))\n"
     ]
    },
    {
     "data": {
      "text/plain": "RandomizedSearchCV(cv=StratifiedKFold(n_splits=5, random_state=None, shuffle=False),\n                   estimator=XGBClassifier(base_score=None, booster=None,\n                                           callbacks=None,\n                                           colsample_bylevel=None,\n                                           colsample_bynode=None,\n                                           colsample_bytree=None,\n                                           early_stopping_rounds=None,\n                                           enable_categorical=False,\n                                           eval_metric=None, gamma=None,\n                                           gpu_id=None, grow_policy=None,\n                                           importance_type=None,\n                                           int...\n                                           min_child_weight=None, missing=nan,\n                                           monotone_constraints=None,\n                                           n_estimators=100, n_jobs=None,\n                                           num_parallel_tree=None,\n                                           predictor=None, random_state=2,\n                                           reg_alpha=None, reg_lambda=None, ...),\n                   n_jobs=10,\n                   param_distributions={'learning_rate': array([0.  , 0.05, 0.1 , 0.15, 0.2 , 0.25, 0.3 , 0.35, 0.4 , 0.45]),\n                                        'max_depth': range(4, 7),\n                                        'n_estimators': range(50, 120, 10)},\n                   scoring='precision')",
      "text/html": "<style>#sk-container-id-2 {color: black;background-color: white;}#sk-container-id-2 pre{padding: 0;}#sk-container-id-2 div.sk-toggleable {background-color: white;}#sk-container-id-2 label.sk-toggleable__label {cursor: pointer;display: block;width: 100%;margin-bottom: 0;padding: 0.3em;box-sizing: border-box;text-align: center;}#sk-container-id-2 label.sk-toggleable__label-arrow:before {content: \"▸\";float: left;margin-right: 0.25em;color: #696969;}#sk-container-id-2 label.sk-toggleable__label-arrow:hover:before {color: black;}#sk-container-id-2 div.sk-estimator:hover label.sk-toggleable__label-arrow:before {color: black;}#sk-container-id-2 div.sk-toggleable__content {max-height: 0;max-width: 0;overflow: hidden;text-align: left;background-color: #f0f8ff;}#sk-container-id-2 div.sk-toggleable__content pre {margin: 0.2em;color: black;border-radius: 0.25em;background-color: #f0f8ff;}#sk-container-id-2 input.sk-toggleable__control:checked~div.sk-toggleable__content {max-height: 200px;max-width: 100%;overflow: auto;}#sk-container-id-2 input.sk-toggleable__control:checked~label.sk-toggleable__label-arrow:before {content: \"▾\";}#sk-container-id-2 div.sk-estimator input.sk-toggleable__control:checked~label.sk-toggleable__label {background-color: #d4ebff;}#sk-container-id-2 div.sk-label input.sk-toggleable__control:checked~label.sk-toggleable__label {background-color: #d4ebff;}#sk-container-id-2 input.sk-hidden--visually {border: 0;clip: rect(1px 1px 1px 1px);clip: rect(1px, 1px, 1px, 1px);height: 1px;margin: -1px;overflow: hidden;padding: 0;position: absolute;width: 1px;}#sk-container-id-2 div.sk-estimator {font-family: monospace;background-color: #f0f8ff;border: 1px dotted black;border-radius: 0.25em;box-sizing: border-box;margin-bottom: 0.5em;}#sk-container-id-2 div.sk-estimator:hover {background-color: #d4ebff;}#sk-container-id-2 div.sk-parallel-item::after {content: \"\";width: 100%;border-bottom: 1px solid gray;flex-grow: 1;}#sk-container-id-2 div.sk-label:hover label.sk-toggleable__label {background-color: #d4ebff;}#sk-container-id-2 div.sk-serial::before {content: \"\";position: absolute;border-left: 1px solid gray;box-sizing: border-box;top: 0;bottom: 0;left: 50%;z-index: 0;}#sk-container-id-2 div.sk-serial {display: flex;flex-direction: column;align-items: center;background-color: white;padding-right: 0.2em;padding-left: 0.2em;position: relative;}#sk-container-id-2 div.sk-item {position: relative;z-index: 1;}#sk-container-id-2 div.sk-parallel {display: flex;align-items: stretch;justify-content: center;background-color: white;position: relative;}#sk-container-id-2 div.sk-item::before, #sk-container-id-2 div.sk-parallel-item::before {content: \"\";position: absolute;border-left: 1px solid gray;box-sizing: border-box;top: 0;bottom: 0;left: 50%;z-index: -1;}#sk-container-id-2 div.sk-parallel-item {display: flex;flex-direction: column;z-index: 1;position: relative;background-color: white;}#sk-container-id-2 div.sk-parallel-item:first-child::after {align-self: flex-end;width: 50%;}#sk-container-id-2 div.sk-parallel-item:last-child::after {align-self: flex-start;width: 50%;}#sk-container-id-2 div.sk-parallel-item:only-child::after {width: 0;}#sk-container-id-2 div.sk-dashed-wrapped {border: 1px dashed gray;margin: 0 0.4em 0.5em 0.4em;box-sizing: border-box;padding-bottom: 0.4em;background-color: white;}#sk-container-id-2 div.sk-label label {font-family: monospace;font-weight: bold;display: inline-block;line-height: 1.2em;}#sk-container-id-2 div.sk-label-container {text-align: center;}#sk-container-id-2 div.sk-container {/* jupyter's `normalize.less` sets `[hidden] { display: none; }` but bootstrap.min.css set `[hidden] { display: none !important; }` so we also need the `!important` here to be able to override the default hidden behavior on the sphinx rendered scikit-learn.org. See: https://github.com/scikit-learn/scikit-learn/issues/21755 */display: inline-block !important;position: relative;}#sk-container-id-2 div.sk-text-repr-fallback {display: none;}</style><div id=\"sk-container-id-2\" class=\"sk-top-container\"><div class=\"sk-text-repr-fallback\"><pre>RandomizedSearchCV(cv=StratifiedKFold(n_splits=5, random_state=None, shuffle=False),\n                   estimator=XGBClassifier(base_score=None, booster=None,\n                                           callbacks=None,\n                                           colsample_bylevel=None,\n                                           colsample_bynode=None,\n                                           colsample_bytree=None,\n                                           early_stopping_rounds=None,\n                                           enable_categorical=False,\n                                           eval_metric=None, gamma=None,\n                                           gpu_id=None, grow_policy=None,\n                                           importance_type=None,\n                                           int...\n                                           min_child_weight=None, missing=nan,\n                                           monotone_constraints=None,\n                                           n_estimators=100, n_jobs=None,\n                                           num_parallel_tree=None,\n                                           predictor=None, random_state=2,\n                                           reg_alpha=None, reg_lambda=None, ...),\n                   n_jobs=10,\n                   param_distributions={&#x27;learning_rate&#x27;: array([0.  , 0.05, 0.1 , 0.15, 0.2 , 0.25, 0.3 , 0.35, 0.4 , 0.45]),\n                                        &#x27;max_depth&#x27;: range(4, 7),\n                                        &#x27;n_estimators&#x27;: range(50, 120, 10)},\n                   scoring=&#x27;precision&#x27;)</pre><b>In a Jupyter environment, please rerun this cell to show the HTML representation or trust the notebook. <br />On GitHub, the HTML representation is unable to render, please try loading this page with nbviewer.org.</b></div><div class=\"sk-container\" hidden><div class=\"sk-item sk-dashed-wrapped\"><div class=\"sk-label-container\"><div class=\"sk-label sk-toggleable\"><input class=\"sk-toggleable__control sk-hidden--visually\" id=\"sk-estimator-id-4\" type=\"checkbox\" ><label for=\"sk-estimator-id-4\" class=\"sk-toggleable__label sk-toggleable__label-arrow\">RandomizedSearchCV</label><div class=\"sk-toggleable__content\"><pre>RandomizedSearchCV(cv=StratifiedKFold(n_splits=5, random_state=None, shuffle=False),\n                   estimator=XGBClassifier(base_score=None, booster=None,\n                                           callbacks=None,\n                                           colsample_bylevel=None,\n                                           colsample_bynode=None,\n                                           colsample_bytree=None,\n                                           early_stopping_rounds=None,\n                                           enable_categorical=False,\n                                           eval_metric=None, gamma=None,\n                                           gpu_id=None, grow_policy=None,\n                                           importance_type=None,\n                                           int...\n                                           min_child_weight=None, missing=nan,\n                                           monotone_constraints=None,\n                                           n_estimators=100, n_jobs=None,\n                                           num_parallel_tree=None,\n                                           predictor=None, random_state=2,\n                                           reg_alpha=None, reg_lambda=None, ...),\n                   n_jobs=10,\n                   param_distributions={&#x27;learning_rate&#x27;: array([0.  , 0.05, 0.1 , 0.15, 0.2 , 0.25, 0.3 , 0.35, 0.4 , 0.45]),\n                                        &#x27;max_depth&#x27;: range(4, 7),\n                                        &#x27;n_estimators&#x27;: range(50, 120, 10)},\n                   scoring=&#x27;precision&#x27;)</pre></div></div></div><div class=\"sk-parallel\"><div class=\"sk-parallel-item\"><div class=\"sk-item\"><div class=\"sk-label-container\"><div class=\"sk-label sk-toggleable\"><input class=\"sk-toggleable__control sk-hidden--visually\" id=\"sk-estimator-id-5\" type=\"checkbox\" ><label for=\"sk-estimator-id-5\" class=\"sk-toggleable__label sk-toggleable__label-arrow\">estimator: XGBClassifier</label><div class=\"sk-toggleable__content\"><pre>XGBClassifier(base_score=None, booster=None, callbacks=None,\n              colsample_bylevel=None, colsample_bynode=None,\n              colsample_bytree=None, early_stopping_rounds=None,\n              enable_categorical=False, eval_metric=None, gamma=None,\n              gpu_id=None, grow_policy=None, importance_type=None,\n              interaction_constraints=None, learning_rate=None, max_bin=None,\n              max_cat_to_onehot=None, max_delta_step=None, max_depth=None,\n              max_leaves=None, min_child_weight=None, missing=nan,\n              monotone_constraints=None, n_estimators=100, n_jobs=None,\n              num_parallel_tree=None, predictor=None, random_state=2,\n              reg_alpha=None, reg_lambda=None, ...)</pre></div></div></div><div class=\"sk-serial\"><div class=\"sk-item\"><div class=\"sk-estimator sk-toggleable\"><input class=\"sk-toggleable__control sk-hidden--visually\" id=\"sk-estimator-id-6\" type=\"checkbox\" ><label for=\"sk-estimator-id-6\" class=\"sk-toggleable__label sk-toggleable__label-arrow\">XGBClassifier</label><div class=\"sk-toggleable__content\"><pre>XGBClassifier(base_score=None, booster=None, callbacks=None,\n              colsample_bylevel=None, colsample_bynode=None,\n              colsample_bytree=None, early_stopping_rounds=None,\n              enable_categorical=False, eval_metric=None, gamma=None,\n              gpu_id=None, grow_policy=None, importance_type=None,\n              interaction_constraints=None, learning_rate=None, max_bin=None,\n              max_cat_to_onehot=None, max_delta_step=None, max_depth=None,\n              max_leaves=None, min_child_weight=None, missing=nan,\n              monotone_constraints=None, n_estimators=100, n_jobs=None,\n              num_parallel_tree=None, predictor=None, random_state=2,\n              reg_alpha=None, reg_lambda=None, ...)</pre></div></div></div></div></div></div></div></div></div></div>"
     },
     "execution_count": 17,
     "metadata": {},
     "output_type": "execute_result"
    }
   ],
   "source": [
    "xgb_cv = xgb.XGBClassifier(random_state=2)\n",
    "\n",
    "params_grid = {\n",
    "    'learning_rate':np.arange(0, 0.5, 0.05),\n",
    "    'max_depth':range(4,7),\n",
    "    'n_estimators':range(50, 120, 10)\n",
    "}\n",
    "\n",
    "kfoldcv = StratifiedKFold(n_splits=5)\n",
    "xgb_randomcv = RandomizedSearchCV(estimator=xgb_cv, param_distributions=params_grid, n_jobs=10, scoring='precision',cv=kfoldcv, n_iter=10)\n",
    "xgb_randomcv.fit(x_train_normalized, y_train)"
   ],
   "metadata": {
    "collapsed": false,
    "pycharm": {
     "name": "#%%\n"
    }
   }
  },
  {
   "cell_type": "code",
   "execution_count": 18,
   "outputs": [
    {
     "name": "stdout",
     "output_type": "stream",
     "text": [
      "0.7393257076237313 {'n_estimators': 110, 'max_depth': 5, 'learning_rate': 0.25}\n"
     ]
    }
   ],
   "source": [
    "print (xgb_randomcv.best_score_, xgb_randomcv.best_params_)"
   ],
   "metadata": {
    "collapsed": false,
    "pycharm": {
     "name": "#%%\n"
    }
   }
  },
  {
   "cell_type": "code",
   "execution_count": 19,
   "outputs": [
    {
     "name": "stdout",
     "output_type": "stream",
     "text": [
      "              precision    recall  f1-score   support\n",
      "\n",
      "           0       0.89      0.67      0.76     46989\n",
      "           1       0.43      0.74      0.54     15696\n",
      "\n",
      "    accuracy                           0.69     62685\n",
      "   macro avg       0.66      0.71      0.65     62685\n",
      "weighted avg       0.77      0.69      0.71     62685\n",
      "\n"
     ]
    }
   ],
   "source": [
    "xgb_model = xgb_randomcv.best_estimator_\n",
    "y_pred = xgb_model.predict(x_test_normalized)\n",
    "print(classification_report(y_test,y_pred))"
   ],
   "metadata": {
    "collapsed": false,
    "pycharm": {
     "name": "#%%\n"
    }
   }
  },
  {
   "cell_type": "markdown",
   "source": [
    "## SVM"
   ],
   "metadata": {
    "collapsed": false,
    "pycharm": {
     "name": "#%% md\n"
    }
   }
  },
  {
   "cell_type": "code",
   "execution_count": 44,
   "outputs": [],
   "source": [
    "from sklearn.metrics import classification_report\n",
    "from sklearn.svm import SVC\n",
    "\n",
    "from sklearn.model_selection import GridSearchCV"
   ],
   "metadata": {
    "collapsed": false,
    "pycharm": {
     "name": "#%%\n"
    }
   }
  },
  {
   "cell_type": "markdown",
   "source": [
    "Se utiliza hyperparametros para encontrar el valor adecuado de C y Gamma para el kernel Radial"
   ],
   "metadata": {
    "collapsed": false,
    "pycharm": {
     "name": "#%% md\n"
    }
   }
  },
  {
   "cell_type": "code",
   "execution_count": 45,
   "outputs": [],
   "source": [
    "param_grid = {'C': [1, 10],\n",
    "              'gamma': [1, 5],\n",
    "              'kernel': ['rbf']}"
   ],
   "metadata": {
    "collapsed": false,
    "pycharm": {
     "name": "#%%\n"
    }
   }
  },
  {
   "cell_type": "code",
   "execution_count": 46,
   "outputs": [],
   "source": [
    "grid = GridSearchCV(SVC(), param_grid, refit = True, verbose = 3)"
   ],
   "metadata": {
    "collapsed": false,
    "pycharm": {
     "name": "#%%\n"
    }
   }
  },
  {
   "cell_type": "code",
   "execution_count": 47,
   "outputs": [
    {
     "name": "stdout",
     "output_type": "stream",
     "text": [
      "Fitting 5 folds for each of 4 candidates, totalling 20 fits\n",
      "[CV 1/5] END ..........C=1, gamma=1, kernel=rbf;, score=0.869 total time= 8.1min\n",
      "[CV 2/5] END ..........C=1, gamma=1, kernel=rbf;, score=0.867 total time= 8.1min\n",
      "[CV 3/5] END ..........C=1, gamma=1, kernel=rbf;, score=0.866 total time= 8.3min\n",
      "[CV 4/5] END ..........C=1, gamma=1, kernel=rbf;, score=0.867 total time= 7.9min\n",
      "[CV 5/5] END ..........C=1, gamma=1, kernel=rbf;, score=0.868 total time= 7.8min\n",
      "[CV 1/5] END ..........C=1, gamma=5, kernel=rbf;, score=0.870 total time= 9.1min\n",
      "[CV 2/5] END ..........C=1, gamma=5, kernel=rbf;, score=0.868 total time= 8.8min\n",
      "[CV 3/5] END ..........C=1, gamma=5, kernel=rbf;, score=0.867 total time= 8.9min\n",
      "[CV 4/5] END ..........C=1, gamma=5, kernel=rbf;, score=0.868 total time= 8.6min\n",
      "[CV 5/5] END ..........C=1, gamma=5, kernel=rbf;, score=0.870 total time= 8.5min\n",
      "[CV 1/5] END .........C=10, gamma=1, kernel=rbf;, score=0.870 total time= 8.2min\n",
      "[CV 2/5] END .........C=10, gamma=1, kernel=rbf;, score=0.868 total time= 8.3min\n",
      "[CV 3/5] END .........C=10, gamma=1, kernel=rbf;, score=0.867 total time= 8.3min\n",
      "[CV 4/5] END .........C=10, gamma=1, kernel=rbf;, score=0.868 total time= 8.2min\n",
      "[CV 5/5] END .........C=10, gamma=1, kernel=rbf;, score=0.869 total time= 8.2min\n",
      "[CV 1/5] END .........C=10, gamma=5, kernel=rbf;, score=0.869 total time=14.0min\n",
      "[CV 2/5] END .........C=10, gamma=5, kernel=rbf;, score=0.866 total time=14.1min\n",
      "[CV 3/5] END .........C=10, gamma=5, kernel=rbf;, score=0.867 total time=15.4min\n",
      "[CV 4/5] END .........C=10, gamma=5, kernel=rbf;, score=0.868 total time=15.4min\n",
      "[CV 5/5] END .........C=10, gamma=5, kernel=rbf;, score=0.868 total time=13.9min\n"
     ]
    },
    {
     "data": {
      "text/plain": "GridSearchCV(estimator=SVC(),\n             param_grid={'C': [1, 10], 'gamma': [1, 5], 'kernel': ['rbf']},\n             verbose=3)",
      "text/html": "<style>#sk-container-id-3 {color: black;background-color: white;}#sk-container-id-3 pre{padding: 0;}#sk-container-id-3 div.sk-toggleable {background-color: white;}#sk-container-id-3 label.sk-toggleable__label {cursor: pointer;display: block;width: 100%;margin-bottom: 0;padding: 0.3em;box-sizing: border-box;text-align: center;}#sk-container-id-3 label.sk-toggleable__label-arrow:before {content: \"▸\";float: left;margin-right: 0.25em;color: #696969;}#sk-container-id-3 label.sk-toggleable__label-arrow:hover:before {color: black;}#sk-container-id-3 div.sk-estimator:hover label.sk-toggleable__label-arrow:before {color: black;}#sk-container-id-3 div.sk-toggleable__content {max-height: 0;max-width: 0;overflow: hidden;text-align: left;background-color: #f0f8ff;}#sk-container-id-3 div.sk-toggleable__content pre {margin: 0.2em;color: black;border-radius: 0.25em;background-color: #f0f8ff;}#sk-container-id-3 input.sk-toggleable__control:checked~div.sk-toggleable__content {max-height: 200px;max-width: 100%;overflow: auto;}#sk-container-id-3 input.sk-toggleable__control:checked~label.sk-toggleable__label-arrow:before {content: \"▾\";}#sk-container-id-3 div.sk-estimator input.sk-toggleable__control:checked~label.sk-toggleable__label {background-color: #d4ebff;}#sk-container-id-3 div.sk-label input.sk-toggleable__control:checked~label.sk-toggleable__label {background-color: #d4ebff;}#sk-container-id-3 input.sk-hidden--visually {border: 0;clip: rect(1px 1px 1px 1px);clip: rect(1px, 1px, 1px, 1px);height: 1px;margin: -1px;overflow: hidden;padding: 0;position: absolute;width: 1px;}#sk-container-id-3 div.sk-estimator {font-family: monospace;background-color: #f0f8ff;border: 1px dotted black;border-radius: 0.25em;box-sizing: border-box;margin-bottom: 0.5em;}#sk-container-id-3 div.sk-estimator:hover {background-color: #d4ebff;}#sk-container-id-3 div.sk-parallel-item::after {content: \"\";width: 100%;border-bottom: 1px solid gray;flex-grow: 1;}#sk-container-id-3 div.sk-label:hover label.sk-toggleable__label {background-color: #d4ebff;}#sk-container-id-3 div.sk-serial::before {content: \"\";position: absolute;border-left: 1px solid gray;box-sizing: border-box;top: 0;bottom: 0;left: 50%;z-index: 0;}#sk-container-id-3 div.sk-serial {display: flex;flex-direction: column;align-items: center;background-color: white;padding-right: 0.2em;padding-left: 0.2em;position: relative;}#sk-container-id-3 div.sk-item {position: relative;z-index: 1;}#sk-container-id-3 div.sk-parallel {display: flex;align-items: stretch;justify-content: center;background-color: white;position: relative;}#sk-container-id-3 div.sk-item::before, #sk-container-id-3 div.sk-parallel-item::before {content: \"\";position: absolute;border-left: 1px solid gray;box-sizing: border-box;top: 0;bottom: 0;left: 50%;z-index: -1;}#sk-container-id-3 div.sk-parallel-item {display: flex;flex-direction: column;z-index: 1;position: relative;background-color: white;}#sk-container-id-3 div.sk-parallel-item:first-child::after {align-self: flex-end;width: 50%;}#sk-container-id-3 div.sk-parallel-item:last-child::after {align-self: flex-start;width: 50%;}#sk-container-id-3 div.sk-parallel-item:only-child::after {width: 0;}#sk-container-id-3 div.sk-dashed-wrapped {border: 1px dashed gray;margin: 0 0.4em 0.5em 0.4em;box-sizing: border-box;padding-bottom: 0.4em;background-color: white;}#sk-container-id-3 div.sk-label label {font-family: monospace;font-weight: bold;display: inline-block;line-height: 1.2em;}#sk-container-id-3 div.sk-label-container {text-align: center;}#sk-container-id-3 div.sk-container {/* jupyter's `normalize.less` sets `[hidden] { display: none; }` but bootstrap.min.css set `[hidden] { display: none !important; }` so we also need the `!important` here to be able to override the default hidden behavior on the sphinx rendered scikit-learn.org. See: https://github.com/scikit-learn/scikit-learn/issues/21755 */display: inline-block !important;position: relative;}#sk-container-id-3 div.sk-text-repr-fallback {display: none;}</style><div id=\"sk-container-id-3\" class=\"sk-top-container\"><div class=\"sk-text-repr-fallback\"><pre>GridSearchCV(estimator=SVC(),\n             param_grid={&#x27;C&#x27;: [1, 10], &#x27;gamma&#x27;: [1, 5], &#x27;kernel&#x27;: [&#x27;rbf&#x27;]},\n             verbose=3)</pre><b>In a Jupyter environment, please rerun this cell to show the HTML representation or trust the notebook. <br />On GitHub, the HTML representation is unable to render, please try loading this page with nbviewer.org.</b></div><div class=\"sk-container\" hidden><div class=\"sk-item sk-dashed-wrapped\"><div class=\"sk-label-container\"><div class=\"sk-label sk-toggleable\"><input class=\"sk-toggleable__control sk-hidden--visually\" id=\"sk-estimator-id-7\" type=\"checkbox\" ><label for=\"sk-estimator-id-7\" class=\"sk-toggleable__label sk-toggleable__label-arrow\">GridSearchCV</label><div class=\"sk-toggleable__content\"><pre>GridSearchCV(estimator=SVC(),\n             param_grid={&#x27;C&#x27;: [1, 10], &#x27;gamma&#x27;: [1, 5], &#x27;kernel&#x27;: [&#x27;rbf&#x27;]},\n             verbose=3)</pre></div></div></div><div class=\"sk-parallel\"><div class=\"sk-parallel-item\"><div class=\"sk-item\"><div class=\"sk-label-container\"><div class=\"sk-label sk-toggleable\"><input class=\"sk-toggleable__control sk-hidden--visually\" id=\"sk-estimator-id-8\" type=\"checkbox\" ><label for=\"sk-estimator-id-8\" class=\"sk-toggleable__label sk-toggleable__label-arrow\">estimator: SVC</label><div class=\"sk-toggleable__content\"><pre>SVC()</pre></div></div></div><div class=\"sk-serial\"><div class=\"sk-item\"><div class=\"sk-estimator sk-toggleable\"><input class=\"sk-toggleable__control sk-hidden--visually\" id=\"sk-estimator-id-9\" type=\"checkbox\" ><label for=\"sk-estimator-id-9\" class=\"sk-toggleable__label sk-toggleable__label-arrow\">SVC</label><div class=\"sk-toggleable__content\"><pre>SVC()</pre></div></div></div></div></div></div></div></div></div></div>"
     },
     "execution_count": 47,
     "metadata": {},
     "output_type": "execute_result"
    }
   ],
   "source": [
    "grid.fit(x_train_normalized, y_train)"
   ],
   "metadata": {
    "collapsed": false,
    "pycharm": {
     "name": "#%%\n"
    }
   }
  },
  {
   "cell_type": "code",
   "execution_count": null,
   "outputs": [],
   "source": [
    "grid_predictions = grid.predict(x_test_normalized)\n",
    "\n",
    "print(classification_report(y_test, grid_predictions))"
   ],
   "metadata": {
    "collapsed": false,
    "pycharm": {
     "name": "#%%\n"
    }
   }
  },
  {
   "cell_type": "markdown",
   "source": [
    "## Utilización de Ensambles"
   ],
   "metadata": {
    "collapsed": false,
    "pycharm": {
     "name": "#%% md\n"
    }
   }
  },
  {
   "cell_type": "code",
   "execution_count": 49,
   "outputs": [],
   "source": [
    "from sklearn.ensemble import VotingClassifier"
   ],
   "metadata": {
    "collapsed": false,
    "pycharm": {
     "name": "#%%\n"
    }
   }
  },
  {
   "cell_type": "code",
   "execution_count": 50,
   "outputs": [],
   "source": [
    "estimators = [\n",
    "    ('XGB', xgb_randomcv.best_estimator_),  #XGBoost\n",
    "    ('SVM', grid.best_estimator_),  #SVM\n",
    "    ('RF', rf_randomcv.best_estimator_ ) # Random Forest\n",
    "]"
   ],
   "metadata": {
    "collapsed": false,
    "pycharm": {
     "name": "#%%\n"
    }
   }
  },
  {
   "cell_type": "code",
   "execution_count": 51,
   "outputs": [
    {
     "data": {
      "text/plain": "VotingClassifier(estimators=[('XGB',\n                              XGBClassifier(base_score=0.5, booster='gbtree',\n                                            callbacks=None, colsample_bylevel=1,\n                                            colsample_bynode=1,\n                                            colsample_bytree=1,\n                                            early_stopping_rounds=None,\n                                            enable_categorical=False,\n                                            eval_metric=None, gamma=0,\n                                            gpu_id=-1, grow_policy='depthwise',\n                                            importance_type=None,\n                                            interaction_constraints='',\n                                            learning_rate=0.25, max_bin=256,\n                                            max_c...\n                                            max_leaves=0, min_child_weight=1,\n                                            missing=nan,\n                                            monotone_constraints='()',\n                                            n_estimators=110, n_jobs=0,\n                                            num_parallel_tree=1,\n                                            predictor='auto', random_state=2,\n                                            reg_alpha=0, reg_lambda=1, ...)),\n                             ('SVM', SVC(C=1, gamma=5)),\n                             ('RF',\n                              RandomForestClassifier(criterion='entropy',\n                                                     max_features='log2',\n                                                     min_samples_split=10,\n                                                     n_estimators=50, n_jobs=-1,\n                                                     oob_score=True,\n                                                     random_state=2))])",
      "text/html": "<style>#sk-container-id-4 {color: black;background-color: white;}#sk-container-id-4 pre{padding: 0;}#sk-container-id-4 div.sk-toggleable {background-color: white;}#sk-container-id-4 label.sk-toggleable__label {cursor: pointer;display: block;width: 100%;margin-bottom: 0;padding: 0.3em;box-sizing: border-box;text-align: center;}#sk-container-id-4 label.sk-toggleable__label-arrow:before {content: \"▸\";float: left;margin-right: 0.25em;color: #696969;}#sk-container-id-4 label.sk-toggleable__label-arrow:hover:before {color: black;}#sk-container-id-4 div.sk-estimator:hover label.sk-toggleable__label-arrow:before {color: black;}#sk-container-id-4 div.sk-toggleable__content {max-height: 0;max-width: 0;overflow: hidden;text-align: left;background-color: #f0f8ff;}#sk-container-id-4 div.sk-toggleable__content pre {margin: 0.2em;color: black;border-radius: 0.25em;background-color: #f0f8ff;}#sk-container-id-4 input.sk-toggleable__control:checked~div.sk-toggleable__content {max-height: 200px;max-width: 100%;overflow: auto;}#sk-container-id-4 input.sk-toggleable__control:checked~label.sk-toggleable__label-arrow:before {content: \"▾\";}#sk-container-id-4 div.sk-estimator input.sk-toggleable__control:checked~label.sk-toggleable__label {background-color: #d4ebff;}#sk-container-id-4 div.sk-label input.sk-toggleable__control:checked~label.sk-toggleable__label {background-color: #d4ebff;}#sk-container-id-4 input.sk-hidden--visually {border: 0;clip: rect(1px 1px 1px 1px);clip: rect(1px, 1px, 1px, 1px);height: 1px;margin: -1px;overflow: hidden;padding: 0;position: absolute;width: 1px;}#sk-container-id-4 div.sk-estimator {font-family: monospace;background-color: #f0f8ff;border: 1px dotted black;border-radius: 0.25em;box-sizing: border-box;margin-bottom: 0.5em;}#sk-container-id-4 div.sk-estimator:hover {background-color: #d4ebff;}#sk-container-id-4 div.sk-parallel-item::after {content: \"\";width: 100%;border-bottom: 1px solid gray;flex-grow: 1;}#sk-container-id-4 div.sk-label:hover label.sk-toggleable__label {background-color: #d4ebff;}#sk-container-id-4 div.sk-serial::before {content: \"\";position: absolute;border-left: 1px solid gray;box-sizing: border-box;top: 0;bottom: 0;left: 50%;z-index: 0;}#sk-container-id-4 div.sk-serial {display: flex;flex-direction: column;align-items: center;background-color: white;padding-right: 0.2em;padding-left: 0.2em;position: relative;}#sk-container-id-4 div.sk-item {position: relative;z-index: 1;}#sk-container-id-4 div.sk-parallel {display: flex;align-items: stretch;justify-content: center;background-color: white;position: relative;}#sk-container-id-4 div.sk-item::before, #sk-container-id-4 div.sk-parallel-item::before {content: \"\";position: absolute;border-left: 1px solid gray;box-sizing: border-box;top: 0;bottom: 0;left: 50%;z-index: -1;}#sk-container-id-4 div.sk-parallel-item {display: flex;flex-direction: column;z-index: 1;position: relative;background-color: white;}#sk-container-id-4 div.sk-parallel-item:first-child::after {align-self: flex-end;width: 50%;}#sk-container-id-4 div.sk-parallel-item:last-child::after {align-self: flex-start;width: 50%;}#sk-container-id-4 div.sk-parallel-item:only-child::after {width: 0;}#sk-container-id-4 div.sk-dashed-wrapped {border: 1px dashed gray;margin: 0 0.4em 0.5em 0.4em;box-sizing: border-box;padding-bottom: 0.4em;background-color: white;}#sk-container-id-4 div.sk-label label {font-family: monospace;font-weight: bold;display: inline-block;line-height: 1.2em;}#sk-container-id-4 div.sk-label-container {text-align: center;}#sk-container-id-4 div.sk-container {/* jupyter's `normalize.less` sets `[hidden] { display: none; }` but bootstrap.min.css set `[hidden] { display: none !important; }` so we also need the `!important` here to be able to override the default hidden behavior on the sphinx rendered scikit-learn.org. See: https://github.com/scikit-learn/scikit-learn/issues/21755 */display: inline-block !important;position: relative;}#sk-container-id-4 div.sk-text-repr-fallback {display: none;}</style><div id=\"sk-container-id-4\" class=\"sk-top-container\"><div class=\"sk-text-repr-fallback\"><pre>VotingClassifier(estimators=[(&#x27;XGB&#x27;,\n                              XGBClassifier(base_score=0.5, booster=&#x27;gbtree&#x27;,\n                                            callbacks=None, colsample_bylevel=1,\n                                            colsample_bynode=1,\n                                            colsample_bytree=1,\n                                            early_stopping_rounds=None,\n                                            enable_categorical=False,\n                                            eval_metric=None, gamma=0,\n                                            gpu_id=-1, grow_policy=&#x27;depthwise&#x27;,\n                                            importance_type=None,\n                                            interaction_constraints=&#x27;&#x27;,\n                                            learning_rate=0.25, max_bin=256,\n                                            max_c...\n                                            max_leaves=0, min_child_weight=1,\n                                            missing=nan,\n                                            monotone_constraints=&#x27;()&#x27;,\n                                            n_estimators=110, n_jobs=0,\n                                            num_parallel_tree=1,\n                                            predictor=&#x27;auto&#x27;, random_state=2,\n                                            reg_alpha=0, reg_lambda=1, ...)),\n                             (&#x27;SVM&#x27;, SVC(C=1, gamma=5)),\n                             (&#x27;RF&#x27;,\n                              RandomForestClassifier(criterion=&#x27;entropy&#x27;,\n                                                     max_features=&#x27;log2&#x27;,\n                                                     min_samples_split=10,\n                                                     n_estimators=50, n_jobs=-1,\n                                                     oob_score=True,\n                                                     random_state=2))])</pre><b>In a Jupyter environment, please rerun this cell to show the HTML representation or trust the notebook. <br />On GitHub, the HTML representation is unable to render, please try loading this page with nbviewer.org.</b></div><div class=\"sk-container\" hidden><div class=\"sk-item sk-dashed-wrapped\"><div class=\"sk-label-container\"><div class=\"sk-label sk-toggleable\"><input class=\"sk-toggleable__control sk-hidden--visually\" id=\"sk-estimator-id-10\" type=\"checkbox\" ><label for=\"sk-estimator-id-10\" class=\"sk-toggleable__label sk-toggleable__label-arrow\">VotingClassifier</label><div class=\"sk-toggleable__content\"><pre>VotingClassifier(estimators=[(&#x27;XGB&#x27;,\n                              XGBClassifier(base_score=0.5, booster=&#x27;gbtree&#x27;,\n                                            callbacks=None, colsample_bylevel=1,\n                                            colsample_bynode=1,\n                                            colsample_bytree=1,\n                                            early_stopping_rounds=None,\n                                            enable_categorical=False,\n                                            eval_metric=None, gamma=0,\n                                            gpu_id=-1, grow_policy=&#x27;depthwise&#x27;,\n                                            importance_type=None,\n                                            interaction_constraints=&#x27;&#x27;,\n                                            learning_rate=0.25, max_bin=256,\n                                            max_c...\n                                            max_leaves=0, min_child_weight=1,\n                                            missing=nan,\n                                            monotone_constraints=&#x27;()&#x27;,\n                                            n_estimators=110, n_jobs=0,\n                                            num_parallel_tree=1,\n                                            predictor=&#x27;auto&#x27;, random_state=2,\n                                            reg_alpha=0, reg_lambda=1, ...)),\n                             (&#x27;SVM&#x27;, SVC(C=1, gamma=5)),\n                             (&#x27;RF&#x27;,\n                              RandomForestClassifier(criterion=&#x27;entropy&#x27;,\n                                                     max_features=&#x27;log2&#x27;,\n                                                     min_samples_split=10,\n                                                     n_estimators=50, n_jobs=-1,\n                                                     oob_score=True,\n                                                     random_state=2))])</pre></div></div></div><div class=\"sk-parallel\"><div class=\"sk-parallel-item\"><div class=\"sk-item\"><div class=\"sk-label-container\"><div class=\"sk-label sk-toggleable\"><label>XGB</label></div></div><div class=\"sk-serial\"><div class=\"sk-item\"><div class=\"sk-estimator sk-toggleable\"><input class=\"sk-toggleable__control sk-hidden--visually\" id=\"sk-estimator-id-11\" type=\"checkbox\" ><label for=\"sk-estimator-id-11\" class=\"sk-toggleable__label sk-toggleable__label-arrow\">XGBClassifier</label><div class=\"sk-toggleable__content\"><pre>XGBClassifier(base_score=0.5, booster=&#x27;gbtree&#x27;, callbacks=None,\n              colsample_bylevel=1, colsample_bynode=1, colsample_bytree=1,\n              early_stopping_rounds=None, enable_categorical=False,\n              eval_metric=None, gamma=0, gpu_id=-1, grow_policy=&#x27;depthwise&#x27;,\n              importance_type=None, interaction_constraints=&#x27;&#x27;,\n              learning_rate=0.25, max_bin=256, max_cat_to_onehot=4,\n              max_delta_step=0, max_depth=5, max_leaves=0, min_child_weight=1,\n              missing=nan, monotone_constraints=&#x27;()&#x27;, n_estimators=110,\n              n_jobs=0, num_parallel_tree=1, predictor=&#x27;auto&#x27;, random_state=2,\n              reg_alpha=0, reg_lambda=1, ...)</pre></div></div></div></div></div></div><div class=\"sk-parallel-item\"><div class=\"sk-item\"><div class=\"sk-label-container\"><div class=\"sk-label sk-toggleable\"><label>SVM</label></div></div><div class=\"sk-serial\"><div class=\"sk-item\"><div class=\"sk-estimator sk-toggleable\"><input class=\"sk-toggleable__control sk-hidden--visually\" id=\"sk-estimator-id-12\" type=\"checkbox\" ><label for=\"sk-estimator-id-12\" class=\"sk-toggleable__label sk-toggleable__label-arrow\">SVC</label><div class=\"sk-toggleable__content\"><pre>SVC(C=1, gamma=5)</pre></div></div></div></div></div></div><div class=\"sk-parallel-item\"><div class=\"sk-item\"><div class=\"sk-label-container\"><div class=\"sk-label sk-toggleable\"><label>RF</label></div></div><div class=\"sk-serial\"><div class=\"sk-item\"><div class=\"sk-estimator sk-toggleable\"><input class=\"sk-toggleable__control sk-hidden--visually\" id=\"sk-estimator-id-13\" type=\"checkbox\" ><label for=\"sk-estimator-id-13\" class=\"sk-toggleable__label sk-toggleable__label-arrow\">RandomForestClassifier</label><div class=\"sk-toggleable__content\"><pre>RandomForestClassifier(criterion=&#x27;entropy&#x27;, max_features=&#x27;log2&#x27;,\n                       min_samples_split=10, n_estimators=50, n_jobs=-1,\n                       oob_score=True, random_state=2)</pre></div></div></div></div></div></div></div></div></div></div>"
     },
     "execution_count": 51,
     "metadata": {},
     "output_type": "execute_result"
    }
   ],
   "source": [
    "vot_hard = VotingClassifier(estimators = estimators, voting ='hard')\n",
    "vot_hard.fit(x_train_normalized, y_train)"
   ],
   "metadata": {
    "collapsed": false,
    "pycharm": {
     "name": "#%%\n"
    }
   }
  },
  {
   "cell_type": "code",
   "execution_count": 52,
   "outputs": [],
   "source": [
    "y_pred = vot_hard.predict(x_test_normalized)"
   ],
   "metadata": {
    "collapsed": false,
    "pycharm": {
     "name": "#%%\n"
    }
   }
  },
  {
   "cell_type": "code",
   "execution_count": 53,
   "outputs": [
    {
     "name": "stdout",
     "output_type": "stream",
     "text": [
      "              precision    recall  f1-score   support\n",
      "\n",
      "           0       0.95      0.60      0.73     46989\n",
      "           1       0.43      0.90      0.58     15696\n",
      "\n",
      "    accuracy                           0.67     62685\n",
      "   macro avg       0.69      0.75      0.66     62685\n",
      "weighted avg       0.82      0.67      0.69     62685\n",
      "\n"
     ]
    }
   ],
   "source": [
    "print(classification_report(y_test, y_pred))"
   ],
   "metadata": {
    "collapsed": false,
    "pycharm": {
     "name": "#%%\n"
    }
   }
  },
  {
   "cell_type": "markdown",
   "source": [
    "## Redes Neuronales"
   ],
   "metadata": {
    "collapsed": false,
    "pycharm": {
     "name": "#%% md\n"
    },
    "id": "l-GehTLo0lKS"
   }
  },
  {
   "cell_type": "code",
   "execution_count": 20,
   "outputs": [],
   "source": [
    "from tensorflow import keras"
   ],
   "metadata": {
    "pycharm": {
     "name": "#%%\n"
    },
    "id": "vLvNel0k0lKT"
   }
  },
  {
   "cell_type": "code",
   "execution_count": 21,
   "outputs": [],
   "source": [
    "columns_used_in_model = df_group.columns.to_list()\n",
    "columns_used_in_model.remove('target')\n",
    "\n",
    "x_train_normalized_df = pd.DataFrame(x_train_normalized)"
   ],
   "metadata": {
    "pycharm": {
     "name": "#%%\n"
    },
    "id": "QZ-LZ47E0lKT"
   }
  },
  {
   "cell_type": "code",
   "execution_count": 22,
   "outputs": [],
   "source": [
    "# Hyperparameters options\n",
    "\n",
    "hiddenLayerOne = [256, 512, 784] # Number of nodes in first layer\n",
    "hiddenLayerTwo = [128, 256, 512] # Number of nodes in second layer\n",
    "learnRate = [1e-2, 1e-3, 1e-4] # Learning Rate\n",
    "dropout = [0.3, 0.4, 0.5] # Dropout rate (Percentage of inputs excluded each iteration)\n",
    "batchSize = [4, 8, 16, 32] # Batch size (Number of samples propagated in the network)\n",
    "epochs = [10, 20, 30, 40] # Number of epochs to train\n",
    "\n",
    "# create a dictionary from the hyperparameter grid\n",
    "grid = dict(\n",
    "\thiddenLayerOne=hiddenLayerOne,\n",
    "\tlearnRate=learnRate,\n",
    "\thiddenLayerTwo=hiddenLayerTwo,\n",
    "\tdropout=dropout,\n",
    "\tbatch_size=batchSize,\n",
    "\tepochs=epochs\n",
    ")"
   ],
   "metadata": {
    "pycharm": {
     "name": "#%%\n"
    },
    "id": "jZBkLllB0lKT"
   }
  },
  {
   "cell_type": "markdown",
   "source": [
    "## Obtenemos los hyperparametros"
   ],
   "metadata": {
    "collapsed": false,
    "pycharm": {
     "name": "#%% md\n"
    },
    "id": "HhKWHgU60lKT"
   }
  },
  {
   "cell_type": "code",
   "execution_count": 23,
   "outputs": [],
   "source": [
    "from sklearn.model_selection import RandomizedSearchCV\n",
    "from tensorflow.keras.wrappers.scikit_learn import KerasClassifier"
   ],
   "metadata": {
    "pycharm": {
     "name": "#%%\n"
    },
    "id": "wM-y7Edk0lKT"
   }
  },
  {
   "cell_type": "code",
   "execution_count": 24,
   "outputs": [],
   "source": [
    "OUTPUT_CLASSES = 2"
   ],
   "metadata": {
    "collapsed": false,
    "pycharm": {
     "name": "#%%\n"
    }
   }
  },
  {
   "cell_type": "code",
   "execution_count": 30,
   "outputs": [],
   "source": [
    "def get_model(hiddenLayerOne: int, hiddenLayerTwo: int, dropout: float, learnRate: float):\n",
    "    model = keras.Sequential([\n",
    "        keras.layers.Dense(hiddenLayerOne, input_shape=(len(columns_used_in_model),), activation='relu'),\n",
    "        keras.layers.Dropout(dropout),\n",
    "        keras.layers.Dense(hiddenLayerTwo, activation='tanh'),\n",
    "        keras.layers.Dropout(dropout),\n",
    "        keras.layers.Dense(OUTPUT_CLASSES, activation='softmax')\n",
    "    ])\n",
    "\n",
    "    model.compile(\n",
    "      optimizer=keras.optimizers.SGD(learning_rate=learnRate),\n",
    "      loss='sparse_categorical_crossentropy',\n",
    "    )\n",
    "\n",
    "    return model\n"
   ],
   "metadata": {
    "pycharm": {
     "name": "#%%\n"
    },
    "id": "zXAHKffc0lKT"
   }
  },
  {
   "cell_type": "code",
   "execution_count": 31,
   "outputs": [
    {
     "name": "stderr",
     "output_type": "stream",
     "text": [
      "/var/folders/b2/9tk1ndx57qv9hxwryph3018c0000gn/T/ipykernel_1456/14592514.py:1: DeprecationWarning: KerasClassifier is deprecated, use Sci-Keras (https://github.com/adriangb/scikeras) instead. See https://www.adriangb.com/scikeras/stable/migration.html for help migrating.\n",
      "  model = KerasClassifier(build_fn=get_model, verbose=0)\n"
     ]
    },
    {
     "name": "stdout",
     "output_type": "stream",
     "text": [
      "1524/1524 [==============================] - 4s 3ms/step\n",
      "1524/1524 [==============================] - 4s 2ms/step\n",
      "1524/1524 [==============================] - 4s 2ms/step\n",
      "1524/1524 [==============================] - 4s 3ms/step\n",
      "1524/1524 [==============================] - 3s 2ms/step\n",
      "1524/1524 [==============================] - 3s 2ms/step\n",
      "1524/1524 [==============================] - 3s 2ms/step\n",
      "1524/1524 [==============================] - 4s 2ms/step\n",
      "1524/1524 [==============================] - 3s 2ms/step\n",
      "1524/1524 [==============================] - 4s 2ms/step\n",
      "1524/1524 [==============================] - 4s 2ms/step\n",
      "1524/1524 [==============================] - 3s 2ms/step\n",
      "1524/1524 [==============================] - 4s 2ms/step\n",
      "1524/1524 [==============================] - 3s 2ms/step\n",
      "1524/1524 [==============================] - 3s 2ms/step\n",
      "1524/1524 [==============================] - 3s 2ms/step\n",
      "1524/1524 [==============================] - 3s 2ms/step\n",
      "1524/1524 [==============================] - 4s 3ms/step\n",
      "1524/1524 [==============================] - 5s 3ms/step\n",
      "1524/1524 [==============================] - 5s 3ms/step\n",
      "1524/1524 [==============================] - 5s 3ms/step\n",
      "1524/1524 [==============================] - 6s 3ms/step\n",
      "1524/1524 [==============================] - 6s 4ms/step\n",
      "1524/1524 [==============================] - 5s 3ms/step\n",
      "1524/1524 [==============================] - 4s 2ms/step\n",
      "1524/1524 [==============================] - 3s 2ms/step\n",
      "1524/1524 [==============================] - 2s 1ms/step\n",
      "1524/1524 [==============================] - 2s 1ms/step\n",
      "1524/1524 [==============================] - 1s 685us/step\n",
      "1524/1524 [==============================] - 1s 514us/step\n"
     ]
    },
    {
     "name": "stderr",
     "output_type": "stream",
     "text": [
      "2022-08-04 00:41:14.399209: W tensorflow/core/platform/profile_utils/cpu_utils.cc:128] Failed to get CPU frequency: 0 Hz\n"
     ]
    }
   ],
   "source": [
    "model = KerasClassifier(build_fn=get_model, verbose=0)\n",
    "searcher = RandomizedSearchCV(estimator=model, n_jobs=-1, cv=3,\n",
    "\tparam_distributions=grid, scoring=\"precision\")\n",
    "searchResults = searcher.fit(x_train_normalized_df, y_train)"
   ],
   "metadata": {
    "pycharm": {
     "name": "#%%\n"
    },
    "id": "M5MQx59M0lKT",
    "outputId": "ecac4445-4462-47a0-8cf2-611574c1c01c"
   }
  },
  {
   "cell_type": "code",
   "execution_count": 32,
   "outputs": [
    {
     "data": {
      "text/plain": "0.8618352086777556"
     },
     "execution_count": 32,
     "metadata": {},
     "output_type": "execute_result"
    }
   ],
   "source": [
    "searchResults.best_score_"
   ],
   "metadata": {
    "pycharm": {
     "name": "#%%\n"
    },
    "id": "7T9VujDQ0lKU",
    "outputId": "8f3be68b-45d7-4500-b225-41e2c4fb5070"
   }
  },
  {
   "cell_type": "code",
   "execution_count": 33,
   "outputs": [
    {
     "data": {
      "text/plain": "{'learnRate': 0.0001,\n 'hiddenLayerTwo': 256,\n 'hiddenLayerOne': 256,\n 'epochs': 20,\n 'dropout': 0.4,\n 'batch_size': 4}"
     },
     "execution_count": 33,
     "metadata": {},
     "output_type": "execute_result"
    }
   ],
   "source": [
    "searchResults.best_params_"
   ],
   "metadata": {
    "pycharm": {
     "name": "#%%\n"
    },
    "id": "WScr0KN00lKU",
    "outputId": "2a93783c-4ac6-4f70-adf4-fd648b6d532d"
   }
  },
  {
   "cell_type": "markdown",
   "source": [
    "## Calculo las métricas del módelo"
   ],
   "metadata": {
    "collapsed": false,
    "pycharm": {
     "name": "#%% md\n"
    },
    "id": "PiOi5IJR0lKU"
   }
  },
  {
   "cell_type": "code",
   "execution_count": 34,
   "outputs": [],
   "source": [
    "from sklearn.metrics import precision_score, accuracy_score"
   ],
   "metadata": {
    "pycharm": {
     "name": "#%%\n"
    },
    "id": "uj7v-P7b0lKU"
   }
  },
  {
   "cell_type": "code",
   "execution_count": 35,
   "outputs": [],
   "source": [
    "best_model = searchResults.best_estimator_"
   ],
   "metadata": {
    "pycharm": {
     "name": "#%%\n"
    },
    "id": "JT5YhCRi0lKU"
   }
  },
  {
   "cell_type": "code",
   "execution_count": 36,
   "outputs": [
    {
     "name": "stdout",
     "output_type": "stream",
     "text": [
      "1959/1959 [==============================] - 1s 353us/step\n",
      "              precision    recall  f1-score   support\n",
      "\n",
      "           0       0.79      0.99      0.88     46989\n",
      "           1       0.88      0.23      0.37     15696\n",
      "\n",
      "    accuracy                           0.80     62685\n",
      "   macro avg       0.84      0.61      0.62     62685\n",
      "weighted avg       0.82      0.80      0.75     62685\n",
      "\n"
     ]
    }
   ],
   "source": [
    "y_pred = best_model.predict(x_test_normalized)\n",
    "\n",
    "\n",
    "print(classification_report(y_test, y_pred))"
   ],
   "metadata": {
    "pycharm": {
     "name": "#%%\n"
    },
    "id": "mmo6PyJE0lKU",
    "outputId": "ea6f0bb7-2c32-4302-ba17-493dd3bd064e"
   }
  },
  {
   "cell_type": "markdown",
   "source": [
    "## Cascading"
   ],
   "metadata": {
    "collapsed": false,
    "pycharm": {
     "name": "#%% md\n"
    },
    "id": "OYcoD22i0lKU"
   }
  },
  {
   "cell_type": "code",
   "execution_count": 59,
   "outputs": [],
   "source": [
    "estimators = [get_model(256, 256, 0.4, 0.0001), get_model(256, 256, 0.4, 0.0001), get_model(256, 256, 0.4, 0.0001), get_model(256, 256, 0.4, 0.0001)]"
   ],
   "metadata": {
    "collapsed": false,
    "pycharm": {
     "name": "#%%\n"
    }
   }
  },
  {
   "cell_type": "code",
   "execution_count": 60,
   "outputs": [],
   "source": [
    "NUMBER_OF_STEPS = 4"
   ],
   "metadata": {
    "pycharm": {
     "name": "#%%\n"
    },
    "id": "NPz0t-bP0lKV"
   }
  },
  {
   "cell_type": "code",
   "execution_count": 66,
   "outputs": [
    {
     "name": "stdout",
     "output_type": "stream",
     "text": [
      "4571/4571 [==============================] - 3s 748us/step - loss: 0.3441\n",
      "4571/4571 [==============================] - 2s 379us/step\n",
      "4571/4571 [==============================] - 3s 742us/step - loss: 0.3445\n",
      "4571/4571 [==============================] - 2s 346us/step\n",
      "4571/4571 [==============================] - 3s 669us/step - loss: 0.3397\n",
      "4571/4571 [==============================] - 2s 344us/step\n",
      "4571/4571 [==============================] - 3s 673us/step - loss: 0.3415\n",
      "4571/4571 [==============================] - 2s 344us/step\n"
     ]
    }
   ],
   "source": [
    "iteration_dataset = pd.DataFrame(x_train_normalized)\n",
    "iteration_y = pd.DataFrame(y_train)\n",
    "\n",
    "for index in range(NUMBER_OF_STEPS):\n",
    "    actual_model = estimators[index]\n",
    "    iter_model = actual_model.fit(iteration_dataset, iteration_y)\n",
    "    actual_prediction = best_model.predict_proba(iteration_dataset)\n",
    "    actual_prediction = pd.DataFrame(actual_prediction)\n",
    "\n",
    "    next_dataset_index = actual_prediction[actual_prediction[0] < 0.99].index\n",
    "    indexes_to_save = actual_prediction[actual_prediction[0] >= 0.99].index\n",
    "\n",
    "\n",
    "    # Create new dataset for next step\n",
    "    iteration_dataset = iteration_dataset.iloc[next_dataset_index]\n",
    "    iteration_y = iteration_y.iloc[next_dataset_index]\n",
    "\n"
   ],
   "metadata": {
    "collapsed": false,
    "pycharm": {
     "name": "#%%\n"
    }
   }
  },
  {
   "cell_type": "code",
   "execution_count": 71,
   "outputs": [
    {
     "name": "stdout",
     "output_type": "stream",
     "text": [
      "1959/1959 [==============================] - 1s 383us/step\n",
      "841/841 [==============================] - 0s 353us/step\n",
      "841/841 [==============================] - 0s 426us/step\n",
      "841/841 [==============================] - 0s 380us/step\n"
     ]
    }
   ],
   "source": [
    "iteration_dataset = pd.DataFrame(x_test_normalized)\n",
    "final_result = pd.DataFrame()\n",
    "\n",
    "actual_prediction = None\n",
    "next_dataset_index = None\n",
    "\n",
    "for index in range(NUMBER_OF_STEPS):\n",
    "    actual_estimator = estimators[index]\n",
    "    actual_prediction = actual_estimator.predict(iteration_dataset)\n",
    "    actual_prediction = pd.DataFrame(actual_prediction)\n",
    "\n",
    "    next_dataset_index = actual_prediction[actual_prediction[0] < 0.99].index\n",
    "    indexes_to_save = actual_prediction[actual_prediction[0] >= 0.99].index\n",
    "\n",
    "    # Save data not passed to next step\n",
    "    final_result = pd.concat([final_result, actual_prediction.iloc[indexes_to_save]])\n",
    "\n",
    "    # Create new dataset for next step\n",
    "    iteration_dataset = iteration_dataset.iloc[next_dataset_index]\n",
    "\n",
    "\n",
    "final_result = pd.concat([final_result, actual_prediction.iloc[next_dataset_index]])\n"
   ],
   "metadata": {
    "pycharm": {
     "name": "#%%\n"
    },
    "id": "EI20Zp6t0lKV",
    "outputId": "61f3cd6d-992b-46c7-e214-f054b2515fbd"
   }
  },
  {
   "cell_type": "code",
   "execution_count": 72,
   "outputs": [
    {
     "data": {
      "text/plain": "              0         1\n0      0.998924  0.001076\n3      0.995872  0.004128\n4      0.998385  0.001615\n5      0.999861  0.000139\n7      0.999972  0.000028\n...         ...       ...\n26886  0.160038  0.839962\n26887  0.930673  0.069327\n26888  0.004011  0.995989\n26889  0.759034  0.240966\n26890  0.946415  0.053585\n\n[62685 rows x 2 columns]",
      "text/html": "<div>\n<style scoped>\n    .dataframe tbody tr th:only-of-type {\n        vertical-align: middle;\n    }\n\n    .dataframe tbody tr th {\n        vertical-align: top;\n    }\n\n    .dataframe thead th {\n        text-align: right;\n    }\n</style>\n<table border=\"1\" class=\"dataframe\">\n  <thead>\n    <tr style=\"text-align: right;\">\n      <th></th>\n      <th>0</th>\n      <th>1</th>\n    </tr>\n  </thead>\n  <tbody>\n    <tr>\n      <th>0</th>\n      <td>0.998924</td>\n      <td>0.001076</td>\n    </tr>\n    <tr>\n      <th>3</th>\n      <td>0.995872</td>\n      <td>0.004128</td>\n    </tr>\n    <tr>\n      <th>4</th>\n      <td>0.998385</td>\n      <td>0.001615</td>\n    </tr>\n    <tr>\n      <th>5</th>\n      <td>0.999861</td>\n      <td>0.000139</td>\n    </tr>\n    <tr>\n      <th>7</th>\n      <td>0.999972</td>\n      <td>0.000028</td>\n    </tr>\n    <tr>\n      <th>...</th>\n      <td>...</td>\n      <td>...</td>\n    </tr>\n    <tr>\n      <th>26886</th>\n      <td>0.160038</td>\n      <td>0.839962</td>\n    </tr>\n    <tr>\n      <th>26887</th>\n      <td>0.930673</td>\n      <td>0.069327</td>\n    </tr>\n    <tr>\n      <th>26888</th>\n      <td>0.004011</td>\n      <td>0.995989</td>\n    </tr>\n    <tr>\n      <th>26889</th>\n      <td>0.759034</td>\n      <td>0.240966</td>\n    </tr>\n    <tr>\n      <th>26890</th>\n      <td>0.946415</td>\n      <td>0.053585</td>\n    </tr>\n  </tbody>\n</table>\n<p>62685 rows × 2 columns</p>\n</div>"
     },
     "execution_count": 72,
     "metadata": {},
     "output_type": "execute_result"
    }
   ],
   "source": [
    "final_result"
   ],
   "metadata": {
    "pycharm": {
     "name": "#%%\n"
    },
    "id": "Qb53zv4s0lKV",
    "outputId": "12971cf2-3b05-4d5d-dd3e-f7afafdb0ddf"
   }
  },
  {
   "cell_type": "code",
   "execution_count": 73,
   "outputs": [],
   "source": [
    "y_predict = []\n",
    "final_result.sort_index()\n",
    "\n",
    "for _, row in final_result.iterrows():\n",
    "    if row[0] > row[1]:\n",
    "        y_predict.append(0)\n",
    "    else:\n",
    "        y_predict.append(1)\n",
    "\n",
    "y_predict = np.array(y_predict)"
   ],
   "metadata": {
    "pycharm": {
     "name": "#%%\n"
    },
    "id": "gSpNvX1w0lKV",
    "outputId": "b8892dd5-cadb-4c26-b9af-3391d066f443"
   }
  },
  {
   "cell_type": "code",
   "execution_count": 74,
   "outputs": [
    {
     "name": "stdout",
     "output_type": "stream",
     "text": [
      "              precision    recall  f1-score   support\n",
      "\n",
      "           0       0.95      0.60      0.73     46989\n",
      "           1       0.43      0.90      0.58     15696\n",
      "\n",
      "    accuracy                           0.67     62685\n",
      "   macro avg       0.69      0.75      0.66     62685\n",
      "weighted avg       0.82      0.67      0.69     62685\n",
      "\n"
     ]
    }
   ],
   "source": [
    "print(classification_report(y_test, y_pred))"
   ],
   "metadata": {
    "collapsed": false,
    "pycharm": {
     "name": "#%%\n"
    }
   }
  },
  {
   "cell_type": "markdown",
   "source": [
    "# Conclusiones del TP"
   ],
   "metadata": {
    "collapsed": false,
    "pycharm": {
     "name": "#%% md\n"
    }
   }
  },
  {
   "cell_type": "markdown",
   "source": [
    "Llegamos a la conclusión de que el modelo que mejor se desempeña es la Red Neural según la métrica elegida.\n",
    "\n",
    "Al tener un dataset “pequeño” debido a agrupar los datos por Customer (columna de customer Id) los modelos de Random Forest y XGBoost no arrojaron resultados satisfactorios. Además creemos que la precisión baja de ambos modelos se debe al sobreajuste del modelo a los datos de entrenamiento.\n",
    "\n",
    "En el caso del modelo SVM encontramos que los tiempos de entrenamiento fueron demasiados altos a pesar de trabajar con un dataset relativamente chico y con 2 categorías target (0 y 1/ No paga y Paga) que no se superponen. Si bien debe desempeñarse mejor que los modelos mencionados anteriormente, creemos que da peores resultados debido a la dificultad que presenta el módelo a la hora de elegir el kernel y los hiperamatros. Debido a este inconveniento y sus altos tiempos de entrenamiento decidimos optar por la Red Neuronal.\n",
    "\n",
    "Finalmente, analizando la Red Neuronal, atribuimos la buen performance del modelo a la correcta elección de parámetros del modelo, específicamente el droput y learning rate, ya que evitaron que el modelo se sobre ajuste a los datos de entrenamiento. En el caso del Cascading notamos una mejora en la deteccion de 0 (clientes que no pagan).\n",
    "\n",
    "Consideramos que los modelos anteriormente expuestos podrían ser mejorados al añadir los datos faltantes con valores reales, para esto consideramos que se podría realizar una investigación acerca del origen de la falta de datos, es decir, determinar su clasificación según MCAR (missing completely at random), MNAT (missing not at random) y MAR (missing at random). Dependiendo de su clasificación se determinara el curso de acción para ver si es posible solventar el/los problema/s. Sumado a esto, se plantea el agregar información de los usuarios de dos formas distintas.\n",
    "Una de ellas consiste en recolectar una mayor cantidad de datos personales de los clientes y las personas más cercanas al mismo. Un ejemplo de esto podría ser la situación laboral de la persona, su estado civil, si tiene personas a su cargo y en caso de ser así cuantas, entre otros datos que afectan a la economía del cliente.\n",
    "El segundo método de obtención de información es mediante otras empresas que tengan registros sobre la persona, por ejemplo se podría contactar con plataformas de compra y venta de productos, otros entidades financieras entre otras.\n",
    "Dichas modificaciones sobre los datos necesarios para el entrenamiento de los modelos requiere de una intervención humana y capacitada, ya que se deberán realizar nuevamente los análisis y transformaciones de los datos para lograr alcanzar  mejores resultados.\n",
    "\n",
    "Finalmente consideramos que como el modelo está tratando con fenómenos monetarios, se debería tener en cuenta que la importancia de los valores de los atributos puede cambiar. Por ejemplo, el valor de deuda puede no tener el mismo peso que antes en un contexto de inflación. Para esto el modelo podría ser re entrenado cada cierto tiempo o buscar alguna forma de que aprenda estos cambios."
   ],
   "metadata": {
    "collapsed": false,
    "pycharm": {
     "name": "#%% md\n"
    }
   }
  },
  {
   "cell_type": "code",
   "execution_count": null,
   "outputs": [],
   "source": [],
   "metadata": {
    "collapsed": false,
    "pycharm": {
     "name": "#%%\n"
    }
   }
  }
 ],
 "metadata": {
  "accelerator": "GPU",
  "colab": {
   "collapsed_sections": [
    "t1_JTbme0lJ3",
    "fhIVPTgX0lJ4",
    "SAQYFsr50lKF",
    "oCILhNMR0lKS",
    "lZ8BegPc0wfO",
    "l-GehTLo0lKS",
    "HhKWHgU60lKT",
    "PiOi5IJR0lKU",
    "OYcoD22i0lKU"
   ],
   "name": "main_parquet.ipynb",
   "provenance": []
  },
  "gpuClass": "standard",
  "kernelspec": {
   "display_name": "Python 3",
   "language": "python",
   "name": "python3"
  },
  "language_info": {
   "codemirror_mode": {
    "name": "ipython",
    "version": 3
   },
   "file_extension": ".py",
   "mimetype": "text/x-python",
   "name": "python",
   "nbconvert_exporter": "python",
   "pygments_lexer": "ipython3",
   "version": "3.7.12"
  }
 },
 "nbformat": 4,
 "nbformat_minor": 0
}