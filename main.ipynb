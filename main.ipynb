{
 "cells": [
  {
   "cell_type": "code",
   "execution_count": 90,
   "outputs": [],
   "source": [
    "import pandas as pd\n",
    "import seaborn as sns\n",
    "import sklearn.utils.random as sk_random\n",
    "\n",
    "from typing import List"
   ],
   "metadata": {
    "collapsed": false,
    "pycharm": {
     "name": "#%%\n"
    }
   }
  },
  {
   "cell_type": "code",
   "execution_count": 91,
   "outputs": [],
   "source": [
    "FILE_PATH = \"data/train_data.csv\"\n",
    "GROUP_NUMBER = 11\n",
    "NUMBER_OF_ROWS = 5531451\n",
    "CHUNK_SIZE = 100000"
   ],
   "metadata": {
    "collapsed": false,
    "pycharm": {
     "name": "#%%\n"
    }
   }
  },
  {
   "cell_type": "markdown",
   "source": [
    "## Introducción al dataset"
   ],
   "metadata": {
    "collapsed": false,
    "pycharm": {
     "name": "#%% md\n"
    }
   }
  },
  {
   "cell_type": "code",
   "execution_count": 92,
   "outputs": [],
   "source": [
    "def get_seed_for_group(group_number: int) -> int:\n",
    "    return (31416 * group_number) % 1000\n",
    "\n",
    "def read_csv_and_create_subset(file: str, filtering_indexes: List[int], chunk_size: int):\n",
    "    final_df = None\n",
    "    for chunk in pd.read_csv(filepath_or_buffer=file, chunksize=chunk_size):\n",
    "        chunk = chunk[chunk.index.isin(filtering_indexes)]\n",
    "\n",
    "        if final_df is None:\n",
    "            final_df = chunk\n",
    "        else:\n",
    "            final_df = pd.concat([final_df, chunk])\n",
    "\n",
    "    return final_df\n"
   ],
   "metadata": {
    "collapsed": false,
    "pycharm": {
     "name": "#%%\n"
    }
   }
  },
  {
   "cell_type": "code",
   "execution_count": 93,
   "outputs": [],
   "source": [
    "random_index = sk_random.sample_without_replacement(\n",
    "        NUMBER_OF_ROWS,\n",
    "        NUMBER_OF_ROWS * 0.05,\n",
    "        random_state=get_seed_for_group(GROUP_NUMBER)\n",
    ")\n",
    "dataset = read_csv_and_create_subset(file=FILE_PATH, filtering_indexes=random_index, chunk_size=CHUNK_SIZE)"
   ],
   "metadata": {
    "collapsed": false,
    "pycharm": {
     "name": "#%%\n"
    }
   }
  },
  {
   "cell_type": "code",
   "execution_count": 94,
   "outputs": [
    {
     "data": {
      "text/plain": "customer_ID     object\nS_2             object\nP_2            float64\nD_39           float64\nB_1            float64\n                ...   \nD_141          float64\nD_142          float64\nD_143          float64\nD_144          float64\nD_145          float64\nLength: 190, dtype: object"
     },
     "execution_count": 94,
     "metadata": {},
     "output_type": "execute_result"
    }
   ],
   "source": [
    "dataset.dtypes"
   ],
   "metadata": {
    "collapsed": false,
    "pycharm": {
     "name": "#%%\n"
    }
   }
  },
  {
   "cell_type": "code",
   "execution_count": null,
   "outputs": [],
   "source": [
    "sns.heatmap(dataset.corr(method='pearson'), cmap='Reds')"
   ],
   "metadata": {
    "collapsed": false,
    "pycharm": {
     "name": "#%%\n",
     "is_executing": true
    }
   }
  },
  {
   "cell_type": "code",
   "execution_count": null,
   "outputs": [],
   "source": [],
   "metadata": {
    "collapsed": false,
    "pycharm": {
     "name": "#%%\n"
    }
   }
  }
 ],
 "metadata": {
  "kernelspec": {
   "display_name": "Python 3",
   "language": "python",
   "name": "python3"
  },
  "language_info": {
   "codemirror_mode": {
    "name": "ipython",
    "version": 2
   },
   "file_extension": ".py",
   "mimetype": "text/x-python",
   "name": "python",
   "nbconvert_exporter": "python",
   "pygments_lexer": "ipython2",
   "version": "2.7.6"
  }
 },
 "nbformat": 4,
 "nbformat_minor": 0
}